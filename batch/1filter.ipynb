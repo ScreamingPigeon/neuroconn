{
 "cells": [
  {
   "cell_type": "code",
   "execution_count": 2,
   "metadata": {},
   "outputs": [
    {
     "name": "stdout",
     "output_type": "stream",
     "text": [
      "Extracting parameters from ../data/in/subjects/101/EC/TCOA_101_EC.vhdr...\n",
      "Setting channel info structure...\n",
      "Reading 0 ... 63449  =      0.000 ...    63.449 secs...\n",
      "Success\n",
      "Overwriting existing file.\n",
      "Writing /home/prakhar7/mfprl/neuroconn/batch/../data/out/subjects/101/EC/101_raw.fif\n",
      "Closing /home/prakhar7/mfprl/neuroconn/batch/../data/out/subjects/101/EC/101_raw.fif\n",
      "[done]\n",
      "Filtering raw data in 1 contiguous segment\n",
      "Setting up low-pass filter at 50 Hz\n",
      "\n",
      "FIR filter parameters\n",
      "---------------------\n",
      "Designing a one-pass, zero-phase, non-causal lowpass filter:\n",
      "- Windowed time-domain design (firwin) method\n",
      "- Hamming window with 0.0194 passband ripple and 53 dB stopband attenuation\n",
      "- Upper passband edge: 50.00 Hz\n",
      "- Upper transition bandwidth: 12.50 Hz (-6 dB cutoff frequency: 56.25 Hz)\n",
      "- Filter length: 265 samples (0.265 s)\n",
      "\n"
     ]
    },
    {
     "name": "stderr",
     "output_type": "stream",
     "text": [
      "/tmp/ipykernel_4122015/187000733.py:86: RuntimeWarning: Fiducial point nasion not found, assuming identity unknown to head transformation\n",
      "  EEG.set_montage(montage, on_missing='warn')\n",
      "/tmp/ipykernel_4122015/187000733.py:86: RuntimeWarning: DigMontage is only a subset of info. There is 1 channel position not present in the DigMontage. The channel missing from the montage is:\n",
      "\n",
      "['Rmastoid'].\n",
      "\n",
      "Consider using inst.rename_channels to match the montage nomenclature, or inst.set_channel_types if this is not an EEG channel, or use the on_missing parameter if the channel position is allowed to be unknown in your analyses.\n",
      "  EEG.set_montage(montage, on_missing='warn')\n",
      "/tmp/ipykernel_4122015/187000733.py:117: RuntimeWarning: The unit for channel(s) Rmastoid has changed from V to NA.\n",
      "  EEG.set_channel_types(channel_types)\n",
      "[Parallel(n_jobs=1)]: Done  17 tasks      | elapsed:    0.1s\n"
     ]
    },
    {
     "name": "stdout",
     "output_type": "stream",
     "text": [
      "Filtering raw data in 1 contiguous segment\n",
      "Setting up high-pass filter at 1 Hz\n",
      "\n",
      "FIR filter parameters\n",
      "---------------------\n",
      "Designing a one-pass, zero-phase, non-causal highpass filter:\n",
      "- Windowed time-domain design (firwin) method\n",
      "- Hamming window with 0.0194 passband ripple and 53 dB stopband attenuation\n",
      "- Lower passband edge: 1.00\n",
      "- Lower transition bandwidth: 1.00 Hz (-6 dB cutoff frequency: 0.50 Hz)\n",
      "- Filter length: 3301 samples (3.301 s)\n",
      "\n",
      "Filtering raw data in 1 contiguous segment\n",
      "Setting up band-stop filter\n",
      "\n",
      "FIR filter parameters\n",
      "---------------------\n",
      "Designing a one-pass, zero-phase, non-causal bandstop filter:\n",
      "- Windowed time-domain design (firwin) method\n",
      "- Hamming window with 0.0194 passband ripple and 53 dB stopband attenuation\n",
      "- Lower transition bandwidth: 0.50 Hz\n",
      "- Upper transition bandwidth: 0.50 Hz\n",
      "- Filter length: 6601 samples (6.601 s)\n",
      "\n"
     ]
    },
    {
     "name": "stderr",
     "output_type": "stream",
     "text": [
      "[Parallel(n_jobs=1)]: Done  17 tasks      | elapsed:    0.0s\n",
      "[Parallel(n_jobs=1)]: Done  17 tasks      | elapsed:    0.0s\n"
     ]
    },
    {
     "name": "stdout",
     "output_type": "stream",
     "text": [
      "NOTE: plot_psd() is a legacy function. New code should use .compute_psd().plot().\n",
      "Effective window size : 2.048 (s)\n",
      "Overwriting existing file.\n",
      "Writing /home/prakhar7/mfprl/neuroconn/batch/../data/out/subjects/101/EC/101_maprenamed&nfiltered.fif\n",
      "Closing /home/prakhar7/mfprl/neuroconn/batch/../data/out/subjects/101/EC/101_maprenamed&nfiltered.fif\n",
      "[done]\n",
      "Extracting parameters from ../data/in/subjects/101/EO/TCOA_101_EO.vhdr...\n",
      "Setting channel info structure...\n",
      "Reading 0 ... 64049  =      0.000 ...    64.049 secs...\n"
     ]
    },
    {
     "name": "stderr",
     "output_type": "stream",
     "text": [
      "/tmp/ipykernel_4122015/187000733.py:140: RuntimeWarning: This filename (/home/prakhar7/mfprl/neuroconn/batch/../data/out/subjects/101/EC/101_maprenamed&nfiltered.fif) does not conform to MNE naming conventions. All raw files should end with raw.fif, raw_sss.fif, raw_tsss.fif, _meg.fif, _eeg.fif, _ieeg.fif, raw.fif.gz, raw_sss.fif.gz, raw_tsss.fif.gz, _meg.fif.gz, _eeg.fif.gz or _ieeg.fif.gz\n",
      "  EEG.save(preprocessed_file, overwrite=True)\n"
     ]
    },
    {
     "name": "stdout",
     "output_type": "stream",
     "text": [
      "Success\n",
      "Overwriting existing file.\n",
      "Writing /home/prakhar7/mfprl/neuroconn/batch/../data/out/subjects/101/EO/101_raw.fif\n",
      "Closing /home/prakhar7/mfprl/neuroconn/batch/../data/out/subjects/101/EO/101_raw.fif\n",
      "[done]\n",
      "Filtering raw data in 1 contiguous segment\n",
      "Setting up low-pass filter at 50 Hz\n",
      "\n",
      "FIR filter parameters\n",
      "---------------------\n",
      "Designing a one-pass, zero-phase, non-causal lowpass filter:\n",
      "- Windowed time-domain design (firwin) method\n",
      "- Hamming window with 0.0194 passband ripple and 53 dB stopband attenuation\n",
      "- Upper passband edge: 50.00 Hz\n",
      "- Upper transition bandwidth: 12.50 Hz (-6 dB cutoff frequency: 56.25 Hz)\n",
      "- Filter length: 265 samples (0.265 s)\n",
      "\n"
     ]
    },
    {
     "name": "stderr",
     "output_type": "stream",
     "text": [
      "/tmp/ipykernel_4122015/187000733.py:86: RuntimeWarning: Fiducial point nasion not found, assuming identity unknown to head transformation\n",
      "  EEG.set_montage(montage, on_missing='warn')\n",
      "/tmp/ipykernel_4122015/187000733.py:86: RuntimeWarning: DigMontage is only a subset of info. There is 1 channel position not present in the DigMontage. The channel missing from the montage is:\n",
      "\n",
      "['Rmastoid'].\n",
      "\n",
      "Consider using inst.rename_channels to match the montage nomenclature, or inst.set_channel_types if this is not an EEG channel, or use the on_missing parameter if the channel position is allowed to be unknown in your analyses.\n",
      "  EEG.set_montage(montage, on_missing='warn')\n",
      "/tmp/ipykernel_4122015/187000733.py:117: RuntimeWarning: The unit for channel(s) Rmastoid has changed from V to NA.\n",
      "  EEG.set_channel_types(channel_types)\n",
      "[Parallel(n_jobs=1)]: Done  17 tasks      | elapsed:    0.1s\n"
     ]
    },
    {
     "name": "stdout",
     "output_type": "stream",
     "text": [
      "Filtering raw data in 1 contiguous segment\n",
      "Setting up high-pass filter at 1 Hz\n",
      "\n",
      "FIR filter parameters\n",
      "---------------------\n",
      "Designing a one-pass, zero-phase, non-causal highpass filter:\n",
      "- Windowed time-domain design (firwin) method\n",
      "- Hamming window with 0.0194 passband ripple and 53 dB stopband attenuation\n",
      "- Lower passband edge: 1.00\n",
      "- Lower transition bandwidth: 1.00 Hz (-6 dB cutoff frequency: 0.50 Hz)\n",
      "- Filter length: 3301 samples (3.301 s)\n",
      "\n",
      "Filtering raw data in 1 contiguous segment\n",
      "Setting up band-stop filter\n",
      "\n",
      "FIR filter parameters\n",
      "---------------------\n",
      "Designing a one-pass, zero-phase, non-causal bandstop filter:\n",
      "- Windowed time-domain design (firwin) method\n",
      "- Hamming window with 0.0194 passband ripple and 53 dB stopband attenuation\n",
      "- Lower transition bandwidth: 0.50 Hz\n",
      "- Upper transition bandwidth: 0.50 Hz\n",
      "- Filter length: 6601 samples (6.601 s)\n",
      "\n"
     ]
    },
    {
     "name": "stderr",
     "output_type": "stream",
     "text": [
      "[Parallel(n_jobs=1)]: Done  17 tasks      | elapsed:    0.0s\n",
      "[Parallel(n_jobs=1)]: Done  17 tasks      | elapsed:    0.0s\n"
     ]
    },
    {
     "name": "stdout",
     "output_type": "stream",
     "text": [
      "NOTE: plot_psd() is a legacy function. New code should use .compute_psd().plot().\n",
      "Effective window size : 2.048 (s)\n",
      "Overwriting existing file.\n",
      "Writing /home/prakhar7/mfprl/neuroconn/batch/../data/out/subjects/101/EO/101_maprenamed&nfiltered.fif\n",
      "Closing /home/prakhar7/mfprl/neuroconn/batch/../data/out/subjects/101/EO/101_maprenamed&nfiltered.fif\n",
      "[done]\n",
      "Extracting parameters from ../data/in/subjects/102/EC/TCOA_102_EC.vhdr...\n",
      "Setting channel info structure...\n",
      "Reading 0 ... 63899  =      0.000 ...    63.899 secs...\n"
     ]
    },
    {
     "name": "stderr",
     "output_type": "stream",
     "text": [
      "/tmp/ipykernel_4122015/187000733.py:140: RuntimeWarning: This filename (/home/prakhar7/mfprl/neuroconn/batch/../data/out/subjects/101/EO/101_maprenamed&nfiltered.fif) does not conform to MNE naming conventions. All raw files should end with raw.fif, raw_sss.fif, raw_tsss.fif, _meg.fif, _eeg.fif, _ieeg.fif, raw.fif.gz, raw_sss.fif.gz, raw_tsss.fif.gz, _meg.fif.gz, _eeg.fif.gz or _ieeg.fif.gz\n",
      "  EEG.save(preprocessed_file, overwrite=True)\n"
     ]
    },
    {
     "name": "stdout",
     "output_type": "stream",
     "text": [
      "Success\n",
      "Overwriting existing file.\n",
      "Writing /home/prakhar7/mfprl/neuroconn/batch/../data/out/subjects/102/EC/102_raw.fif\n",
      "Closing /home/prakhar7/mfprl/neuroconn/batch/../data/out/subjects/102/EC/102_raw.fif\n",
      "[done]\n",
      "Filtering raw data in 1 contiguous segment\n",
      "Setting up low-pass filter at 50 Hz\n",
      "\n",
      "FIR filter parameters\n",
      "---------------------\n",
      "Designing a one-pass, zero-phase, non-causal lowpass filter:\n",
      "- Windowed time-domain design (firwin) method\n",
      "- Hamming window with 0.0194 passband ripple and 53 dB stopband attenuation\n",
      "- Upper passband edge: 50.00 Hz\n",
      "- Upper transition bandwidth: 12.50 Hz (-6 dB cutoff frequency: 56.25 Hz)\n",
      "- Filter length: 265 samples (0.265 s)\n",
      "\n"
     ]
    },
    {
     "name": "stderr",
     "output_type": "stream",
     "text": [
      "/tmp/ipykernel_4122015/187000733.py:86: RuntimeWarning: Fiducial point nasion not found, assuming identity unknown to head transformation\n",
      "  EEG.set_montage(montage, on_missing='warn')\n",
      "/tmp/ipykernel_4122015/187000733.py:86: RuntimeWarning: DigMontage is only a subset of info. There is 1 channel position not present in the DigMontage. The channel missing from the montage is:\n",
      "\n",
      "['Rmastoid'].\n",
      "\n",
      "Consider using inst.rename_channels to match the montage nomenclature, or inst.set_channel_types if this is not an EEG channel, or use the on_missing parameter if the channel position is allowed to be unknown in your analyses.\n",
      "  EEG.set_montage(montage, on_missing='warn')\n",
      "/tmp/ipykernel_4122015/187000733.py:117: RuntimeWarning: The unit for channel(s) Rmastoid has changed from V to NA.\n",
      "  EEG.set_channel_types(channel_types)\n",
      "[Parallel(n_jobs=1)]: Done  17 tasks      | elapsed:    0.1s\n"
     ]
    },
    {
     "name": "stdout",
     "output_type": "stream",
     "text": [
      "Filtering raw data in 1 contiguous segment\n",
      "Setting up high-pass filter at 1 Hz\n",
      "\n",
      "FIR filter parameters\n",
      "---------------------\n",
      "Designing a one-pass, zero-phase, non-causal highpass filter:\n",
      "- Windowed time-domain design (firwin) method\n",
      "- Hamming window with 0.0194 passband ripple and 53 dB stopband attenuation\n",
      "- Lower passband edge: 1.00\n",
      "- Lower transition bandwidth: 1.00 Hz (-6 dB cutoff frequency: 0.50 Hz)\n",
      "- Filter length: 3301 samples (3.301 s)\n",
      "\n",
      "Filtering raw data in 1 contiguous segment\n",
      "Setting up band-stop filter\n",
      "\n",
      "FIR filter parameters\n",
      "---------------------\n",
      "Designing a one-pass, zero-phase, non-causal bandstop filter:\n",
      "- Windowed time-domain design (firwin) method\n",
      "- Hamming window with 0.0194 passband ripple and 53 dB stopband attenuation\n",
      "- Lower transition bandwidth: 0.50 Hz\n",
      "- Upper transition bandwidth: 0.50 Hz\n",
      "- Filter length: 6601 samples (6.601 s)\n",
      "\n"
     ]
    },
    {
     "name": "stderr",
     "output_type": "stream",
     "text": [
      "[Parallel(n_jobs=1)]: Done  17 tasks      | elapsed:    0.0s\n",
      "[Parallel(n_jobs=1)]: Done  17 tasks      | elapsed:    0.0s\n"
     ]
    },
    {
     "name": "stdout",
     "output_type": "stream",
     "text": [
      "NOTE: plot_psd() is a legacy function. New code should use .compute_psd().plot().\n",
      "Effective window size : 2.048 (s)\n",
      "Overwriting existing file.\n",
      "Writing /home/prakhar7/mfprl/neuroconn/batch/../data/out/subjects/102/EC/102_maprenamed&nfiltered.fif\n",
      "Closing /home/prakhar7/mfprl/neuroconn/batch/../data/out/subjects/102/EC/102_maprenamed&nfiltered.fif\n",
      "[done]\n",
      "Extracting parameters from ../data/in/subjects/102/EO/TCOA_102_EO.vhdr...\n",
      "Setting channel info structure...\n",
      "Reading 0 ... 63949  =      0.000 ...    63.949 secs...\n"
     ]
    },
    {
     "name": "stderr",
     "output_type": "stream",
     "text": [
      "/tmp/ipykernel_4122015/187000733.py:140: RuntimeWarning: This filename (/home/prakhar7/mfprl/neuroconn/batch/../data/out/subjects/102/EC/102_maprenamed&nfiltered.fif) does not conform to MNE naming conventions. All raw files should end with raw.fif, raw_sss.fif, raw_tsss.fif, _meg.fif, _eeg.fif, _ieeg.fif, raw.fif.gz, raw_sss.fif.gz, raw_tsss.fif.gz, _meg.fif.gz, _eeg.fif.gz or _ieeg.fif.gz\n",
      "  EEG.save(preprocessed_file, overwrite=True)\n"
     ]
    },
    {
     "name": "stdout",
     "output_type": "stream",
     "text": [
      "Success\n",
      "Overwriting existing file.\n",
      "Writing /home/prakhar7/mfprl/neuroconn/batch/../data/out/subjects/102/EO/102_raw.fif\n",
      "Closing /home/prakhar7/mfprl/neuroconn/batch/../data/out/subjects/102/EO/102_raw.fif\n",
      "[done]\n",
      "Filtering raw data in 1 contiguous segment\n",
      "Setting up low-pass filter at 50 Hz\n",
      "\n",
      "FIR filter parameters\n",
      "---------------------\n",
      "Designing a one-pass, zero-phase, non-causal lowpass filter:\n",
      "- Windowed time-domain design (firwin) method\n",
      "- Hamming window with 0.0194 passband ripple and 53 dB stopband attenuation\n",
      "- Upper passband edge: 50.00 Hz\n",
      "- Upper transition bandwidth: 12.50 Hz (-6 dB cutoff frequency: 56.25 Hz)\n",
      "- Filter length: 265 samples (0.265 s)\n",
      "\n"
     ]
    },
    {
     "name": "stderr",
     "output_type": "stream",
     "text": [
      "/tmp/ipykernel_4122015/187000733.py:86: RuntimeWarning: Fiducial point nasion not found, assuming identity unknown to head transformation\n",
      "  EEG.set_montage(montage, on_missing='warn')\n",
      "/tmp/ipykernel_4122015/187000733.py:86: RuntimeWarning: DigMontage is only a subset of info. There is 1 channel position not present in the DigMontage. The channel missing from the montage is:\n",
      "\n",
      "['Rmastoid'].\n",
      "\n",
      "Consider using inst.rename_channels to match the montage nomenclature, or inst.set_channel_types if this is not an EEG channel, or use the on_missing parameter if the channel position is allowed to be unknown in your analyses.\n",
      "  EEG.set_montage(montage, on_missing='warn')\n",
      "/tmp/ipykernel_4122015/187000733.py:117: RuntimeWarning: The unit for channel(s) Rmastoid has changed from V to NA.\n",
      "  EEG.set_channel_types(channel_types)\n",
      "[Parallel(n_jobs=1)]: Done  17 tasks      | elapsed:    0.1s\n"
     ]
    },
    {
     "name": "stdout",
     "output_type": "stream",
     "text": [
      "Filtering raw data in 1 contiguous segment\n",
      "Setting up high-pass filter at 1 Hz\n",
      "\n",
      "FIR filter parameters\n",
      "---------------------\n",
      "Designing a one-pass, zero-phase, non-causal highpass filter:\n",
      "- Windowed time-domain design (firwin) method\n",
      "- Hamming window with 0.0194 passband ripple and 53 dB stopband attenuation\n",
      "- Lower passband edge: 1.00\n",
      "- Lower transition bandwidth: 1.00 Hz (-6 dB cutoff frequency: 0.50 Hz)\n",
      "- Filter length: 3301 samples (3.301 s)\n",
      "\n",
      "Filtering raw data in 1 contiguous segment\n",
      "Setting up band-stop filter\n",
      "\n",
      "FIR filter parameters\n",
      "---------------------\n",
      "Designing a one-pass, zero-phase, non-causal bandstop filter:\n",
      "- Windowed time-domain design (firwin) method\n",
      "- Hamming window with 0.0194 passband ripple and 53 dB stopband attenuation\n",
      "- Lower transition bandwidth: 0.50 Hz\n",
      "- Upper transition bandwidth: 0.50 Hz\n",
      "- Filter length: 6601 samples (6.601 s)\n",
      "\n"
     ]
    },
    {
     "name": "stderr",
     "output_type": "stream",
     "text": [
      "[Parallel(n_jobs=1)]: Done  17 tasks      | elapsed:    0.0s\n",
      "[Parallel(n_jobs=1)]: Done  17 tasks      | elapsed:    0.0s\n"
     ]
    },
    {
     "name": "stdout",
     "output_type": "stream",
     "text": [
      "NOTE: plot_psd() is a legacy function. New code should use .compute_psd().plot().\n",
      "Effective window size : 2.048 (s)\n",
      "Overwriting existing file.\n",
      "Writing /home/prakhar7/mfprl/neuroconn/batch/../data/out/subjects/102/EO/102_maprenamed&nfiltered.fif\n",
      "Closing /home/prakhar7/mfprl/neuroconn/batch/../data/out/subjects/102/EO/102_maprenamed&nfiltered.fif\n",
      "[done]\n",
      "Extracting parameters from ../data/in/subjects/103/EC/TCOA_103_EC.vhdr...\n",
      "Setting channel info structure...\n",
      "Reading 0 ... 64249  =      0.000 ...    64.249 secs...\n"
     ]
    },
    {
     "name": "stderr",
     "output_type": "stream",
     "text": [
      "/tmp/ipykernel_4122015/187000733.py:140: RuntimeWarning: This filename (/home/prakhar7/mfprl/neuroconn/batch/../data/out/subjects/102/EO/102_maprenamed&nfiltered.fif) does not conform to MNE naming conventions. All raw files should end with raw.fif, raw_sss.fif, raw_tsss.fif, _meg.fif, _eeg.fif, _ieeg.fif, raw.fif.gz, raw_sss.fif.gz, raw_tsss.fif.gz, _meg.fif.gz, _eeg.fif.gz or _ieeg.fif.gz\n",
      "  EEG.save(preprocessed_file, overwrite=True)\n"
     ]
    },
    {
     "name": "stdout",
     "output_type": "stream",
     "text": [
      "Success\n",
      "Overwriting existing file.\n",
      "Writing /home/prakhar7/mfprl/neuroconn/batch/../data/out/subjects/103/EC/103_raw.fif\n",
      "Closing /home/prakhar7/mfprl/neuroconn/batch/../data/out/subjects/103/EC/103_raw.fif\n",
      "[done]\n",
      "Filtering raw data in 1 contiguous segment\n",
      "Setting up low-pass filter at 50 Hz\n",
      "\n",
      "FIR filter parameters\n",
      "---------------------\n",
      "Designing a one-pass, zero-phase, non-causal lowpass filter:\n",
      "- Windowed time-domain design (firwin) method\n",
      "- Hamming window with 0.0194 passband ripple and 53 dB stopband attenuation\n",
      "- Upper passband edge: 50.00 Hz\n",
      "- Upper transition bandwidth: 12.50 Hz (-6 dB cutoff frequency: 56.25 Hz)\n",
      "- Filter length: 265 samples (0.265 s)\n",
      "\n"
     ]
    },
    {
     "name": "stderr",
     "output_type": "stream",
     "text": [
      "/tmp/ipykernel_4122015/187000733.py:86: RuntimeWarning: Fiducial point nasion not found, assuming identity unknown to head transformation\n",
      "  EEG.set_montage(montage, on_missing='warn')\n",
      "/tmp/ipykernel_4122015/187000733.py:86: RuntimeWarning: DigMontage is only a subset of info. There is 1 channel position not present in the DigMontage. The channel missing from the montage is:\n",
      "\n",
      "['Rmastoid'].\n",
      "\n",
      "Consider using inst.rename_channels to match the montage nomenclature, or inst.set_channel_types if this is not an EEG channel, or use the on_missing parameter if the channel position is allowed to be unknown in your analyses.\n",
      "  EEG.set_montage(montage, on_missing='warn')\n",
      "/tmp/ipykernel_4122015/187000733.py:117: RuntimeWarning: The unit for channel(s) Rmastoid has changed from V to NA.\n",
      "  EEG.set_channel_types(channel_types)\n",
      "[Parallel(n_jobs=1)]: Done  17 tasks      | elapsed:    0.1s\n"
     ]
    },
    {
     "name": "stdout",
     "output_type": "stream",
     "text": [
      "Filtering raw data in 1 contiguous segment\n",
      "Setting up high-pass filter at 1 Hz\n",
      "\n",
      "FIR filter parameters\n",
      "---------------------\n",
      "Designing a one-pass, zero-phase, non-causal highpass filter:\n",
      "- Windowed time-domain design (firwin) method\n",
      "- Hamming window with 0.0194 passband ripple and 53 dB stopband attenuation\n",
      "- Lower passband edge: 1.00\n",
      "- Lower transition bandwidth: 1.00 Hz (-6 dB cutoff frequency: 0.50 Hz)\n",
      "- Filter length: 3301 samples (3.301 s)\n",
      "\n",
      "Filtering raw data in 1 contiguous segment\n",
      "Setting up band-stop filter\n",
      "\n",
      "FIR filter parameters\n",
      "---------------------\n",
      "Designing a one-pass, zero-phase, non-causal bandstop filter:\n",
      "- Windowed time-domain design (firwin) method\n",
      "- Hamming window with 0.0194 passband ripple and 53 dB stopband attenuation\n",
      "- Lower transition bandwidth: 0.50 Hz\n",
      "- Upper transition bandwidth: 0.50 Hz\n",
      "- Filter length: 6601 samples (6.601 s)\n",
      "\n"
     ]
    },
    {
     "name": "stderr",
     "output_type": "stream",
     "text": [
      "[Parallel(n_jobs=1)]: Done  17 tasks      | elapsed:    0.0s\n",
      "[Parallel(n_jobs=1)]: Done  17 tasks      | elapsed:    0.0s\n",
      "/home/prakhar7/.conda/envs/main3/lib/python3.10/site-packages/mne/viz/_mpl_figure.py:2373: RuntimeWarning: More than 20 figures have been opened. Figures created through the pyplot interface (`matplotlib.pyplot.figure`) are retained until explicitly closed and may consume too much memory. (To control this warning, see the rcParam `figure.max_open_warning`). Consider using `matplotlib.pyplot.close()`.\n",
      "  fig = plt.figure(FigureClass=FigureClass, **kwargs)\n"
     ]
    },
    {
     "name": "stdout",
     "output_type": "stream",
     "text": [
      "NOTE: plot_psd() is a legacy function. New code should use .compute_psd().plot().\n",
      "Effective window size : 2.048 (s)\n",
      "Overwriting existing file.\n",
      "Writing /home/prakhar7/mfprl/neuroconn/batch/../data/out/subjects/103/EC/103_maprenamed&nfiltered.fif\n",
      "Closing /home/prakhar7/mfprl/neuroconn/batch/../data/out/subjects/103/EC/103_maprenamed&nfiltered.fif\n",
      "[done]\n",
      "Extracting parameters from ../data/in/subjects/103/EO/TCOA_103_EO.vhdr...\n",
      "Setting channel info structure...\n",
      "Reading 0 ... 64149  =      0.000 ...    64.149 secs...\n"
     ]
    },
    {
     "name": "stderr",
     "output_type": "stream",
     "text": [
      "/tmp/ipykernel_4122015/187000733.py:140: RuntimeWarning: This filename (/home/prakhar7/mfprl/neuroconn/batch/../data/out/subjects/103/EC/103_maprenamed&nfiltered.fif) does not conform to MNE naming conventions. All raw files should end with raw.fif, raw_sss.fif, raw_tsss.fif, _meg.fif, _eeg.fif, _ieeg.fif, raw.fif.gz, raw_sss.fif.gz, raw_tsss.fif.gz, _meg.fif.gz, _eeg.fif.gz or _ieeg.fif.gz\n",
      "  EEG.save(preprocessed_file, overwrite=True)\n"
     ]
    },
    {
     "name": "stdout",
     "output_type": "stream",
     "text": [
      "Success\n",
      "Overwriting existing file.\n",
      "Writing /home/prakhar7/mfprl/neuroconn/batch/../data/out/subjects/103/EO/103_raw.fif\n",
      "Closing /home/prakhar7/mfprl/neuroconn/batch/../data/out/subjects/103/EO/103_raw.fif\n",
      "[done]\n",
      "Filtering raw data in 1 contiguous segment\n",
      "Setting up low-pass filter at 50 Hz\n",
      "\n",
      "FIR filter parameters\n",
      "---------------------\n",
      "Designing a one-pass, zero-phase, non-causal lowpass filter:\n",
      "- Windowed time-domain design (firwin) method\n",
      "- Hamming window with 0.0194 passband ripple and 53 dB stopband attenuation\n",
      "- Upper passband edge: 50.00 Hz\n",
      "- Upper transition bandwidth: 12.50 Hz (-6 dB cutoff frequency: 56.25 Hz)\n",
      "- Filter length: 265 samples (0.265 s)\n",
      "\n"
     ]
    },
    {
     "name": "stderr",
     "output_type": "stream",
     "text": [
      "/tmp/ipykernel_4122015/187000733.py:86: RuntimeWarning: Fiducial point nasion not found, assuming identity unknown to head transformation\n",
      "  EEG.set_montage(montage, on_missing='warn')\n",
      "/tmp/ipykernel_4122015/187000733.py:86: RuntimeWarning: DigMontage is only a subset of info. There is 1 channel position not present in the DigMontage. The channel missing from the montage is:\n",
      "\n",
      "['Rmastoid'].\n",
      "\n",
      "Consider using inst.rename_channels to match the montage nomenclature, or inst.set_channel_types if this is not an EEG channel, or use the on_missing parameter if the channel position is allowed to be unknown in your analyses.\n",
      "  EEG.set_montage(montage, on_missing='warn')\n",
      "/tmp/ipykernel_4122015/187000733.py:117: RuntimeWarning: The unit for channel(s) Rmastoid has changed from V to NA.\n",
      "  EEG.set_channel_types(channel_types)\n",
      "[Parallel(n_jobs=1)]: Done  17 tasks      | elapsed:    0.1s\n"
     ]
    },
    {
     "name": "stdout",
     "output_type": "stream",
     "text": [
      "Filtering raw data in 1 contiguous segment\n",
      "Setting up high-pass filter at 1 Hz\n",
      "\n",
      "FIR filter parameters\n",
      "---------------------\n",
      "Designing a one-pass, zero-phase, non-causal highpass filter:\n",
      "- Windowed time-domain design (firwin) method\n",
      "- Hamming window with 0.0194 passband ripple and 53 dB stopband attenuation\n",
      "- Lower passband edge: 1.00\n",
      "- Lower transition bandwidth: 1.00 Hz (-6 dB cutoff frequency: 0.50 Hz)\n",
      "- Filter length: 3301 samples (3.301 s)\n",
      "\n",
      "Filtering raw data in 1 contiguous segment\n",
      "Setting up band-stop filter\n",
      "\n",
      "FIR filter parameters\n",
      "---------------------\n",
      "Designing a one-pass, zero-phase, non-causal bandstop filter:\n",
      "- Windowed time-domain design (firwin) method\n",
      "- Hamming window with 0.0194 passband ripple and 53 dB stopband attenuation\n",
      "- Lower transition bandwidth: 0.50 Hz\n",
      "- Upper transition bandwidth: 0.50 Hz\n",
      "- Filter length: 6601 samples (6.601 s)\n",
      "\n"
     ]
    },
    {
     "name": "stderr",
     "output_type": "stream",
     "text": [
      "[Parallel(n_jobs=1)]: Done  17 tasks      | elapsed:    0.0s\n",
      "[Parallel(n_jobs=1)]: Done  17 tasks      | elapsed:    0.0s\n"
     ]
    },
    {
     "name": "stdout",
     "output_type": "stream",
     "text": [
      "NOTE: plot_psd() is a legacy function. New code should use .compute_psd().plot().\n",
      "Effective window size : 2.048 (s)\n",
      "Overwriting existing file.\n",
      "Writing /home/prakhar7/mfprl/neuroconn/batch/../data/out/subjects/103/EO/103_maprenamed&nfiltered.fif\n",
      "Closing /home/prakhar7/mfprl/neuroconn/batch/../data/out/subjects/103/EO/103_maprenamed&nfiltered.fif\n",
      "[done]\n",
      "Extracting parameters from ../data/in/subjects/104/EC/TCOA_104_EC.vhdr...\n",
      "Setting channel info structure...\n",
      "Reading 0 ... 64249  =      0.000 ...    64.249 secs...\n"
     ]
    },
    {
     "name": "stderr",
     "output_type": "stream",
     "text": [
      "/tmp/ipykernel_4122015/187000733.py:140: RuntimeWarning: This filename (/home/prakhar7/mfprl/neuroconn/batch/../data/out/subjects/103/EO/103_maprenamed&nfiltered.fif) does not conform to MNE naming conventions. All raw files should end with raw.fif, raw_sss.fif, raw_tsss.fif, _meg.fif, _eeg.fif, _ieeg.fif, raw.fif.gz, raw_sss.fif.gz, raw_tsss.fif.gz, _meg.fif.gz, _eeg.fif.gz or _ieeg.fif.gz\n",
      "  EEG.save(preprocessed_file, overwrite=True)\n"
     ]
    },
    {
     "name": "stdout",
     "output_type": "stream",
     "text": [
      "Success\n",
      "Overwriting existing file.\n",
      "Writing /home/prakhar7/mfprl/neuroconn/batch/../data/out/subjects/104/EC/104_raw.fif\n",
      "Closing /home/prakhar7/mfprl/neuroconn/batch/../data/out/subjects/104/EC/104_raw.fif\n",
      "[done]\n",
      "Filtering raw data in 1 contiguous segment\n",
      "Setting up low-pass filter at 50 Hz\n",
      "\n",
      "FIR filter parameters\n",
      "---------------------\n",
      "Designing a one-pass, zero-phase, non-causal lowpass filter:\n",
      "- Windowed time-domain design (firwin) method\n",
      "- Hamming window with 0.0194 passband ripple and 53 dB stopband attenuation\n",
      "- Upper passband edge: 50.00 Hz\n",
      "- Upper transition bandwidth: 12.50 Hz (-6 dB cutoff frequency: 56.25 Hz)\n",
      "- Filter length: 265 samples (0.265 s)\n",
      "\n"
     ]
    },
    {
     "name": "stderr",
     "output_type": "stream",
     "text": [
      "/tmp/ipykernel_4122015/187000733.py:86: RuntimeWarning: Fiducial point nasion not found, assuming identity unknown to head transformation\n",
      "  EEG.set_montage(montage, on_missing='warn')\n",
      "/tmp/ipykernel_4122015/187000733.py:86: RuntimeWarning: DigMontage is only a subset of info. There is 1 channel position not present in the DigMontage. The channel missing from the montage is:\n",
      "\n",
      "['Rmastoid'].\n",
      "\n",
      "Consider using inst.rename_channels to match the montage nomenclature, or inst.set_channel_types if this is not an EEG channel, or use the on_missing parameter if the channel position is allowed to be unknown in your analyses.\n",
      "  EEG.set_montage(montage, on_missing='warn')\n",
      "/tmp/ipykernel_4122015/187000733.py:117: RuntimeWarning: The unit for channel(s) Rmastoid has changed from V to NA.\n",
      "  EEG.set_channel_types(channel_types)\n",
      "[Parallel(n_jobs=1)]: Done  17 tasks      | elapsed:    0.1s\n"
     ]
    },
    {
     "name": "stdout",
     "output_type": "stream",
     "text": [
      "Filtering raw data in 1 contiguous segment\n",
      "Setting up high-pass filter at 1 Hz\n",
      "\n",
      "FIR filter parameters\n",
      "---------------------\n",
      "Designing a one-pass, zero-phase, non-causal highpass filter:\n",
      "- Windowed time-domain design (firwin) method\n",
      "- Hamming window with 0.0194 passband ripple and 53 dB stopband attenuation\n",
      "- Lower passband edge: 1.00\n",
      "- Lower transition bandwidth: 1.00 Hz (-6 dB cutoff frequency: 0.50 Hz)\n",
      "- Filter length: 3301 samples (3.301 s)\n",
      "\n",
      "Filtering raw data in 1 contiguous segment\n",
      "Setting up band-stop filter\n",
      "\n",
      "FIR filter parameters\n",
      "---------------------\n",
      "Designing a one-pass, zero-phase, non-causal bandstop filter:\n",
      "- Windowed time-domain design (firwin) method\n",
      "- Hamming window with 0.0194 passband ripple and 53 dB stopband attenuation\n",
      "- Lower transition bandwidth: 0.50 Hz\n",
      "- Upper transition bandwidth: 0.50 Hz\n",
      "- Filter length: 6601 samples (6.601 s)\n",
      "\n"
     ]
    },
    {
     "name": "stderr",
     "output_type": "stream",
     "text": [
      "[Parallel(n_jobs=1)]: Done  17 tasks      | elapsed:    0.0s\n",
      "[Parallel(n_jobs=1)]: Done  17 tasks      | elapsed:    0.0s\n"
     ]
    },
    {
     "name": "stdout",
     "output_type": "stream",
     "text": [
      "NOTE: plot_psd() is a legacy function. New code should use .compute_psd().plot().\n",
      "Effective window size : 2.048 (s)\n",
      "Overwriting existing file.\n",
      "Writing /home/prakhar7/mfprl/neuroconn/batch/../data/out/subjects/104/EC/104_maprenamed&nfiltered.fif\n",
      "Closing /home/prakhar7/mfprl/neuroconn/batch/../data/out/subjects/104/EC/104_maprenamed&nfiltered.fif\n",
      "[done]\n",
      "Extracting parameters from ../data/in/subjects/104/EO/TCOA_104_EO.vhdr...\n",
      "Setting channel info structure...\n",
      "Reading 0 ... 65999  =      0.000 ...    65.999 secs...\n"
     ]
    },
    {
     "name": "stderr",
     "output_type": "stream",
     "text": [
      "/tmp/ipykernel_4122015/187000733.py:140: RuntimeWarning: This filename (/home/prakhar7/mfprl/neuroconn/batch/../data/out/subjects/104/EC/104_maprenamed&nfiltered.fif) does not conform to MNE naming conventions. All raw files should end with raw.fif, raw_sss.fif, raw_tsss.fif, _meg.fif, _eeg.fif, _ieeg.fif, raw.fif.gz, raw_sss.fif.gz, raw_tsss.fif.gz, _meg.fif.gz, _eeg.fif.gz or _ieeg.fif.gz\n",
      "  EEG.save(preprocessed_file, overwrite=True)\n"
     ]
    },
    {
     "name": "stdout",
     "output_type": "stream",
     "text": [
      "Success\n",
      "Overwriting existing file.\n",
      "Writing /home/prakhar7/mfprl/neuroconn/batch/../data/out/subjects/104/EO/104_raw.fif\n",
      "Closing /home/prakhar7/mfprl/neuroconn/batch/../data/out/subjects/104/EO/104_raw.fif\n",
      "[done]\n",
      "Filtering raw data in 1 contiguous segment\n",
      "Setting up low-pass filter at 50 Hz\n",
      "\n",
      "FIR filter parameters\n",
      "---------------------\n",
      "Designing a one-pass, zero-phase, non-causal lowpass filter:\n",
      "- Windowed time-domain design (firwin) method\n",
      "- Hamming window with 0.0194 passband ripple and 53 dB stopband attenuation\n",
      "- Upper passband edge: 50.00 Hz\n",
      "- Upper transition bandwidth: 12.50 Hz (-6 dB cutoff frequency: 56.25 Hz)\n",
      "- Filter length: 265 samples (0.265 s)\n",
      "\n"
     ]
    },
    {
     "name": "stderr",
     "output_type": "stream",
     "text": [
      "/tmp/ipykernel_4122015/187000733.py:86: RuntimeWarning: Fiducial point nasion not found, assuming identity unknown to head transformation\n",
      "  EEG.set_montage(montage, on_missing='warn')\n",
      "/tmp/ipykernel_4122015/187000733.py:86: RuntimeWarning: DigMontage is only a subset of info. There is 1 channel position not present in the DigMontage. The channel missing from the montage is:\n",
      "\n",
      "['Rmastoid'].\n",
      "\n",
      "Consider using inst.rename_channels to match the montage nomenclature, or inst.set_channel_types if this is not an EEG channel, or use the on_missing parameter if the channel position is allowed to be unknown in your analyses.\n",
      "  EEG.set_montage(montage, on_missing='warn')\n",
      "/tmp/ipykernel_4122015/187000733.py:117: RuntimeWarning: The unit for channel(s) Rmastoid has changed from V to NA.\n",
      "  EEG.set_channel_types(channel_types)\n",
      "[Parallel(n_jobs=1)]: Done  17 tasks      | elapsed:    0.1s\n"
     ]
    },
    {
     "name": "stdout",
     "output_type": "stream",
     "text": [
      "Filtering raw data in 1 contiguous segment\n",
      "Setting up high-pass filter at 1 Hz\n",
      "\n",
      "FIR filter parameters\n",
      "---------------------\n",
      "Designing a one-pass, zero-phase, non-causal highpass filter:\n",
      "- Windowed time-domain design (firwin) method\n",
      "- Hamming window with 0.0194 passband ripple and 53 dB stopband attenuation\n",
      "- Lower passband edge: 1.00\n",
      "- Lower transition bandwidth: 1.00 Hz (-6 dB cutoff frequency: 0.50 Hz)\n",
      "- Filter length: 3301 samples (3.301 s)\n",
      "\n",
      "Filtering raw data in 1 contiguous segment\n",
      "Setting up band-stop filter\n",
      "\n",
      "FIR filter parameters\n",
      "---------------------\n",
      "Designing a one-pass, zero-phase, non-causal bandstop filter:\n",
      "- Windowed time-domain design (firwin) method\n",
      "- Hamming window with 0.0194 passband ripple and 53 dB stopband attenuation\n",
      "- Lower transition bandwidth: 0.50 Hz\n",
      "- Upper transition bandwidth: 0.50 Hz\n",
      "- Filter length: 6601 samples (6.601 s)\n",
      "\n"
     ]
    },
    {
     "name": "stderr",
     "output_type": "stream",
     "text": [
      "[Parallel(n_jobs=1)]: Done  17 tasks      | elapsed:    0.0s\n",
      "[Parallel(n_jobs=1)]: Done  17 tasks      | elapsed:    0.0s\n"
     ]
    },
    {
     "name": "stdout",
     "output_type": "stream",
     "text": [
      "NOTE: plot_psd() is a legacy function. New code should use .compute_psd().plot().\n",
      "Effective window size : 2.048 (s)\n",
      "Overwriting existing file.\n",
      "Writing /home/prakhar7/mfprl/neuroconn/batch/../data/out/subjects/104/EO/104_maprenamed&nfiltered.fif\n",
      "Closing /home/prakhar7/mfprl/neuroconn/batch/../data/out/subjects/104/EO/104_maprenamed&nfiltered.fif\n",
      "[done]\n",
      "Extracting parameters from ../data/in/subjects/105/EC/TCOA_105_EC.vhdr...\n",
      "Setting channel info structure...\n",
      "Reading 0 ... 64649  =      0.000 ...    64.649 secs...\n"
     ]
    },
    {
     "name": "stderr",
     "output_type": "stream",
     "text": [
      "/tmp/ipykernel_4122015/187000733.py:140: RuntimeWarning: This filename (/home/prakhar7/mfprl/neuroconn/batch/../data/out/subjects/104/EO/104_maprenamed&nfiltered.fif) does not conform to MNE naming conventions. All raw files should end with raw.fif, raw_sss.fif, raw_tsss.fif, _meg.fif, _eeg.fif, _ieeg.fif, raw.fif.gz, raw_sss.fif.gz, raw_tsss.fif.gz, _meg.fif.gz, _eeg.fif.gz or _ieeg.fif.gz\n",
      "  EEG.save(preprocessed_file, overwrite=True)\n"
     ]
    },
    {
     "name": "stdout",
     "output_type": "stream",
     "text": [
      "Success\n",
      "Overwriting existing file.\n",
      "Writing /home/prakhar7/mfprl/neuroconn/batch/../data/out/subjects/105/EC/105_raw.fif\n",
      "Closing /home/prakhar7/mfprl/neuroconn/batch/../data/out/subjects/105/EC/105_raw.fif\n",
      "[done]\n",
      "Filtering raw data in 1 contiguous segment\n",
      "Setting up low-pass filter at 50 Hz\n",
      "\n",
      "FIR filter parameters\n",
      "---------------------\n",
      "Designing a one-pass, zero-phase, non-causal lowpass filter:\n",
      "- Windowed time-domain design (firwin) method\n",
      "- Hamming window with 0.0194 passband ripple and 53 dB stopband attenuation\n",
      "- Upper passband edge: 50.00 Hz\n",
      "- Upper transition bandwidth: 12.50 Hz (-6 dB cutoff frequency: 56.25 Hz)\n",
      "- Filter length: 265 samples (0.265 s)\n",
      "\n"
     ]
    },
    {
     "name": "stderr",
     "output_type": "stream",
     "text": [
      "/tmp/ipykernel_4122015/187000733.py:86: RuntimeWarning: Fiducial point nasion not found, assuming identity unknown to head transformation\n",
      "  EEG.set_montage(montage, on_missing='warn')\n",
      "/tmp/ipykernel_4122015/187000733.py:86: RuntimeWarning: DigMontage is only a subset of info. There is 1 channel position not present in the DigMontage. The channel missing from the montage is:\n",
      "\n",
      "['Rmastoid'].\n",
      "\n",
      "Consider using inst.rename_channels to match the montage nomenclature, or inst.set_channel_types if this is not an EEG channel, or use the on_missing parameter if the channel position is allowed to be unknown in your analyses.\n",
      "  EEG.set_montage(montage, on_missing='warn')\n",
      "/tmp/ipykernel_4122015/187000733.py:117: RuntimeWarning: The unit for channel(s) Rmastoid has changed from V to NA.\n",
      "  EEG.set_channel_types(channel_types)\n",
      "[Parallel(n_jobs=1)]: Done  17 tasks      | elapsed:    0.1s\n"
     ]
    },
    {
     "name": "stdout",
     "output_type": "stream",
     "text": [
      "Filtering raw data in 1 contiguous segment\n",
      "Setting up high-pass filter at 1 Hz\n",
      "\n",
      "FIR filter parameters\n",
      "---------------------\n",
      "Designing a one-pass, zero-phase, non-causal highpass filter:\n",
      "- Windowed time-domain design (firwin) method\n",
      "- Hamming window with 0.0194 passband ripple and 53 dB stopband attenuation\n",
      "- Lower passband edge: 1.00\n",
      "- Lower transition bandwidth: 1.00 Hz (-6 dB cutoff frequency: 0.50 Hz)\n",
      "- Filter length: 3301 samples (3.301 s)\n",
      "\n",
      "Filtering raw data in 1 contiguous segment\n",
      "Setting up band-stop filter\n",
      "\n",
      "FIR filter parameters\n",
      "---------------------\n",
      "Designing a one-pass, zero-phase, non-causal bandstop filter:\n",
      "- Windowed time-domain design (firwin) method\n",
      "- Hamming window with 0.0194 passband ripple and 53 dB stopband attenuation\n",
      "- Lower transition bandwidth: 0.50 Hz\n",
      "- Upper transition bandwidth: 0.50 Hz\n",
      "- Filter length: 6601 samples (6.601 s)\n",
      "\n"
     ]
    },
    {
     "name": "stderr",
     "output_type": "stream",
     "text": [
      "[Parallel(n_jobs=1)]: Done  17 tasks      | elapsed:    0.0s\n",
      "[Parallel(n_jobs=1)]: Done  17 tasks      | elapsed:    0.0s\n"
     ]
    },
    {
     "name": "stdout",
     "output_type": "stream",
     "text": [
      "NOTE: plot_psd() is a legacy function. New code should use .compute_psd().plot().\n",
      "Effective window size : 2.048 (s)\n",
      "Overwriting existing file.\n",
      "Writing /home/prakhar7/mfprl/neuroconn/batch/../data/out/subjects/105/EC/105_maprenamed&nfiltered.fif\n",
      "Closing /home/prakhar7/mfprl/neuroconn/batch/../data/out/subjects/105/EC/105_maprenamed&nfiltered.fif\n",
      "[done]\n",
      "Extracting parameters from ../data/in/subjects/105/EO/TCOA_105_EO.vhdr...\n",
      "Setting channel info structure...\n",
      "Reading 0 ... 65849  =      0.000 ...    65.849 secs...\n"
     ]
    },
    {
     "name": "stderr",
     "output_type": "stream",
     "text": [
      "/tmp/ipykernel_4122015/187000733.py:140: RuntimeWarning: This filename (/home/prakhar7/mfprl/neuroconn/batch/../data/out/subjects/105/EC/105_maprenamed&nfiltered.fif) does not conform to MNE naming conventions. All raw files should end with raw.fif, raw_sss.fif, raw_tsss.fif, _meg.fif, _eeg.fif, _ieeg.fif, raw.fif.gz, raw_sss.fif.gz, raw_tsss.fif.gz, _meg.fif.gz, _eeg.fif.gz or _ieeg.fif.gz\n",
      "  EEG.save(preprocessed_file, overwrite=True)\n"
     ]
    },
    {
     "name": "stdout",
     "output_type": "stream",
     "text": [
      "Success\n",
      "Overwriting existing file.\n",
      "Writing /home/prakhar7/mfprl/neuroconn/batch/../data/out/subjects/105/EO/105_raw.fif\n",
      "Closing /home/prakhar7/mfprl/neuroconn/batch/../data/out/subjects/105/EO/105_raw.fif\n",
      "[done]\n",
      "Filtering raw data in 1 contiguous segment\n",
      "Setting up low-pass filter at 50 Hz\n",
      "\n",
      "FIR filter parameters\n",
      "---------------------\n",
      "Designing a one-pass, zero-phase, non-causal lowpass filter:\n",
      "- Windowed time-domain design (firwin) method\n",
      "- Hamming window with 0.0194 passband ripple and 53 dB stopband attenuation\n",
      "- Upper passband edge: 50.00 Hz\n",
      "- Upper transition bandwidth: 12.50 Hz (-6 dB cutoff frequency: 56.25 Hz)\n",
      "- Filter length: 265 samples (0.265 s)\n",
      "\n"
     ]
    },
    {
     "name": "stderr",
     "output_type": "stream",
     "text": [
      "/tmp/ipykernel_4122015/187000733.py:86: RuntimeWarning: Fiducial point nasion not found, assuming identity unknown to head transformation\n",
      "  EEG.set_montage(montage, on_missing='warn')\n",
      "/tmp/ipykernel_4122015/187000733.py:86: RuntimeWarning: DigMontage is only a subset of info. There is 1 channel position not present in the DigMontage. The channel missing from the montage is:\n",
      "\n",
      "['Rmastoid'].\n",
      "\n",
      "Consider using inst.rename_channels to match the montage nomenclature, or inst.set_channel_types if this is not an EEG channel, or use the on_missing parameter if the channel position is allowed to be unknown in your analyses.\n",
      "  EEG.set_montage(montage, on_missing='warn')\n",
      "/tmp/ipykernel_4122015/187000733.py:117: RuntimeWarning: The unit for channel(s) Rmastoid has changed from V to NA.\n",
      "  EEG.set_channel_types(channel_types)\n",
      "[Parallel(n_jobs=1)]: Done  17 tasks      | elapsed:    0.1s\n"
     ]
    },
    {
     "name": "stdout",
     "output_type": "stream",
     "text": [
      "Filtering raw data in 1 contiguous segment\n",
      "Setting up high-pass filter at 1 Hz\n",
      "\n",
      "FIR filter parameters\n",
      "---------------------\n",
      "Designing a one-pass, zero-phase, non-causal highpass filter:\n",
      "- Windowed time-domain design (firwin) method\n",
      "- Hamming window with 0.0194 passband ripple and 53 dB stopband attenuation\n",
      "- Lower passband edge: 1.00\n",
      "- Lower transition bandwidth: 1.00 Hz (-6 dB cutoff frequency: 0.50 Hz)\n",
      "- Filter length: 3301 samples (3.301 s)\n",
      "\n",
      "Filtering raw data in 1 contiguous segment\n",
      "Setting up band-stop filter\n",
      "\n",
      "FIR filter parameters\n",
      "---------------------\n",
      "Designing a one-pass, zero-phase, non-causal bandstop filter:\n",
      "- Windowed time-domain design (firwin) method\n",
      "- Hamming window with 0.0194 passband ripple and 53 dB stopband attenuation\n",
      "- Lower transition bandwidth: 0.50 Hz\n",
      "- Upper transition bandwidth: 0.50 Hz\n",
      "- Filter length: 6601 samples (6.601 s)\n",
      "\n"
     ]
    },
    {
     "name": "stderr",
     "output_type": "stream",
     "text": [
      "[Parallel(n_jobs=1)]: Done  17 tasks      | elapsed:    0.0s\n",
      "[Parallel(n_jobs=1)]: Done  17 tasks      | elapsed:    0.0s\n"
     ]
    },
    {
     "name": "stdout",
     "output_type": "stream",
     "text": [
      "NOTE: plot_psd() is a legacy function. New code should use .compute_psd().plot().\n",
      "Effective window size : 2.048 (s)\n",
      "Overwriting existing file.\n",
      "Writing /home/prakhar7/mfprl/neuroconn/batch/../data/out/subjects/105/EO/105_maprenamed&nfiltered.fif\n",
      "Closing /home/prakhar7/mfprl/neuroconn/batch/../data/out/subjects/105/EO/105_maprenamed&nfiltered.fif\n",
      "[done]\n",
      "Extracting parameters from ../data/in/subjects/401/EC/TCOA_401_EC.vhdr...\n",
      "Setting channel info structure...\n",
      "Reading 0 ... 63249  =      0.000 ...    63.249 secs...\n"
     ]
    },
    {
     "name": "stderr",
     "output_type": "stream",
     "text": [
      "/tmp/ipykernel_4122015/187000733.py:140: RuntimeWarning: This filename (/home/prakhar7/mfprl/neuroconn/batch/../data/out/subjects/105/EO/105_maprenamed&nfiltered.fif) does not conform to MNE naming conventions. All raw files should end with raw.fif, raw_sss.fif, raw_tsss.fif, _meg.fif, _eeg.fif, _ieeg.fif, raw.fif.gz, raw_sss.fif.gz, raw_tsss.fif.gz, _meg.fif.gz, _eeg.fif.gz or _ieeg.fif.gz\n",
      "  EEG.save(preprocessed_file, overwrite=True)\n"
     ]
    },
    {
     "name": "stdout",
     "output_type": "stream",
     "text": [
      "Success\n",
      "Overwriting existing file.\n",
      "Writing /home/prakhar7/mfprl/neuroconn/batch/../data/out/subjects/401/EC/401_raw.fif\n",
      "Closing /home/prakhar7/mfprl/neuroconn/batch/../data/out/subjects/401/EC/401_raw.fif\n",
      "[done]\n",
      "Filtering raw data in 1 contiguous segment\n",
      "Setting up low-pass filter at 50 Hz\n",
      "\n",
      "FIR filter parameters\n",
      "---------------------\n",
      "Designing a one-pass, zero-phase, non-causal lowpass filter:\n",
      "- Windowed time-domain design (firwin) method\n",
      "- Hamming window with 0.0194 passband ripple and 53 dB stopband attenuation\n",
      "- Upper passband edge: 50.00 Hz\n",
      "- Upper transition bandwidth: 12.50 Hz (-6 dB cutoff frequency: 56.25 Hz)\n",
      "- Filter length: 265 samples (0.265 s)\n",
      "\n"
     ]
    },
    {
     "name": "stderr",
     "output_type": "stream",
     "text": [
      "/tmp/ipykernel_4122015/187000733.py:86: RuntimeWarning: Fiducial point nasion not found, assuming identity unknown to head transformation\n",
      "  EEG.set_montage(montage, on_missing='warn')\n",
      "/tmp/ipykernel_4122015/187000733.py:86: RuntimeWarning: DigMontage is only a subset of info. There is 1 channel position not present in the DigMontage. The channel missing from the montage is:\n",
      "\n",
      "['Rmastoid'].\n",
      "\n",
      "Consider using inst.rename_channels to match the montage nomenclature, or inst.set_channel_types if this is not an EEG channel, or use the on_missing parameter if the channel position is allowed to be unknown in your analyses.\n",
      "  EEG.set_montage(montage, on_missing='warn')\n",
      "/tmp/ipykernel_4122015/187000733.py:117: RuntimeWarning: The unit for channel(s) Rmastoid has changed from V to NA.\n",
      "  EEG.set_channel_types(channel_types)\n",
      "[Parallel(n_jobs=1)]: Done  17 tasks      | elapsed:    0.1s\n"
     ]
    },
    {
     "name": "stdout",
     "output_type": "stream",
     "text": [
      "Filtering raw data in 1 contiguous segment\n",
      "Setting up high-pass filter at 1 Hz\n",
      "\n",
      "FIR filter parameters\n",
      "---------------------\n",
      "Designing a one-pass, zero-phase, non-causal highpass filter:\n",
      "- Windowed time-domain design (firwin) method\n",
      "- Hamming window with 0.0194 passband ripple and 53 dB stopband attenuation\n",
      "- Lower passband edge: 1.00\n",
      "- Lower transition bandwidth: 1.00 Hz (-6 dB cutoff frequency: 0.50 Hz)\n",
      "- Filter length: 3301 samples (3.301 s)\n",
      "\n",
      "Filtering raw data in 1 contiguous segment\n",
      "Setting up band-stop filter\n",
      "\n",
      "FIR filter parameters\n",
      "---------------------\n",
      "Designing a one-pass, zero-phase, non-causal bandstop filter:\n",
      "- Windowed time-domain design (firwin) method\n",
      "- Hamming window with 0.0194 passband ripple and 53 dB stopband attenuation\n",
      "- Lower transition bandwidth: 0.50 Hz\n",
      "- Upper transition bandwidth: 0.50 Hz\n",
      "- Filter length: 6601 samples (6.601 s)\n",
      "\n"
     ]
    },
    {
     "name": "stderr",
     "output_type": "stream",
     "text": [
      "[Parallel(n_jobs=1)]: Done  17 tasks      | elapsed:    0.0s\n",
      "[Parallel(n_jobs=1)]: Done  17 tasks      | elapsed:    0.0s\n"
     ]
    },
    {
     "name": "stdout",
     "output_type": "stream",
     "text": [
      "NOTE: plot_psd() is a legacy function. New code should use .compute_psd().plot().\n",
      "Effective window size : 2.048 (s)\n",
      "Overwriting existing file.\n",
      "Writing /home/prakhar7/mfprl/neuroconn/batch/../data/out/subjects/401/EC/401_maprenamed&nfiltered.fif\n",
      "Closing /home/prakhar7/mfprl/neuroconn/batch/../data/out/subjects/401/EC/401_maprenamed&nfiltered.fif\n",
      "[done]\n",
      "Extracting parameters from ../data/in/subjects/401/EO/TCOA_401_EO.vhdr...\n",
      "Setting channel info structure...\n",
      "Reading 0 ... 64499  =      0.000 ...    64.499 secs...\n"
     ]
    },
    {
     "name": "stderr",
     "output_type": "stream",
     "text": [
      "/tmp/ipykernel_4122015/187000733.py:140: RuntimeWarning: This filename (/home/prakhar7/mfprl/neuroconn/batch/../data/out/subjects/401/EC/401_maprenamed&nfiltered.fif) does not conform to MNE naming conventions. All raw files should end with raw.fif, raw_sss.fif, raw_tsss.fif, _meg.fif, _eeg.fif, _ieeg.fif, raw.fif.gz, raw_sss.fif.gz, raw_tsss.fif.gz, _meg.fif.gz, _eeg.fif.gz or _ieeg.fif.gz\n",
      "  EEG.save(preprocessed_file, overwrite=True)\n"
     ]
    },
    {
     "name": "stdout",
     "output_type": "stream",
     "text": [
      "Success\n",
      "Overwriting existing file.\n",
      "Writing /home/prakhar7/mfprl/neuroconn/batch/../data/out/subjects/401/EO/401_raw.fif\n",
      "Closing /home/prakhar7/mfprl/neuroconn/batch/../data/out/subjects/401/EO/401_raw.fif\n",
      "[done]\n",
      "Filtering raw data in 1 contiguous segment\n",
      "Setting up low-pass filter at 50 Hz\n",
      "\n",
      "FIR filter parameters\n",
      "---------------------\n",
      "Designing a one-pass, zero-phase, non-causal lowpass filter:\n",
      "- Windowed time-domain design (firwin) method\n",
      "- Hamming window with 0.0194 passband ripple and 53 dB stopband attenuation\n",
      "- Upper passband edge: 50.00 Hz\n",
      "- Upper transition bandwidth: 12.50 Hz (-6 dB cutoff frequency: 56.25 Hz)\n",
      "- Filter length: 265 samples (0.265 s)\n",
      "\n"
     ]
    },
    {
     "name": "stderr",
     "output_type": "stream",
     "text": [
      "/tmp/ipykernel_4122015/187000733.py:86: RuntimeWarning: Fiducial point nasion not found, assuming identity unknown to head transformation\n",
      "  EEG.set_montage(montage, on_missing='warn')\n",
      "/tmp/ipykernel_4122015/187000733.py:86: RuntimeWarning: DigMontage is only a subset of info. There is 1 channel position not present in the DigMontage. The channel missing from the montage is:\n",
      "\n",
      "['Rmastoid'].\n",
      "\n",
      "Consider using inst.rename_channels to match the montage nomenclature, or inst.set_channel_types if this is not an EEG channel, or use the on_missing parameter if the channel position is allowed to be unknown in your analyses.\n",
      "  EEG.set_montage(montage, on_missing='warn')\n",
      "/tmp/ipykernel_4122015/187000733.py:117: RuntimeWarning: The unit for channel(s) Rmastoid has changed from V to NA.\n",
      "  EEG.set_channel_types(channel_types)\n",
      "[Parallel(n_jobs=1)]: Done  17 tasks      | elapsed:    0.1s\n"
     ]
    },
    {
     "name": "stdout",
     "output_type": "stream",
     "text": [
      "Filtering raw data in 1 contiguous segment\n",
      "Setting up high-pass filter at 1 Hz\n",
      "\n",
      "FIR filter parameters\n",
      "---------------------\n",
      "Designing a one-pass, zero-phase, non-causal highpass filter:\n",
      "- Windowed time-domain design (firwin) method\n",
      "- Hamming window with 0.0194 passband ripple and 53 dB stopband attenuation\n",
      "- Lower passband edge: 1.00\n",
      "- Lower transition bandwidth: 1.00 Hz (-6 dB cutoff frequency: 0.50 Hz)\n",
      "- Filter length: 3301 samples (3.301 s)\n",
      "\n",
      "Filtering raw data in 1 contiguous segment\n",
      "Setting up band-stop filter\n",
      "\n",
      "FIR filter parameters\n",
      "---------------------\n",
      "Designing a one-pass, zero-phase, non-causal bandstop filter:\n",
      "- Windowed time-domain design (firwin) method\n",
      "- Hamming window with 0.0194 passband ripple and 53 dB stopband attenuation\n",
      "- Lower transition bandwidth: 0.50 Hz\n",
      "- Upper transition bandwidth: 0.50 Hz\n",
      "- Filter length: 6601 samples (6.601 s)\n",
      "\n"
     ]
    },
    {
     "name": "stderr",
     "output_type": "stream",
     "text": [
      "[Parallel(n_jobs=1)]: Done  17 tasks      | elapsed:    0.0s\n",
      "[Parallel(n_jobs=1)]: Done  17 tasks      | elapsed:    0.0s\n"
     ]
    },
    {
     "name": "stdout",
     "output_type": "stream",
     "text": [
      "NOTE: plot_psd() is a legacy function. New code should use .compute_psd().plot().\n",
      "Effective window size : 2.048 (s)\n",
      "Overwriting existing file.\n",
      "Writing /home/prakhar7/mfprl/neuroconn/batch/../data/out/subjects/401/EO/401_maprenamed&nfiltered.fif\n",
      "Closing /home/prakhar7/mfprl/neuroconn/batch/../data/out/subjects/401/EO/401_maprenamed&nfiltered.fif\n",
      "[done]\n",
      "Extracting parameters from ../data/in/subjects/402/EC/TCOA_402_EC.vhdr...\n",
      "Setting channel info structure...\n",
      "Reading 0 ... 63099  =      0.000 ...    63.099 secs...\n"
     ]
    },
    {
     "name": "stderr",
     "output_type": "stream",
     "text": [
      "/tmp/ipykernel_4122015/187000733.py:140: RuntimeWarning: This filename (/home/prakhar7/mfprl/neuroconn/batch/../data/out/subjects/401/EO/401_maprenamed&nfiltered.fif) does not conform to MNE naming conventions. All raw files should end with raw.fif, raw_sss.fif, raw_tsss.fif, _meg.fif, _eeg.fif, _ieeg.fif, raw.fif.gz, raw_sss.fif.gz, raw_tsss.fif.gz, _meg.fif.gz, _eeg.fif.gz or _ieeg.fif.gz\n",
      "  EEG.save(preprocessed_file, overwrite=True)\n"
     ]
    },
    {
     "name": "stdout",
     "output_type": "stream",
     "text": [
      "Success\n",
      "Overwriting existing file.\n",
      "Writing /home/prakhar7/mfprl/neuroconn/batch/../data/out/subjects/402/EC/402_raw.fif\n",
      "Closing /home/prakhar7/mfprl/neuroconn/batch/../data/out/subjects/402/EC/402_raw.fif\n",
      "[done]\n",
      "Filtering raw data in 1 contiguous segment\n",
      "Setting up low-pass filter at 50 Hz\n",
      "\n",
      "FIR filter parameters\n",
      "---------------------\n",
      "Designing a one-pass, zero-phase, non-causal lowpass filter:\n",
      "- Windowed time-domain design (firwin) method\n",
      "- Hamming window with 0.0194 passband ripple and 53 dB stopband attenuation\n",
      "- Upper passband edge: 50.00 Hz\n",
      "- Upper transition bandwidth: 12.50 Hz (-6 dB cutoff frequency: 56.25 Hz)\n",
      "- Filter length: 265 samples (0.265 s)\n",
      "\n"
     ]
    },
    {
     "name": "stderr",
     "output_type": "stream",
     "text": [
      "/tmp/ipykernel_4122015/187000733.py:86: RuntimeWarning: Fiducial point nasion not found, assuming identity unknown to head transformation\n",
      "  EEG.set_montage(montage, on_missing='warn')\n",
      "/tmp/ipykernel_4122015/187000733.py:86: RuntimeWarning: DigMontage is only a subset of info. There is 1 channel position not present in the DigMontage. The channel missing from the montage is:\n",
      "\n",
      "['Rmastoid'].\n",
      "\n",
      "Consider using inst.rename_channels to match the montage nomenclature, or inst.set_channel_types if this is not an EEG channel, or use the on_missing parameter if the channel position is allowed to be unknown in your analyses.\n",
      "  EEG.set_montage(montage, on_missing='warn')\n",
      "/tmp/ipykernel_4122015/187000733.py:117: RuntimeWarning: The unit for channel(s) Rmastoid has changed from V to NA.\n",
      "  EEG.set_channel_types(channel_types)\n",
      "[Parallel(n_jobs=1)]: Done  17 tasks      | elapsed:    0.1s\n"
     ]
    },
    {
     "name": "stdout",
     "output_type": "stream",
     "text": [
      "Filtering raw data in 1 contiguous segment\n",
      "Setting up high-pass filter at 1 Hz\n",
      "\n",
      "FIR filter parameters\n",
      "---------------------\n",
      "Designing a one-pass, zero-phase, non-causal highpass filter:\n",
      "- Windowed time-domain design (firwin) method\n",
      "- Hamming window with 0.0194 passband ripple and 53 dB stopband attenuation\n",
      "- Lower passband edge: 1.00\n",
      "- Lower transition bandwidth: 1.00 Hz (-6 dB cutoff frequency: 0.50 Hz)\n",
      "- Filter length: 3301 samples (3.301 s)\n",
      "\n",
      "Filtering raw data in 1 contiguous segment\n",
      "Setting up band-stop filter\n",
      "\n",
      "FIR filter parameters\n",
      "---------------------\n",
      "Designing a one-pass, zero-phase, non-causal bandstop filter:\n",
      "- Windowed time-domain design (firwin) method\n",
      "- Hamming window with 0.0194 passband ripple and 53 dB stopband attenuation\n",
      "- Lower transition bandwidth: 0.50 Hz\n",
      "- Upper transition bandwidth: 0.50 Hz\n",
      "- Filter length: 6601 samples (6.601 s)\n",
      "\n"
     ]
    },
    {
     "name": "stderr",
     "output_type": "stream",
     "text": [
      "[Parallel(n_jobs=1)]: Done  17 tasks      | elapsed:    0.0s\n",
      "[Parallel(n_jobs=1)]: Done  17 tasks      | elapsed:    0.0s\n"
     ]
    },
    {
     "name": "stdout",
     "output_type": "stream",
     "text": [
      "NOTE: plot_psd() is a legacy function. New code should use .compute_psd().plot().\n",
      "Effective window size : 2.048 (s)\n",
      "Overwriting existing file.\n",
      "Writing /home/prakhar7/mfprl/neuroconn/batch/../data/out/subjects/402/EC/402_maprenamed&nfiltered.fif\n",
      "Closing /home/prakhar7/mfprl/neuroconn/batch/../data/out/subjects/402/EC/402_maprenamed&nfiltered.fif\n",
      "[done]\n",
      "Extracting parameters from ../data/in/subjects/402/EO/TCOA_402_EO.vhdr...\n",
      "Setting channel info structure...\n",
      "Reading 0 ... 63349  =      0.000 ...    63.349 secs...\n"
     ]
    },
    {
     "name": "stderr",
     "output_type": "stream",
     "text": [
      "/tmp/ipykernel_4122015/187000733.py:140: RuntimeWarning: This filename (/home/prakhar7/mfprl/neuroconn/batch/../data/out/subjects/402/EC/402_maprenamed&nfiltered.fif) does not conform to MNE naming conventions. All raw files should end with raw.fif, raw_sss.fif, raw_tsss.fif, _meg.fif, _eeg.fif, _ieeg.fif, raw.fif.gz, raw_sss.fif.gz, raw_tsss.fif.gz, _meg.fif.gz, _eeg.fif.gz or _ieeg.fif.gz\n",
      "  EEG.save(preprocessed_file, overwrite=True)\n"
     ]
    },
    {
     "name": "stdout",
     "output_type": "stream",
     "text": [
      "Success\n",
      "Overwriting existing file.\n",
      "Writing /home/prakhar7/mfprl/neuroconn/batch/../data/out/subjects/402/EO/402_raw.fif\n",
      "Closing /home/prakhar7/mfprl/neuroconn/batch/../data/out/subjects/402/EO/402_raw.fif\n",
      "[done]\n",
      "Filtering raw data in 1 contiguous segment\n",
      "Setting up low-pass filter at 50 Hz\n",
      "\n",
      "FIR filter parameters\n",
      "---------------------\n",
      "Designing a one-pass, zero-phase, non-causal lowpass filter:\n",
      "- Windowed time-domain design (firwin) method\n",
      "- Hamming window with 0.0194 passband ripple and 53 dB stopband attenuation\n",
      "- Upper passband edge: 50.00 Hz\n",
      "- Upper transition bandwidth: 12.50 Hz (-6 dB cutoff frequency: 56.25 Hz)\n",
      "- Filter length: 265 samples (0.265 s)\n",
      "\n"
     ]
    },
    {
     "name": "stderr",
     "output_type": "stream",
     "text": [
      "/tmp/ipykernel_4122015/187000733.py:86: RuntimeWarning: Fiducial point nasion not found, assuming identity unknown to head transformation\n",
      "  EEG.set_montage(montage, on_missing='warn')\n",
      "/tmp/ipykernel_4122015/187000733.py:86: RuntimeWarning: DigMontage is only a subset of info. There is 1 channel position not present in the DigMontage. The channel missing from the montage is:\n",
      "\n",
      "['Rmastoid'].\n",
      "\n",
      "Consider using inst.rename_channels to match the montage nomenclature, or inst.set_channel_types if this is not an EEG channel, or use the on_missing parameter if the channel position is allowed to be unknown in your analyses.\n",
      "  EEG.set_montage(montage, on_missing='warn')\n",
      "/tmp/ipykernel_4122015/187000733.py:117: RuntimeWarning: The unit for channel(s) Rmastoid has changed from V to NA.\n",
      "  EEG.set_channel_types(channel_types)\n",
      "[Parallel(n_jobs=1)]: Done  17 tasks      | elapsed:    0.1s\n"
     ]
    },
    {
     "name": "stdout",
     "output_type": "stream",
     "text": [
      "Filtering raw data in 1 contiguous segment\n",
      "Setting up high-pass filter at 1 Hz\n",
      "\n",
      "FIR filter parameters\n",
      "---------------------\n",
      "Designing a one-pass, zero-phase, non-causal highpass filter:\n",
      "- Windowed time-domain design (firwin) method\n",
      "- Hamming window with 0.0194 passband ripple and 53 dB stopband attenuation\n",
      "- Lower passband edge: 1.00\n",
      "- Lower transition bandwidth: 1.00 Hz (-6 dB cutoff frequency: 0.50 Hz)\n",
      "- Filter length: 3301 samples (3.301 s)\n",
      "\n",
      "Filtering raw data in 1 contiguous segment\n",
      "Setting up band-stop filter\n",
      "\n",
      "FIR filter parameters\n",
      "---------------------\n",
      "Designing a one-pass, zero-phase, non-causal bandstop filter:\n",
      "- Windowed time-domain design (firwin) method\n",
      "- Hamming window with 0.0194 passband ripple and 53 dB stopband attenuation\n",
      "- Lower transition bandwidth: 0.50 Hz\n",
      "- Upper transition bandwidth: 0.50 Hz\n",
      "- Filter length: 6601 samples (6.601 s)\n",
      "\n"
     ]
    },
    {
     "name": "stderr",
     "output_type": "stream",
     "text": [
      "[Parallel(n_jobs=1)]: Done  17 tasks      | elapsed:    0.0s\n",
      "[Parallel(n_jobs=1)]: Done  17 tasks      | elapsed:    0.0s\n"
     ]
    },
    {
     "name": "stdout",
     "output_type": "stream",
     "text": [
      "NOTE: plot_psd() is a legacy function. New code should use .compute_psd().plot().\n",
      "Effective window size : 2.048 (s)\n",
      "Overwriting existing file.\n",
      "Writing /home/prakhar7/mfprl/neuroconn/batch/../data/out/subjects/402/EO/402_maprenamed&nfiltered.fif\n",
      "Closing /home/prakhar7/mfprl/neuroconn/batch/../data/out/subjects/402/EO/402_maprenamed&nfiltered.fif\n",
      "[done]\n",
      "Extracting parameters from ../data/in/subjects/403/EC/TCOA_403_EC.vhdr...\n",
      "Setting channel info structure...\n",
      "Reading 0 ... 62599  =      0.000 ...    62.599 secs...\n"
     ]
    },
    {
     "name": "stderr",
     "output_type": "stream",
     "text": [
      "/tmp/ipykernel_4122015/187000733.py:140: RuntimeWarning: This filename (/home/prakhar7/mfprl/neuroconn/batch/../data/out/subjects/402/EO/402_maprenamed&nfiltered.fif) does not conform to MNE naming conventions. All raw files should end with raw.fif, raw_sss.fif, raw_tsss.fif, _meg.fif, _eeg.fif, _ieeg.fif, raw.fif.gz, raw_sss.fif.gz, raw_tsss.fif.gz, _meg.fif.gz, _eeg.fif.gz or _ieeg.fif.gz\n",
      "  EEG.save(preprocessed_file, overwrite=True)\n"
     ]
    },
    {
     "name": "stdout",
     "output_type": "stream",
     "text": [
      "Success\n",
      "Overwriting existing file.\n",
      "Writing /home/prakhar7/mfprl/neuroconn/batch/../data/out/subjects/403/EC/403_raw.fif\n",
      "Closing /home/prakhar7/mfprl/neuroconn/batch/../data/out/subjects/403/EC/403_raw.fif\n",
      "[done]\n",
      "Filtering raw data in 1 contiguous segment\n",
      "Setting up low-pass filter at 50 Hz\n",
      "\n",
      "FIR filter parameters\n",
      "---------------------\n",
      "Designing a one-pass, zero-phase, non-causal lowpass filter:\n",
      "- Windowed time-domain design (firwin) method\n",
      "- Hamming window with 0.0194 passband ripple and 53 dB stopband attenuation\n",
      "- Upper passband edge: 50.00 Hz\n",
      "- Upper transition bandwidth: 12.50 Hz (-6 dB cutoff frequency: 56.25 Hz)\n",
      "- Filter length: 265 samples (0.265 s)\n",
      "\n"
     ]
    },
    {
     "name": "stderr",
     "output_type": "stream",
     "text": [
      "/tmp/ipykernel_4122015/187000733.py:86: RuntimeWarning: Fiducial point nasion not found, assuming identity unknown to head transformation\n",
      "  EEG.set_montage(montage, on_missing='warn')\n",
      "/tmp/ipykernel_4122015/187000733.py:86: RuntimeWarning: DigMontage is only a subset of info. There is 1 channel position not present in the DigMontage. The channel missing from the montage is:\n",
      "\n",
      "['Rmastoid'].\n",
      "\n",
      "Consider using inst.rename_channels to match the montage nomenclature, or inst.set_channel_types if this is not an EEG channel, or use the on_missing parameter if the channel position is allowed to be unknown in your analyses.\n",
      "  EEG.set_montage(montage, on_missing='warn')\n",
      "/tmp/ipykernel_4122015/187000733.py:117: RuntimeWarning: The unit for channel(s) Rmastoid has changed from V to NA.\n",
      "  EEG.set_channel_types(channel_types)\n",
      "[Parallel(n_jobs=1)]: Done  17 tasks      | elapsed:    0.1s\n"
     ]
    },
    {
     "name": "stdout",
     "output_type": "stream",
     "text": [
      "Filtering raw data in 1 contiguous segment\n",
      "Setting up high-pass filter at 1 Hz\n",
      "\n",
      "FIR filter parameters\n",
      "---------------------\n",
      "Designing a one-pass, zero-phase, non-causal highpass filter:\n",
      "- Windowed time-domain design (firwin) method\n",
      "- Hamming window with 0.0194 passband ripple and 53 dB stopband attenuation\n",
      "- Lower passband edge: 1.00\n",
      "- Lower transition bandwidth: 1.00 Hz (-6 dB cutoff frequency: 0.50 Hz)\n",
      "- Filter length: 3301 samples (3.301 s)\n",
      "\n",
      "Filtering raw data in 1 contiguous segment\n",
      "Setting up band-stop filter\n",
      "\n",
      "FIR filter parameters\n",
      "---------------------\n",
      "Designing a one-pass, zero-phase, non-causal bandstop filter:\n",
      "- Windowed time-domain design (firwin) method\n",
      "- Hamming window with 0.0194 passband ripple and 53 dB stopband attenuation\n",
      "- Lower transition bandwidth: 0.50 Hz\n",
      "- Upper transition bandwidth: 0.50 Hz\n",
      "- Filter length: 6601 samples (6.601 s)\n",
      "\n"
     ]
    },
    {
     "name": "stderr",
     "output_type": "stream",
     "text": [
      "[Parallel(n_jobs=1)]: Done  17 tasks      | elapsed:    0.0s\n",
      "[Parallel(n_jobs=1)]: Done  17 tasks      | elapsed:    0.0s\n"
     ]
    },
    {
     "name": "stdout",
     "output_type": "stream",
     "text": [
      "NOTE: plot_psd() is a legacy function. New code should use .compute_psd().plot().\n",
      "Effective window size : 2.048 (s)\n",
      "Overwriting existing file.\n",
      "Writing /home/prakhar7/mfprl/neuroconn/batch/../data/out/subjects/403/EC/403_maprenamed&nfiltered.fif\n",
      "Closing /home/prakhar7/mfprl/neuroconn/batch/../data/out/subjects/403/EC/403_maprenamed&nfiltered.fif\n",
      "[done]\n",
      "Extracting parameters from ../data/in/subjects/403/EO/TCOA_403_EO.vhdr...\n",
      "Setting channel info structure...\n",
      "Reading 0 ... 63649  =      0.000 ...    63.649 secs...\n"
     ]
    },
    {
     "name": "stderr",
     "output_type": "stream",
     "text": [
      "/tmp/ipykernel_4122015/187000733.py:140: RuntimeWarning: This filename (/home/prakhar7/mfprl/neuroconn/batch/../data/out/subjects/403/EC/403_maprenamed&nfiltered.fif) does not conform to MNE naming conventions. All raw files should end with raw.fif, raw_sss.fif, raw_tsss.fif, _meg.fif, _eeg.fif, _ieeg.fif, raw.fif.gz, raw_sss.fif.gz, raw_tsss.fif.gz, _meg.fif.gz, _eeg.fif.gz or _ieeg.fif.gz\n",
      "  EEG.save(preprocessed_file, overwrite=True)\n"
     ]
    },
    {
     "name": "stdout",
     "output_type": "stream",
     "text": [
      "Success\n",
      "Overwriting existing file.\n",
      "Writing /home/prakhar7/mfprl/neuroconn/batch/../data/out/subjects/403/EO/403_raw.fif\n",
      "Closing /home/prakhar7/mfprl/neuroconn/batch/../data/out/subjects/403/EO/403_raw.fif\n",
      "[done]\n",
      "Filtering raw data in 1 contiguous segment\n",
      "Setting up low-pass filter at 50 Hz\n",
      "\n",
      "FIR filter parameters\n",
      "---------------------\n",
      "Designing a one-pass, zero-phase, non-causal lowpass filter:\n",
      "- Windowed time-domain design (firwin) method\n",
      "- Hamming window with 0.0194 passband ripple and 53 dB stopband attenuation\n",
      "- Upper passband edge: 50.00 Hz\n",
      "- Upper transition bandwidth: 12.50 Hz (-6 dB cutoff frequency: 56.25 Hz)\n",
      "- Filter length: 265 samples (0.265 s)\n",
      "\n"
     ]
    },
    {
     "name": "stderr",
     "output_type": "stream",
     "text": [
      "/tmp/ipykernel_4122015/187000733.py:86: RuntimeWarning: Fiducial point nasion not found, assuming identity unknown to head transformation\n",
      "  EEG.set_montage(montage, on_missing='warn')\n",
      "/tmp/ipykernel_4122015/187000733.py:86: RuntimeWarning: DigMontage is only a subset of info. There is 1 channel position not present in the DigMontage. The channel missing from the montage is:\n",
      "\n",
      "['Rmastoid'].\n",
      "\n",
      "Consider using inst.rename_channels to match the montage nomenclature, or inst.set_channel_types if this is not an EEG channel, or use the on_missing parameter if the channel position is allowed to be unknown in your analyses.\n",
      "  EEG.set_montage(montage, on_missing='warn')\n",
      "/tmp/ipykernel_4122015/187000733.py:117: RuntimeWarning: The unit for channel(s) Rmastoid has changed from V to NA.\n",
      "  EEG.set_channel_types(channel_types)\n",
      "[Parallel(n_jobs=1)]: Done  17 tasks      | elapsed:    0.1s\n"
     ]
    },
    {
     "name": "stdout",
     "output_type": "stream",
     "text": [
      "Filtering raw data in 1 contiguous segment\n",
      "Setting up high-pass filter at 1 Hz\n",
      "\n",
      "FIR filter parameters\n",
      "---------------------\n",
      "Designing a one-pass, zero-phase, non-causal highpass filter:\n",
      "- Windowed time-domain design (firwin) method\n",
      "- Hamming window with 0.0194 passband ripple and 53 dB stopband attenuation\n",
      "- Lower passband edge: 1.00\n",
      "- Lower transition bandwidth: 1.00 Hz (-6 dB cutoff frequency: 0.50 Hz)\n",
      "- Filter length: 3301 samples (3.301 s)\n",
      "\n",
      "Filtering raw data in 1 contiguous segment\n",
      "Setting up band-stop filter\n",
      "\n",
      "FIR filter parameters\n",
      "---------------------\n",
      "Designing a one-pass, zero-phase, non-causal bandstop filter:\n",
      "- Windowed time-domain design (firwin) method\n",
      "- Hamming window with 0.0194 passband ripple and 53 dB stopband attenuation\n",
      "- Lower transition bandwidth: 0.50 Hz\n",
      "- Upper transition bandwidth: 0.50 Hz\n",
      "- Filter length: 6601 samples (6.601 s)\n",
      "\n"
     ]
    },
    {
     "name": "stderr",
     "output_type": "stream",
     "text": [
      "[Parallel(n_jobs=1)]: Done  17 tasks      | elapsed:    0.0s\n",
      "[Parallel(n_jobs=1)]: Done  17 tasks      | elapsed:    0.0s\n"
     ]
    },
    {
     "name": "stdout",
     "output_type": "stream",
     "text": [
      "NOTE: plot_psd() is a legacy function. New code should use .compute_psd().plot().\n",
      "Effective window size : 2.048 (s)\n",
      "Overwriting existing file.\n",
      "Writing /home/prakhar7/mfprl/neuroconn/batch/../data/out/subjects/403/EO/403_maprenamed&nfiltered.fif\n",
      "Closing /home/prakhar7/mfprl/neuroconn/batch/../data/out/subjects/403/EO/403_maprenamed&nfiltered.fif\n",
      "[done]\n",
      "Extracting parameters from ../data/in/subjects/404/EC/TCOA_404_EC.vhdr...\n",
      "Setting channel info structure...\n",
      "Reading 0 ... 63449  =      0.000 ...    63.449 secs...\n"
     ]
    },
    {
     "name": "stderr",
     "output_type": "stream",
     "text": [
      "/tmp/ipykernel_4122015/187000733.py:140: RuntimeWarning: This filename (/home/prakhar7/mfprl/neuroconn/batch/../data/out/subjects/403/EO/403_maprenamed&nfiltered.fif) does not conform to MNE naming conventions. All raw files should end with raw.fif, raw_sss.fif, raw_tsss.fif, _meg.fif, _eeg.fif, _ieeg.fif, raw.fif.gz, raw_sss.fif.gz, raw_tsss.fif.gz, _meg.fif.gz, _eeg.fif.gz or _ieeg.fif.gz\n",
      "  EEG.save(preprocessed_file, overwrite=True)\n"
     ]
    },
    {
     "name": "stdout",
     "output_type": "stream",
     "text": [
      "Success\n",
      "Overwriting existing file.\n",
      "Writing /home/prakhar7/mfprl/neuroconn/batch/../data/out/subjects/404/EC/404_raw.fif\n",
      "Closing /home/prakhar7/mfprl/neuroconn/batch/../data/out/subjects/404/EC/404_raw.fif\n",
      "[done]\n",
      "Filtering raw data in 1 contiguous segment\n",
      "Setting up low-pass filter at 50 Hz\n",
      "\n",
      "FIR filter parameters\n",
      "---------------------\n",
      "Designing a one-pass, zero-phase, non-causal lowpass filter:\n",
      "- Windowed time-domain design (firwin) method\n",
      "- Hamming window with 0.0194 passband ripple and 53 dB stopband attenuation\n",
      "- Upper passband edge: 50.00 Hz\n",
      "- Upper transition bandwidth: 12.50 Hz (-6 dB cutoff frequency: 56.25 Hz)\n",
      "- Filter length: 265 samples (0.265 s)\n",
      "\n"
     ]
    },
    {
     "name": "stderr",
     "output_type": "stream",
     "text": [
      "/tmp/ipykernel_4122015/187000733.py:86: RuntimeWarning: Fiducial point nasion not found, assuming identity unknown to head transformation\n",
      "  EEG.set_montage(montage, on_missing='warn')\n",
      "/tmp/ipykernel_4122015/187000733.py:86: RuntimeWarning: DigMontage is only a subset of info. There is 1 channel position not present in the DigMontage. The channel missing from the montage is:\n",
      "\n",
      "['Rmastoid'].\n",
      "\n",
      "Consider using inst.rename_channels to match the montage nomenclature, or inst.set_channel_types if this is not an EEG channel, or use the on_missing parameter if the channel position is allowed to be unknown in your analyses.\n",
      "  EEG.set_montage(montage, on_missing='warn')\n",
      "/tmp/ipykernel_4122015/187000733.py:117: RuntimeWarning: The unit for channel(s) Rmastoid has changed from V to NA.\n",
      "  EEG.set_channel_types(channel_types)\n",
      "[Parallel(n_jobs=1)]: Done  17 tasks      | elapsed:    0.1s\n"
     ]
    },
    {
     "name": "stdout",
     "output_type": "stream",
     "text": [
      "Filtering raw data in 1 contiguous segment\n",
      "Setting up high-pass filter at 1 Hz\n",
      "\n",
      "FIR filter parameters\n",
      "---------------------\n",
      "Designing a one-pass, zero-phase, non-causal highpass filter:\n",
      "- Windowed time-domain design (firwin) method\n",
      "- Hamming window with 0.0194 passband ripple and 53 dB stopband attenuation\n",
      "- Lower passband edge: 1.00\n",
      "- Lower transition bandwidth: 1.00 Hz (-6 dB cutoff frequency: 0.50 Hz)\n",
      "- Filter length: 3301 samples (3.301 s)\n",
      "\n",
      "Filtering raw data in 1 contiguous segment\n",
      "Setting up band-stop filter\n",
      "\n",
      "FIR filter parameters\n",
      "---------------------\n",
      "Designing a one-pass, zero-phase, non-causal bandstop filter:\n",
      "- Windowed time-domain design (firwin) method\n",
      "- Hamming window with 0.0194 passband ripple and 53 dB stopband attenuation\n",
      "- Lower transition bandwidth: 0.50 Hz\n",
      "- Upper transition bandwidth: 0.50 Hz\n",
      "- Filter length: 6601 samples (6.601 s)\n",
      "\n"
     ]
    },
    {
     "name": "stderr",
     "output_type": "stream",
     "text": [
      "[Parallel(n_jobs=1)]: Done  17 tasks      | elapsed:    0.0s\n",
      "[Parallel(n_jobs=1)]: Done  17 tasks      | elapsed:    0.0s\n"
     ]
    },
    {
     "name": "stdout",
     "output_type": "stream",
     "text": [
      "NOTE: plot_psd() is a legacy function. New code should use .compute_psd().plot().\n",
      "Effective window size : 2.048 (s)\n",
      "Overwriting existing file.\n",
      "Writing /home/prakhar7/mfprl/neuroconn/batch/../data/out/subjects/404/EC/404_maprenamed&nfiltered.fif\n",
      "Closing /home/prakhar7/mfprl/neuroconn/batch/../data/out/subjects/404/EC/404_maprenamed&nfiltered.fif\n",
      "[done]\n",
      "Extracting parameters from ../data/in/subjects/404/EO/TCOA_404_EO.vhdr...\n",
      "Setting channel info structure...\n",
      "Reading 0 ... 65449  =      0.000 ...    65.449 secs...\n"
     ]
    },
    {
     "name": "stderr",
     "output_type": "stream",
     "text": [
      "/tmp/ipykernel_4122015/187000733.py:140: RuntimeWarning: This filename (/home/prakhar7/mfprl/neuroconn/batch/../data/out/subjects/404/EC/404_maprenamed&nfiltered.fif) does not conform to MNE naming conventions. All raw files should end with raw.fif, raw_sss.fif, raw_tsss.fif, _meg.fif, _eeg.fif, _ieeg.fif, raw.fif.gz, raw_sss.fif.gz, raw_tsss.fif.gz, _meg.fif.gz, _eeg.fif.gz or _ieeg.fif.gz\n",
      "  EEG.save(preprocessed_file, overwrite=True)\n"
     ]
    },
    {
     "name": "stdout",
     "output_type": "stream",
     "text": [
      "Success\n",
      "Overwriting existing file.\n",
      "Writing /home/prakhar7/mfprl/neuroconn/batch/../data/out/subjects/404/EO/404_raw.fif\n",
      "Closing /home/prakhar7/mfprl/neuroconn/batch/../data/out/subjects/404/EO/404_raw.fif\n",
      "[done]\n",
      "Filtering raw data in 1 contiguous segment\n",
      "Setting up low-pass filter at 50 Hz\n",
      "\n",
      "FIR filter parameters\n",
      "---------------------\n",
      "Designing a one-pass, zero-phase, non-causal lowpass filter:\n",
      "- Windowed time-domain design (firwin) method\n",
      "- Hamming window with 0.0194 passband ripple and 53 dB stopband attenuation\n",
      "- Upper passband edge: 50.00 Hz\n",
      "- Upper transition bandwidth: 12.50 Hz (-6 dB cutoff frequency: 56.25 Hz)\n",
      "- Filter length: 265 samples (0.265 s)\n",
      "\n"
     ]
    },
    {
     "name": "stderr",
     "output_type": "stream",
     "text": [
      "/tmp/ipykernel_4122015/187000733.py:86: RuntimeWarning: Fiducial point nasion not found, assuming identity unknown to head transformation\n",
      "  EEG.set_montage(montage, on_missing='warn')\n",
      "/tmp/ipykernel_4122015/187000733.py:86: RuntimeWarning: DigMontage is only a subset of info. There is 1 channel position not present in the DigMontage. The channel missing from the montage is:\n",
      "\n",
      "['Rmastoid'].\n",
      "\n",
      "Consider using inst.rename_channels to match the montage nomenclature, or inst.set_channel_types if this is not an EEG channel, or use the on_missing parameter if the channel position is allowed to be unknown in your analyses.\n",
      "  EEG.set_montage(montage, on_missing='warn')\n",
      "/tmp/ipykernel_4122015/187000733.py:117: RuntimeWarning: The unit for channel(s) Rmastoid has changed from V to NA.\n",
      "  EEG.set_channel_types(channel_types)\n",
      "[Parallel(n_jobs=1)]: Done  17 tasks      | elapsed:    0.1s\n"
     ]
    },
    {
     "name": "stdout",
     "output_type": "stream",
     "text": [
      "Filtering raw data in 1 contiguous segment\n",
      "Setting up high-pass filter at 1 Hz\n",
      "\n",
      "FIR filter parameters\n",
      "---------------------\n",
      "Designing a one-pass, zero-phase, non-causal highpass filter:\n",
      "- Windowed time-domain design (firwin) method\n",
      "- Hamming window with 0.0194 passband ripple and 53 dB stopband attenuation\n",
      "- Lower passband edge: 1.00\n",
      "- Lower transition bandwidth: 1.00 Hz (-6 dB cutoff frequency: 0.50 Hz)\n",
      "- Filter length: 3301 samples (3.301 s)\n",
      "\n",
      "Filtering raw data in 1 contiguous segment\n",
      "Setting up band-stop filter\n",
      "\n",
      "FIR filter parameters\n",
      "---------------------\n",
      "Designing a one-pass, zero-phase, non-causal bandstop filter:\n",
      "- Windowed time-domain design (firwin) method\n",
      "- Hamming window with 0.0194 passband ripple and 53 dB stopband attenuation\n",
      "- Lower transition bandwidth: 0.50 Hz\n",
      "- Upper transition bandwidth: 0.50 Hz\n",
      "- Filter length: 6601 samples (6.601 s)\n",
      "\n"
     ]
    },
    {
     "name": "stderr",
     "output_type": "stream",
     "text": [
      "[Parallel(n_jobs=1)]: Done  17 tasks      | elapsed:    0.0s\n",
      "[Parallel(n_jobs=1)]: Done  17 tasks      | elapsed:    0.0s\n"
     ]
    },
    {
     "name": "stdout",
     "output_type": "stream",
     "text": [
      "NOTE: plot_psd() is a legacy function. New code should use .compute_psd().plot().\n",
      "Effective window size : 2.048 (s)\n",
      "Overwriting existing file.\n",
      "Writing /home/prakhar7/mfprl/neuroconn/batch/../data/out/subjects/404/EO/404_maprenamed&nfiltered.fif\n",
      "Closing /home/prakhar7/mfprl/neuroconn/batch/../data/out/subjects/404/EO/404_maprenamed&nfiltered.fif\n",
      "[done]\n",
      "Extracting parameters from ../data/in/subjects/406/EC/TCOA_406_EC.vhdr...\n",
      "Setting channel info structure...\n",
      "Reading 0 ... 62999  =      0.000 ...    62.999 secs...\n"
     ]
    },
    {
     "name": "stderr",
     "output_type": "stream",
     "text": [
      "/tmp/ipykernel_4122015/187000733.py:140: RuntimeWarning: This filename (/home/prakhar7/mfprl/neuroconn/batch/../data/out/subjects/404/EO/404_maprenamed&nfiltered.fif) does not conform to MNE naming conventions. All raw files should end with raw.fif, raw_sss.fif, raw_tsss.fif, _meg.fif, _eeg.fif, _ieeg.fif, raw.fif.gz, raw_sss.fif.gz, raw_tsss.fif.gz, _meg.fif.gz, _eeg.fif.gz or _ieeg.fif.gz\n",
      "  EEG.save(preprocessed_file, overwrite=True)\n"
     ]
    },
    {
     "name": "stdout",
     "output_type": "stream",
     "text": [
      "Success\n",
      "Overwriting existing file.\n",
      "Writing /home/prakhar7/mfprl/neuroconn/batch/../data/out/subjects/406/EC/406_raw.fif\n",
      "Closing /home/prakhar7/mfprl/neuroconn/batch/../data/out/subjects/406/EC/406_raw.fif\n",
      "[done]\n",
      "Filtering raw data in 1 contiguous segment\n",
      "Setting up low-pass filter at 50 Hz\n",
      "\n",
      "FIR filter parameters\n",
      "---------------------\n",
      "Designing a one-pass, zero-phase, non-causal lowpass filter:\n",
      "- Windowed time-domain design (firwin) method\n",
      "- Hamming window with 0.0194 passband ripple and 53 dB stopband attenuation\n",
      "- Upper passband edge: 50.00 Hz\n",
      "- Upper transition bandwidth: 12.50 Hz (-6 dB cutoff frequency: 56.25 Hz)\n",
      "- Filter length: 265 samples (0.265 s)\n",
      "\n"
     ]
    },
    {
     "name": "stderr",
     "output_type": "stream",
     "text": [
      "/tmp/ipykernel_4122015/187000733.py:86: RuntimeWarning: Fiducial point nasion not found, assuming identity unknown to head transformation\n",
      "  EEG.set_montage(montage, on_missing='warn')\n",
      "/tmp/ipykernel_4122015/187000733.py:86: RuntimeWarning: DigMontage is only a subset of info. There is 1 channel position not present in the DigMontage. The channel missing from the montage is:\n",
      "\n",
      "['Rmastoid'].\n",
      "\n",
      "Consider using inst.rename_channels to match the montage nomenclature, or inst.set_channel_types if this is not an EEG channel, or use the on_missing parameter if the channel position is allowed to be unknown in your analyses.\n",
      "  EEG.set_montage(montage, on_missing='warn')\n",
      "/tmp/ipykernel_4122015/187000733.py:117: RuntimeWarning: The unit for channel(s) Rmastoid has changed from V to NA.\n",
      "  EEG.set_channel_types(channel_types)\n",
      "[Parallel(n_jobs=1)]: Done  17 tasks      | elapsed:    0.1s\n"
     ]
    },
    {
     "name": "stdout",
     "output_type": "stream",
     "text": [
      "Filtering raw data in 1 contiguous segment\n",
      "Setting up high-pass filter at 1 Hz\n",
      "\n",
      "FIR filter parameters\n",
      "---------------------\n",
      "Designing a one-pass, zero-phase, non-causal highpass filter:\n",
      "- Windowed time-domain design (firwin) method\n",
      "- Hamming window with 0.0194 passband ripple and 53 dB stopband attenuation\n",
      "- Lower passband edge: 1.00\n",
      "- Lower transition bandwidth: 1.00 Hz (-6 dB cutoff frequency: 0.50 Hz)\n",
      "- Filter length: 3301 samples (3.301 s)\n",
      "\n",
      "Filtering raw data in 1 contiguous segment\n",
      "Setting up band-stop filter\n",
      "\n",
      "FIR filter parameters\n",
      "---------------------\n",
      "Designing a one-pass, zero-phase, non-causal bandstop filter:\n",
      "- Windowed time-domain design (firwin) method\n",
      "- Hamming window with 0.0194 passband ripple and 53 dB stopband attenuation\n",
      "- Lower transition bandwidth: 0.50 Hz\n",
      "- Upper transition bandwidth: 0.50 Hz\n",
      "- Filter length: 6601 samples (6.601 s)\n",
      "\n"
     ]
    },
    {
     "name": "stderr",
     "output_type": "stream",
     "text": [
      "[Parallel(n_jobs=1)]: Done  17 tasks      | elapsed:    0.0s\n",
      "[Parallel(n_jobs=1)]: Done  17 tasks      | elapsed:    0.0s\n"
     ]
    },
    {
     "name": "stdout",
     "output_type": "stream",
     "text": [
      "NOTE: plot_psd() is a legacy function. New code should use .compute_psd().plot().\n",
      "Effective window size : 2.048 (s)\n",
      "Overwriting existing file.\n",
      "Writing /home/prakhar7/mfprl/neuroconn/batch/../data/out/subjects/406/EC/406_maprenamed&nfiltered.fif\n",
      "Closing /home/prakhar7/mfprl/neuroconn/batch/../data/out/subjects/406/EC/406_maprenamed&nfiltered.fif\n",
      "[done]\n",
      "Extracting parameters from ../data/in/subjects/406/EO/TCOA_406_EO.vhdr...\n",
      "Setting channel info structure...\n",
      "Reading 0 ... 63449  =      0.000 ...    63.449 secs...\n"
     ]
    },
    {
     "name": "stderr",
     "output_type": "stream",
     "text": [
      "/tmp/ipykernel_4122015/187000733.py:140: RuntimeWarning: This filename (/home/prakhar7/mfprl/neuroconn/batch/../data/out/subjects/406/EC/406_maprenamed&nfiltered.fif) does not conform to MNE naming conventions. All raw files should end with raw.fif, raw_sss.fif, raw_tsss.fif, _meg.fif, _eeg.fif, _ieeg.fif, raw.fif.gz, raw_sss.fif.gz, raw_tsss.fif.gz, _meg.fif.gz, _eeg.fif.gz or _ieeg.fif.gz\n",
      "  EEG.save(preprocessed_file, overwrite=True)\n"
     ]
    },
    {
     "name": "stdout",
     "output_type": "stream",
     "text": [
      "Success\n",
      "Overwriting existing file.\n",
      "Writing /home/prakhar7/mfprl/neuroconn/batch/../data/out/subjects/406/EO/406_raw.fif\n",
      "Closing /home/prakhar7/mfprl/neuroconn/batch/../data/out/subjects/406/EO/406_raw.fif\n",
      "[done]\n",
      "Filtering raw data in 1 contiguous segment\n",
      "Setting up low-pass filter at 50 Hz\n",
      "\n",
      "FIR filter parameters\n",
      "---------------------\n",
      "Designing a one-pass, zero-phase, non-causal lowpass filter:\n",
      "- Windowed time-domain design (firwin) method\n",
      "- Hamming window with 0.0194 passband ripple and 53 dB stopband attenuation\n",
      "- Upper passband edge: 50.00 Hz\n",
      "- Upper transition bandwidth: 12.50 Hz (-6 dB cutoff frequency: 56.25 Hz)\n",
      "- Filter length: 265 samples (0.265 s)\n",
      "\n"
     ]
    },
    {
     "name": "stderr",
     "output_type": "stream",
     "text": [
      "/tmp/ipykernel_4122015/187000733.py:86: RuntimeWarning: Fiducial point nasion not found, assuming identity unknown to head transformation\n",
      "  EEG.set_montage(montage, on_missing='warn')\n",
      "/tmp/ipykernel_4122015/187000733.py:86: RuntimeWarning: DigMontage is only a subset of info. There is 1 channel position not present in the DigMontage. The channel missing from the montage is:\n",
      "\n",
      "['Rmastoid'].\n",
      "\n",
      "Consider using inst.rename_channels to match the montage nomenclature, or inst.set_channel_types if this is not an EEG channel, or use the on_missing parameter if the channel position is allowed to be unknown in your analyses.\n",
      "  EEG.set_montage(montage, on_missing='warn')\n",
      "/tmp/ipykernel_4122015/187000733.py:117: RuntimeWarning: The unit for channel(s) Rmastoid has changed from V to NA.\n",
      "  EEG.set_channel_types(channel_types)\n",
      "[Parallel(n_jobs=1)]: Done  17 tasks      | elapsed:    0.1s\n"
     ]
    },
    {
     "name": "stdout",
     "output_type": "stream",
     "text": [
      "Filtering raw data in 1 contiguous segment\n",
      "Setting up high-pass filter at 1 Hz\n",
      "\n",
      "FIR filter parameters\n",
      "---------------------\n",
      "Designing a one-pass, zero-phase, non-causal highpass filter:\n",
      "- Windowed time-domain design (firwin) method\n",
      "- Hamming window with 0.0194 passband ripple and 53 dB stopband attenuation\n",
      "- Lower passband edge: 1.00\n",
      "- Lower transition bandwidth: 1.00 Hz (-6 dB cutoff frequency: 0.50 Hz)\n",
      "- Filter length: 3301 samples (3.301 s)\n",
      "\n",
      "Filtering raw data in 1 contiguous segment\n",
      "Setting up band-stop filter\n",
      "\n",
      "FIR filter parameters\n",
      "---------------------\n",
      "Designing a one-pass, zero-phase, non-causal bandstop filter:\n",
      "- Windowed time-domain design (firwin) method\n",
      "- Hamming window with 0.0194 passband ripple and 53 dB stopband attenuation\n",
      "- Lower transition bandwidth: 0.50 Hz\n",
      "- Upper transition bandwidth: 0.50 Hz\n",
      "- Filter length: 6601 samples (6.601 s)\n",
      "\n"
     ]
    },
    {
     "name": "stderr",
     "output_type": "stream",
     "text": [
      "[Parallel(n_jobs=1)]: Done  17 tasks      | elapsed:    0.0s\n",
      "[Parallel(n_jobs=1)]: Done  17 tasks      | elapsed:    0.0s\n"
     ]
    },
    {
     "name": "stdout",
     "output_type": "stream",
     "text": [
      "NOTE: plot_psd() is a legacy function. New code should use .compute_psd().plot().\n",
      "Effective window size : 2.048 (s)\n",
      "Overwriting existing file.\n",
      "Writing /home/prakhar7/mfprl/neuroconn/batch/../data/out/subjects/406/EO/406_maprenamed&nfiltered.fif\n",
      "Closing /home/prakhar7/mfprl/neuroconn/batch/../data/out/subjects/406/EO/406_maprenamed&nfiltered.fif\n",
      "[done]\n",
      "Extracting parameters from ../data/in/subjects/407/EC/TCOA_407_EC.vhdr...\n",
      "Setting channel info structure...\n",
      "Reading 0 ... 63299  =      0.000 ...    63.299 secs...\n"
     ]
    },
    {
     "name": "stderr",
     "output_type": "stream",
     "text": [
      "/tmp/ipykernel_4122015/187000733.py:140: RuntimeWarning: This filename (/home/prakhar7/mfprl/neuroconn/batch/../data/out/subjects/406/EO/406_maprenamed&nfiltered.fif) does not conform to MNE naming conventions. All raw files should end with raw.fif, raw_sss.fif, raw_tsss.fif, _meg.fif, _eeg.fif, _ieeg.fif, raw.fif.gz, raw_sss.fif.gz, raw_tsss.fif.gz, _meg.fif.gz, _eeg.fif.gz or _ieeg.fif.gz\n",
      "  EEG.save(preprocessed_file, overwrite=True)\n"
     ]
    },
    {
     "name": "stdout",
     "output_type": "stream",
     "text": [
      "Success\n",
      "Overwriting existing file.\n",
      "Writing /home/prakhar7/mfprl/neuroconn/batch/../data/out/subjects/407/EC/407_raw.fif\n",
      "Closing /home/prakhar7/mfprl/neuroconn/batch/../data/out/subjects/407/EC/407_raw.fif\n",
      "[done]\n",
      "Filtering raw data in 1 contiguous segment\n",
      "Setting up low-pass filter at 50 Hz\n",
      "\n",
      "FIR filter parameters\n",
      "---------------------\n",
      "Designing a one-pass, zero-phase, non-causal lowpass filter:\n",
      "- Windowed time-domain design (firwin) method\n",
      "- Hamming window with 0.0194 passband ripple and 53 dB stopband attenuation\n",
      "- Upper passband edge: 50.00 Hz\n",
      "- Upper transition bandwidth: 12.50 Hz (-6 dB cutoff frequency: 56.25 Hz)\n",
      "- Filter length: 265 samples (0.265 s)\n",
      "\n"
     ]
    },
    {
     "name": "stderr",
     "output_type": "stream",
     "text": [
      "/tmp/ipykernel_4122015/187000733.py:86: RuntimeWarning: Fiducial point nasion not found, assuming identity unknown to head transformation\n",
      "  EEG.set_montage(montage, on_missing='warn')\n",
      "/tmp/ipykernel_4122015/187000733.py:86: RuntimeWarning: DigMontage is only a subset of info. There is 1 channel position not present in the DigMontage. The channel missing from the montage is:\n",
      "\n",
      "['Rmastoid'].\n",
      "\n",
      "Consider using inst.rename_channels to match the montage nomenclature, or inst.set_channel_types if this is not an EEG channel, or use the on_missing parameter if the channel position is allowed to be unknown in your analyses.\n",
      "  EEG.set_montage(montage, on_missing='warn')\n",
      "/tmp/ipykernel_4122015/187000733.py:117: RuntimeWarning: The unit for channel(s) Rmastoid has changed from V to NA.\n",
      "  EEG.set_channel_types(channel_types)\n",
      "[Parallel(n_jobs=1)]: Done  17 tasks      | elapsed:    0.1s\n"
     ]
    },
    {
     "name": "stdout",
     "output_type": "stream",
     "text": [
      "Filtering raw data in 1 contiguous segment\n",
      "Setting up high-pass filter at 1 Hz\n",
      "\n",
      "FIR filter parameters\n",
      "---------------------\n",
      "Designing a one-pass, zero-phase, non-causal highpass filter:\n",
      "- Windowed time-domain design (firwin) method\n",
      "- Hamming window with 0.0194 passband ripple and 53 dB stopband attenuation\n",
      "- Lower passband edge: 1.00\n",
      "- Lower transition bandwidth: 1.00 Hz (-6 dB cutoff frequency: 0.50 Hz)\n",
      "- Filter length: 3301 samples (3.301 s)\n",
      "\n",
      "Filtering raw data in 1 contiguous segment\n",
      "Setting up band-stop filter\n",
      "\n",
      "FIR filter parameters\n",
      "---------------------\n",
      "Designing a one-pass, zero-phase, non-causal bandstop filter:\n",
      "- Windowed time-domain design (firwin) method\n",
      "- Hamming window with 0.0194 passband ripple and 53 dB stopband attenuation\n",
      "- Lower transition bandwidth: 0.50 Hz\n",
      "- Upper transition bandwidth: 0.50 Hz\n",
      "- Filter length: 6601 samples (6.601 s)\n",
      "\n"
     ]
    },
    {
     "name": "stderr",
     "output_type": "stream",
     "text": [
      "[Parallel(n_jobs=1)]: Done  17 tasks      | elapsed:    0.0s\n",
      "[Parallel(n_jobs=1)]: Done  17 tasks      | elapsed:    0.0s\n"
     ]
    },
    {
     "name": "stdout",
     "output_type": "stream",
     "text": [
      "NOTE: plot_psd() is a legacy function. New code should use .compute_psd().plot().\n",
      "Effective window size : 2.048 (s)\n",
      "Overwriting existing file.\n",
      "Writing /home/prakhar7/mfprl/neuroconn/batch/../data/out/subjects/407/EC/407_maprenamed&nfiltered.fif\n",
      "Closing /home/prakhar7/mfprl/neuroconn/batch/../data/out/subjects/407/EC/407_maprenamed&nfiltered.fif\n",
      "[done]\n",
      "Extracting parameters from ../data/in/subjects/407/EO/TCOA_407_EO.vhdr...\n",
      "Setting channel info structure...\n",
      "Reading 0 ... 63449  =      0.000 ...    63.449 secs...\n"
     ]
    },
    {
     "name": "stderr",
     "output_type": "stream",
     "text": [
      "/tmp/ipykernel_4122015/187000733.py:140: RuntimeWarning: This filename (/home/prakhar7/mfprl/neuroconn/batch/../data/out/subjects/407/EC/407_maprenamed&nfiltered.fif) does not conform to MNE naming conventions. All raw files should end with raw.fif, raw_sss.fif, raw_tsss.fif, _meg.fif, _eeg.fif, _ieeg.fif, raw.fif.gz, raw_sss.fif.gz, raw_tsss.fif.gz, _meg.fif.gz, _eeg.fif.gz or _ieeg.fif.gz\n",
      "  EEG.save(preprocessed_file, overwrite=True)\n"
     ]
    },
    {
     "name": "stdout",
     "output_type": "stream",
     "text": [
      "Success\n",
      "Overwriting existing file.\n",
      "Writing /home/prakhar7/mfprl/neuroconn/batch/../data/out/subjects/407/EO/407_raw.fif\n",
      "Closing /home/prakhar7/mfprl/neuroconn/batch/../data/out/subjects/407/EO/407_raw.fif\n",
      "[done]\n",
      "Filtering raw data in 1 contiguous segment\n",
      "Setting up low-pass filter at 50 Hz\n",
      "\n",
      "FIR filter parameters\n",
      "---------------------\n",
      "Designing a one-pass, zero-phase, non-causal lowpass filter:\n",
      "- Windowed time-domain design (firwin) method\n",
      "- Hamming window with 0.0194 passband ripple and 53 dB stopband attenuation\n",
      "- Upper passband edge: 50.00 Hz\n",
      "- Upper transition bandwidth: 12.50 Hz (-6 dB cutoff frequency: 56.25 Hz)\n",
      "- Filter length: 265 samples (0.265 s)\n",
      "\n"
     ]
    },
    {
     "name": "stderr",
     "output_type": "stream",
     "text": [
      "/tmp/ipykernel_4122015/187000733.py:86: RuntimeWarning: Fiducial point nasion not found, assuming identity unknown to head transformation\n",
      "  EEG.set_montage(montage, on_missing='warn')\n",
      "/tmp/ipykernel_4122015/187000733.py:86: RuntimeWarning: DigMontage is only a subset of info. There is 1 channel position not present in the DigMontage. The channel missing from the montage is:\n",
      "\n",
      "['Rmastoid'].\n",
      "\n",
      "Consider using inst.rename_channels to match the montage nomenclature, or inst.set_channel_types if this is not an EEG channel, or use the on_missing parameter if the channel position is allowed to be unknown in your analyses.\n",
      "  EEG.set_montage(montage, on_missing='warn')\n",
      "/tmp/ipykernel_4122015/187000733.py:117: RuntimeWarning: The unit for channel(s) Rmastoid has changed from V to NA.\n",
      "  EEG.set_channel_types(channel_types)\n",
      "[Parallel(n_jobs=1)]: Done  17 tasks      | elapsed:    0.1s\n"
     ]
    },
    {
     "name": "stdout",
     "output_type": "stream",
     "text": [
      "Filtering raw data in 1 contiguous segment\n",
      "Setting up high-pass filter at 1 Hz\n",
      "\n",
      "FIR filter parameters\n",
      "---------------------\n",
      "Designing a one-pass, zero-phase, non-causal highpass filter:\n",
      "- Windowed time-domain design (firwin) method\n",
      "- Hamming window with 0.0194 passband ripple and 53 dB stopband attenuation\n",
      "- Lower passband edge: 1.00\n",
      "- Lower transition bandwidth: 1.00 Hz (-6 dB cutoff frequency: 0.50 Hz)\n",
      "- Filter length: 3301 samples (3.301 s)\n",
      "\n",
      "Filtering raw data in 1 contiguous segment\n",
      "Setting up band-stop filter\n",
      "\n",
      "FIR filter parameters\n",
      "---------------------\n",
      "Designing a one-pass, zero-phase, non-causal bandstop filter:\n",
      "- Windowed time-domain design (firwin) method\n",
      "- Hamming window with 0.0194 passband ripple and 53 dB stopband attenuation\n",
      "- Lower transition bandwidth: 0.50 Hz\n",
      "- Upper transition bandwidth: 0.50 Hz\n",
      "- Filter length: 6601 samples (6.601 s)\n",
      "\n"
     ]
    },
    {
     "name": "stderr",
     "output_type": "stream",
     "text": [
      "[Parallel(n_jobs=1)]: Done  17 tasks      | elapsed:    0.0s\n",
      "[Parallel(n_jobs=1)]: Done  17 tasks      | elapsed:    0.0s\n"
     ]
    },
    {
     "name": "stdout",
     "output_type": "stream",
     "text": [
      "NOTE: plot_psd() is a legacy function. New code should use .compute_psd().plot().\n",
      "Effective window size : 2.048 (s)\n",
      "Overwriting existing file.\n",
      "Writing /home/prakhar7/mfprl/neuroconn/batch/../data/out/subjects/407/EO/407_maprenamed&nfiltered.fif\n",
      "Closing /home/prakhar7/mfprl/neuroconn/batch/../data/out/subjects/407/EO/407_maprenamed&nfiltered.fif\n",
      "[done]\n",
      "Extracting parameters from ../data/in/subjects/408/EC/TCOA_408_EC.vhdr...\n",
      "Setting channel info structure...\n",
      "Reading 0 ... 64249  =      0.000 ...    64.249 secs...\n"
     ]
    },
    {
     "name": "stderr",
     "output_type": "stream",
     "text": [
      "/tmp/ipykernel_4122015/187000733.py:140: RuntimeWarning: This filename (/home/prakhar7/mfprl/neuroconn/batch/../data/out/subjects/407/EO/407_maprenamed&nfiltered.fif) does not conform to MNE naming conventions. All raw files should end with raw.fif, raw_sss.fif, raw_tsss.fif, _meg.fif, _eeg.fif, _ieeg.fif, raw.fif.gz, raw_sss.fif.gz, raw_tsss.fif.gz, _meg.fif.gz, _eeg.fif.gz or _ieeg.fif.gz\n",
      "  EEG.save(preprocessed_file, overwrite=True)\n"
     ]
    },
    {
     "name": "stdout",
     "output_type": "stream",
     "text": [
      "Success\n",
      "Overwriting existing file.\n",
      "Writing /home/prakhar7/mfprl/neuroconn/batch/../data/out/subjects/408/EC/408_raw.fif\n",
      "Closing /home/prakhar7/mfprl/neuroconn/batch/../data/out/subjects/408/EC/408_raw.fif\n",
      "[done]\n",
      "Filtering raw data in 1 contiguous segment\n",
      "Setting up low-pass filter at 50 Hz\n",
      "\n",
      "FIR filter parameters\n",
      "---------------------\n",
      "Designing a one-pass, zero-phase, non-causal lowpass filter:\n",
      "- Windowed time-domain design (firwin) method\n",
      "- Hamming window with 0.0194 passband ripple and 53 dB stopband attenuation\n",
      "- Upper passband edge: 50.00 Hz\n",
      "- Upper transition bandwidth: 12.50 Hz (-6 dB cutoff frequency: 56.25 Hz)\n",
      "- Filter length: 265 samples (0.265 s)\n",
      "\n"
     ]
    },
    {
     "name": "stderr",
     "output_type": "stream",
     "text": [
      "/tmp/ipykernel_4122015/187000733.py:86: RuntimeWarning: Fiducial point nasion not found, assuming identity unknown to head transformation\n",
      "  EEG.set_montage(montage, on_missing='warn')\n",
      "/tmp/ipykernel_4122015/187000733.py:86: RuntimeWarning: DigMontage is only a subset of info. There is 1 channel position not present in the DigMontage. The channel missing from the montage is:\n",
      "\n",
      "['Rmastoid'].\n",
      "\n",
      "Consider using inst.rename_channels to match the montage nomenclature, or inst.set_channel_types if this is not an EEG channel, or use the on_missing parameter if the channel position is allowed to be unknown in your analyses.\n",
      "  EEG.set_montage(montage, on_missing='warn')\n",
      "/tmp/ipykernel_4122015/187000733.py:117: RuntimeWarning: The unit for channel(s) Rmastoid has changed from V to NA.\n",
      "  EEG.set_channel_types(channel_types)\n",
      "[Parallel(n_jobs=1)]: Done  17 tasks      | elapsed:    0.1s\n"
     ]
    },
    {
     "name": "stdout",
     "output_type": "stream",
     "text": [
      "Filtering raw data in 1 contiguous segment\n",
      "Setting up high-pass filter at 1 Hz\n",
      "\n",
      "FIR filter parameters\n",
      "---------------------\n",
      "Designing a one-pass, zero-phase, non-causal highpass filter:\n",
      "- Windowed time-domain design (firwin) method\n",
      "- Hamming window with 0.0194 passband ripple and 53 dB stopband attenuation\n",
      "- Lower passband edge: 1.00\n",
      "- Lower transition bandwidth: 1.00 Hz (-6 dB cutoff frequency: 0.50 Hz)\n",
      "- Filter length: 3301 samples (3.301 s)\n",
      "\n",
      "Filtering raw data in 1 contiguous segment\n",
      "Setting up band-stop filter\n",
      "\n",
      "FIR filter parameters\n",
      "---------------------\n",
      "Designing a one-pass, zero-phase, non-causal bandstop filter:\n",
      "- Windowed time-domain design (firwin) method\n",
      "- Hamming window with 0.0194 passband ripple and 53 dB stopband attenuation\n",
      "- Lower transition bandwidth: 0.50 Hz\n",
      "- Upper transition bandwidth: 0.50 Hz\n",
      "- Filter length: 6601 samples (6.601 s)\n",
      "\n"
     ]
    },
    {
     "name": "stderr",
     "output_type": "stream",
     "text": [
      "[Parallel(n_jobs=1)]: Done  17 tasks      | elapsed:    0.0s\n",
      "[Parallel(n_jobs=1)]: Done  17 tasks      | elapsed:    0.0s\n"
     ]
    },
    {
     "name": "stdout",
     "output_type": "stream",
     "text": [
      "NOTE: plot_psd() is a legacy function. New code should use .compute_psd().plot().\n",
      "Effective window size : 2.048 (s)\n",
      "Overwriting existing file.\n",
      "Writing /home/prakhar7/mfprl/neuroconn/batch/../data/out/subjects/408/EC/408_maprenamed&nfiltered.fif\n",
      "Closing /home/prakhar7/mfprl/neuroconn/batch/../data/out/subjects/408/EC/408_maprenamed&nfiltered.fif\n",
      "[done]\n",
      "Extracting parameters from ../data/in/subjects/408/EO/TCOA_408_EO.vhdr...\n",
      "Setting channel info structure...\n",
      "Reading 0 ... 64849  =      0.000 ...    64.849 secs...\n"
     ]
    },
    {
     "name": "stderr",
     "output_type": "stream",
     "text": [
      "/tmp/ipykernel_4122015/187000733.py:140: RuntimeWarning: This filename (/home/prakhar7/mfprl/neuroconn/batch/../data/out/subjects/408/EC/408_maprenamed&nfiltered.fif) does not conform to MNE naming conventions. All raw files should end with raw.fif, raw_sss.fif, raw_tsss.fif, _meg.fif, _eeg.fif, _ieeg.fif, raw.fif.gz, raw_sss.fif.gz, raw_tsss.fif.gz, _meg.fif.gz, _eeg.fif.gz or _ieeg.fif.gz\n",
      "  EEG.save(preprocessed_file, overwrite=True)\n"
     ]
    },
    {
     "name": "stdout",
     "output_type": "stream",
     "text": [
      "Success\n",
      "Overwriting existing file.\n",
      "Writing /home/prakhar7/mfprl/neuroconn/batch/../data/out/subjects/408/EO/408_raw.fif\n",
      "Closing /home/prakhar7/mfprl/neuroconn/batch/../data/out/subjects/408/EO/408_raw.fif\n",
      "[done]\n",
      "Filtering raw data in 1 contiguous segment\n",
      "Setting up low-pass filter at 50 Hz\n",
      "\n",
      "FIR filter parameters\n",
      "---------------------\n",
      "Designing a one-pass, zero-phase, non-causal lowpass filter:\n",
      "- Windowed time-domain design (firwin) method\n",
      "- Hamming window with 0.0194 passband ripple and 53 dB stopband attenuation\n",
      "- Upper passband edge: 50.00 Hz\n",
      "- Upper transition bandwidth: 12.50 Hz (-6 dB cutoff frequency: 56.25 Hz)\n",
      "- Filter length: 265 samples (0.265 s)\n",
      "\n"
     ]
    },
    {
     "name": "stderr",
     "output_type": "stream",
     "text": [
      "/tmp/ipykernel_4122015/187000733.py:86: RuntimeWarning: Fiducial point nasion not found, assuming identity unknown to head transformation\n",
      "  EEG.set_montage(montage, on_missing='warn')\n",
      "/tmp/ipykernel_4122015/187000733.py:86: RuntimeWarning: DigMontage is only a subset of info. There is 1 channel position not present in the DigMontage. The channel missing from the montage is:\n",
      "\n",
      "['Rmastoid'].\n",
      "\n",
      "Consider using inst.rename_channels to match the montage nomenclature, or inst.set_channel_types if this is not an EEG channel, or use the on_missing parameter if the channel position is allowed to be unknown in your analyses.\n",
      "  EEG.set_montage(montage, on_missing='warn')\n",
      "/tmp/ipykernel_4122015/187000733.py:117: RuntimeWarning: The unit for channel(s) Rmastoid has changed from V to NA.\n",
      "  EEG.set_channel_types(channel_types)\n",
      "[Parallel(n_jobs=1)]: Done  17 tasks      | elapsed:    0.1s\n"
     ]
    },
    {
     "name": "stdout",
     "output_type": "stream",
     "text": [
      "Filtering raw data in 1 contiguous segment\n",
      "Setting up high-pass filter at 1 Hz\n",
      "\n",
      "FIR filter parameters\n",
      "---------------------\n",
      "Designing a one-pass, zero-phase, non-causal highpass filter:\n",
      "- Windowed time-domain design (firwin) method\n",
      "- Hamming window with 0.0194 passband ripple and 53 dB stopband attenuation\n",
      "- Lower passband edge: 1.00\n",
      "- Lower transition bandwidth: 1.00 Hz (-6 dB cutoff frequency: 0.50 Hz)\n",
      "- Filter length: 3301 samples (3.301 s)\n",
      "\n",
      "Filtering raw data in 1 contiguous segment\n",
      "Setting up band-stop filter\n",
      "\n",
      "FIR filter parameters\n",
      "---------------------\n",
      "Designing a one-pass, zero-phase, non-causal bandstop filter:\n",
      "- Windowed time-domain design (firwin) method\n",
      "- Hamming window with 0.0194 passband ripple and 53 dB stopband attenuation\n",
      "- Lower transition bandwidth: 0.50 Hz\n",
      "- Upper transition bandwidth: 0.50 Hz\n",
      "- Filter length: 6601 samples (6.601 s)\n",
      "\n"
     ]
    },
    {
     "name": "stderr",
     "output_type": "stream",
     "text": [
      "[Parallel(n_jobs=1)]: Done  17 tasks      | elapsed:    0.0s\n",
      "[Parallel(n_jobs=1)]: Done  17 tasks      | elapsed:    0.0s\n"
     ]
    },
    {
     "name": "stdout",
     "output_type": "stream",
     "text": [
      "NOTE: plot_psd() is a legacy function. New code should use .compute_psd().plot().\n",
      "Effective window size : 2.048 (s)\n",
      "Overwriting existing file.\n",
      "Writing /home/prakhar7/mfprl/neuroconn/batch/../data/out/subjects/408/EO/408_maprenamed&nfiltered.fif\n",
      "Closing /home/prakhar7/mfprl/neuroconn/batch/../data/out/subjects/408/EO/408_maprenamed&nfiltered.fif\n",
      "[done]\n",
      "Extracting parameters from ../data/in/subjects/409/EC/TCOA_409_EC.vhdr...\n",
      "Setting channel info structure...\n",
      "Reading 0 ... 67699  =      0.000 ...    67.699 secs...\n"
     ]
    },
    {
     "name": "stderr",
     "output_type": "stream",
     "text": [
      "/tmp/ipykernel_4122015/187000733.py:140: RuntimeWarning: This filename (/home/prakhar7/mfprl/neuroconn/batch/../data/out/subjects/408/EO/408_maprenamed&nfiltered.fif) does not conform to MNE naming conventions. All raw files should end with raw.fif, raw_sss.fif, raw_tsss.fif, _meg.fif, _eeg.fif, _ieeg.fif, raw.fif.gz, raw_sss.fif.gz, raw_tsss.fif.gz, _meg.fif.gz, _eeg.fif.gz or _ieeg.fif.gz\n",
      "  EEG.save(preprocessed_file, overwrite=True)\n"
     ]
    },
    {
     "name": "stdout",
     "output_type": "stream",
     "text": [
      "Success\n",
      "Overwriting existing file.\n",
      "Writing /home/prakhar7/mfprl/neuroconn/batch/../data/out/subjects/409/EC/409_raw.fif\n",
      "Closing /home/prakhar7/mfprl/neuroconn/batch/../data/out/subjects/409/EC/409_raw.fif\n",
      "[done]\n",
      "Filtering raw data in 1 contiguous segment\n",
      "Setting up low-pass filter at 50 Hz\n",
      "\n",
      "FIR filter parameters\n",
      "---------------------\n",
      "Designing a one-pass, zero-phase, non-causal lowpass filter:\n",
      "- Windowed time-domain design (firwin) method\n",
      "- Hamming window with 0.0194 passband ripple and 53 dB stopband attenuation\n",
      "- Upper passband edge: 50.00 Hz\n",
      "- Upper transition bandwidth: 12.50 Hz (-6 dB cutoff frequency: 56.25 Hz)\n",
      "- Filter length: 265 samples (0.265 s)\n",
      "\n"
     ]
    },
    {
     "name": "stderr",
     "output_type": "stream",
     "text": [
      "/tmp/ipykernel_4122015/187000733.py:86: RuntimeWarning: Fiducial point nasion not found, assuming identity unknown to head transformation\n",
      "  EEG.set_montage(montage, on_missing='warn')\n",
      "/tmp/ipykernel_4122015/187000733.py:86: RuntimeWarning: DigMontage is only a subset of info. There is 1 channel position not present in the DigMontage. The channel missing from the montage is:\n",
      "\n",
      "['Rmastoid'].\n",
      "\n",
      "Consider using inst.rename_channels to match the montage nomenclature, or inst.set_channel_types if this is not an EEG channel, or use the on_missing parameter if the channel position is allowed to be unknown in your analyses.\n",
      "  EEG.set_montage(montage, on_missing='warn')\n",
      "/tmp/ipykernel_4122015/187000733.py:117: RuntimeWarning: The unit for channel(s) Rmastoid has changed from V to NA.\n",
      "  EEG.set_channel_types(channel_types)\n",
      "[Parallel(n_jobs=1)]: Done  17 tasks      | elapsed:    0.1s\n"
     ]
    },
    {
     "name": "stdout",
     "output_type": "stream",
     "text": [
      "Filtering raw data in 1 contiguous segment\n",
      "Setting up high-pass filter at 1 Hz\n",
      "\n",
      "FIR filter parameters\n",
      "---------------------\n",
      "Designing a one-pass, zero-phase, non-causal highpass filter:\n",
      "- Windowed time-domain design (firwin) method\n",
      "- Hamming window with 0.0194 passband ripple and 53 dB stopband attenuation\n",
      "- Lower passband edge: 1.00\n",
      "- Lower transition bandwidth: 1.00 Hz (-6 dB cutoff frequency: 0.50 Hz)\n",
      "- Filter length: 3301 samples (3.301 s)\n",
      "\n",
      "Filtering raw data in 1 contiguous segment\n",
      "Setting up band-stop filter\n",
      "\n",
      "FIR filter parameters\n",
      "---------------------\n",
      "Designing a one-pass, zero-phase, non-causal bandstop filter:\n",
      "- Windowed time-domain design (firwin) method\n",
      "- Hamming window with 0.0194 passband ripple and 53 dB stopband attenuation\n",
      "- Lower transition bandwidth: 0.50 Hz\n",
      "- Upper transition bandwidth: 0.50 Hz\n",
      "- Filter length: 6601 samples (6.601 s)\n",
      "\n"
     ]
    },
    {
     "name": "stderr",
     "output_type": "stream",
     "text": [
      "[Parallel(n_jobs=1)]: Done  17 tasks      | elapsed:    0.0s\n",
      "[Parallel(n_jobs=1)]: Done  17 tasks      | elapsed:    0.0s\n"
     ]
    },
    {
     "name": "stdout",
     "output_type": "stream",
     "text": [
      "NOTE: plot_psd() is a legacy function. New code should use .compute_psd().plot().\n",
      "Effective window size : 2.048 (s)\n",
      "Overwriting existing file.\n",
      "Writing /home/prakhar7/mfprl/neuroconn/batch/../data/out/subjects/409/EC/409_maprenamed&nfiltered.fif\n",
      "Closing /home/prakhar7/mfprl/neuroconn/batch/../data/out/subjects/409/EC/409_maprenamed&nfiltered.fif\n",
      "[done]\n",
      "Extracting parameters from ../data/in/subjects/409/EO/TCOA_409_EO.vhdr...\n",
      "Setting channel info structure...\n",
      "Reading 0 ... 63399  =      0.000 ...    63.399 secs...\n"
     ]
    },
    {
     "name": "stderr",
     "output_type": "stream",
     "text": [
      "/tmp/ipykernel_4122015/187000733.py:140: RuntimeWarning: This filename (/home/prakhar7/mfprl/neuroconn/batch/../data/out/subjects/409/EC/409_maprenamed&nfiltered.fif) does not conform to MNE naming conventions. All raw files should end with raw.fif, raw_sss.fif, raw_tsss.fif, _meg.fif, _eeg.fif, _ieeg.fif, raw.fif.gz, raw_sss.fif.gz, raw_tsss.fif.gz, _meg.fif.gz, _eeg.fif.gz or _ieeg.fif.gz\n",
      "  EEG.save(preprocessed_file, overwrite=True)\n"
     ]
    },
    {
     "name": "stdout",
     "output_type": "stream",
     "text": [
      "Success\n",
      "Overwriting existing file.\n",
      "Writing /home/prakhar7/mfprl/neuroconn/batch/../data/out/subjects/409/EO/409_raw.fif\n",
      "Closing /home/prakhar7/mfprl/neuroconn/batch/../data/out/subjects/409/EO/409_raw.fif\n",
      "[done]\n",
      "Filtering raw data in 1 contiguous segment\n",
      "Setting up low-pass filter at 50 Hz\n",
      "\n",
      "FIR filter parameters\n",
      "---------------------\n",
      "Designing a one-pass, zero-phase, non-causal lowpass filter:\n",
      "- Windowed time-domain design (firwin) method\n",
      "- Hamming window with 0.0194 passband ripple and 53 dB stopband attenuation\n",
      "- Upper passband edge: 50.00 Hz\n",
      "- Upper transition bandwidth: 12.50 Hz (-6 dB cutoff frequency: 56.25 Hz)\n",
      "- Filter length: 265 samples (0.265 s)\n",
      "\n"
     ]
    },
    {
     "name": "stderr",
     "output_type": "stream",
     "text": [
      "/tmp/ipykernel_4122015/187000733.py:86: RuntimeWarning: Fiducial point nasion not found, assuming identity unknown to head transformation\n",
      "  EEG.set_montage(montage, on_missing='warn')\n",
      "/tmp/ipykernel_4122015/187000733.py:86: RuntimeWarning: DigMontage is only a subset of info. There is 1 channel position not present in the DigMontage. The channel missing from the montage is:\n",
      "\n",
      "['Rmastoid'].\n",
      "\n",
      "Consider using inst.rename_channels to match the montage nomenclature, or inst.set_channel_types if this is not an EEG channel, or use the on_missing parameter if the channel position is allowed to be unknown in your analyses.\n",
      "  EEG.set_montage(montage, on_missing='warn')\n",
      "/tmp/ipykernel_4122015/187000733.py:117: RuntimeWarning: The unit for channel(s) Rmastoid has changed from V to NA.\n",
      "  EEG.set_channel_types(channel_types)\n",
      "[Parallel(n_jobs=1)]: Done  17 tasks      | elapsed:    0.1s\n"
     ]
    },
    {
     "name": "stdout",
     "output_type": "stream",
     "text": [
      "Filtering raw data in 1 contiguous segment\n",
      "Setting up high-pass filter at 1 Hz\n",
      "\n",
      "FIR filter parameters\n",
      "---------------------\n",
      "Designing a one-pass, zero-phase, non-causal highpass filter:\n",
      "- Windowed time-domain design (firwin) method\n",
      "- Hamming window with 0.0194 passband ripple and 53 dB stopband attenuation\n",
      "- Lower passband edge: 1.00\n",
      "- Lower transition bandwidth: 1.00 Hz (-6 dB cutoff frequency: 0.50 Hz)\n",
      "- Filter length: 3301 samples (3.301 s)\n",
      "\n",
      "Filtering raw data in 1 contiguous segment\n",
      "Setting up band-stop filter\n",
      "\n",
      "FIR filter parameters\n",
      "---------------------\n",
      "Designing a one-pass, zero-phase, non-causal bandstop filter:\n",
      "- Windowed time-domain design (firwin) method\n",
      "- Hamming window with 0.0194 passband ripple and 53 dB stopband attenuation\n",
      "- Lower transition bandwidth: 0.50 Hz\n",
      "- Upper transition bandwidth: 0.50 Hz\n",
      "- Filter length: 6601 samples (6.601 s)\n",
      "\n"
     ]
    },
    {
     "name": "stderr",
     "output_type": "stream",
     "text": [
      "[Parallel(n_jobs=1)]: Done  17 tasks      | elapsed:    0.0s\n",
      "[Parallel(n_jobs=1)]: Done  17 tasks      | elapsed:    0.0s\n"
     ]
    },
    {
     "name": "stdout",
     "output_type": "stream",
     "text": [
      "NOTE: plot_psd() is a legacy function. New code should use .compute_psd().plot().\n",
      "Effective window size : 2.048 (s)\n",
      "Overwriting existing file.\n",
      "Writing /home/prakhar7/mfprl/neuroconn/batch/../data/out/subjects/409/EO/409_maprenamed&nfiltered.fif\n",
      "Closing /home/prakhar7/mfprl/neuroconn/batch/../data/out/subjects/409/EO/409_maprenamed&nfiltered.fif\n",
      "[done]\n",
      "Extracting parameters from ../data/in/subjects/410/EC/TCOA_410_EC.vhdr...\n",
      "Setting channel info structure...\n",
      "Reading 0 ... 63449  =      0.000 ...    63.449 secs...\n"
     ]
    },
    {
     "name": "stderr",
     "output_type": "stream",
     "text": [
      "/tmp/ipykernel_4122015/187000733.py:140: RuntimeWarning: This filename (/home/prakhar7/mfprl/neuroconn/batch/../data/out/subjects/409/EO/409_maprenamed&nfiltered.fif) does not conform to MNE naming conventions. All raw files should end with raw.fif, raw_sss.fif, raw_tsss.fif, _meg.fif, _eeg.fif, _ieeg.fif, raw.fif.gz, raw_sss.fif.gz, raw_tsss.fif.gz, _meg.fif.gz, _eeg.fif.gz or _ieeg.fif.gz\n",
      "  EEG.save(preprocessed_file, overwrite=True)\n"
     ]
    },
    {
     "name": "stdout",
     "output_type": "stream",
     "text": [
      "Success\n",
      "Overwriting existing file.\n",
      "Writing /home/prakhar7/mfprl/neuroconn/batch/../data/out/subjects/410/EC/410_raw.fif\n",
      "Closing /home/prakhar7/mfprl/neuroconn/batch/../data/out/subjects/410/EC/410_raw.fif\n",
      "[done]\n",
      "Filtering raw data in 1 contiguous segment\n",
      "Setting up low-pass filter at 50 Hz\n",
      "\n",
      "FIR filter parameters\n",
      "---------------------\n",
      "Designing a one-pass, zero-phase, non-causal lowpass filter:\n",
      "- Windowed time-domain design (firwin) method\n",
      "- Hamming window with 0.0194 passband ripple and 53 dB stopband attenuation\n",
      "- Upper passband edge: 50.00 Hz\n",
      "- Upper transition bandwidth: 12.50 Hz (-6 dB cutoff frequency: 56.25 Hz)\n",
      "- Filter length: 265 samples (0.265 s)\n",
      "\n"
     ]
    },
    {
     "name": "stderr",
     "output_type": "stream",
     "text": [
      "/tmp/ipykernel_4122015/187000733.py:86: RuntimeWarning: Fiducial point nasion not found, assuming identity unknown to head transformation\n",
      "  EEG.set_montage(montage, on_missing='warn')\n",
      "/tmp/ipykernel_4122015/187000733.py:86: RuntimeWarning: DigMontage is only a subset of info. There is 1 channel position not present in the DigMontage. The channel missing from the montage is:\n",
      "\n",
      "['Rmastoid'].\n",
      "\n",
      "Consider using inst.rename_channels to match the montage nomenclature, or inst.set_channel_types if this is not an EEG channel, or use the on_missing parameter if the channel position is allowed to be unknown in your analyses.\n",
      "  EEG.set_montage(montage, on_missing='warn')\n",
      "/tmp/ipykernel_4122015/187000733.py:117: RuntimeWarning: The unit for channel(s) Rmastoid has changed from V to NA.\n",
      "  EEG.set_channel_types(channel_types)\n",
      "[Parallel(n_jobs=1)]: Done  17 tasks      | elapsed:    0.1s\n"
     ]
    },
    {
     "name": "stdout",
     "output_type": "stream",
     "text": [
      "Filtering raw data in 1 contiguous segment\n",
      "Setting up high-pass filter at 1 Hz\n",
      "\n",
      "FIR filter parameters\n",
      "---------------------\n",
      "Designing a one-pass, zero-phase, non-causal highpass filter:\n",
      "- Windowed time-domain design (firwin) method\n",
      "- Hamming window with 0.0194 passband ripple and 53 dB stopband attenuation\n",
      "- Lower passband edge: 1.00\n",
      "- Lower transition bandwidth: 1.00 Hz (-6 dB cutoff frequency: 0.50 Hz)\n",
      "- Filter length: 3301 samples (3.301 s)\n",
      "\n",
      "Filtering raw data in 1 contiguous segment\n",
      "Setting up band-stop filter\n",
      "\n",
      "FIR filter parameters\n",
      "---------------------\n",
      "Designing a one-pass, zero-phase, non-causal bandstop filter:\n",
      "- Windowed time-domain design (firwin) method\n",
      "- Hamming window with 0.0194 passband ripple and 53 dB stopband attenuation\n",
      "- Lower transition bandwidth: 0.50 Hz\n",
      "- Upper transition bandwidth: 0.50 Hz\n",
      "- Filter length: 6601 samples (6.601 s)\n",
      "\n"
     ]
    },
    {
     "name": "stderr",
     "output_type": "stream",
     "text": [
      "[Parallel(n_jobs=1)]: Done  17 tasks      | elapsed:    0.0s\n",
      "[Parallel(n_jobs=1)]: Done  17 tasks      | elapsed:    0.0s\n"
     ]
    },
    {
     "name": "stdout",
     "output_type": "stream",
     "text": [
      "NOTE: plot_psd() is a legacy function. New code should use .compute_psd().plot().\n",
      "Effective window size : 2.048 (s)\n",
      "Overwriting existing file.\n",
      "Writing /home/prakhar7/mfprl/neuroconn/batch/../data/out/subjects/410/EC/410_maprenamed&nfiltered.fif\n",
      "Closing /home/prakhar7/mfprl/neuroconn/batch/../data/out/subjects/410/EC/410_maprenamed&nfiltered.fif\n",
      "[done]\n",
      "Extracting parameters from ../data/in/subjects/410/EO/TCOA_410_EO.vhdr...\n",
      "Setting channel info structure...\n",
      "Reading 0 ... 64999  =      0.000 ...    64.999 secs...\n"
     ]
    },
    {
     "name": "stderr",
     "output_type": "stream",
     "text": [
      "/tmp/ipykernel_4122015/187000733.py:140: RuntimeWarning: This filename (/home/prakhar7/mfprl/neuroconn/batch/../data/out/subjects/410/EC/410_maprenamed&nfiltered.fif) does not conform to MNE naming conventions. All raw files should end with raw.fif, raw_sss.fif, raw_tsss.fif, _meg.fif, _eeg.fif, _ieeg.fif, raw.fif.gz, raw_sss.fif.gz, raw_tsss.fif.gz, _meg.fif.gz, _eeg.fif.gz or _ieeg.fif.gz\n",
      "  EEG.save(preprocessed_file, overwrite=True)\n"
     ]
    },
    {
     "name": "stdout",
     "output_type": "stream",
     "text": [
      "Success\n",
      "Overwriting existing file.\n",
      "Writing /home/prakhar7/mfprl/neuroconn/batch/../data/out/subjects/410/EO/410_raw.fif\n",
      "Closing /home/prakhar7/mfprl/neuroconn/batch/../data/out/subjects/410/EO/410_raw.fif\n",
      "[done]\n",
      "Filtering raw data in 1 contiguous segment\n",
      "Setting up low-pass filter at 50 Hz\n",
      "\n",
      "FIR filter parameters\n",
      "---------------------\n",
      "Designing a one-pass, zero-phase, non-causal lowpass filter:\n",
      "- Windowed time-domain design (firwin) method\n",
      "- Hamming window with 0.0194 passband ripple and 53 dB stopband attenuation\n",
      "- Upper passband edge: 50.00 Hz\n",
      "- Upper transition bandwidth: 12.50 Hz (-6 dB cutoff frequency: 56.25 Hz)\n",
      "- Filter length: 265 samples (0.265 s)\n",
      "\n"
     ]
    },
    {
     "name": "stderr",
     "output_type": "stream",
     "text": [
      "/tmp/ipykernel_4122015/187000733.py:86: RuntimeWarning: Fiducial point nasion not found, assuming identity unknown to head transformation\n",
      "  EEG.set_montage(montage, on_missing='warn')\n",
      "/tmp/ipykernel_4122015/187000733.py:86: RuntimeWarning: DigMontage is only a subset of info. There is 1 channel position not present in the DigMontage. The channel missing from the montage is:\n",
      "\n",
      "['Rmastoid'].\n",
      "\n",
      "Consider using inst.rename_channels to match the montage nomenclature, or inst.set_channel_types if this is not an EEG channel, or use the on_missing parameter if the channel position is allowed to be unknown in your analyses.\n",
      "  EEG.set_montage(montage, on_missing='warn')\n",
      "/tmp/ipykernel_4122015/187000733.py:117: RuntimeWarning: The unit for channel(s) Rmastoid has changed from V to NA.\n",
      "  EEG.set_channel_types(channel_types)\n",
      "[Parallel(n_jobs=1)]: Done  17 tasks      | elapsed:    0.1s\n"
     ]
    },
    {
     "name": "stdout",
     "output_type": "stream",
     "text": [
      "Filtering raw data in 1 contiguous segment\n",
      "Setting up high-pass filter at 1 Hz\n",
      "\n",
      "FIR filter parameters\n",
      "---------------------\n",
      "Designing a one-pass, zero-phase, non-causal highpass filter:\n",
      "- Windowed time-domain design (firwin) method\n",
      "- Hamming window with 0.0194 passband ripple and 53 dB stopband attenuation\n",
      "- Lower passband edge: 1.00\n",
      "- Lower transition bandwidth: 1.00 Hz (-6 dB cutoff frequency: 0.50 Hz)\n",
      "- Filter length: 3301 samples (3.301 s)\n",
      "\n",
      "Filtering raw data in 1 contiguous segment\n",
      "Setting up band-stop filter\n",
      "\n",
      "FIR filter parameters\n",
      "---------------------\n",
      "Designing a one-pass, zero-phase, non-causal bandstop filter:\n",
      "- Windowed time-domain design (firwin) method\n",
      "- Hamming window with 0.0194 passband ripple and 53 dB stopband attenuation\n",
      "- Lower transition bandwidth: 0.50 Hz\n",
      "- Upper transition bandwidth: 0.50 Hz\n",
      "- Filter length: 6601 samples (6.601 s)\n",
      "\n"
     ]
    },
    {
     "name": "stderr",
     "output_type": "stream",
     "text": [
      "[Parallel(n_jobs=1)]: Done  17 tasks      | elapsed:    0.0s\n",
      "[Parallel(n_jobs=1)]: Done  17 tasks      | elapsed:    0.0s\n"
     ]
    },
    {
     "name": "stdout",
     "output_type": "stream",
     "text": [
      "NOTE: plot_psd() is a legacy function. New code should use .compute_psd().plot().\n",
      "Effective window size : 2.048 (s)\n",
      "Overwriting existing file.\n",
      "Writing /home/prakhar7/mfprl/neuroconn/batch/../data/out/subjects/410/EO/410_maprenamed&nfiltered.fif\n",
      "Closing /home/prakhar7/mfprl/neuroconn/batch/../data/out/subjects/410/EO/410_maprenamed&nfiltered.fif\n",
      "[done]\n",
      "Extracting parameters from ../data/in/subjects/411/EC/TCOA_411_EC.vhdr...\n",
      "Setting channel info structure...\n",
      "Reading 0 ... 65449  =      0.000 ...    65.449 secs...\n"
     ]
    },
    {
     "name": "stderr",
     "output_type": "stream",
     "text": [
      "/tmp/ipykernel_4122015/187000733.py:140: RuntimeWarning: This filename (/home/prakhar7/mfprl/neuroconn/batch/../data/out/subjects/410/EO/410_maprenamed&nfiltered.fif) does not conform to MNE naming conventions. All raw files should end with raw.fif, raw_sss.fif, raw_tsss.fif, _meg.fif, _eeg.fif, _ieeg.fif, raw.fif.gz, raw_sss.fif.gz, raw_tsss.fif.gz, _meg.fif.gz, _eeg.fif.gz or _ieeg.fif.gz\n",
      "  EEG.save(preprocessed_file, overwrite=True)\n"
     ]
    },
    {
     "name": "stdout",
     "output_type": "stream",
     "text": [
      "Success\n",
      "Overwriting existing file.\n",
      "Writing /home/prakhar7/mfprl/neuroconn/batch/../data/out/subjects/411/EC/411_raw.fif\n",
      "Closing /home/prakhar7/mfprl/neuroconn/batch/../data/out/subjects/411/EC/411_raw.fif\n",
      "[done]\n",
      "Filtering raw data in 1 contiguous segment\n",
      "Setting up low-pass filter at 50 Hz\n",
      "\n",
      "FIR filter parameters\n",
      "---------------------\n",
      "Designing a one-pass, zero-phase, non-causal lowpass filter:\n",
      "- Windowed time-domain design (firwin) method\n",
      "- Hamming window with 0.0194 passband ripple and 53 dB stopband attenuation\n",
      "- Upper passband edge: 50.00 Hz\n",
      "- Upper transition bandwidth: 12.50 Hz (-6 dB cutoff frequency: 56.25 Hz)\n",
      "- Filter length: 265 samples (0.265 s)\n",
      "\n"
     ]
    },
    {
     "name": "stderr",
     "output_type": "stream",
     "text": [
      "/tmp/ipykernel_4122015/187000733.py:86: RuntimeWarning: Fiducial point nasion not found, assuming identity unknown to head transformation\n",
      "  EEG.set_montage(montage, on_missing='warn')\n",
      "/tmp/ipykernel_4122015/187000733.py:86: RuntimeWarning: DigMontage is only a subset of info. There is 1 channel position not present in the DigMontage. The channel missing from the montage is:\n",
      "\n",
      "['Rmastoid'].\n",
      "\n",
      "Consider using inst.rename_channels to match the montage nomenclature, or inst.set_channel_types if this is not an EEG channel, or use the on_missing parameter if the channel position is allowed to be unknown in your analyses.\n",
      "  EEG.set_montage(montage, on_missing='warn')\n",
      "/tmp/ipykernel_4122015/187000733.py:117: RuntimeWarning: The unit for channel(s) Rmastoid has changed from V to NA.\n",
      "  EEG.set_channel_types(channel_types)\n",
      "[Parallel(n_jobs=1)]: Done  17 tasks      | elapsed:    0.1s\n"
     ]
    },
    {
     "name": "stdout",
     "output_type": "stream",
     "text": [
      "Filtering raw data in 1 contiguous segment\n",
      "Setting up high-pass filter at 1 Hz\n",
      "\n",
      "FIR filter parameters\n",
      "---------------------\n",
      "Designing a one-pass, zero-phase, non-causal highpass filter:\n",
      "- Windowed time-domain design (firwin) method\n",
      "- Hamming window with 0.0194 passband ripple and 53 dB stopband attenuation\n",
      "- Lower passband edge: 1.00\n",
      "- Lower transition bandwidth: 1.00 Hz (-6 dB cutoff frequency: 0.50 Hz)\n",
      "- Filter length: 3301 samples (3.301 s)\n",
      "\n",
      "Filtering raw data in 1 contiguous segment\n",
      "Setting up band-stop filter\n",
      "\n",
      "FIR filter parameters\n",
      "---------------------\n",
      "Designing a one-pass, zero-phase, non-causal bandstop filter:\n",
      "- Windowed time-domain design (firwin) method\n",
      "- Hamming window with 0.0194 passband ripple and 53 dB stopband attenuation\n",
      "- Lower transition bandwidth: 0.50 Hz\n",
      "- Upper transition bandwidth: 0.50 Hz\n",
      "- Filter length: 6601 samples (6.601 s)\n",
      "\n"
     ]
    },
    {
     "name": "stderr",
     "output_type": "stream",
     "text": [
      "[Parallel(n_jobs=1)]: Done  17 tasks      | elapsed:    0.0s\n",
      "[Parallel(n_jobs=1)]: Done  17 tasks      | elapsed:    0.0s\n"
     ]
    },
    {
     "name": "stdout",
     "output_type": "stream",
     "text": [
      "NOTE: plot_psd() is a legacy function. New code should use .compute_psd().plot().\n",
      "Effective window size : 2.048 (s)\n",
      "Overwriting existing file.\n",
      "Writing /home/prakhar7/mfprl/neuroconn/batch/../data/out/subjects/411/EC/411_maprenamed&nfiltered.fif\n",
      "Closing /home/prakhar7/mfprl/neuroconn/batch/../data/out/subjects/411/EC/411_maprenamed&nfiltered.fif\n",
      "[done]\n",
      "Extracting parameters from ../data/in/subjects/411/EO/TCOA_411_EO.vhdr...\n",
      "Setting channel info structure...\n",
      "Reading 0 ... 64799  =      0.000 ...    64.799 secs...\n"
     ]
    },
    {
     "name": "stderr",
     "output_type": "stream",
     "text": [
      "/tmp/ipykernel_4122015/187000733.py:140: RuntimeWarning: This filename (/home/prakhar7/mfprl/neuroconn/batch/../data/out/subjects/411/EC/411_maprenamed&nfiltered.fif) does not conform to MNE naming conventions. All raw files should end with raw.fif, raw_sss.fif, raw_tsss.fif, _meg.fif, _eeg.fif, _ieeg.fif, raw.fif.gz, raw_sss.fif.gz, raw_tsss.fif.gz, _meg.fif.gz, _eeg.fif.gz or _ieeg.fif.gz\n",
      "  EEG.save(preprocessed_file, overwrite=True)\n"
     ]
    },
    {
     "name": "stdout",
     "output_type": "stream",
     "text": [
      "Success\n",
      "Overwriting existing file.\n",
      "Writing /home/prakhar7/mfprl/neuroconn/batch/../data/out/subjects/411/EO/411_raw.fif\n",
      "Closing /home/prakhar7/mfprl/neuroconn/batch/../data/out/subjects/411/EO/411_raw.fif\n",
      "[done]\n",
      "Filtering raw data in 1 contiguous segment\n",
      "Setting up low-pass filter at 50 Hz\n",
      "\n",
      "FIR filter parameters\n",
      "---------------------\n",
      "Designing a one-pass, zero-phase, non-causal lowpass filter:\n",
      "- Windowed time-domain design (firwin) method\n",
      "- Hamming window with 0.0194 passband ripple and 53 dB stopband attenuation\n",
      "- Upper passband edge: 50.00 Hz\n",
      "- Upper transition bandwidth: 12.50 Hz (-6 dB cutoff frequency: 56.25 Hz)\n",
      "- Filter length: 265 samples (0.265 s)\n",
      "\n"
     ]
    },
    {
     "name": "stderr",
     "output_type": "stream",
     "text": [
      "/tmp/ipykernel_4122015/187000733.py:86: RuntimeWarning: Fiducial point nasion not found, assuming identity unknown to head transformation\n",
      "  EEG.set_montage(montage, on_missing='warn')\n",
      "/tmp/ipykernel_4122015/187000733.py:86: RuntimeWarning: DigMontage is only a subset of info. There is 1 channel position not present in the DigMontage. The channel missing from the montage is:\n",
      "\n",
      "['Rmastoid'].\n",
      "\n",
      "Consider using inst.rename_channels to match the montage nomenclature, or inst.set_channel_types if this is not an EEG channel, or use the on_missing parameter if the channel position is allowed to be unknown in your analyses.\n",
      "  EEG.set_montage(montage, on_missing='warn')\n",
      "/tmp/ipykernel_4122015/187000733.py:117: RuntimeWarning: The unit for channel(s) Rmastoid has changed from V to NA.\n",
      "  EEG.set_channel_types(channel_types)\n",
      "[Parallel(n_jobs=1)]: Done  17 tasks      | elapsed:    0.1s\n"
     ]
    },
    {
     "name": "stdout",
     "output_type": "stream",
     "text": [
      "Filtering raw data in 1 contiguous segment\n",
      "Setting up high-pass filter at 1 Hz\n",
      "\n",
      "FIR filter parameters\n",
      "---------------------\n",
      "Designing a one-pass, zero-phase, non-causal highpass filter:\n",
      "- Windowed time-domain design (firwin) method\n",
      "- Hamming window with 0.0194 passband ripple and 53 dB stopband attenuation\n",
      "- Lower passband edge: 1.00\n",
      "- Lower transition bandwidth: 1.00 Hz (-6 dB cutoff frequency: 0.50 Hz)\n",
      "- Filter length: 3301 samples (3.301 s)\n",
      "\n",
      "Filtering raw data in 1 contiguous segment\n",
      "Setting up band-stop filter\n",
      "\n",
      "FIR filter parameters\n",
      "---------------------\n",
      "Designing a one-pass, zero-phase, non-causal bandstop filter:\n",
      "- Windowed time-domain design (firwin) method\n",
      "- Hamming window with 0.0194 passband ripple and 53 dB stopband attenuation\n",
      "- Lower transition bandwidth: 0.50 Hz\n",
      "- Upper transition bandwidth: 0.50 Hz\n",
      "- Filter length: 6601 samples (6.601 s)\n",
      "\n"
     ]
    },
    {
     "name": "stderr",
     "output_type": "stream",
     "text": [
      "[Parallel(n_jobs=1)]: Done  17 tasks      | elapsed:    0.0s\n",
      "[Parallel(n_jobs=1)]: Done  17 tasks      | elapsed:    0.0s\n"
     ]
    },
    {
     "name": "stdout",
     "output_type": "stream",
     "text": [
      "NOTE: plot_psd() is a legacy function. New code should use .compute_psd().plot().\n",
      "Effective window size : 2.048 (s)\n",
      "Overwriting existing file.\n",
      "Writing /home/prakhar7/mfprl/neuroconn/batch/../data/out/subjects/411/EO/411_maprenamed&nfiltered.fif\n",
      "Closing /home/prakhar7/mfprl/neuroconn/batch/../data/out/subjects/411/EO/411_maprenamed&nfiltered.fif\n",
      "[done]\n",
      "Extracting parameters from ../data/in/subjects/412/EC/TCOA_412_EC.vhdr...\n",
      "Setting channel info structure...\n",
      "Reading 0 ... 66049  =      0.000 ...    66.049 secs...\n"
     ]
    },
    {
     "name": "stderr",
     "output_type": "stream",
     "text": [
      "/tmp/ipykernel_4122015/187000733.py:140: RuntimeWarning: This filename (/home/prakhar7/mfprl/neuroconn/batch/../data/out/subjects/411/EO/411_maprenamed&nfiltered.fif) does not conform to MNE naming conventions. All raw files should end with raw.fif, raw_sss.fif, raw_tsss.fif, _meg.fif, _eeg.fif, _ieeg.fif, raw.fif.gz, raw_sss.fif.gz, raw_tsss.fif.gz, _meg.fif.gz, _eeg.fif.gz or _ieeg.fif.gz\n",
      "  EEG.save(preprocessed_file, overwrite=True)\n"
     ]
    },
    {
     "name": "stdout",
     "output_type": "stream",
     "text": [
      "Success\n",
      "Overwriting existing file.\n",
      "Writing /home/prakhar7/mfprl/neuroconn/batch/../data/out/subjects/412/EC/412_raw.fif\n",
      "Closing /home/prakhar7/mfprl/neuroconn/batch/../data/out/subjects/412/EC/412_raw.fif\n",
      "[done]\n",
      "Filtering raw data in 1 contiguous segment\n",
      "Setting up low-pass filter at 50 Hz\n",
      "\n",
      "FIR filter parameters\n",
      "---------------------\n",
      "Designing a one-pass, zero-phase, non-causal lowpass filter:\n",
      "- Windowed time-domain design (firwin) method\n",
      "- Hamming window with 0.0194 passband ripple and 53 dB stopband attenuation\n",
      "- Upper passband edge: 50.00 Hz\n",
      "- Upper transition bandwidth: 12.50 Hz (-6 dB cutoff frequency: 56.25 Hz)\n",
      "- Filter length: 265 samples (0.265 s)\n",
      "\n"
     ]
    },
    {
     "name": "stderr",
     "output_type": "stream",
     "text": [
      "/tmp/ipykernel_4122015/187000733.py:86: RuntimeWarning: Fiducial point nasion not found, assuming identity unknown to head transformation\n",
      "  EEG.set_montage(montage, on_missing='warn')\n",
      "/tmp/ipykernel_4122015/187000733.py:86: RuntimeWarning: DigMontage is only a subset of info. There is 1 channel position not present in the DigMontage. The channel missing from the montage is:\n",
      "\n",
      "['Rmastoid'].\n",
      "\n",
      "Consider using inst.rename_channels to match the montage nomenclature, or inst.set_channel_types if this is not an EEG channel, or use the on_missing parameter if the channel position is allowed to be unknown in your analyses.\n",
      "  EEG.set_montage(montage, on_missing='warn')\n",
      "/tmp/ipykernel_4122015/187000733.py:117: RuntimeWarning: The unit for channel(s) Rmastoid has changed from V to NA.\n",
      "  EEG.set_channel_types(channel_types)\n",
      "[Parallel(n_jobs=1)]: Done  17 tasks      | elapsed:    0.1s\n"
     ]
    },
    {
     "name": "stdout",
     "output_type": "stream",
     "text": [
      "Filtering raw data in 1 contiguous segment\n",
      "Setting up high-pass filter at 1 Hz\n",
      "\n",
      "FIR filter parameters\n",
      "---------------------\n",
      "Designing a one-pass, zero-phase, non-causal highpass filter:\n",
      "- Windowed time-domain design (firwin) method\n",
      "- Hamming window with 0.0194 passband ripple and 53 dB stopband attenuation\n",
      "- Lower passband edge: 1.00\n",
      "- Lower transition bandwidth: 1.00 Hz (-6 dB cutoff frequency: 0.50 Hz)\n",
      "- Filter length: 3301 samples (3.301 s)\n",
      "\n",
      "Filtering raw data in 1 contiguous segment\n",
      "Setting up band-stop filter\n",
      "\n",
      "FIR filter parameters\n",
      "---------------------\n",
      "Designing a one-pass, zero-phase, non-causal bandstop filter:\n",
      "- Windowed time-domain design (firwin) method\n",
      "- Hamming window with 0.0194 passband ripple and 53 dB stopband attenuation\n",
      "- Lower transition bandwidth: 0.50 Hz\n",
      "- Upper transition bandwidth: 0.50 Hz\n",
      "- Filter length: 6601 samples (6.601 s)\n",
      "\n"
     ]
    },
    {
     "name": "stderr",
     "output_type": "stream",
     "text": [
      "[Parallel(n_jobs=1)]: Done  17 tasks      | elapsed:    0.0s\n",
      "[Parallel(n_jobs=1)]: Done  17 tasks      | elapsed:    0.0s\n"
     ]
    },
    {
     "name": "stdout",
     "output_type": "stream",
     "text": [
      "NOTE: plot_psd() is a legacy function. New code should use .compute_psd().plot().\n",
      "Effective window size : 2.048 (s)\n",
      "Overwriting existing file.\n",
      "Writing /home/prakhar7/mfprl/neuroconn/batch/../data/out/subjects/412/EC/412_maprenamed&nfiltered.fif\n",
      "Closing /home/prakhar7/mfprl/neuroconn/batch/../data/out/subjects/412/EC/412_maprenamed&nfiltered.fif\n",
      "[done]\n",
      "Extracting parameters from ../data/in/subjects/412/EO/TCOA_412_EO.vhdr...\n",
      "Setting channel info structure...\n",
      "Reading 0 ... 65099  =      0.000 ...    65.099 secs...\n"
     ]
    },
    {
     "name": "stderr",
     "output_type": "stream",
     "text": [
      "/tmp/ipykernel_4122015/187000733.py:140: RuntimeWarning: This filename (/home/prakhar7/mfprl/neuroconn/batch/../data/out/subjects/412/EC/412_maprenamed&nfiltered.fif) does not conform to MNE naming conventions. All raw files should end with raw.fif, raw_sss.fif, raw_tsss.fif, _meg.fif, _eeg.fif, _ieeg.fif, raw.fif.gz, raw_sss.fif.gz, raw_tsss.fif.gz, _meg.fif.gz, _eeg.fif.gz or _ieeg.fif.gz\n",
      "  EEG.save(preprocessed_file, overwrite=True)\n"
     ]
    },
    {
     "name": "stdout",
     "output_type": "stream",
     "text": [
      "Success\n",
      "Overwriting existing file.\n",
      "Writing /home/prakhar7/mfprl/neuroconn/batch/../data/out/subjects/412/EO/412_raw.fif\n",
      "Closing /home/prakhar7/mfprl/neuroconn/batch/../data/out/subjects/412/EO/412_raw.fif\n",
      "[done]\n",
      "Filtering raw data in 1 contiguous segment\n",
      "Setting up low-pass filter at 50 Hz\n",
      "\n",
      "FIR filter parameters\n",
      "---------------------\n",
      "Designing a one-pass, zero-phase, non-causal lowpass filter:\n",
      "- Windowed time-domain design (firwin) method\n",
      "- Hamming window with 0.0194 passband ripple and 53 dB stopband attenuation\n",
      "- Upper passband edge: 50.00 Hz\n",
      "- Upper transition bandwidth: 12.50 Hz (-6 dB cutoff frequency: 56.25 Hz)\n",
      "- Filter length: 265 samples (0.265 s)\n",
      "\n"
     ]
    },
    {
     "name": "stderr",
     "output_type": "stream",
     "text": [
      "/tmp/ipykernel_4122015/187000733.py:86: RuntimeWarning: Fiducial point nasion not found, assuming identity unknown to head transformation\n",
      "  EEG.set_montage(montage, on_missing='warn')\n",
      "/tmp/ipykernel_4122015/187000733.py:86: RuntimeWarning: DigMontage is only a subset of info. There is 1 channel position not present in the DigMontage. The channel missing from the montage is:\n",
      "\n",
      "['Rmastoid'].\n",
      "\n",
      "Consider using inst.rename_channels to match the montage nomenclature, or inst.set_channel_types if this is not an EEG channel, or use the on_missing parameter if the channel position is allowed to be unknown in your analyses.\n",
      "  EEG.set_montage(montage, on_missing='warn')\n",
      "/tmp/ipykernel_4122015/187000733.py:117: RuntimeWarning: The unit for channel(s) Rmastoid has changed from V to NA.\n",
      "  EEG.set_channel_types(channel_types)\n",
      "[Parallel(n_jobs=1)]: Done  17 tasks      | elapsed:    0.1s\n"
     ]
    },
    {
     "name": "stdout",
     "output_type": "stream",
     "text": [
      "Filtering raw data in 1 contiguous segment\n",
      "Setting up high-pass filter at 1 Hz\n",
      "\n",
      "FIR filter parameters\n",
      "---------------------\n",
      "Designing a one-pass, zero-phase, non-causal highpass filter:\n",
      "- Windowed time-domain design (firwin) method\n",
      "- Hamming window with 0.0194 passband ripple and 53 dB stopband attenuation\n",
      "- Lower passband edge: 1.00\n",
      "- Lower transition bandwidth: 1.00 Hz (-6 dB cutoff frequency: 0.50 Hz)\n",
      "- Filter length: 3301 samples (3.301 s)\n",
      "\n",
      "Filtering raw data in 1 contiguous segment\n",
      "Setting up band-stop filter\n",
      "\n",
      "FIR filter parameters\n",
      "---------------------\n",
      "Designing a one-pass, zero-phase, non-causal bandstop filter:\n",
      "- Windowed time-domain design (firwin) method\n",
      "- Hamming window with 0.0194 passband ripple and 53 dB stopband attenuation\n",
      "- Lower transition bandwidth: 0.50 Hz\n",
      "- Upper transition bandwidth: 0.50 Hz\n",
      "- Filter length: 6601 samples (6.601 s)\n",
      "\n"
     ]
    },
    {
     "name": "stderr",
     "output_type": "stream",
     "text": [
      "[Parallel(n_jobs=1)]: Done  17 tasks      | elapsed:    0.0s\n",
      "[Parallel(n_jobs=1)]: Done  17 tasks      | elapsed:    0.0s\n"
     ]
    },
    {
     "name": "stdout",
     "output_type": "stream",
     "text": [
      "NOTE: plot_psd() is a legacy function. New code should use .compute_psd().plot().\n",
      "Effective window size : 2.048 (s)\n",
      "Overwriting existing file.\n",
      "Writing /home/prakhar7/mfprl/neuroconn/batch/../data/out/subjects/412/EO/412_maprenamed&nfiltered.fif\n",
      "Closing /home/prakhar7/mfprl/neuroconn/batch/../data/out/subjects/412/EO/412_maprenamed&nfiltered.fif\n",
      "[done]\n",
      "Extracting parameters from ../data/in/subjects/413/EC/TCOA_413_EC.vhdr...\n",
      "Setting channel info structure...\n",
      "Reading 0 ... 63049  =      0.000 ...    63.049 secs...\n"
     ]
    },
    {
     "name": "stderr",
     "output_type": "stream",
     "text": [
      "/tmp/ipykernel_4122015/187000733.py:140: RuntimeWarning: This filename (/home/prakhar7/mfprl/neuroconn/batch/../data/out/subjects/412/EO/412_maprenamed&nfiltered.fif) does not conform to MNE naming conventions. All raw files should end with raw.fif, raw_sss.fif, raw_tsss.fif, _meg.fif, _eeg.fif, _ieeg.fif, raw.fif.gz, raw_sss.fif.gz, raw_tsss.fif.gz, _meg.fif.gz, _eeg.fif.gz or _ieeg.fif.gz\n",
      "  EEG.save(preprocessed_file, overwrite=True)\n"
     ]
    },
    {
     "name": "stdout",
     "output_type": "stream",
     "text": [
      "Success\n",
      "Overwriting existing file.\n",
      "Writing /home/prakhar7/mfprl/neuroconn/batch/../data/out/subjects/413/EC/413_raw.fif\n",
      "Closing /home/prakhar7/mfprl/neuroconn/batch/../data/out/subjects/413/EC/413_raw.fif\n",
      "[done]\n",
      "Filtering raw data in 1 contiguous segment\n",
      "Setting up low-pass filter at 50 Hz\n",
      "\n",
      "FIR filter parameters\n",
      "---------------------\n",
      "Designing a one-pass, zero-phase, non-causal lowpass filter:\n",
      "- Windowed time-domain design (firwin) method\n",
      "- Hamming window with 0.0194 passband ripple and 53 dB stopband attenuation\n",
      "- Upper passband edge: 50.00 Hz\n",
      "- Upper transition bandwidth: 12.50 Hz (-6 dB cutoff frequency: 56.25 Hz)\n",
      "- Filter length: 265 samples (0.265 s)\n",
      "\n"
     ]
    },
    {
     "name": "stderr",
     "output_type": "stream",
     "text": [
      "/tmp/ipykernel_4122015/187000733.py:86: RuntimeWarning: Fiducial point nasion not found, assuming identity unknown to head transformation\n",
      "  EEG.set_montage(montage, on_missing='warn')\n",
      "/tmp/ipykernel_4122015/187000733.py:86: RuntimeWarning: DigMontage is only a subset of info. There is 1 channel position not present in the DigMontage. The channel missing from the montage is:\n",
      "\n",
      "['Rmastoid'].\n",
      "\n",
      "Consider using inst.rename_channels to match the montage nomenclature, or inst.set_channel_types if this is not an EEG channel, or use the on_missing parameter if the channel position is allowed to be unknown in your analyses.\n",
      "  EEG.set_montage(montage, on_missing='warn')\n",
      "/tmp/ipykernel_4122015/187000733.py:117: RuntimeWarning: The unit for channel(s) Rmastoid has changed from V to NA.\n",
      "  EEG.set_channel_types(channel_types)\n",
      "[Parallel(n_jobs=1)]: Done  17 tasks      | elapsed:    0.1s\n"
     ]
    },
    {
     "name": "stdout",
     "output_type": "stream",
     "text": [
      "Filtering raw data in 1 contiguous segment\n",
      "Setting up high-pass filter at 1 Hz\n",
      "\n",
      "FIR filter parameters\n",
      "---------------------\n",
      "Designing a one-pass, zero-phase, non-causal highpass filter:\n",
      "- Windowed time-domain design (firwin) method\n",
      "- Hamming window with 0.0194 passband ripple and 53 dB stopband attenuation\n",
      "- Lower passband edge: 1.00\n",
      "- Lower transition bandwidth: 1.00 Hz (-6 dB cutoff frequency: 0.50 Hz)\n",
      "- Filter length: 3301 samples (3.301 s)\n",
      "\n",
      "Filtering raw data in 1 contiguous segment\n",
      "Setting up band-stop filter\n",
      "\n",
      "FIR filter parameters\n",
      "---------------------\n",
      "Designing a one-pass, zero-phase, non-causal bandstop filter:\n",
      "- Windowed time-domain design (firwin) method\n",
      "- Hamming window with 0.0194 passband ripple and 53 dB stopband attenuation\n",
      "- Lower transition bandwidth: 0.50 Hz\n",
      "- Upper transition bandwidth: 0.50 Hz\n",
      "- Filter length: 6601 samples (6.601 s)\n",
      "\n"
     ]
    },
    {
     "name": "stderr",
     "output_type": "stream",
     "text": [
      "[Parallel(n_jobs=1)]: Done  17 tasks      | elapsed:    0.0s\n",
      "[Parallel(n_jobs=1)]: Done  17 tasks      | elapsed:    0.0s\n"
     ]
    },
    {
     "name": "stdout",
     "output_type": "stream",
     "text": [
      "NOTE: plot_psd() is a legacy function. New code should use .compute_psd().plot().\n",
      "Effective window size : 2.048 (s)\n",
      "Overwriting existing file.\n",
      "Writing /home/prakhar7/mfprl/neuroconn/batch/../data/out/subjects/413/EC/413_maprenamed&nfiltered.fif\n",
      "Closing /home/prakhar7/mfprl/neuroconn/batch/../data/out/subjects/413/EC/413_maprenamed&nfiltered.fif\n",
      "[done]\n",
      "Extracting parameters from ../data/in/subjects/413/EO/TCOA_413_EO.vhdr...\n",
      "Setting channel info structure...\n",
      "Reading 0 ... 63999  =      0.000 ...    63.999 secs...\n"
     ]
    },
    {
     "name": "stderr",
     "output_type": "stream",
     "text": [
      "/tmp/ipykernel_4122015/187000733.py:140: RuntimeWarning: This filename (/home/prakhar7/mfprl/neuroconn/batch/../data/out/subjects/413/EC/413_maprenamed&nfiltered.fif) does not conform to MNE naming conventions. All raw files should end with raw.fif, raw_sss.fif, raw_tsss.fif, _meg.fif, _eeg.fif, _ieeg.fif, raw.fif.gz, raw_sss.fif.gz, raw_tsss.fif.gz, _meg.fif.gz, _eeg.fif.gz or _ieeg.fif.gz\n",
      "  EEG.save(preprocessed_file, overwrite=True)\n"
     ]
    },
    {
     "name": "stdout",
     "output_type": "stream",
     "text": [
      "Success\n",
      "Overwriting existing file.\n",
      "Writing /home/prakhar7/mfprl/neuroconn/batch/../data/out/subjects/413/EO/413_raw.fif\n",
      "Closing /home/prakhar7/mfprl/neuroconn/batch/../data/out/subjects/413/EO/413_raw.fif\n",
      "[done]\n",
      "Filtering raw data in 1 contiguous segment\n",
      "Setting up low-pass filter at 50 Hz\n",
      "\n",
      "FIR filter parameters\n",
      "---------------------\n",
      "Designing a one-pass, zero-phase, non-causal lowpass filter:\n",
      "- Windowed time-domain design (firwin) method\n",
      "- Hamming window with 0.0194 passband ripple and 53 dB stopband attenuation\n",
      "- Upper passband edge: 50.00 Hz\n",
      "- Upper transition bandwidth: 12.50 Hz (-6 dB cutoff frequency: 56.25 Hz)\n",
      "- Filter length: 265 samples (0.265 s)\n",
      "\n"
     ]
    },
    {
     "name": "stderr",
     "output_type": "stream",
     "text": [
      "/tmp/ipykernel_4122015/187000733.py:86: RuntimeWarning: Fiducial point nasion not found, assuming identity unknown to head transformation\n",
      "  EEG.set_montage(montage, on_missing='warn')\n",
      "/tmp/ipykernel_4122015/187000733.py:86: RuntimeWarning: DigMontage is only a subset of info. There is 1 channel position not present in the DigMontage. The channel missing from the montage is:\n",
      "\n",
      "['Rmastoid'].\n",
      "\n",
      "Consider using inst.rename_channels to match the montage nomenclature, or inst.set_channel_types if this is not an EEG channel, or use the on_missing parameter if the channel position is allowed to be unknown in your analyses.\n",
      "  EEG.set_montage(montage, on_missing='warn')\n",
      "/tmp/ipykernel_4122015/187000733.py:117: RuntimeWarning: The unit for channel(s) Rmastoid has changed from V to NA.\n",
      "  EEG.set_channel_types(channel_types)\n",
      "[Parallel(n_jobs=1)]: Done  17 tasks      | elapsed:    0.1s\n"
     ]
    },
    {
     "name": "stdout",
     "output_type": "stream",
     "text": [
      "Filtering raw data in 1 contiguous segment\n",
      "Setting up high-pass filter at 1 Hz\n",
      "\n",
      "FIR filter parameters\n",
      "---------------------\n",
      "Designing a one-pass, zero-phase, non-causal highpass filter:\n",
      "- Windowed time-domain design (firwin) method\n",
      "- Hamming window with 0.0194 passband ripple and 53 dB stopband attenuation\n",
      "- Lower passband edge: 1.00\n",
      "- Lower transition bandwidth: 1.00 Hz (-6 dB cutoff frequency: 0.50 Hz)\n",
      "- Filter length: 3301 samples (3.301 s)\n",
      "\n",
      "Filtering raw data in 1 contiguous segment\n",
      "Setting up band-stop filter\n",
      "\n",
      "FIR filter parameters\n",
      "---------------------\n",
      "Designing a one-pass, zero-phase, non-causal bandstop filter:\n",
      "- Windowed time-domain design (firwin) method\n",
      "- Hamming window with 0.0194 passband ripple and 53 dB stopband attenuation\n",
      "- Lower transition bandwidth: 0.50 Hz\n",
      "- Upper transition bandwidth: 0.50 Hz\n",
      "- Filter length: 6601 samples (6.601 s)\n",
      "\n"
     ]
    },
    {
     "name": "stderr",
     "output_type": "stream",
     "text": [
      "[Parallel(n_jobs=1)]: Done  17 tasks      | elapsed:    0.0s\n",
      "[Parallel(n_jobs=1)]: Done  17 tasks      | elapsed:    0.0s\n"
     ]
    },
    {
     "name": "stdout",
     "output_type": "stream",
     "text": [
      "NOTE: plot_psd() is a legacy function. New code should use .compute_psd().plot().\n",
      "Effective window size : 2.048 (s)\n",
      "Overwriting existing file.\n",
      "Writing /home/prakhar7/mfprl/neuroconn/batch/../data/out/subjects/413/EO/413_maprenamed&nfiltered.fif\n",
      "Closing /home/prakhar7/mfprl/neuroconn/batch/../data/out/subjects/413/EO/413_maprenamed&nfiltered.fif\n",
      "[done]\n",
      "Extracting parameters from ../data/in/subjects/414/EC/TCOA_414_EC.vhdr...\n",
      "Setting channel info structure...\n",
      "Reading 0 ... 63749  =      0.000 ...    63.749 secs...\n"
     ]
    },
    {
     "name": "stderr",
     "output_type": "stream",
     "text": [
      "/tmp/ipykernel_4122015/187000733.py:140: RuntimeWarning: This filename (/home/prakhar7/mfprl/neuroconn/batch/../data/out/subjects/413/EO/413_maprenamed&nfiltered.fif) does not conform to MNE naming conventions. All raw files should end with raw.fif, raw_sss.fif, raw_tsss.fif, _meg.fif, _eeg.fif, _ieeg.fif, raw.fif.gz, raw_sss.fif.gz, raw_tsss.fif.gz, _meg.fif.gz, _eeg.fif.gz or _ieeg.fif.gz\n",
      "  EEG.save(preprocessed_file, overwrite=True)\n"
     ]
    },
    {
     "name": "stdout",
     "output_type": "stream",
     "text": [
      "Success\n",
      "Overwriting existing file.\n",
      "Writing /home/prakhar7/mfprl/neuroconn/batch/../data/out/subjects/414/EC/414_raw.fif\n",
      "Closing /home/prakhar7/mfprl/neuroconn/batch/../data/out/subjects/414/EC/414_raw.fif\n",
      "[done]\n",
      "Filtering raw data in 1 contiguous segment\n",
      "Setting up low-pass filter at 50 Hz\n",
      "\n",
      "FIR filter parameters\n",
      "---------------------\n",
      "Designing a one-pass, zero-phase, non-causal lowpass filter:\n",
      "- Windowed time-domain design (firwin) method\n",
      "- Hamming window with 0.0194 passband ripple and 53 dB stopband attenuation\n",
      "- Upper passband edge: 50.00 Hz\n",
      "- Upper transition bandwidth: 12.50 Hz (-6 dB cutoff frequency: 56.25 Hz)\n",
      "- Filter length: 265 samples (0.265 s)\n",
      "\n"
     ]
    },
    {
     "name": "stderr",
     "output_type": "stream",
     "text": [
      "/tmp/ipykernel_4122015/187000733.py:86: RuntimeWarning: Fiducial point nasion not found, assuming identity unknown to head transformation\n",
      "  EEG.set_montage(montage, on_missing='warn')\n",
      "/tmp/ipykernel_4122015/187000733.py:86: RuntimeWarning: DigMontage is only a subset of info. There is 1 channel position not present in the DigMontage. The channel missing from the montage is:\n",
      "\n",
      "['Rmastoid'].\n",
      "\n",
      "Consider using inst.rename_channels to match the montage nomenclature, or inst.set_channel_types if this is not an EEG channel, or use the on_missing parameter if the channel position is allowed to be unknown in your analyses.\n",
      "  EEG.set_montage(montage, on_missing='warn')\n",
      "/tmp/ipykernel_4122015/187000733.py:117: RuntimeWarning: The unit for channel(s) Rmastoid has changed from V to NA.\n",
      "  EEG.set_channel_types(channel_types)\n",
      "[Parallel(n_jobs=1)]: Done  17 tasks      | elapsed:    0.1s\n"
     ]
    },
    {
     "name": "stdout",
     "output_type": "stream",
     "text": [
      "Filtering raw data in 1 contiguous segment\n",
      "Setting up high-pass filter at 1 Hz\n",
      "\n",
      "FIR filter parameters\n",
      "---------------------\n",
      "Designing a one-pass, zero-phase, non-causal highpass filter:\n",
      "- Windowed time-domain design (firwin) method\n",
      "- Hamming window with 0.0194 passband ripple and 53 dB stopband attenuation\n",
      "- Lower passband edge: 1.00\n",
      "- Lower transition bandwidth: 1.00 Hz (-6 dB cutoff frequency: 0.50 Hz)\n",
      "- Filter length: 3301 samples (3.301 s)\n",
      "\n",
      "Filtering raw data in 1 contiguous segment\n",
      "Setting up band-stop filter\n",
      "\n",
      "FIR filter parameters\n",
      "---------------------\n",
      "Designing a one-pass, zero-phase, non-causal bandstop filter:\n",
      "- Windowed time-domain design (firwin) method\n",
      "- Hamming window with 0.0194 passband ripple and 53 dB stopband attenuation\n",
      "- Lower transition bandwidth: 0.50 Hz\n",
      "- Upper transition bandwidth: 0.50 Hz\n",
      "- Filter length: 6601 samples (6.601 s)\n",
      "\n"
     ]
    },
    {
     "name": "stderr",
     "output_type": "stream",
     "text": [
      "[Parallel(n_jobs=1)]: Done  17 tasks      | elapsed:    0.0s\n",
      "[Parallel(n_jobs=1)]: Done  17 tasks      | elapsed:    0.0s\n"
     ]
    },
    {
     "name": "stdout",
     "output_type": "stream",
     "text": [
      "NOTE: plot_psd() is a legacy function. New code should use .compute_psd().plot().\n",
      "Effective window size : 2.048 (s)\n",
      "Overwriting existing file.\n",
      "Writing /home/prakhar7/mfprl/neuroconn/batch/../data/out/subjects/414/EC/414_maprenamed&nfiltered.fif\n",
      "Closing /home/prakhar7/mfprl/neuroconn/batch/../data/out/subjects/414/EC/414_maprenamed&nfiltered.fif\n",
      "[done]\n",
      "Extracting parameters from ../data/in/subjects/414/EO/TCOA_414_EO.vhdr...\n",
      "Setting channel info structure...\n",
      "Reading 0 ... 63399  =      0.000 ...    63.399 secs...\n"
     ]
    },
    {
     "name": "stderr",
     "output_type": "stream",
     "text": [
      "/tmp/ipykernel_4122015/187000733.py:140: RuntimeWarning: This filename (/home/prakhar7/mfprl/neuroconn/batch/../data/out/subjects/414/EC/414_maprenamed&nfiltered.fif) does not conform to MNE naming conventions. All raw files should end with raw.fif, raw_sss.fif, raw_tsss.fif, _meg.fif, _eeg.fif, _ieeg.fif, raw.fif.gz, raw_sss.fif.gz, raw_tsss.fif.gz, _meg.fif.gz, _eeg.fif.gz or _ieeg.fif.gz\n",
      "  EEG.save(preprocessed_file, overwrite=True)\n"
     ]
    },
    {
     "name": "stdout",
     "output_type": "stream",
     "text": [
      "Success\n",
      "Overwriting existing file.\n",
      "Writing /home/prakhar7/mfprl/neuroconn/batch/../data/out/subjects/414/EO/414_raw.fif\n",
      "Closing /home/prakhar7/mfprl/neuroconn/batch/../data/out/subjects/414/EO/414_raw.fif\n",
      "[done]\n",
      "Filtering raw data in 1 contiguous segment\n",
      "Setting up low-pass filter at 50 Hz\n",
      "\n",
      "FIR filter parameters\n",
      "---------------------\n",
      "Designing a one-pass, zero-phase, non-causal lowpass filter:\n",
      "- Windowed time-domain design (firwin) method\n",
      "- Hamming window with 0.0194 passband ripple and 53 dB stopband attenuation\n",
      "- Upper passband edge: 50.00 Hz\n",
      "- Upper transition bandwidth: 12.50 Hz (-6 dB cutoff frequency: 56.25 Hz)\n",
      "- Filter length: 265 samples (0.265 s)\n",
      "\n"
     ]
    },
    {
     "name": "stderr",
     "output_type": "stream",
     "text": [
      "/tmp/ipykernel_4122015/187000733.py:86: RuntimeWarning: Fiducial point nasion not found, assuming identity unknown to head transformation\n",
      "  EEG.set_montage(montage, on_missing='warn')\n",
      "/tmp/ipykernel_4122015/187000733.py:86: RuntimeWarning: DigMontage is only a subset of info. There is 1 channel position not present in the DigMontage. The channel missing from the montage is:\n",
      "\n",
      "['Rmastoid'].\n",
      "\n",
      "Consider using inst.rename_channels to match the montage nomenclature, or inst.set_channel_types if this is not an EEG channel, or use the on_missing parameter if the channel position is allowed to be unknown in your analyses.\n",
      "  EEG.set_montage(montage, on_missing='warn')\n",
      "/tmp/ipykernel_4122015/187000733.py:117: RuntimeWarning: The unit for channel(s) Rmastoid has changed from V to NA.\n",
      "  EEG.set_channel_types(channel_types)\n",
      "[Parallel(n_jobs=1)]: Done  17 tasks      | elapsed:    0.1s\n"
     ]
    },
    {
     "name": "stdout",
     "output_type": "stream",
     "text": [
      "Filtering raw data in 1 contiguous segment\n",
      "Setting up high-pass filter at 1 Hz\n",
      "\n",
      "FIR filter parameters\n",
      "---------------------\n",
      "Designing a one-pass, zero-phase, non-causal highpass filter:\n",
      "- Windowed time-domain design (firwin) method\n",
      "- Hamming window with 0.0194 passband ripple and 53 dB stopband attenuation\n",
      "- Lower passband edge: 1.00\n",
      "- Lower transition bandwidth: 1.00 Hz (-6 dB cutoff frequency: 0.50 Hz)\n",
      "- Filter length: 3301 samples (3.301 s)\n",
      "\n",
      "Filtering raw data in 1 contiguous segment\n",
      "Setting up band-stop filter\n",
      "\n",
      "FIR filter parameters\n",
      "---------------------\n",
      "Designing a one-pass, zero-phase, non-causal bandstop filter:\n",
      "- Windowed time-domain design (firwin) method\n",
      "- Hamming window with 0.0194 passband ripple and 53 dB stopband attenuation\n",
      "- Lower transition bandwidth: 0.50 Hz\n",
      "- Upper transition bandwidth: 0.50 Hz\n",
      "- Filter length: 6601 samples (6.601 s)\n",
      "\n"
     ]
    },
    {
     "name": "stderr",
     "output_type": "stream",
     "text": [
      "[Parallel(n_jobs=1)]: Done  17 tasks      | elapsed:    0.0s\n",
      "[Parallel(n_jobs=1)]: Done  17 tasks      | elapsed:    0.0s\n"
     ]
    },
    {
     "name": "stdout",
     "output_type": "stream",
     "text": [
      "NOTE: plot_psd() is a legacy function. New code should use .compute_psd().plot().\n",
      "Effective window size : 2.048 (s)\n",
      "Overwriting existing file.\n",
      "Writing /home/prakhar7/mfprl/neuroconn/batch/../data/out/subjects/414/EO/414_maprenamed&nfiltered.fif\n",
      "Closing /home/prakhar7/mfprl/neuroconn/batch/../data/out/subjects/414/EO/414_maprenamed&nfiltered.fif\n",
      "[done]\n",
      "Extracting parameters from ../data/in/subjects/415/EC/TCOA_415_EC.vhdr...\n",
      "Setting channel info structure...\n",
      "Reading 0 ... 63849  =      0.000 ...    63.849 secs...\n"
     ]
    },
    {
     "name": "stderr",
     "output_type": "stream",
     "text": [
      "/tmp/ipykernel_4122015/187000733.py:140: RuntimeWarning: This filename (/home/prakhar7/mfprl/neuroconn/batch/../data/out/subjects/414/EO/414_maprenamed&nfiltered.fif) does not conform to MNE naming conventions. All raw files should end with raw.fif, raw_sss.fif, raw_tsss.fif, _meg.fif, _eeg.fif, _ieeg.fif, raw.fif.gz, raw_sss.fif.gz, raw_tsss.fif.gz, _meg.fif.gz, _eeg.fif.gz or _ieeg.fif.gz\n",
      "  EEG.save(preprocessed_file, overwrite=True)\n"
     ]
    },
    {
     "name": "stdout",
     "output_type": "stream",
     "text": [
      "Success\n",
      "Overwriting existing file.\n",
      "Writing /home/prakhar7/mfprl/neuroconn/batch/../data/out/subjects/415/EC/415_raw.fif\n",
      "Closing /home/prakhar7/mfprl/neuroconn/batch/../data/out/subjects/415/EC/415_raw.fif\n",
      "[done]\n",
      "Filtering raw data in 1 contiguous segment\n",
      "Setting up low-pass filter at 50 Hz\n",
      "\n",
      "FIR filter parameters\n",
      "---------------------\n",
      "Designing a one-pass, zero-phase, non-causal lowpass filter:\n",
      "- Windowed time-domain design (firwin) method\n",
      "- Hamming window with 0.0194 passband ripple and 53 dB stopband attenuation\n",
      "- Upper passband edge: 50.00 Hz\n",
      "- Upper transition bandwidth: 12.50 Hz (-6 dB cutoff frequency: 56.25 Hz)\n",
      "- Filter length: 265 samples (0.265 s)\n",
      "\n"
     ]
    },
    {
     "name": "stderr",
     "output_type": "stream",
     "text": [
      "/tmp/ipykernel_4122015/187000733.py:86: RuntimeWarning: Fiducial point nasion not found, assuming identity unknown to head transformation\n",
      "  EEG.set_montage(montage, on_missing='warn')\n",
      "/tmp/ipykernel_4122015/187000733.py:86: RuntimeWarning: DigMontage is only a subset of info. There is 1 channel position not present in the DigMontage. The channel missing from the montage is:\n",
      "\n",
      "['Rmastoid'].\n",
      "\n",
      "Consider using inst.rename_channels to match the montage nomenclature, or inst.set_channel_types if this is not an EEG channel, or use the on_missing parameter if the channel position is allowed to be unknown in your analyses.\n",
      "  EEG.set_montage(montage, on_missing='warn')\n",
      "/tmp/ipykernel_4122015/187000733.py:117: RuntimeWarning: The unit for channel(s) Rmastoid has changed from V to NA.\n",
      "  EEG.set_channel_types(channel_types)\n",
      "[Parallel(n_jobs=1)]: Done  17 tasks      | elapsed:    0.1s\n"
     ]
    },
    {
     "name": "stdout",
     "output_type": "stream",
     "text": [
      "Filtering raw data in 1 contiguous segment\n",
      "Setting up high-pass filter at 1 Hz\n",
      "\n",
      "FIR filter parameters\n",
      "---------------------\n",
      "Designing a one-pass, zero-phase, non-causal highpass filter:\n",
      "- Windowed time-domain design (firwin) method\n",
      "- Hamming window with 0.0194 passband ripple and 53 dB stopband attenuation\n",
      "- Lower passband edge: 1.00\n",
      "- Lower transition bandwidth: 1.00 Hz (-6 dB cutoff frequency: 0.50 Hz)\n",
      "- Filter length: 3301 samples (3.301 s)\n",
      "\n",
      "Filtering raw data in 1 contiguous segment\n",
      "Setting up band-stop filter\n",
      "\n",
      "FIR filter parameters\n",
      "---------------------\n",
      "Designing a one-pass, zero-phase, non-causal bandstop filter:\n",
      "- Windowed time-domain design (firwin) method\n",
      "- Hamming window with 0.0194 passband ripple and 53 dB stopband attenuation\n",
      "- Lower transition bandwidth: 0.50 Hz\n",
      "- Upper transition bandwidth: 0.50 Hz\n",
      "- Filter length: 6601 samples (6.601 s)\n",
      "\n"
     ]
    },
    {
     "name": "stderr",
     "output_type": "stream",
     "text": [
      "[Parallel(n_jobs=1)]: Done  17 tasks      | elapsed:    0.0s\n",
      "[Parallel(n_jobs=1)]: Done  17 tasks      | elapsed:    0.0s\n"
     ]
    },
    {
     "name": "stdout",
     "output_type": "stream",
     "text": [
      "NOTE: plot_psd() is a legacy function. New code should use .compute_psd().plot().\n",
      "Effective window size : 2.048 (s)\n",
      "Overwriting existing file.\n",
      "Writing /home/prakhar7/mfprl/neuroconn/batch/../data/out/subjects/415/EC/415_maprenamed&nfiltered.fif\n",
      "Closing /home/prakhar7/mfprl/neuroconn/batch/../data/out/subjects/415/EC/415_maprenamed&nfiltered.fif\n",
      "[done]\n",
      "Extracting parameters from ../data/in/subjects/415/EO/TCOA_415_EO.vhdr...\n",
      "Setting channel info structure...\n",
      "Reading 0 ... 64749  =      0.000 ...    64.749 secs...\n"
     ]
    },
    {
     "name": "stderr",
     "output_type": "stream",
     "text": [
      "/tmp/ipykernel_4122015/187000733.py:140: RuntimeWarning: This filename (/home/prakhar7/mfprl/neuroconn/batch/../data/out/subjects/415/EC/415_maprenamed&nfiltered.fif) does not conform to MNE naming conventions. All raw files should end with raw.fif, raw_sss.fif, raw_tsss.fif, _meg.fif, _eeg.fif, _ieeg.fif, raw.fif.gz, raw_sss.fif.gz, raw_tsss.fif.gz, _meg.fif.gz, _eeg.fif.gz or _ieeg.fif.gz\n",
      "  EEG.save(preprocessed_file, overwrite=True)\n"
     ]
    },
    {
     "name": "stdout",
     "output_type": "stream",
     "text": [
      "Success\n",
      "Overwriting existing file.\n",
      "Writing /home/prakhar7/mfprl/neuroconn/batch/../data/out/subjects/415/EO/415_raw.fif\n",
      "Closing /home/prakhar7/mfprl/neuroconn/batch/../data/out/subjects/415/EO/415_raw.fif\n",
      "[done]\n",
      "Filtering raw data in 1 contiguous segment\n",
      "Setting up low-pass filter at 50 Hz\n",
      "\n",
      "FIR filter parameters\n",
      "---------------------\n",
      "Designing a one-pass, zero-phase, non-causal lowpass filter:\n",
      "- Windowed time-domain design (firwin) method\n",
      "- Hamming window with 0.0194 passband ripple and 53 dB stopband attenuation\n",
      "- Upper passband edge: 50.00 Hz\n",
      "- Upper transition bandwidth: 12.50 Hz (-6 dB cutoff frequency: 56.25 Hz)\n",
      "- Filter length: 265 samples (0.265 s)\n",
      "\n"
     ]
    },
    {
     "name": "stderr",
     "output_type": "stream",
     "text": [
      "/tmp/ipykernel_4122015/187000733.py:86: RuntimeWarning: Fiducial point nasion not found, assuming identity unknown to head transformation\n",
      "  EEG.set_montage(montage, on_missing='warn')\n",
      "/tmp/ipykernel_4122015/187000733.py:86: RuntimeWarning: DigMontage is only a subset of info. There is 1 channel position not present in the DigMontage. The channel missing from the montage is:\n",
      "\n",
      "['Rmastoid'].\n",
      "\n",
      "Consider using inst.rename_channels to match the montage nomenclature, or inst.set_channel_types if this is not an EEG channel, or use the on_missing parameter if the channel position is allowed to be unknown in your analyses.\n",
      "  EEG.set_montage(montage, on_missing='warn')\n",
      "/tmp/ipykernel_4122015/187000733.py:117: RuntimeWarning: The unit for channel(s) Rmastoid has changed from V to NA.\n",
      "  EEG.set_channel_types(channel_types)\n",
      "[Parallel(n_jobs=1)]: Done  17 tasks      | elapsed:    0.1s\n"
     ]
    },
    {
     "name": "stdout",
     "output_type": "stream",
     "text": [
      "Filtering raw data in 1 contiguous segment\n",
      "Setting up high-pass filter at 1 Hz\n",
      "\n",
      "FIR filter parameters\n",
      "---------------------\n",
      "Designing a one-pass, zero-phase, non-causal highpass filter:\n",
      "- Windowed time-domain design (firwin) method\n",
      "- Hamming window with 0.0194 passband ripple and 53 dB stopband attenuation\n",
      "- Lower passband edge: 1.00\n",
      "- Lower transition bandwidth: 1.00 Hz (-6 dB cutoff frequency: 0.50 Hz)\n",
      "- Filter length: 3301 samples (3.301 s)\n",
      "\n",
      "Filtering raw data in 1 contiguous segment\n",
      "Setting up band-stop filter\n",
      "\n",
      "FIR filter parameters\n",
      "---------------------\n",
      "Designing a one-pass, zero-phase, non-causal bandstop filter:\n",
      "- Windowed time-domain design (firwin) method\n",
      "- Hamming window with 0.0194 passband ripple and 53 dB stopband attenuation\n",
      "- Lower transition bandwidth: 0.50 Hz\n",
      "- Upper transition bandwidth: 0.50 Hz\n",
      "- Filter length: 6601 samples (6.601 s)\n",
      "\n"
     ]
    },
    {
     "name": "stderr",
     "output_type": "stream",
     "text": [
      "[Parallel(n_jobs=1)]: Done  17 tasks      | elapsed:    0.0s\n",
      "[Parallel(n_jobs=1)]: Done  17 tasks      | elapsed:    0.0s\n"
     ]
    },
    {
     "name": "stdout",
     "output_type": "stream",
     "text": [
      "NOTE: plot_psd() is a legacy function. New code should use .compute_psd().plot().\n",
      "Effective window size : 2.048 (s)\n",
      "Overwriting existing file.\n",
      "Writing /home/prakhar7/mfprl/neuroconn/batch/../data/out/subjects/415/EO/415_maprenamed&nfiltered.fif\n",
      "Closing /home/prakhar7/mfprl/neuroconn/batch/../data/out/subjects/415/EO/415_maprenamed&nfiltered.fif\n",
      "[done]\n",
      "Extracting parameters from ../data/in/subjects/416/EC/TCOA_416_EC.vhdr...\n",
      "Setting channel info structure...\n",
      "Reading 0 ... 62599  =      0.000 ...    62.599 secs...\n"
     ]
    },
    {
     "name": "stderr",
     "output_type": "stream",
     "text": [
      "/tmp/ipykernel_4122015/187000733.py:140: RuntimeWarning: This filename (/home/prakhar7/mfprl/neuroconn/batch/../data/out/subjects/415/EO/415_maprenamed&nfiltered.fif) does not conform to MNE naming conventions. All raw files should end with raw.fif, raw_sss.fif, raw_tsss.fif, _meg.fif, _eeg.fif, _ieeg.fif, raw.fif.gz, raw_sss.fif.gz, raw_tsss.fif.gz, _meg.fif.gz, _eeg.fif.gz or _ieeg.fif.gz\n",
      "  EEG.save(preprocessed_file, overwrite=True)\n"
     ]
    },
    {
     "name": "stdout",
     "output_type": "stream",
     "text": [
      "Success\n",
      "Overwriting existing file.\n",
      "Writing /home/prakhar7/mfprl/neuroconn/batch/../data/out/subjects/416/EC/416_raw.fif\n",
      "Closing /home/prakhar7/mfprl/neuroconn/batch/../data/out/subjects/416/EC/416_raw.fif\n",
      "[done]\n",
      "Filtering raw data in 1 contiguous segment\n",
      "Setting up low-pass filter at 50 Hz\n",
      "\n",
      "FIR filter parameters\n",
      "---------------------\n",
      "Designing a one-pass, zero-phase, non-causal lowpass filter:\n",
      "- Windowed time-domain design (firwin) method\n",
      "- Hamming window with 0.0194 passband ripple and 53 dB stopband attenuation\n",
      "- Upper passband edge: 50.00 Hz\n",
      "- Upper transition bandwidth: 12.50 Hz (-6 dB cutoff frequency: 56.25 Hz)\n",
      "- Filter length: 265 samples (0.265 s)\n",
      "\n"
     ]
    },
    {
     "name": "stderr",
     "output_type": "stream",
     "text": [
      "/tmp/ipykernel_4122015/187000733.py:86: RuntimeWarning: Fiducial point nasion not found, assuming identity unknown to head transformation\n",
      "  EEG.set_montage(montage, on_missing='warn')\n",
      "/tmp/ipykernel_4122015/187000733.py:86: RuntimeWarning: DigMontage is only a subset of info. There is 1 channel position not present in the DigMontage. The channel missing from the montage is:\n",
      "\n",
      "['Rmastoid'].\n",
      "\n",
      "Consider using inst.rename_channels to match the montage nomenclature, or inst.set_channel_types if this is not an EEG channel, or use the on_missing parameter if the channel position is allowed to be unknown in your analyses.\n",
      "  EEG.set_montage(montage, on_missing='warn')\n",
      "/tmp/ipykernel_4122015/187000733.py:117: RuntimeWarning: The unit for channel(s) Rmastoid has changed from V to NA.\n",
      "  EEG.set_channel_types(channel_types)\n",
      "[Parallel(n_jobs=1)]: Done  17 tasks      | elapsed:    0.1s\n"
     ]
    },
    {
     "name": "stdout",
     "output_type": "stream",
     "text": [
      "Filtering raw data in 1 contiguous segment\n",
      "Setting up high-pass filter at 1 Hz\n",
      "\n",
      "FIR filter parameters\n",
      "---------------------\n",
      "Designing a one-pass, zero-phase, non-causal highpass filter:\n",
      "- Windowed time-domain design (firwin) method\n",
      "- Hamming window with 0.0194 passband ripple and 53 dB stopband attenuation\n",
      "- Lower passband edge: 1.00\n",
      "- Lower transition bandwidth: 1.00 Hz (-6 dB cutoff frequency: 0.50 Hz)\n",
      "- Filter length: 3301 samples (3.301 s)\n",
      "\n",
      "Filtering raw data in 1 contiguous segment\n",
      "Setting up band-stop filter\n",
      "\n",
      "FIR filter parameters\n",
      "---------------------\n",
      "Designing a one-pass, zero-phase, non-causal bandstop filter:\n",
      "- Windowed time-domain design (firwin) method\n",
      "- Hamming window with 0.0194 passband ripple and 53 dB stopband attenuation\n",
      "- Lower transition bandwidth: 0.50 Hz\n",
      "- Upper transition bandwidth: 0.50 Hz\n",
      "- Filter length: 6601 samples (6.601 s)\n",
      "\n"
     ]
    },
    {
     "name": "stderr",
     "output_type": "stream",
     "text": [
      "[Parallel(n_jobs=1)]: Done  17 tasks      | elapsed:    0.0s\n",
      "[Parallel(n_jobs=1)]: Done  17 tasks      | elapsed:    0.0s\n"
     ]
    },
    {
     "name": "stdout",
     "output_type": "stream",
     "text": [
      "NOTE: plot_psd() is a legacy function. New code should use .compute_psd().plot().\n",
      "Effective window size : 2.048 (s)\n",
      "Overwriting existing file.\n",
      "Writing /home/prakhar7/mfprl/neuroconn/batch/../data/out/subjects/416/EC/416_maprenamed&nfiltered.fif\n",
      "Closing /home/prakhar7/mfprl/neuroconn/batch/../data/out/subjects/416/EC/416_maprenamed&nfiltered.fif\n",
      "[done]\n",
      "Extracting parameters from ../data/in/subjects/416/EO/TCOA_416_EO.vhdr...\n",
      "Setting channel info structure...\n",
      "Reading 0 ... 63599  =      0.000 ...    63.599 secs...\n"
     ]
    },
    {
     "name": "stderr",
     "output_type": "stream",
     "text": [
      "/tmp/ipykernel_4122015/187000733.py:140: RuntimeWarning: This filename (/home/prakhar7/mfprl/neuroconn/batch/../data/out/subjects/416/EC/416_maprenamed&nfiltered.fif) does not conform to MNE naming conventions. All raw files should end with raw.fif, raw_sss.fif, raw_tsss.fif, _meg.fif, _eeg.fif, _ieeg.fif, raw.fif.gz, raw_sss.fif.gz, raw_tsss.fif.gz, _meg.fif.gz, _eeg.fif.gz or _ieeg.fif.gz\n",
      "  EEG.save(preprocessed_file, overwrite=True)\n"
     ]
    },
    {
     "name": "stdout",
     "output_type": "stream",
     "text": [
      "Success\n",
      "Overwriting existing file.\n",
      "Writing /home/prakhar7/mfprl/neuroconn/batch/../data/out/subjects/416/EO/416_raw.fif\n",
      "Closing /home/prakhar7/mfprl/neuroconn/batch/../data/out/subjects/416/EO/416_raw.fif\n",
      "[done]\n",
      "Filtering raw data in 1 contiguous segment\n",
      "Setting up low-pass filter at 50 Hz\n",
      "\n",
      "FIR filter parameters\n",
      "---------------------\n",
      "Designing a one-pass, zero-phase, non-causal lowpass filter:\n",
      "- Windowed time-domain design (firwin) method\n",
      "- Hamming window with 0.0194 passband ripple and 53 dB stopband attenuation\n",
      "- Upper passband edge: 50.00 Hz\n",
      "- Upper transition bandwidth: 12.50 Hz (-6 dB cutoff frequency: 56.25 Hz)\n",
      "- Filter length: 265 samples (0.265 s)\n",
      "\n"
     ]
    },
    {
     "name": "stderr",
     "output_type": "stream",
     "text": [
      "/tmp/ipykernel_4122015/187000733.py:86: RuntimeWarning: Fiducial point nasion not found, assuming identity unknown to head transformation\n",
      "  EEG.set_montage(montage, on_missing='warn')\n",
      "/tmp/ipykernel_4122015/187000733.py:86: RuntimeWarning: DigMontage is only a subset of info. There is 1 channel position not present in the DigMontage. The channel missing from the montage is:\n",
      "\n",
      "['Rmastoid'].\n",
      "\n",
      "Consider using inst.rename_channels to match the montage nomenclature, or inst.set_channel_types if this is not an EEG channel, or use the on_missing parameter if the channel position is allowed to be unknown in your analyses.\n",
      "  EEG.set_montage(montage, on_missing='warn')\n",
      "/tmp/ipykernel_4122015/187000733.py:117: RuntimeWarning: The unit for channel(s) Rmastoid has changed from V to NA.\n",
      "  EEG.set_channel_types(channel_types)\n",
      "[Parallel(n_jobs=1)]: Done  17 tasks      | elapsed:    0.1s\n"
     ]
    },
    {
     "name": "stdout",
     "output_type": "stream",
     "text": [
      "Filtering raw data in 1 contiguous segment\n",
      "Setting up high-pass filter at 1 Hz\n",
      "\n",
      "FIR filter parameters\n",
      "---------------------\n",
      "Designing a one-pass, zero-phase, non-causal highpass filter:\n",
      "- Windowed time-domain design (firwin) method\n",
      "- Hamming window with 0.0194 passband ripple and 53 dB stopband attenuation\n",
      "- Lower passband edge: 1.00\n",
      "- Lower transition bandwidth: 1.00 Hz (-6 dB cutoff frequency: 0.50 Hz)\n",
      "- Filter length: 3301 samples (3.301 s)\n",
      "\n",
      "Filtering raw data in 1 contiguous segment\n",
      "Setting up band-stop filter\n",
      "\n",
      "FIR filter parameters\n",
      "---------------------\n",
      "Designing a one-pass, zero-phase, non-causal bandstop filter:\n",
      "- Windowed time-domain design (firwin) method\n",
      "- Hamming window with 0.0194 passband ripple and 53 dB stopband attenuation\n",
      "- Lower transition bandwidth: 0.50 Hz\n",
      "- Upper transition bandwidth: 0.50 Hz\n",
      "- Filter length: 6601 samples (6.601 s)\n",
      "\n"
     ]
    },
    {
     "name": "stderr",
     "output_type": "stream",
     "text": [
      "[Parallel(n_jobs=1)]: Done  17 tasks      | elapsed:    0.0s\n",
      "[Parallel(n_jobs=1)]: Done  17 tasks      | elapsed:    0.0s\n"
     ]
    },
    {
     "name": "stdout",
     "output_type": "stream",
     "text": [
      "NOTE: plot_psd() is a legacy function. New code should use .compute_psd().plot().\n",
      "Effective window size : 2.048 (s)\n",
      "Overwriting existing file.\n",
      "Writing /home/prakhar7/mfprl/neuroconn/batch/../data/out/subjects/416/EO/416_maprenamed&nfiltered.fif\n",
      "Closing /home/prakhar7/mfprl/neuroconn/batch/../data/out/subjects/416/EO/416_maprenamed&nfiltered.fif\n",
      "[done]\n"
     ]
    },
    {
     "name": "stderr",
     "output_type": "stream",
     "text": [
      "/tmp/ipykernel_4122015/187000733.py:140: RuntimeWarning: This filename (/home/prakhar7/mfprl/neuroconn/batch/../data/out/subjects/416/EO/416_maprenamed&nfiltered.fif) does not conform to MNE naming conventions. All raw files should end with raw.fif, raw_sss.fif, raw_tsss.fif, _meg.fif, _eeg.fif, _ieeg.fif, raw.fif.gz, raw_sss.fif.gz, raw_tsss.fif.gz, _meg.fif.gz, _eeg.fif.gz or _ieeg.fif.gz\n",
      "  EEG.save(preprocessed_file, overwrite=True)\n"
     ]
    }
   ],
   "source": [
    "# Import necessary Python modules\n",
    "from sklearn.decomposition import PCA\n",
    "from mne_icalabel import label_components\n",
    "from mne.preprocessing import ICA\n",
    "import copy  # This is a Python module that allows you to copy objects without changing the original object\n",
    "from scipy import signal\n",
    "import sklearn as sk\n",
    "import matplotlib.pyplot as plt\n",
    "import os\n",
    "import matplotlib\n",
    "import mne\n",
    "import numpy as np\n",
    "from scipy.stats import zscore\n",
    "mne.viz.set_browser_backend('matplotlib', verbose=None)\n",
    "\n",
    "# defining input and output directory\n",
    "files_in = '../data/in/subjects/'\n",
    "files_out = '../data/out/subjects/'\n",
    "\n",
    "\n",
    "# loading list of subject names from txt file\n",
    "names = open(\"./names.txt\", \"r\")\n",
    "subject_list = names.read().split('\\n')\n",
    "modes = ['EC', 'EO']\n",
    "# Read the custom montage\n",
    "montage_path = r\"../data/in/MFPRL_UPDATED_V2.sfp\"\n",
    "montage = mne.channels.read_custom_montage(montage_path)\n",
    "\n",
    "# Define the map of channel names using the provided keys\n",
    "ch_map = {'Ch1': 'Fp1', 'Ch2': 'Fz', 'Ch3': 'F3', 'Ch4': 'F7', 'Ch5': 'LHEye', 'Ch6': 'FC5',\n",
    "          # Setting FPz as GND so it matches montage\n",
    "          'Ch7': 'FC1', 'Ch8': 'C3', 'Ch9': 'T7', 'Ch10': 'GND', 'Ch11': 'CP5', 'Ch12': 'CP1',\n",
    "          'Ch13': 'Pz', 'Ch14': 'P3', 'Ch15': 'P7', 'Ch16': 'O1', 'Ch17': 'Oz', 'Ch18': 'O2',\n",
    "          'Ch19': 'P4', 'Ch20': 'P8', 'Ch21': 'Rmastoid', 'Ch22': 'CP6', 'Ch23': 'CP2', 'Ch24': 'Cz',\n",
    "          'Ch25': 'C4', 'Ch26': 'T8', 'Ch27': 'RHEye', 'Ch28': 'FC6', 'Ch29': 'FC2', 'Ch30': 'F4',\n",
    "          'Ch31': 'F8', 'Ch32': 'Fp2', 'Ch33': 'AF7', 'Ch34': 'AF3', 'Ch35': 'AFz', 'Ch36': 'F1',\n",
    "          'Ch37': 'F5', 'Ch38': 'FT7', 'Ch39': 'FC3', 'Ch40': 'FCz', 'Ch41': 'C1', 'Ch42': 'C5',\n",
    "          'Ch43': 'TP7', 'Ch44': 'CP3', 'Ch45': 'P1', 'Ch46': 'P5', 'Ch47': 'Lneck', 'Ch48': 'PO3',\n",
    "          'Ch49': 'POz', 'Ch50': 'PO4', 'Ch51': 'Rneck', 'Ch52': 'P6', 'Ch53': 'P2', 'Ch54': 'CPz',\n",
    "          'Ch55': 'CP4', 'Ch56': 'TP8', 'Ch57': 'C6', 'Ch58': 'C2', 'Ch59': 'FC4', 'Ch60': 'FT8',\n",
    "          'Ch61': 'F6', 'Ch62': 'F2', 'Ch63': 'AF4', 'Ch64': 'RVEye'}\n",
    "\n",
    "for subject in subject_list:\n",
    "    for mode in modes:\n",
    "        # defining paths for current subject\n",
    "\n",
    "        input_path = files_in+subject + '/' + mode + '/'\n",
    "        output_path = files_out + subject + '/' + mode + '/'\n",
    "\n",
    "        log_file = output_path+'log1.txt'\n",
    "        log = open(log_file, \"w\")\n",
    "\n",
    "        # debug line\n",
    "        log.write(\"Reading in .vhdr at \" + input_path + 'TCOA_' +\n",
    "                  subject + '_'+mode+'.vhdr' + \"\\n \\n \\n \\n\")\n",
    "        # loading in VHDR file\n",
    "        try:\n",
    "            EEG = mne.io.read_raw_brainvision(\n",
    "                input_path + 'TCOA_' +\n",
    "                subject + '_'+mode+'.vhdr', preload=True)\n",
    "            print('Success')\n",
    "        except:  # skip if error\n",
    "            log.write(\"ERROR Reading in .vhdr at \" +\n",
    "                      input_path + 'TCOA_' +\n",
    "                      subject + '_'+mode+'.vhdr' + \"\\n\")\n",
    "            continue\n",
    "\n",
    "        # drop channels\n",
    "        channels_to_drop = EEG.ch_names[-8:]\n",
    "        EEG.drop_channels(channels_to_drop)\n",
    "\n",
    "        matplotlib.use('Agg')  # disable plotting\n",
    "        raw_plot = EEG.plot(n_channels=len(EEG.ch_names),\n",
    "                            scalings='auto', show=False)\n",
    "        raw_file = output_path + subject + '_raw.fif'\n",
    "        EEG.save(raw_file, overwrite=True)\n",
    "\n",
    "        # write channel info to the log file\n",
    "        log.write(str(EEG.info))\n",
    "        log.write(\"\\n \\n \\n \\n\")\n",
    "\n",
    "        # Rename the channels using the new ch_map\n",
    "        EEG.rename_channels(ch_map)\n",
    "\n",
    "        # Now the channels should match the names in the montage\n",
    "        EEG.set_montage(montage, on_missing='warn')\n",
    "\n",
    "        # Create a dictionary for channel types\n",
    "        channel_types = {}\n",
    "\n",
    "        # Set all channels to 'eeg' by default\n",
    "        for ch in ch_map.values():\n",
    "            channel_types[ch] = 'eeg'\n",
    "\n",
    "        # Update the dictionary with the special channel types\n",
    "        channel_types['RVEye'] = 'eog'\n",
    "        channel_types['LHEye'] = 'eog'\n",
    "        channel_types['RHEye'] = 'eog'\n",
    "        channel_types['Rneck'] = 'emg'\n",
    "        channel_types['Lneck'] = 'emg'\n",
    "        channel_types['Rmastoid'] = 'misc'\n",
    "\n",
    "        # Retrieve the locations of FP1 and FP2\n",
    "        fp1_loc = EEG.info['chs'][EEG.ch_names.index('Fp1')]['loc'][:3]\n",
    "        fp2_loc = EEG.info['chs'][EEG.ch_names.index('Fp2')]['loc'][:3]\n",
    "\n",
    "        # Compute the average location for FPz\n",
    "        fpz_loc = (fp1_loc + fp2_loc) / 2\n",
    "\n",
    "        # Update the location of FPz in the original_EEG object\n",
    "        EEG.info['chs'][EEG.ch_names.index('GND')]['loc'][:3] = fpz_loc\n",
    "\n",
    "        # Print the updated location of FPz to verify\n",
    "        log.write(\"Updated location of FPz:\" + str(fpz_loc) + \"\\n\")\n",
    "\n",
    "        # Set the channel types in the EEG data\n",
    "        EEG.set_channel_types(channel_types)\n",
    "\n",
    "        # Apply a low-pass filter with a cutoff of 50 Hz\n",
    "        EEG.filter(l_freq=None, h_freq=50)\n",
    "\n",
    "        # Apply a high-pass filter with a cutoff of 1 Hz\n",
    "        EEG.filter(l_freq=1, h_freq=None)\n",
    "\n",
    "        # Add a notch filter from 60 Hz\n",
    "        # This will create an array [60, 120, 180, 240] to capture the harmonics\n",
    "        freqs = np.arange(60, 241, 60)\n",
    "        EEG.notch_filter(freqs)\n",
    "\n",
    "        # Plot the data to visualize waveforms after filtering\n",
    "        filtered_plot = EEG.plot(n_channels=len(\n",
    "            EEG.ch_names), scalings='auto', show=False)\n",
    "\n",
    "        # Plotting EEG signal via PSD to check if the notch filter removed the power line noise\n",
    "        psd_plot = EEG.plot_psd()\n",
    "        plt.savefig(output_path+'psd.png')\n",
    "        # Save the filtered data\n",
    "        # Replace with your desired output directory\n",
    "        preprocessed_file = output_path + subject + '_maprenamed&nfiltered.fif'\n",
    "        EEG.save(preprocessed_file, overwrite=True)"
   ]
  },
  {
   "cell_type": "code",
   "execution_count": null,
   "metadata": {},
   "outputs": [],
   "source": []
  }
 ],
 "metadata": {
  "kernelspec": {
   "display_name": "main3",
   "language": "python",
   "name": "main3"
  },
  "language_info": {
   "codemirror_mode": {
    "name": "ipython",
    "version": 3
   },
   "file_extension": ".py",
   "mimetype": "text/x-python",
   "name": "python",
   "nbconvert_exporter": "python",
   "pygments_lexer": "ipython3",
   "version": "3.10.13"
  }
 },
 "nbformat": 4,
 "nbformat_minor": 2
}
