{
 "cells": [
  {
   "cell_type": "code",
   "execution_count": null,
   "metadata": {},
   "outputs": [
    {
     "name": "stdout",
     "output_type": "stream",
     "text": [
      "Using matplotlib as 2D backend.\n",
      "101 EC\n",
      "Opening raw data file ../data/out/subjects/101/EC/101_maprenamed&nfiltered.fif...\n",
      "    Range : 0 ... 63449 =      0.000 ...    63.449 secs\n",
      "Ready.\n",
      "Reading 0 ... 63449  =      0.000 ...    63.449 secs...\n"
     ]
    },
    {
     "name": "stderr",
     "output_type": "stream",
     "text": [
      "/tmp/ipykernel_4123902/3700352901.py:58: RuntimeWarning: This filename (../data/out/subjects/101/EC/101_maprenamed&nfiltered.fif) does not conform to MNE naming conventions. All raw files should end with raw.fif, raw_sss.fif, raw_tsss.fif, _meg.fif, _eeg.fif, _ieeg.fif, raw.fif.gz, raw_sss.fif.gz, raw_tsss.fif.gz, _meg.fif.gz, _eeg.fif.gz or _ieeg.fif.gz\n",
      "  EEG = mne.io.read_raw_fif(\n"
     ]
    },
    {
     "name": "stdout",
     "output_type": "stream",
     "text": [
      "Overwriting existing file.\n",
      "Writing /home/prakhar7/mfprl/neuroconn/batch/../data/out/subjects/101/EC/101_badchannels.fif\n",
      "Closing /home/prakhar7/mfprl/neuroconn/batch/../data/out/subjects/101/EC/101_badchannels.fif\n",
      "[done]\n",
      "EEG channel type selected for re-referencing\n",
      "Applying average reference.\n",
      "Applying a custom ('EEG',) reference.\n"
     ]
    },
    {
     "name": "stderr",
     "output_type": "stream",
     "text": [
      "/tmp/ipykernel_4123902/3700352901.py:85: RuntimeWarning: This filename (/home/prakhar7/mfprl/neuroconn/batch/../data/out/subjects/101/EC/101_badchannels.fif) does not conform to MNE naming conventions. All raw files should end with raw.fif, raw_sss.fif, raw_tsss.fif, _meg.fif, _eeg.fif, _ieeg.fif, raw.fif.gz, raw_sss.fif.gz, raw_tsss.fif.gz, _meg.fif.gz, _eeg.fif.gz or _ieeg.fif.gz\n",
      "  EEG.save(bad_channel_file, overwrite=True)\n"
     ]
    },
    {
     "name": "stdout",
     "output_type": "stream",
     "text": [
      "Fitting ICA to data using 57 channels (please be patient, this may take a while)\n",
      "Selecting by explained variance: 44 components\n",
      "Computing Extended Infomax ICA\n",
      "Fitting ICA took 24.2s.\n",
      "Creating RawArray with float64 data, n_channels=47, n_times=63450\n",
      "    Range : 0 ... 63449 =      0.000 ...    63.449 secs\n",
      "Ready.\n",
      "NOTE: pick_channels() is a legacy function. New code should use inst.pick(...).\n"
     ]
    },
    {
     "name": "stderr",
     "output_type": "stream",
     "text": [
      "/tmp/ipykernel_4123902/3700352901.py:143: RuntimeWarning: The provided Raw instance is not filtered between 1 and 100 Hz. ICLabel was designed to classify features extracted from an EEG dataset bandpass filtered between 1 and 100 Hz (see the 'filter()' method for Raw and Epochs instances).\n",
      "  ic_labels = label_components(\n"
     ]
    },
    {
     "name": "stdout",
     "output_type": "stream",
     "text": [
      "Applying ICA to Raw instance\n",
      "    Transforming to ICA space (44 components)\n",
      "    Zeroing out 1 ICA component\n",
      "    Projecting back using 57 PCA components\n",
      "Finished 101 EC\n",
      "101 EO\n",
      "Opening raw data file ../data/out/subjects/101/EO/101_maprenamed&nfiltered.fif...\n",
      "    Range : 0 ... 64049 =      0.000 ...    64.049 secs\n",
      "Ready.\n",
      "Reading 0 ... 64049  =      0.000 ...    64.049 secs...\n"
     ]
    },
    {
     "name": "stderr",
     "output_type": "stream",
     "text": [
      "/tmp/ipykernel_4123902/3700352901.py:58: RuntimeWarning: This filename (../data/out/subjects/101/EO/101_maprenamed&nfiltered.fif) does not conform to MNE naming conventions. All raw files should end with raw.fif, raw_sss.fif, raw_tsss.fif, _meg.fif, _eeg.fif, _ieeg.fif, raw.fif.gz, raw_sss.fif.gz, raw_tsss.fif.gz, _meg.fif.gz, _eeg.fif.gz or _ieeg.fif.gz\n",
      "  EEG = mne.io.read_raw_fif(\n"
     ]
    },
    {
     "name": "stdout",
     "output_type": "stream",
     "text": [
      "Overwriting existing file.\n",
      "Writing /home/prakhar7/mfprl/neuroconn/batch/../data/out/subjects/101/EO/101_badchannels.fif\n",
      "Closing /home/prakhar7/mfprl/neuroconn/batch/../data/out/subjects/101/EO/101_badchannels.fif\n",
      "[done]\n",
      "EEG channel type selected for re-referencing\n",
      "Applying average reference.\n",
      "Applying a custom ('EEG',) reference.\n"
     ]
    },
    {
     "name": "stderr",
     "output_type": "stream",
     "text": [
      "/tmp/ipykernel_4123902/3700352901.py:85: RuntimeWarning: This filename (/home/prakhar7/mfprl/neuroconn/batch/../data/out/subjects/101/EO/101_badchannels.fif) does not conform to MNE naming conventions. All raw files should end with raw.fif, raw_sss.fif, raw_tsss.fif, _meg.fif, _eeg.fif, _ieeg.fif, raw.fif.gz, raw_sss.fif.gz, raw_tsss.fif.gz, _meg.fif.gz, _eeg.fif.gz or _ieeg.fif.gz\n",
      "  EEG.save(bad_channel_file, overwrite=True)\n"
     ]
    },
    {
     "name": "stdout",
     "output_type": "stream",
     "text": [
      "Fitting ICA to data using 57 channels (please be patient, this may take a while)\n",
      "Selecting by explained variance: 40 components\n",
      "Computing Extended Infomax ICA\n",
      "Fitting ICA took 22.8s.\n",
      "Creating RawArray with float64 data, n_channels=43, n_times=64050\n",
      "    Range : 0 ... 64049 =      0.000 ...    64.049 secs\n",
      "Ready.\n",
      "NOTE: pick_channels() is a legacy function. New code should use inst.pick(...).\n"
     ]
    },
    {
     "name": "stderr",
     "output_type": "stream",
     "text": [
      "/tmp/ipykernel_4123902/3700352901.py:143: RuntimeWarning: The provided Raw instance is not filtered between 1 and 100 Hz. ICLabel was designed to classify features extracted from an EEG dataset bandpass filtered between 1 and 100 Hz (see the 'filter()' method for Raw and Epochs instances).\n",
      "  ic_labels = label_components(\n"
     ]
    },
    {
     "name": "stdout",
     "output_type": "stream",
     "text": [
      "Applying ICA to Raw instance\n",
      "    Transforming to ICA space (40 components)\n",
      "    Zeroing out 1 ICA component\n",
      "    Projecting back using 57 PCA components\n",
      "Finished 101 EO\n",
      "102 EC\n",
      "Opening raw data file ../data/out/subjects/102/EC/102_maprenamed&nfiltered.fif...\n",
      "    Range : 0 ... 63899 =      0.000 ...    63.899 secs\n",
      "Ready.\n",
      "Reading 0 ... 63899  =      0.000 ...    63.899 secs...\n"
     ]
    },
    {
     "name": "stderr",
     "output_type": "stream",
     "text": [
      "/tmp/ipykernel_4123902/3700352901.py:58: RuntimeWarning: This filename (../data/out/subjects/102/EC/102_maprenamed&nfiltered.fif) does not conform to MNE naming conventions. All raw files should end with raw.fif, raw_sss.fif, raw_tsss.fif, _meg.fif, _eeg.fif, _ieeg.fif, raw.fif.gz, raw_sss.fif.gz, raw_tsss.fif.gz, _meg.fif.gz, _eeg.fif.gz or _ieeg.fif.gz\n",
      "  EEG = mne.io.read_raw_fif(\n"
     ]
    },
    {
     "name": "stdout",
     "output_type": "stream",
     "text": [
      "Overwriting existing file.\n",
      "Writing /home/prakhar7/mfprl/neuroconn/batch/../data/out/subjects/102/EC/102_badchannels.fif\n",
      "Closing /home/prakhar7/mfprl/neuroconn/batch/../data/out/subjects/102/EC/102_badchannels.fif\n",
      "[done]\n",
      "EEG channel type selected for re-referencing\n",
      "Applying average reference.\n",
      "Applying a custom ('EEG',) reference.\n"
     ]
    },
    {
     "name": "stderr",
     "output_type": "stream",
     "text": [
      "/tmp/ipykernel_4123902/3700352901.py:85: RuntimeWarning: This filename (/home/prakhar7/mfprl/neuroconn/batch/../data/out/subjects/102/EC/102_badchannels.fif) does not conform to MNE naming conventions. All raw files should end with raw.fif, raw_sss.fif, raw_tsss.fif, _meg.fif, _eeg.fif, _ieeg.fif, raw.fif.gz, raw_sss.fif.gz, raw_tsss.fif.gz, _meg.fif.gz, _eeg.fif.gz or _ieeg.fif.gz\n",
      "  EEG.save(bad_channel_file, overwrite=True)\n"
     ]
    },
    {
     "name": "stdout",
     "output_type": "stream",
     "text": [
      "Fitting ICA to data using 57 channels (please be patient, this may take a while)\n",
      "Selecting by explained variance: 33 components\n",
      "Computing Extended Infomax ICA\n",
      "Fitting ICA took 12.9s.\n",
      "Creating RawArray with float64 data, n_channels=36, n_times=63900\n",
      "    Range : 0 ... 63899 =      0.000 ...    63.899 secs\n",
      "Ready.\n",
      "NOTE: pick_channels() is a legacy function. New code should use inst.pick(...).\n"
     ]
    },
    {
     "name": "stderr",
     "output_type": "stream",
     "text": [
      "/tmp/ipykernel_4123902/3700352901.py:143: RuntimeWarning: The provided Raw instance is not filtered between 1 and 100 Hz. ICLabel was designed to classify features extracted from an EEG dataset bandpass filtered between 1 and 100 Hz (see the 'filter()' method for Raw and Epochs instances).\n",
      "  ic_labels = label_components(\n"
     ]
    },
    {
     "name": "stdout",
     "output_type": "stream",
     "text": [
      "Applying ICA to Raw instance\n",
      "    Transforming to ICA space (33 components)\n",
      "    Zeroing out 1 ICA component\n",
      "    Projecting back using 57 PCA components\n",
      "Finished 102 EC\n",
      "102 EO\n",
      "Opening raw data file ../data/out/subjects/102/EO/102_maprenamed&nfiltered.fif...\n",
      "    Range : 0 ... 63949 =      0.000 ...    63.949 secs\n",
      "Ready.\n",
      "Reading 0 ... 63949  =      0.000 ...    63.949 secs...\n"
     ]
    },
    {
     "name": "stderr",
     "output_type": "stream",
     "text": [
      "/tmp/ipykernel_4123902/3700352901.py:58: RuntimeWarning: This filename (../data/out/subjects/102/EO/102_maprenamed&nfiltered.fif) does not conform to MNE naming conventions. All raw files should end with raw.fif, raw_sss.fif, raw_tsss.fif, _meg.fif, _eeg.fif, _ieeg.fif, raw.fif.gz, raw_sss.fif.gz, raw_tsss.fif.gz, _meg.fif.gz, _eeg.fif.gz or _ieeg.fif.gz\n",
      "  EEG = mne.io.read_raw_fif(\n"
     ]
    },
    {
     "name": "stdout",
     "output_type": "stream",
     "text": [
      "Overwriting existing file.\n",
      "Writing /home/prakhar7/mfprl/neuroconn/batch/../data/out/subjects/102/EO/102_badchannels.fif\n",
      "Closing /home/prakhar7/mfprl/neuroconn/batch/../data/out/subjects/102/EO/102_badchannels.fif\n",
      "[done]\n",
      "EEG channel type selected for re-referencing\n",
      "Applying average reference.\n",
      "Applying a custom ('EEG',) reference.\n"
     ]
    },
    {
     "name": "stderr",
     "output_type": "stream",
     "text": [
      "/tmp/ipykernel_4123902/3700352901.py:85: RuntimeWarning: This filename (/home/prakhar7/mfprl/neuroconn/batch/../data/out/subjects/102/EO/102_badchannels.fif) does not conform to MNE naming conventions. All raw files should end with raw.fif, raw_sss.fif, raw_tsss.fif, _meg.fif, _eeg.fif, _ieeg.fif, raw.fif.gz, raw_sss.fif.gz, raw_tsss.fif.gz, _meg.fif.gz, _eeg.fif.gz or _ieeg.fif.gz\n",
      "  EEG.save(bad_channel_file, overwrite=True)\n"
     ]
    },
    {
     "name": "stdout",
     "output_type": "stream",
     "text": [
      "Fitting ICA to data using 57 channels (please be patient, this may take a while)\n",
      "Selecting by explained variance: 4 components\n",
      "Computing Extended Infomax ICA\n",
      "Fitting ICA took 4.1s.\n",
      "Creating RawArray with float64 data, n_channels=7, n_times=63950\n",
      "    Range : 0 ... 63949 =      0.000 ...    63.949 secs\n",
      "Ready.\n",
      "NOTE: pick_channels() is a legacy function. New code should use inst.pick(...).\n"
     ]
    },
    {
     "name": "stderr",
     "output_type": "stream",
     "text": [
      "/tmp/ipykernel_4123902/3700352901.py:143: RuntimeWarning: The provided Raw instance is not filtered between 1 and 100 Hz. ICLabel was designed to classify features extracted from an EEG dataset bandpass filtered between 1 and 100 Hz (see the 'filter()' method for Raw and Epochs instances).\n",
      "  ic_labels = label_components(\n"
     ]
    },
    {
     "name": "stdout",
     "output_type": "stream",
     "text": [
      "Applying ICA to Raw instance\n",
      "    Transforming to ICA space (4 components)\n",
      "    Zeroing out 1 ICA component\n",
      "    Projecting back using 57 PCA components\n",
      "Finished 102 EO\n",
      "103 EC\n",
      "Opening raw data file ../data/out/subjects/103/EC/103_maprenamed&nfiltered.fif...\n",
      "    Range : 0 ... 64249 =      0.000 ...    64.249 secs\n",
      "Ready.\n",
      "Reading 0 ... 64249  =      0.000 ...    64.249 secs...\n"
     ]
    },
    {
     "name": "stderr",
     "output_type": "stream",
     "text": [
      "/tmp/ipykernel_4123902/3700352901.py:58: RuntimeWarning: This filename (../data/out/subjects/103/EC/103_maprenamed&nfiltered.fif) does not conform to MNE naming conventions. All raw files should end with raw.fif, raw_sss.fif, raw_tsss.fif, _meg.fif, _eeg.fif, _ieeg.fif, raw.fif.gz, raw_sss.fif.gz, raw_tsss.fif.gz, _meg.fif.gz, _eeg.fif.gz or _ieeg.fif.gz\n",
      "  EEG = mne.io.read_raw_fif(\n",
      "/home/prakhar7/.conda/envs/main3/lib/python3.10/site-packages/mne/viz/_mpl_figure.py:2373: RuntimeWarning: More than 20 figures have been opened. Figures created through the pyplot interface (`matplotlib.pyplot.figure`) are retained until explicitly closed and may consume too much memory. (To control this warning, see the rcParam `figure.max_open_warning`). Consider using `matplotlib.pyplot.close()`.\n",
      "  fig = plt.figure(FigureClass=FigureClass, **kwargs)\n"
     ]
    },
    {
     "name": "stdout",
     "output_type": "stream",
     "text": [
      "Overwriting existing file.\n",
      "Writing /home/prakhar7/mfprl/neuroconn/batch/../data/out/subjects/103/EC/103_badchannels.fif\n",
      "Closing /home/prakhar7/mfprl/neuroconn/batch/../data/out/subjects/103/EC/103_badchannels.fif\n",
      "[done]\n",
      "EEG channel type selected for re-referencing\n",
      "Applying average reference.\n",
      "Applying a custom ('EEG',) reference.\n"
     ]
    },
    {
     "name": "stderr",
     "output_type": "stream",
     "text": [
      "/tmp/ipykernel_4123902/3700352901.py:85: RuntimeWarning: This filename (/home/prakhar7/mfprl/neuroconn/batch/../data/out/subjects/103/EC/103_badchannels.fif) does not conform to MNE naming conventions. All raw files should end with raw.fif, raw_sss.fif, raw_tsss.fif, _meg.fif, _eeg.fif, _ieeg.fif, raw.fif.gz, raw_sss.fif.gz, raw_tsss.fif.gz, _meg.fif.gz, _eeg.fif.gz or _ieeg.fif.gz\n",
      "  EEG.save(bad_channel_file, overwrite=True)\n"
     ]
    },
    {
     "name": "stdout",
     "output_type": "stream",
     "text": [
      "Fitting ICA to data using 57 channels (please be patient, this may take a while)\n",
      "Selecting by explained variance: 18 components\n",
      "Computing Extended Infomax ICA\n",
      "Fitting ICA took 9.6s.\n",
      "Creating RawArray with float64 data, n_channels=21, n_times=64250\n",
      "    Range : 0 ... 64249 =      0.000 ...    64.249 secs\n",
      "Ready.\n",
      "NOTE: pick_channels() is a legacy function. New code should use inst.pick(...).\n"
     ]
    },
    {
     "name": "stderr",
     "output_type": "stream",
     "text": [
      "/tmp/ipykernel_4123902/3700352901.py:143: RuntimeWarning: The provided Raw instance is not filtered between 1 and 100 Hz. ICLabel was designed to classify features extracted from an EEG dataset bandpass filtered between 1 and 100 Hz (see the 'filter()' method for Raw and Epochs instances).\n",
      "  ic_labels = label_components(\n"
     ]
    },
    {
     "name": "stdout",
     "output_type": "stream",
     "text": [
      "Applying ICA to Raw instance\n",
      "    Transforming to ICA space (18 components)\n",
      "    Zeroing out 1 ICA component\n",
      "    Projecting back using 57 PCA components\n",
      "Finished 103 EC\n",
      "103 EO\n",
      "Opening raw data file ../data/out/subjects/103/EO/103_maprenamed&nfiltered.fif...\n",
      "    Range : 0 ... 64149 =      0.000 ...    64.149 secs\n",
      "Ready.\n",
      "Reading 0 ... 64149  =      0.000 ...    64.149 secs...\n"
     ]
    },
    {
     "name": "stderr",
     "output_type": "stream",
     "text": [
      "/tmp/ipykernel_4123902/3700352901.py:58: RuntimeWarning: This filename (../data/out/subjects/103/EO/103_maprenamed&nfiltered.fif) does not conform to MNE naming conventions. All raw files should end with raw.fif, raw_sss.fif, raw_tsss.fif, _meg.fif, _eeg.fif, _ieeg.fif, raw.fif.gz, raw_sss.fif.gz, raw_tsss.fif.gz, _meg.fif.gz, _eeg.fif.gz or _ieeg.fif.gz\n",
      "  EEG = mne.io.read_raw_fif(\n"
     ]
    },
    {
     "name": "stdout",
     "output_type": "stream",
     "text": [
      "Overwriting existing file.\n",
      "Writing /home/prakhar7/mfprl/neuroconn/batch/../data/out/subjects/103/EO/103_badchannels.fif\n",
      "Closing /home/prakhar7/mfprl/neuroconn/batch/../data/out/subjects/103/EO/103_badchannels.fif\n",
      "[done]\n",
      "EEG channel type selected for re-referencing\n",
      "Applying average reference.\n",
      "Applying a custom ('EEG',) reference.\n"
     ]
    },
    {
     "name": "stderr",
     "output_type": "stream",
     "text": [
      "/tmp/ipykernel_4123902/3700352901.py:85: RuntimeWarning: This filename (/home/prakhar7/mfprl/neuroconn/batch/../data/out/subjects/103/EO/103_badchannels.fif) does not conform to MNE naming conventions. All raw files should end with raw.fif, raw_sss.fif, raw_tsss.fif, _meg.fif, _eeg.fif, _ieeg.fif, raw.fif.gz, raw_sss.fif.gz, raw_tsss.fif.gz, _meg.fif.gz, _eeg.fif.gz or _ieeg.fif.gz\n",
      "  EEG.save(bad_channel_file, overwrite=True)\n"
     ]
    },
    {
     "name": "stdout",
     "output_type": "stream",
     "text": [
      "Fitting ICA to data using 57 channels (please be patient, this may take a while)\n",
      "Selecting by explained variance: 21 components\n",
      "Computing Extended Infomax ICA\n",
      "Fitting ICA took 9.1s.\n",
      "Creating RawArray with float64 data, n_channels=24, n_times=64150\n",
      "    Range : 0 ... 64149 =      0.000 ...    64.149 secs\n",
      "Ready.\n",
      "NOTE: pick_channels() is a legacy function. New code should use inst.pick(...).\n"
     ]
    },
    {
     "name": "stderr",
     "output_type": "stream",
     "text": [
      "/tmp/ipykernel_4123902/3700352901.py:143: RuntimeWarning: The provided Raw instance is not filtered between 1 and 100 Hz. ICLabel was designed to classify features extracted from an EEG dataset bandpass filtered between 1 and 100 Hz (see the 'filter()' method for Raw and Epochs instances).\n",
      "  ic_labels = label_components(\n"
     ]
    },
    {
     "name": "stdout",
     "output_type": "stream",
     "text": [
      "Applying ICA to Raw instance\n",
      "    Transforming to ICA space (21 components)\n",
      "    Zeroing out 1 ICA component\n",
      "    Projecting back using 57 PCA components\n",
      "Finished 103 EO\n",
      "104 EC\n",
      "Opening raw data file ../data/out/subjects/104/EC/104_maprenamed&nfiltered.fif...\n",
      "    Range : 0 ... 64249 =      0.000 ...    64.249 secs\n",
      "Ready.\n",
      "Reading 0 ... 64249  =      0.000 ...    64.249 secs...\n"
     ]
    },
    {
     "name": "stderr",
     "output_type": "stream",
     "text": [
      "/tmp/ipykernel_4123902/3700352901.py:58: RuntimeWarning: This filename (../data/out/subjects/104/EC/104_maprenamed&nfiltered.fif) does not conform to MNE naming conventions. All raw files should end with raw.fif, raw_sss.fif, raw_tsss.fif, _meg.fif, _eeg.fif, _ieeg.fif, raw.fif.gz, raw_sss.fif.gz, raw_tsss.fif.gz, _meg.fif.gz, _eeg.fif.gz or _ieeg.fif.gz\n",
      "  EEG = mne.io.read_raw_fif(\n"
     ]
    },
    {
     "name": "stdout",
     "output_type": "stream",
     "text": [
      "Overwriting existing file.\n",
      "Writing /home/prakhar7/mfprl/neuroconn/batch/../data/out/subjects/104/EC/104_badchannels.fif\n",
      "Closing /home/prakhar7/mfprl/neuroconn/batch/../data/out/subjects/104/EC/104_badchannels.fif\n",
      "[done]\n",
      "EEG channel type selected for re-referencing\n",
      "Applying average reference.\n",
      "Applying a custom ('EEG',) reference.\n"
     ]
    },
    {
     "name": "stderr",
     "output_type": "stream",
     "text": [
      "/tmp/ipykernel_4123902/3700352901.py:85: RuntimeWarning: This filename (/home/prakhar7/mfprl/neuroconn/batch/../data/out/subjects/104/EC/104_badchannels.fif) does not conform to MNE naming conventions. All raw files should end with raw.fif, raw_sss.fif, raw_tsss.fif, _meg.fif, _eeg.fif, _ieeg.fif, raw.fif.gz, raw_sss.fif.gz, raw_tsss.fif.gz, _meg.fif.gz, _eeg.fif.gz or _ieeg.fif.gz\n",
      "  EEG.save(bad_channel_file, overwrite=True)\n"
     ]
    },
    {
     "name": "stdout",
     "output_type": "stream",
     "text": [
      "Fitting ICA to data using 57 channels (please be patient, this may take a while)\n",
      "Selecting by explained variance: 27 components\n",
      "Computing Extended Infomax ICA\n",
      "Fitting ICA took 16.9s.\n",
      "Creating RawArray with float64 data, n_channels=30, n_times=64250\n",
      "    Range : 0 ... 64249 =      0.000 ...    64.249 secs\n",
      "Ready.\n",
      "NOTE: pick_channels() is a legacy function. New code should use inst.pick(...).\n"
     ]
    },
    {
     "name": "stderr",
     "output_type": "stream",
     "text": [
      "/tmp/ipykernel_4123902/3700352901.py:143: RuntimeWarning: The provided Raw instance is not filtered between 1 and 100 Hz. ICLabel was designed to classify features extracted from an EEG dataset bandpass filtered between 1 and 100 Hz (see the 'filter()' method for Raw and Epochs instances).\n",
      "  ic_labels = label_components(\n"
     ]
    },
    {
     "name": "stdout",
     "output_type": "stream",
     "text": [
      "Applying ICA to Raw instance\n",
      "    Transforming to ICA space (27 components)\n",
      "    Zeroing out 1 ICA component\n",
      "    Projecting back using 57 PCA components\n",
      "Finished 104 EC\n",
      "104 EO\n",
      "Opening raw data file ../data/out/subjects/104/EO/104_maprenamed&nfiltered.fif...\n",
      "    Range : 0 ... 65999 =      0.000 ...    65.999 secs\n",
      "Ready.\n",
      "Reading 0 ... 65999  =      0.000 ...    65.999 secs...\n"
     ]
    },
    {
     "name": "stderr",
     "output_type": "stream",
     "text": [
      "/tmp/ipykernel_4123902/3700352901.py:58: RuntimeWarning: This filename (../data/out/subjects/104/EO/104_maprenamed&nfiltered.fif) does not conform to MNE naming conventions. All raw files should end with raw.fif, raw_sss.fif, raw_tsss.fif, _meg.fif, _eeg.fif, _ieeg.fif, raw.fif.gz, raw_sss.fif.gz, raw_tsss.fif.gz, _meg.fif.gz, _eeg.fif.gz or _ieeg.fif.gz\n",
      "  EEG = mne.io.read_raw_fif(\n"
     ]
    },
    {
     "name": "stdout",
     "output_type": "stream",
     "text": [
      "Overwriting existing file.\n",
      "Writing /home/prakhar7/mfprl/neuroconn/batch/../data/out/subjects/104/EO/104_badchannels.fif\n",
      "Closing /home/prakhar7/mfprl/neuroconn/batch/../data/out/subjects/104/EO/104_badchannels.fif\n",
      "[done]\n",
      "EEG channel type selected for re-referencing\n",
      "Applying average reference.\n",
      "Applying a custom ('EEG',) reference.\n"
     ]
    },
    {
     "name": "stderr",
     "output_type": "stream",
     "text": [
      "/tmp/ipykernel_4123902/3700352901.py:85: RuntimeWarning: This filename (/home/prakhar7/mfprl/neuroconn/batch/../data/out/subjects/104/EO/104_badchannels.fif) does not conform to MNE naming conventions. All raw files should end with raw.fif, raw_sss.fif, raw_tsss.fif, _meg.fif, _eeg.fif, _ieeg.fif, raw.fif.gz, raw_sss.fif.gz, raw_tsss.fif.gz, _meg.fif.gz, _eeg.fif.gz or _ieeg.fif.gz\n",
      "  EEG.save(bad_channel_file, overwrite=True)\n"
     ]
    },
    {
     "name": "stdout",
     "output_type": "stream",
     "text": [
      "Fitting ICA to data using 57 channels (please be patient, this may take a while)\n",
      "Selecting by explained variance: 31 components\n",
      "Computing Extended Infomax ICA\n",
      "Fitting ICA took 15.6s.\n",
      "Creating RawArray with float64 data, n_channels=34, n_times=66000\n",
      "    Range : 0 ... 65999 =      0.000 ...    65.999 secs\n",
      "Ready.\n",
      "NOTE: pick_channels() is a legacy function. New code should use inst.pick(...).\n"
     ]
    },
    {
     "name": "stderr",
     "output_type": "stream",
     "text": [
      "/tmp/ipykernel_4123902/3700352901.py:143: RuntimeWarning: The provided Raw instance is not filtered between 1 and 100 Hz. ICLabel was designed to classify features extracted from an EEG dataset bandpass filtered between 1 and 100 Hz (see the 'filter()' method for Raw and Epochs instances).\n",
      "  ic_labels = label_components(\n"
     ]
    },
    {
     "name": "stdout",
     "output_type": "stream",
     "text": [
      "Applying ICA to Raw instance\n",
      "    Transforming to ICA space (31 components)\n",
      "    Zeroing out 1 ICA component\n",
      "    Projecting back using 57 PCA components\n",
      "Finished 104 EO\n",
      "105 EC\n",
      "Opening raw data file ../data/out/subjects/105/EC/105_maprenamed&nfiltered.fif...\n",
      "    Range : 0 ... 64649 =      0.000 ...    64.649 secs\n",
      "Ready.\n",
      "Reading 0 ... 64649  =      0.000 ...    64.649 secs...\n"
     ]
    },
    {
     "name": "stderr",
     "output_type": "stream",
     "text": [
      "/tmp/ipykernel_4123902/3700352901.py:58: RuntimeWarning: This filename (../data/out/subjects/105/EC/105_maprenamed&nfiltered.fif) does not conform to MNE naming conventions. All raw files should end with raw.fif, raw_sss.fif, raw_tsss.fif, _meg.fif, _eeg.fif, _ieeg.fif, raw.fif.gz, raw_sss.fif.gz, raw_tsss.fif.gz, _meg.fif.gz, _eeg.fif.gz or _ieeg.fif.gz\n",
      "  EEG = mne.io.read_raw_fif(\n"
     ]
    },
    {
     "name": "stdout",
     "output_type": "stream",
     "text": [
      "Overwriting existing file.\n",
      "Writing /home/prakhar7/mfprl/neuroconn/batch/../data/out/subjects/105/EC/105_badchannels.fif\n",
      "Closing /home/prakhar7/mfprl/neuroconn/batch/../data/out/subjects/105/EC/105_badchannels.fif\n",
      "[done]\n",
      "EEG channel type selected for re-referencing\n",
      "Applying average reference.\n",
      "Applying a custom ('EEG',) reference.\n"
     ]
    },
    {
     "name": "stderr",
     "output_type": "stream",
     "text": [
      "/tmp/ipykernel_4123902/3700352901.py:85: RuntimeWarning: This filename (/home/prakhar7/mfprl/neuroconn/batch/../data/out/subjects/105/EC/105_badchannels.fif) does not conform to MNE naming conventions. All raw files should end with raw.fif, raw_sss.fif, raw_tsss.fif, _meg.fif, _eeg.fif, _ieeg.fif, raw.fif.gz, raw_sss.fif.gz, raw_tsss.fif.gz, _meg.fif.gz, _eeg.fif.gz or _ieeg.fif.gz\n",
      "  EEG.save(bad_channel_file, overwrite=True)\n"
     ]
    },
    {
     "name": "stdout",
     "output_type": "stream",
     "text": [
      "Fitting ICA to data using 57 channels (please be patient, this may take a while)\n",
      "Selecting by explained variance: 35 components\n",
      "Computing Extended Infomax ICA\n",
      "Fitting ICA took 12.8s.\n",
      "Creating RawArray with float64 data, n_channels=38, n_times=64650\n",
      "    Range : 0 ... 64649 =      0.000 ...    64.649 secs\n",
      "Ready.\n",
      "NOTE: pick_channels() is a legacy function. New code should use inst.pick(...).\n"
     ]
    },
    {
     "name": "stderr",
     "output_type": "stream",
     "text": [
      "/tmp/ipykernel_4123902/3700352901.py:143: RuntimeWarning: The provided Raw instance is not filtered between 1 and 100 Hz. ICLabel was designed to classify features extracted from an EEG dataset bandpass filtered between 1 and 100 Hz (see the 'filter()' method for Raw and Epochs instances).\n",
      "  ic_labels = label_components(\n"
     ]
    },
    {
     "name": "stdout",
     "output_type": "stream",
     "text": [
      "Applying ICA to Raw instance\n",
      "    Transforming to ICA space (35 components)\n",
      "    Zeroing out 1 ICA component\n",
      "    Projecting back using 57 PCA components\n",
      "Finished 105 EC\n",
      "105 EO\n",
      "Opening raw data file ../data/out/subjects/105/EO/105_maprenamed&nfiltered.fif...\n",
      "    Range : 0 ... 65849 =      0.000 ...    65.849 secs\n",
      "Ready.\n",
      "Reading 0 ... 65849  =      0.000 ...    65.849 secs...\n"
     ]
    },
    {
     "name": "stderr",
     "output_type": "stream",
     "text": [
      "/tmp/ipykernel_4123902/3700352901.py:58: RuntimeWarning: This filename (../data/out/subjects/105/EO/105_maprenamed&nfiltered.fif) does not conform to MNE naming conventions. All raw files should end with raw.fif, raw_sss.fif, raw_tsss.fif, _meg.fif, _eeg.fif, _ieeg.fif, raw.fif.gz, raw_sss.fif.gz, raw_tsss.fif.gz, _meg.fif.gz, _eeg.fif.gz or _ieeg.fif.gz\n",
      "  EEG = mne.io.read_raw_fif(\n"
     ]
    },
    {
     "name": "stdout",
     "output_type": "stream",
     "text": [
      "Overwriting existing file.\n",
      "Writing /home/prakhar7/mfprl/neuroconn/batch/../data/out/subjects/105/EO/105_badchannels.fif\n",
      "Closing /home/prakhar7/mfprl/neuroconn/batch/../data/out/subjects/105/EO/105_badchannels.fif\n",
      "[done]\n",
      "EEG channel type selected for re-referencing\n",
      "Applying average reference.\n",
      "Applying a custom ('EEG',) reference.\n"
     ]
    },
    {
     "name": "stderr",
     "output_type": "stream",
     "text": [
      "/tmp/ipykernel_4123902/3700352901.py:85: RuntimeWarning: This filename (/home/prakhar7/mfprl/neuroconn/batch/../data/out/subjects/105/EO/105_badchannels.fif) does not conform to MNE naming conventions. All raw files should end with raw.fif, raw_sss.fif, raw_tsss.fif, _meg.fif, _eeg.fif, _ieeg.fif, raw.fif.gz, raw_sss.fif.gz, raw_tsss.fif.gz, _meg.fif.gz, _eeg.fif.gz or _ieeg.fif.gz\n",
      "  EEG.save(bad_channel_file, overwrite=True)\n"
     ]
    },
    {
     "name": "stdout",
     "output_type": "stream",
     "text": [
      "Fitting ICA to data using 57 channels (please be patient, this may take a while)\n",
      "Selecting by explained variance: 34 components\n",
      "Computing Extended Infomax ICA\n",
      "Fitting ICA took 15.2s.\n",
      "Creating RawArray with float64 data, n_channels=37, n_times=65850\n",
      "    Range : 0 ... 65849 =      0.000 ...    65.849 secs\n",
      "Ready.\n",
      "NOTE: pick_channels() is a legacy function. New code should use inst.pick(...).\n"
     ]
    },
    {
     "name": "stderr",
     "output_type": "stream",
     "text": [
      "/tmp/ipykernel_4123902/3700352901.py:143: RuntimeWarning: The provided Raw instance is not filtered between 1 and 100 Hz. ICLabel was designed to classify features extracted from an EEG dataset bandpass filtered between 1 and 100 Hz (see the 'filter()' method for Raw and Epochs instances).\n",
      "  ic_labels = label_components(\n"
     ]
    },
    {
     "name": "stdout",
     "output_type": "stream",
     "text": [
      "Applying ICA to Raw instance\n",
      "    Transforming to ICA space (34 components)\n",
      "    Zeroing out 1 ICA component\n",
      "    Projecting back using 57 PCA components\n",
      "Finished 105 EO\n",
      "401 EC\n",
      "Opening raw data file ../data/out/subjects/401/EC/401_maprenamed&nfiltered.fif...\n",
      "    Range : 0 ... 63249 =      0.000 ...    63.249 secs\n",
      "Ready.\n",
      "Reading 0 ... 63249  =      0.000 ...    63.249 secs...\n"
     ]
    },
    {
     "name": "stderr",
     "output_type": "stream",
     "text": [
      "/tmp/ipykernel_4123902/3700352901.py:58: RuntimeWarning: This filename (../data/out/subjects/401/EC/401_maprenamed&nfiltered.fif) does not conform to MNE naming conventions. All raw files should end with raw.fif, raw_sss.fif, raw_tsss.fif, _meg.fif, _eeg.fif, _ieeg.fif, raw.fif.gz, raw_sss.fif.gz, raw_tsss.fif.gz, _meg.fif.gz, _eeg.fif.gz or _ieeg.fif.gz\n",
      "  EEG = mne.io.read_raw_fif(\n"
     ]
    },
    {
     "name": "stdout",
     "output_type": "stream",
     "text": [
      "Writing /home/prakhar7/mfprl/neuroconn/batch/../data/out/subjects/401/EC/401_badchannels.fif\n",
      "Closing /home/prakhar7/mfprl/neuroconn/batch/../data/out/subjects/401/EC/401_badchannels.fif\n",
      "[done]\n",
      "EEG channel type selected for re-referencing\n",
      "Applying average reference.\n",
      "Applying a custom ('EEG',) reference.\n"
     ]
    },
    {
     "name": "stderr",
     "output_type": "stream",
     "text": [
      "/tmp/ipykernel_4123902/3700352901.py:85: RuntimeWarning: This filename (/home/prakhar7/mfprl/neuroconn/batch/../data/out/subjects/401/EC/401_badchannels.fif) does not conform to MNE naming conventions. All raw files should end with raw.fif, raw_sss.fif, raw_tsss.fif, _meg.fif, _eeg.fif, _ieeg.fif, raw.fif.gz, raw_sss.fif.gz, raw_tsss.fif.gz, _meg.fif.gz, _eeg.fif.gz or _ieeg.fif.gz\n",
      "  EEG.save(bad_channel_file, overwrite=True)\n"
     ]
    },
    {
     "name": "stdout",
     "output_type": "stream",
     "text": [
      "Fitting ICA to data using 57 channels (please be patient, this may take a while)\n",
      "Selecting by explained variance: 37 components\n",
      "Computing Extended Infomax ICA\n",
      "Fitting ICA took 14.5s.\n",
      "Creating RawArray with float64 data, n_channels=40, n_times=63250\n",
      "    Range : 0 ... 63249 =      0.000 ...    63.249 secs\n",
      "Ready.\n",
      "NOTE: pick_channels() is a legacy function. New code should use inst.pick(...).\n"
     ]
    },
    {
     "name": "stderr",
     "output_type": "stream",
     "text": [
      "/tmp/ipykernel_4123902/3700352901.py:143: RuntimeWarning: The provided Raw instance is not filtered between 1 and 100 Hz. ICLabel was designed to classify features extracted from an EEG dataset bandpass filtered between 1 and 100 Hz (see the 'filter()' method for Raw and Epochs instances).\n",
      "  ic_labels = label_components(\n"
     ]
    },
    {
     "name": "stdout",
     "output_type": "stream",
     "text": [
      "Applying ICA to Raw instance\n",
      "    Transforming to ICA space (37 components)\n",
      "    Zeroing out 1 ICA component\n",
      "    Projecting back using 57 PCA components\n",
      "Finished 401 EC\n",
      "401 EO\n",
      "Opening raw data file ../data/out/subjects/401/EO/401_maprenamed&nfiltered.fif...\n",
      "    Range : 0 ... 64499 =      0.000 ...    64.499 secs\n",
      "Ready.\n",
      "Reading 0 ... 64499  =      0.000 ...    64.499 secs...\n"
     ]
    },
    {
     "name": "stderr",
     "output_type": "stream",
     "text": [
      "/tmp/ipykernel_4123902/3700352901.py:58: RuntimeWarning: This filename (../data/out/subjects/401/EO/401_maprenamed&nfiltered.fif) does not conform to MNE naming conventions. All raw files should end with raw.fif, raw_sss.fif, raw_tsss.fif, _meg.fif, _eeg.fif, _ieeg.fif, raw.fif.gz, raw_sss.fif.gz, raw_tsss.fif.gz, _meg.fif.gz, _eeg.fif.gz or _ieeg.fif.gz\n",
      "  EEG = mne.io.read_raw_fif(\n"
     ]
    },
    {
     "name": "stdout",
     "output_type": "stream",
     "text": [
      "Writing /home/prakhar7/mfprl/neuroconn/batch/../data/out/subjects/401/EO/401_badchannels.fif\n",
      "Closing /home/prakhar7/mfprl/neuroconn/batch/../data/out/subjects/401/EO/401_badchannels.fif\n",
      "[done]\n",
      "EEG channel type selected for re-referencing\n",
      "Applying average reference.\n",
      "Applying a custom ('EEG',) reference.\n"
     ]
    },
    {
     "name": "stderr",
     "output_type": "stream",
     "text": [
      "/tmp/ipykernel_4123902/3700352901.py:85: RuntimeWarning: This filename (/home/prakhar7/mfprl/neuroconn/batch/../data/out/subjects/401/EO/401_badchannels.fif) does not conform to MNE naming conventions. All raw files should end with raw.fif, raw_sss.fif, raw_tsss.fif, _meg.fif, _eeg.fif, _ieeg.fif, raw.fif.gz, raw_sss.fif.gz, raw_tsss.fif.gz, _meg.fif.gz, _eeg.fif.gz or _ieeg.fif.gz\n",
      "  EEG.save(bad_channel_file, overwrite=True)\n"
     ]
    },
    {
     "name": "stdout",
     "output_type": "stream",
     "text": [
      "Fitting ICA to data using 57 channels (please be patient, this may take a while)\n",
      "Selecting by explained variance: 32 components\n",
      "Computing Extended Infomax ICA\n",
      "Fitting ICA took 13.3s.\n",
      "Creating RawArray with float64 data, n_channels=35, n_times=64500\n",
      "    Range : 0 ... 64499 =      0.000 ...    64.499 secs\n",
      "Ready.\n",
      "NOTE: pick_channels() is a legacy function. New code should use inst.pick(...).\n"
     ]
    },
    {
     "name": "stderr",
     "output_type": "stream",
     "text": [
      "/tmp/ipykernel_4123902/3700352901.py:143: RuntimeWarning: The provided Raw instance is not filtered between 1 and 100 Hz. ICLabel was designed to classify features extracted from an EEG dataset bandpass filtered between 1 and 100 Hz (see the 'filter()' method for Raw and Epochs instances).\n",
      "  ic_labels = label_components(\n"
     ]
    },
    {
     "name": "stdout",
     "output_type": "stream",
     "text": [
      "Applying ICA to Raw instance\n",
      "    Transforming to ICA space (32 components)\n",
      "    Zeroing out 1 ICA component\n",
      "    Projecting back using 57 PCA components\n",
      "Finished 401 EO\n",
      "402 EC\n",
      "Opening raw data file ../data/out/subjects/402/EC/402_maprenamed&nfiltered.fif...\n",
      "    Range : 0 ... 63099 =      0.000 ...    63.099 secs\n",
      "Ready.\n",
      "Reading 0 ... 63099  =      0.000 ...    63.099 secs...\n"
     ]
    },
    {
     "name": "stderr",
     "output_type": "stream",
     "text": [
      "/tmp/ipykernel_4123902/3700352901.py:58: RuntimeWarning: This filename (../data/out/subjects/402/EC/402_maprenamed&nfiltered.fif) does not conform to MNE naming conventions. All raw files should end with raw.fif, raw_sss.fif, raw_tsss.fif, _meg.fif, _eeg.fif, _ieeg.fif, raw.fif.gz, raw_sss.fif.gz, raw_tsss.fif.gz, _meg.fif.gz, _eeg.fif.gz or _ieeg.fif.gz\n",
      "  EEG = mne.io.read_raw_fif(\n"
     ]
    },
    {
     "name": "stdout",
     "output_type": "stream",
     "text": [
      "Writing /home/prakhar7/mfprl/neuroconn/batch/../data/out/subjects/402/EC/402_badchannels.fif\n",
      "Closing /home/prakhar7/mfprl/neuroconn/batch/../data/out/subjects/402/EC/402_badchannels.fif\n",
      "[done]\n",
      "EEG channel type selected for re-referencing\n",
      "Applying average reference.\n",
      "Applying a custom ('EEG',) reference.\n"
     ]
    },
    {
     "name": "stderr",
     "output_type": "stream",
     "text": [
      "/tmp/ipykernel_4123902/3700352901.py:85: RuntimeWarning: This filename (/home/prakhar7/mfprl/neuroconn/batch/../data/out/subjects/402/EC/402_badchannels.fif) does not conform to MNE naming conventions. All raw files should end with raw.fif, raw_sss.fif, raw_tsss.fif, _meg.fif, _eeg.fif, _ieeg.fif, raw.fif.gz, raw_sss.fif.gz, raw_tsss.fif.gz, _meg.fif.gz, _eeg.fif.gz or _ieeg.fif.gz\n",
      "  EEG.save(bad_channel_file, overwrite=True)\n"
     ]
    },
    {
     "name": "stdout",
     "output_type": "stream",
     "text": [
      "Fitting ICA to data using 57 channels (please be patient, this may take a while)\n",
      "Selecting by explained variance: 34 components\n",
      "Computing Extended Infomax ICA\n",
      "Fitting ICA took 16.7s.\n",
      "Creating RawArray with float64 data, n_channels=37, n_times=63100\n",
      "    Range : 0 ... 63099 =      0.000 ...    63.099 secs\n",
      "Ready.\n",
      "NOTE: pick_channels() is a legacy function. New code should use inst.pick(...).\n"
     ]
    },
    {
     "name": "stderr",
     "output_type": "stream",
     "text": [
      "/tmp/ipykernel_4123902/3700352901.py:143: RuntimeWarning: The provided Raw instance is not filtered between 1 and 100 Hz. ICLabel was designed to classify features extracted from an EEG dataset bandpass filtered between 1 and 100 Hz (see the 'filter()' method for Raw and Epochs instances).\n",
      "  ic_labels = label_components(\n"
     ]
    },
    {
     "name": "stdout",
     "output_type": "stream",
     "text": [
      "Applying ICA to Raw instance\n",
      "    Transforming to ICA space (34 components)\n",
      "    Zeroing out 1 ICA component\n",
      "    Projecting back using 57 PCA components\n",
      "Finished 402 EC\n",
      "402 EO\n",
      "Opening raw data file ../data/out/subjects/402/EO/402_maprenamed&nfiltered.fif...\n",
      "    Range : 0 ... 63349 =      0.000 ...    63.349 secs\n",
      "Ready.\n",
      "Reading 0 ... 63349  =      0.000 ...    63.349 secs...\n"
     ]
    },
    {
     "name": "stderr",
     "output_type": "stream",
     "text": [
      "/tmp/ipykernel_4123902/3700352901.py:58: RuntimeWarning: This filename (../data/out/subjects/402/EO/402_maprenamed&nfiltered.fif) does not conform to MNE naming conventions. All raw files should end with raw.fif, raw_sss.fif, raw_tsss.fif, _meg.fif, _eeg.fif, _ieeg.fif, raw.fif.gz, raw_sss.fif.gz, raw_tsss.fif.gz, _meg.fif.gz, _eeg.fif.gz or _ieeg.fif.gz\n",
      "  EEG = mne.io.read_raw_fif(\n"
     ]
    },
    {
     "name": "stdout",
     "output_type": "stream",
     "text": [
      "Writing /home/prakhar7/mfprl/neuroconn/batch/../data/out/subjects/402/EO/402_badchannels.fif\n",
      "Closing /home/prakhar7/mfprl/neuroconn/batch/../data/out/subjects/402/EO/402_badchannels.fif\n",
      "[done]\n",
      "EEG channel type selected for re-referencing\n",
      "Applying average reference.\n",
      "Applying a custom ('EEG',) reference.\n"
     ]
    },
    {
     "name": "stderr",
     "output_type": "stream",
     "text": [
      "/tmp/ipykernel_4123902/3700352901.py:85: RuntimeWarning: This filename (/home/prakhar7/mfprl/neuroconn/batch/../data/out/subjects/402/EO/402_badchannels.fif) does not conform to MNE naming conventions. All raw files should end with raw.fif, raw_sss.fif, raw_tsss.fif, _meg.fif, _eeg.fif, _ieeg.fif, raw.fif.gz, raw_sss.fif.gz, raw_tsss.fif.gz, _meg.fif.gz, _eeg.fif.gz or _ieeg.fif.gz\n",
      "  EEG.save(bad_channel_file, overwrite=True)\n"
     ]
    },
    {
     "name": "stdout",
     "output_type": "stream",
     "text": [
      "Fitting ICA to data using 57 channels (please be patient, this may take a while)\n",
      "Selecting by explained variance: 26 components\n",
      "Computing Extended Infomax ICA\n",
      "Fitting ICA took 36.4s.\n",
      "Creating RawArray with float64 data, n_channels=29, n_times=63350\n",
      "    Range : 0 ... 63349 =      0.000 ...    63.349 secs\n",
      "Ready.\n",
      "NOTE: pick_channels() is a legacy function. New code should use inst.pick(...).\n"
     ]
    },
    {
     "name": "stderr",
     "output_type": "stream",
     "text": [
      "/tmp/ipykernel_4123902/3700352901.py:143: RuntimeWarning: The provided Raw instance is not filtered between 1 and 100 Hz. ICLabel was designed to classify features extracted from an EEG dataset bandpass filtered between 1 and 100 Hz (see the 'filter()' method for Raw and Epochs instances).\n",
      "  ic_labels = label_components(\n"
     ]
    },
    {
     "name": "stdout",
     "output_type": "stream",
     "text": [
      "Applying ICA to Raw instance\n",
      "    Transforming to ICA space (26 components)\n",
      "    Zeroing out 1 ICA component\n",
      "    Projecting back using 57 PCA components\n",
      "Finished 402 EO\n",
      "403 EC\n",
      "Opening raw data file ../data/out/subjects/403/EC/403_maprenamed&nfiltered.fif...\n",
      "    Range : 0 ... 62599 =      0.000 ...    62.599 secs\n",
      "Ready.\n",
      "Reading 0 ... 62599  =      0.000 ...    62.599 secs...\n"
     ]
    },
    {
     "name": "stderr",
     "output_type": "stream",
     "text": [
      "/tmp/ipykernel_4123902/3700352901.py:58: RuntimeWarning: This filename (../data/out/subjects/403/EC/403_maprenamed&nfiltered.fif) does not conform to MNE naming conventions. All raw files should end with raw.fif, raw_sss.fif, raw_tsss.fif, _meg.fif, _eeg.fif, _ieeg.fif, raw.fif.gz, raw_sss.fif.gz, raw_tsss.fif.gz, _meg.fif.gz, _eeg.fif.gz or _ieeg.fif.gz\n",
      "  EEG = mne.io.read_raw_fif(\n"
     ]
    },
    {
     "name": "stdout",
     "output_type": "stream",
     "text": [
      "Writing /home/prakhar7/mfprl/neuroconn/batch/../data/out/subjects/403/EC/403_badchannels.fif\n",
      "Closing /home/prakhar7/mfprl/neuroconn/batch/../data/out/subjects/403/EC/403_badchannels.fif\n",
      "[done]\n",
      "EEG channel type selected for re-referencing\n",
      "Applying average reference.\n",
      "Applying a custom ('EEG',) reference.\n"
     ]
    },
    {
     "name": "stderr",
     "output_type": "stream",
     "text": [
      "/tmp/ipykernel_4123902/3700352901.py:85: RuntimeWarning: This filename (/home/prakhar7/mfprl/neuroconn/batch/../data/out/subjects/403/EC/403_badchannels.fif) does not conform to MNE naming conventions. All raw files should end with raw.fif, raw_sss.fif, raw_tsss.fif, _meg.fif, _eeg.fif, _ieeg.fif, raw.fif.gz, raw_sss.fif.gz, raw_tsss.fif.gz, _meg.fif.gz, _eeg.fif.gz or _ieeg.fif.gz\n",
      "  EEG.save(bad_channel_file, overwrite=True)\n"
     ]
    },
    {
     "name": "stdout",
     "output_type": "stream",
     "text": [
      "Fitting ICA to data using 57 channels (please be patient, this may take a while)\n",
      "Selecting by explained variance: 32 components\n",
      "Computing Extended Infomax ICA\n",
      "Fitting ICA took 14.6s.\n",
      "Creating RawArray with float64 data, n_channels=35, n_times=62600\n",
      "    Range : 0 ... 62599 =      0.000 ...    62.599 secs\n",
      "Ready.\n",
      "NOTE: pick_channels() is a legacy function. New code should use inst.pick(...).\n"
     ]
    },
    {
     "name": "stderr",
     "output_type": "stream",
     "text": [
      "/tmp/ipykernel_4123902/3700352901.py:143: RuntimeWarning: The provided Raw instance is not filtered between 1 and 100 Hz. ICLabel was designed to classify features extracted from an EEG dataset bandpass filtered between 1 and 100 Hz (see the 'filter()' method for Raw and Epochs instances).\n",
      "  ic_labels = label_components(\n"
     ]
    },
    {
     "name": "stdout",
     "output_type": "stream",
     "text": [
      "Applying ICA to Raw instance\n",
      "    Transforming to ICA space (32 components)\n",
      "    Zeroing out 1 ICA component\n",
      "    Projecting back using 57 PCA components\n",
      "Finished 403 EC\n",
      "403 EO\n",
      "Opening raw data file ../data/out/subjects/403/EO/403_maprenamed&nfiltered.fif...\n",
      "    Range : 0 ... 63649 =      0.000 ...    63.649 secs\n",
      "Ready.\n",
      "Reading 0 ... 63649  =      0.000 ...    63.649 secs...\n"
     ]
    },
    {
     "name": "stderr",
     "output_type": "stream",
     "text": [
      "/tmp/ipykernel_4123902/3700352901.py:58: RuntimeWarning: This filename (../data/out/subjects/403/EO/403_maprenamed&nfiltered.fif) does not conform to MNE naming conventions. All raw files should end with raw.fif, raw_sss.fif, raw_tsss.fif, _meg.fif, _eeg.fif, _ieeg.fif, raw.fif.gz, raw_sss.fif.gz, raw_tsss.fif.gz, _meg.fif.gz, _eeg.fif.gz or _ieeg.fif.gz\n",
      "  EEG = mne.io.read_raw_fif(\n"
     ]
    },
    {
     "name": "stdout",
     "output_type": "stream",
     "text": [
      "Writing /home/prakhar7/mfprl/neuroconn/batch/../data/out/subjects/403/EO/403_badchannels.fif\n",
      "Closing /home/prakhar7/mfprl/neuroconn/batch/../data/out/subjects/403/EO/403_badchannels.fif\n",
      "[done]\n",
      "EEG channel type selected for re-referencing\n",
      "Applying average reference.\n",
      "Applying a custom ('EEG',) reference.\n"
     ]
    },
    {
     "name": "stderr",
     "output_type": "stream",
     "text": [
      "/tmp/ipykernel_4123902/3700352901.py:85: RuntimeWarning: This filename (/home/prakhar7/mfprl/neuroconn/batch/../data/out/subjects/403/EO/403_badchannels.fif) does not conform to MNE naming conventions. All raw files should end with raw.fif, raw_sss.fif, raw_tsss.fif, _meg.fif, _eeg.fif, _ieeg.fif, raw.fif.gz, raw_sss.fif.gz, raw_tsss.fif.gz, _meg.fif.gz, _eeg.fif.gz or _ieeg.fif.gz\n",
      "  EEG.save(bad_channel_file, overwrite=True)\n"
     ]
    },
    {
     "name": "stdout",
     "output_type": "stream",
     "text": [
      "Fitting ICA to data using 57 channels (please be patient, this may take a while)\n",
      "Selecting by explained variance: 31 components\n",
      "Computing Extended Infomax ICA\n",
      "Fitting ICA took 15.1s.\n",
      "Creating RawArray with float64 data, n_channels=34, n_times=63650\n",
      "    Range : 0 ... 63649 =      0.000 ...    63.649 secs\n",
      "Ready.\n",
      "NOTE: pick_channels() is a legacy function. New code should use inst.pick(...).\n"
     ]
    },
    {
     "name": "stderr",
     "output_type": "stream",
     "text": [
      "/tmp/ipykernel_4123902/3700352901.py:143: RuntimeWarning: The provided Raw instance is not filtered between 1 and 100 Hz. ICLabel was designed to classify features extracted from an EEG dataset bandpass filtered between 1 and 100 Hz (see the 'filter()' method for Raw and Epochs instances).\n",
      "  ic_labels = label_components(\n"
     ]
    },
    {
     "name": "stdout",
     "output_type": "stream",
     "text": [
      "Applying ICA to Raw instance\n",
      "    Transforming to ICA space (31 components)\n",
      "    Zeroing out 1 ICA component\n",
      "    Projecting back using 57 PCA components\n",
      "Finished 403 EO\n",
      "404 EC\n",
      "Opening raw data file ../data/out/subjects/404/EC/404_maprenamed&nfiltered.fif...\n",
      "    Range : 0 ... 63449 =      0.000 ...    63.449 secs\n",
      "Ready.\n",
      "Reading 0 ... 63449  =      0.000 ...    63.449 secs...\n"
     ]
    },
    {
     "name": "stderr",
     "output_type": "stream",
     "text": [
      "/tmp/ipykernel_4123902/3700352901.py:58: RuntimeWarning: This filename (../data/out/subjects/404/EC/404_maprenamed&nfiltered.fif) does not conform to MNE naming conventions. All raw files should end with raw.fif, raw_sss.fif, raw_tsss.fif, _meg.fif, _eeg.fif, _ieeg.fif, raw.fif.gz, raw_sss.fif.gz, raw_tsss.fif.gz, _meg.fif.gz, _eeg.fif.gz or _ieeg.fif.gz\n",
      "  EEG = mne.io.read_raw_fif(\n"
     ]
    },
    {
     "name": "stdout",
     "output_type": "stream",
     "text": [
      "Writing /home/prakhar7/mfprl/neuroconn/batch/../data/out/subjects/404/EC/404_badchannels.fif\n",
      "Closing /home/prakhar7/mfprl/neuroconn/batch/../data/out/subjects/404/EC/404_badchannels.fif\n",
      "[done]\n",
      "EEG channel type selected for re-referencing\n",
      "Applying average reference.\n",
      "Applying a custom ('EEG',) reference.\n"
     ]
    },
    {
     "name": "stderr",
     "output_type": "stream",
     "text": [
      "/tmp/ipykernel_4123902/3700352901.py:85: RuntimeWarning: This filename (/home/prakhar7/mfprl/neuroconn/batch/../data/out/subjects/404/EC/404_badchannels.fif) does not conform to MNE naming conventions. All raw files should end with raw.fif, raw_sss.fif, raw_tsss.fif, _meg.fif, _eeg.fif, _ieeg.fif, raw.fif.gz, raw_sss.fif.gz, raw_tsss.fif.gz, _meg.fif.gz, _eeg.fif.gz or _ieeg.fif.gz\n",
      "  EEG.save(bad_channel_file, overwrite=True)\n"
     ]
    },
    {
     "name": "stdout",
     "output_type": "stream",
     "text": [
      "Fitting ICA to data using 57 channels (please be patient, this may take a while)\n",
      "Selecting by explained variance: 27 components\n",
      "Computing Extended Infomax ICA\n",
      "Fitting ICA took 14.4s.\n",
      "Creating RawArray with float64 data, n_channels=30, n_times=63450\n",
      "    Range : 0 ... 63449 =      0.000 ...    63.449 secs\n",
      "Ready.\n",
      "NOTE: pick_channels() is a legacy function. New code should use inst.pick(...).\n"
     ]
    },
    {
     "name": "stderr",
     "output_type": "stream",
     "text": [
      "/tmp/ipykernel_4123902/3700352901.py:143: RuntimeWarning: The provided Raw instance is not filtered between 1 and 100 Hz. ICLabel was designed to classify features extracted from an EEG dataset bandpass filtered between 1 and 100 Hz (see the 'filter()' method for Raw and Epochs instances).\n",
      "  ic_labels = label_components(\n"
     ]
    },
    {
     "name": "stdout",
     "output_type": "stream",
     "text": [
      "Applying ICA to Raw instance\n",
      "    Transforming to ICA space (27 components)\n",
      "    Zeroing out 1 ICA component\n",
      "    Projecting back using 57 PCA components\n",
      "Finished 404 EC\n",
      "404 EO\n",
      "Opening raw data file ../data/out/subjects/404/EO/404_maprenamed&nfiltered.fif...\n",
      "    Range : 0 ... 65449 =      0.000 ...    65.449 secs\n",
      "Ready.\n",
      "Reading 0 ... 65449  =      0.000 ...    65.449 secs...\n"
     ]
    },
    {
     "name": "stderr",
     "output_type": "stream",
     "text": [
      "/tmp/ipykernel_4123902/3700352901.py:58: RuntimeWarning: This filename (../data/out/subjects/404/EO/404_maprenamed&nfiltered.fif) does not conform to MNE naming conventions. All raw files should end with raw.fif, raw_sss.fif, raw_tsss.fif, _meg.fif, _eeg.fif, _ieeg.fif, raw.fif.gz, raw_sss.fif.gz, raw_tsss.fif.gz, _meg.fif.gz, _eeg.fif.gz or _ieeg.fif.gz\n",
      "  EEG = mne.io.read_raw_fif(\n"
     ]
    },
    {
     "name": "stdout",
     "output_type": "stream",
     "text": [
      "Writing /home/prakhar7/mfprl/neuroconn/batch/../data/out/subjects/404/EO/404_badchannels.fif\n",
      "Closing /home/prakhar7/mfprl/neuroconn/batch/../data/out/subjects/404/EO/404_badchannels.fif\n",
      "[done]\n",
      "EEG channel type selected for re-referencing\n",
      "Applying average reference.\n",
      "Applying a custom ('EEG',) reference.\n"
     ]
    },
    {
     "name": "stderr",
     "output_type": "stream",
     "text": [
      "/tmp/ipykernel_4123902/3700352901.py:85: RuntimeWarning: This filename (/home/prakhar7/mfprl/neuroconn/batch/../data/out/subjects/404/EO/404_badchannels.fif) does not conform to MNE naming conventions. All raw files should end with raw.fif, raw_sss.fif, raw_tsss.fif, _meg.fif, _eeg.fif, _ieeg.fif, raw.fif.gz, raw_sss.fif.gz, raw_tsss.fif.gz, _meg.fif.gz, _eeg.fif.gz or _ieeg.fif.gz\n",
      "  EEG.save(bad_channel_file, overwrite=True)\n"
     ]
    },
    {
     "name": "stdout",
     "output_type": "stream",
     "text": [
      "Fitting ICA to data using 57 channels (please be patient, this may take a while)\n",
      "Selecting by explained variance: 31 components\n",
      "Computing Extended Infomax ICA\n",
      "Fitting ICA took 13.0s.\n",
      "Creating RawArray with float64 data, n_channels=34, n_times=65450\n",
      "    Range : 0 ... 65449 =      0.000 ...    65.449 secs\n",
      "Ready.\n",
      "NOTE: pick_channels() is a legacy function. New code should use inst.pick(...).\n"
     ]
    },
    {
     "name": "stderr",
     "output_type": "stream",
     "text": [
      "/tmp/ipykernel_4123902/3700352901.py:143: RuntimeWarning: The provided Raw instance is not filtered between 1 and 100 Hz. ICLabel was designed to classify features extracted from an EEG dataset bandpass filtered between 1 and 100 Hz (see the 'filter()' method for Raw and Epochs instances).\n",
      "  ic_labels = label_components(\n"
     ]
    },
    {
     "name": "stdout",
     "output_type": "stream",
     "text": [
      "Applying ICA to Raw instance\n",
      "    Transforming to ICA space (31 components)\n",
      "    Zeroing out 1 ICA component\n",
      "    Projecting back using 57 PCA components\n",
      "Finished 404 EO\n",
      "406 EC\n",
      "Opening raw data file ../data/out/subjects/406/EC/406_maprenamed&nfiltered.fif...\n",
      "    Range : 0 ... 62999 =      0.000 ...    62.999 secs\n",
      "Ready.\n",
      "Reading 0 ... 62999  =      0.000 ...    62.999 secs...\n"
     ]
    },
    {
     "name": "stderr",
     "output_type": "stream",
     "text": [
      "/tmp/ipykernel_4123902/3700352901.py:58: RuntimeWarning: This filename (../data/out/subjects/406/EC/406_maprenamed&nfiltered.fif) does not conform to MNE naming conventions. All raw files should end with raw.fif, raw_sss.fif, raw_tsss.fif, _meg.fif, _eeg.fif, _ieeg.fif, raw.fif.gz, raw_sss.fif.gz, raw_tsss.fif.gz, _meg.fif.gz, _eeg.fif.gz or _ieeg.fif.gz\n",
      "  EEG = mne.io.read_raw_fif(\n"
     ]
    },
    {
     "name": "stdout",
     "output_type": "stream",
     "text": [
      "Writing /home/prakhar7/mfprl/neuroconn/batch/../data/out/subjects/406/EC/406_badchannels.fif\n",
      "Closing /home/prakhar7/mfprl/neuroconn/batch/../data/out/subjects/406/EC/406_badchannels.fif\n",
      "[done]\n",
      "EEG channel type selected for re-referencing\n",
      "Applying average reference.\n",
      "Applying a custom ('EEG',) reference.\n"
     ]
    },
    {
     "name": "stderr",
     "output_type": "stream",
     "text": [
      "/tmp/ipykernel_4123902/3700352901.py:85: RuntimeWarning: This filename (/home/prakhar7/mfprl/neuroconn/batch/../data/out/subjects/406/EC/406_badchannels.fif) does not conform to MNE naming conventions. All raw files should end with raw.fif, raw_sss.fif, raw_tsss.fif, _meg.fif, _eeg.fif, _ieeg.fif, raw.fif.gz, raw_sss.fif.gz, raw_tsss.fif.gz, _meg.fif.gz, _eeg.fif.gz or _ieeg.fif.gz\n",
      "  EEG.save(bad_channel_file, overwrite=True)\n"
     ]
    },
    {
     "name": "stdout",
     "output_type": "stream",
     "text": [
      "Fitting ICA to data using 57 channels (please be patient, this may take a while)\n",
      "Selecting by explained variance: 34 components\n",
      "Computing Extended Infomax ICA\n",
      "Fitting ICA took 10.1s.\n",
      "Creating RawArray with float64 data, n_channels=37, n_times=63000\n",
      "    Range : 0 ... 62999 =      0.000 ...    62.999 secs\n",
      "Ready.\n",
      "NOTE: pick_channels() is a legacy function. New code should use inst.pick(...).\n"
     ]
    },
    {
     "name": "stderr",
     "output_type": "stream",
     "text": [
      "/tmp/ipykernel_4123902/3700352901.py:143: RuntimeWarning: The provided Raw instance is not filtered between 1 and 100 Hz. ICLabel was designed to classify features extracted from an EEG dataset bandpass filtered between 1 and 100 Hz (see the 'filter()' method for Raw and Epochs instances).\n",
      "  ic_labels = label_components(\n"
     ]
    },
    {
     "name": "stdout",
     "output_type": "stream",
     "text": [
      "Applying ICA to Raw instance\n",
      "    Transforming to ICA space (34 components)\n",
      "    Zeroing out 1 ICA component\n",
      "    Projecting back using 57 PCA components\n",
      "Finished 406 EC\n",
      "406 EO\n",
      "Opening raw data file ../data/out/subjects/406/EO/406_maprenamed&nfiltered.fif...\n",
      "    Range : 0 ... 63449 =      0.000 ...    63.449 secs\n",
      "Ready.\n",
      "Reading 0 ... 63449  =      0.000 ...    63.449 secs...\n"
     ]
    },
    {
     "name": "stderr",
     "output_type": "stream",
     "text": [
      "/tmp/ipykernel_4123902/3700352901.py:58: RuntimeWarning: This filename (../data/out/subjects/406/EO/406_maprenamed&nfiltered.fif) does not conform to MNE naming conventions. All raw files should end with raw.fif, raw_sss.fif, raw_tsss.fif, _meg.fif, _eeg.fif, _ieeg.fif, raw.fif.gz, raw_sss.fif.gz, raw_tsss.fif.gz, _meg.fif.gz, _eeg.fif.gz or _ieeg.fif.gz\n",
      "  EEG = mne.io.read_raw_fif(\n"
     ]
    },
    {
     "name": "stdout",
     "output_type": "stream",
     "text": [
      "Writing /home/prakhar7/mfprl/neuroconn/batch/../data/out/subjects/406/EO/406_badchannels.fif\n",
      "Closing /home/prakhar7/mfprl/neuroconn/batch/../data/out/subjects/406/EO/406_badchannels.fif\n",
      "[done]\n",
      "EEG channel type selected for re-referencing\n",
      "Applying average reference.\n",
      "Applying a custom ('EEG',) reference.\n"
     ]
    },
    {
     "name": "stderr",
     "output_type": "stream",
     "text": [
      "/tmp/ipykernel_4123902/3700352901.py:85: RuntimeWarning: This filename (/home/prakhar7/mfprl/neuroconn/batch/../data/out/subjects/406/EO/406_badchannels.fif) does not conform to MNE naming conventions. All raw files should end with raw.fif, raw_sss.fif, raw_tsss.fif, _meg.fif, _eeg.fif, _ieeg.fif, raw.fif.gz, raw_sss.fif.gz, raw_tsss.fif.gz, _meg.fif.gz, _eeg.fif.gz or _ieeg.fif.gz\n",
      "  EEG.save(bad_channel_file, overwrite=True)\n"
     ]
    },
    {
     "name": "stdout",
     "output_type": "stream",
     "text": [
      "Fitting ICA to data using 57 channels (please be patient, this may take a while)\n",
      "Selecting by explained variance: 37 components\n",
      "Computing Extended Infomax ICA\n",
      "Fitting ICA took 16.8s.\n",
      "Creating RawArray with float64 data, n_channels=40, n_times=63450\n",
      "    Range : 0 ... 63449 =      0.000 ...    63.449 secs\n",
      "Ready.\n",
      "NOTE: pick_channels() is a legacy function. New code should use inst.pick(...).\n"
     ]
    },
    {
     "name": "stderr",
     "output_type": "stream",
     "text": [
      "/tmp/ipykernel_4123902/3700352901.py:143: RuntimeWarning: The provided Raw instance is not filtered between 1 and 100 Hz. ICLabel was designed to classify features extracted from an EEG dataset bandpass filtered between 1 and 100 Hz (see the 'filter()' method for Raw and Epochs instances).\n",
      "  ic_labels = label_components(\n"
     ]
    },
    {
     "name": "stdout",
     "output_type": "stream",
     "text": [
      "Applying ICA to Raw instance\n",
      "    Transforming to ICA space (37 components)\n",
      "    Zeroing out 1 ICA component\n",
      "    Projecting back using 57 PCA components\n",
      "Finished 406 EO\n",
      "407 EC\n",
      "Opening raw data file ../data/out/subjects/407/EC/407_maprenamed&nfiltered.fif...\n",
      "    Range : 0 ... 63299 =      0.000 ...    63.299 secs\n",
      "Ready.\n",
      "Reading 0 ... 63299  =      0.000 ...    63.299 secs...\n"
     ]
    },
    {
     "name": "stderr",
     "output_type": "stream",
     "text": [
      "/tmp/ipykernel_4123902/3700352901.py:58: RuntimeWarning: This filename (../data/out/subjects/407/EC/407_maprenamed&nfiltered.fif) does not conform to MNE naming conventions. All raw files should end with raw.fif, raw_sss.fif, raw_tsss.fif, _meg.fif, _eeg.fif, _ieeg.fif, raw.fif.gz, raw_sss.fif.gz, raw_tsss.fif.gz, _meg.fif.gz, _eeg.fif.gz or _ieeg.fif.gz\n",
      "  EEG = mne.io.read_raw_fif(\n"
     ]
    },
    {
     "name": "stdout",
     "output_type": "stream",
     "text": [
      "Writing /home/prakhar7/mfprl/neuroconn/batch/../data/out/subjects/407/EC/407_badchannels.fif\n",
      "Closing /home/prakhar7/mfprl/neuroconn/batch/../data/out/subjects/407/EC/407_badchannels.fif\n",
      "[done]\n",
      "EEG channel type selected for re-referencing\n",
      "Applying average reference.\n",
      "Applying a custom ('EEG',) reference.\n"
     ]
    },
    {
     "name": "stderr",
     "output_type": "stream",
     "text": [
      "/tmp/ipykernel_4123902/3700352901.py:85: RuntimeWarning: This filename (/home/prakhar7/mfprl/neuroconn/batch/../data/out/subjects/407/EC/407_badchannels.fif) does not conform to MNE naming conventions. All raw files should end with raw.fif, raw_sss.fif, raw_tsss.fif, _meg.fif, _eeg.fif, _ieeg.fif, raw.fif.gz, raw_sss.fif.gz, raw_tsss.fif.gz, _meg.fif.gz, _eeg.fif.gz or _ieeg.fif.gz\n",
      "  EEG.save(bad_channel_file, overwrite=True)\n"
     ]
    },
    {
     "name": "stdout",
     "output_type": "stream",
     "text": [
      "Fitting ICA to data using 57 channels (please be patient, this may take a while)\n",
      "Selecting by explained variance: 29 components\n",
      "Computing Extended Infomax ICA\n",
      "Fitting ICA took 14.3s.\n",
      "Creating RawArray with float64 data, n_channels=32, n_times=63300\n",
      "    Range : 0 ... 63299 =      0.000 ...    63.299 secs\n",
      "Ready.\n",
      "NOTE: pick_channels() is a legacy function. New code should use inst.pick(...).\n"
     ]
    },
    {
     "name": "stderr",
     "output_type": "stream",
     "text": [
      "/tmp/ipykernel_4123902/3700352901.py:143: RuntimeWarning: The provided Raw instance is not filtered between 1 and 100 Hz. ICLabel was designed to classify features extracted from an EEG dataset bandpass filtered between 1 and 100 Hz (see the 'filter()' method for Raw and Epochs instances).\n",
      "  ic_labels = label_components(\n"
     ]
    },
    {
     "name": "stdout",
     "output_type": "stream",
     "text": [
      "Applying ICA to Raw instance\n",
      "    Transforming to ICA space (29 components)\n",
      "    Zeroing out 1 ICA component\n",
      "    Projecting back using 57 PCA components\n",
      "Finished 407 EC\n",
      "407 EO\n",
      "Opening raw data file ../data/out/subjects/407/EO/407_maprenamed&nfiltered.fif...\n",
      "    Range : 0 ... 63449 =      0.000 ...    63.449 secs\n",
      "Ready.\n",
      "Reading 0 ... 63449  =      0.000 ...    63.449 secs...\n"
     ]
    },
    {
     "name": "stderr",
     "output_type": "stream",
     "text": [
      "/tmp/ipykernel_4123902/3700352901.py:58: RuntimeWarning: This filename (../data/out/subjects/407/EO/407_maprenamed&nfiltered.fif) does not conform to MNE naming conventions. All raw files should end with raw.fif, raw_sss.fif, raw_tsss.fif, _meg.fif, _eeg.fif, _ieeg.fif, raw.fif.gz, raw_sss.fif.gz, raw_tsss.fif.gz, _meg.fif.gz, _eeg.fif.gz or _ieeg.fif.gz\n",
      "  EEG = mne.io.read_raw_fif(\n"
     ]
    },
    {
     "name": "stdout",
     "output_type": "stream",
     "text": [
      "Writing /home/prakhar7/mfprl/neuroconn/batch/../data/out/subjects/407/EO/407_badchannels.fif\n",
      "Closing /home/prakhar7/mfprl/neuroconn/batch/../data/out/subjects/407/EO/407_badchannels.fif\n",
      "[done]\n",
      "EEG channel type selected for re-referencing\n",
      "Applying average reference.\n",
      "Applying a custom ('EEG',) reference.\n"
     ]
    },
    {
     "name": "stderr",
     "output_type": "stream",
     "text": [
      "/tmp/ipykernel_4123902/3700352901.py:85: RuntimeWarning: This filename (/home/prakhar7/mfprl/neuroconn/batch/../data/out/subjects/407/EO/407_badchannels.fif) does not conform to MNE naming conventions. All raw files should end with raw.fif, raw_sss.fif, raw_tsss.fif, _meg.fif, _eeg.fif, _ieeg.fif, raw.fif.gz, raw_sss.fif.gz, raw_tsss.fif.gz, _meg.fif.gz, _eeg.fif.gz or _ieeg.fif.gz\n",
      "  EEG.save(bad_channel_file, overwrite=True)\n"
     ]
    },
    {
     "name": "stdout",
     "output_type": "stream",
     "text": [
      "Fitting ICA to data using 57 channels (please be patient, this may take a while)\n",
      "Selecting by explained variance: 19 components\n",
      "Computing Extended Infomax ICA\n",
      "Fitting ICA took 9.2s.\n",
      "Creating RawArray with float64 data, n_channels=22, n_times=63450\n",
      "    Range : 0 ... 63449 =      0.000 ...    63.449 secs\n",
      "Ready.\n",
      "NOTE: pick_channels() is a legacy function. New code should use inst.pick(...).\n"
     ]
    },
    {
     "name": "stderr",
     "output_type": "stream",
     "text": [
      "/tmp/ipykernel_4123902/3700352901.py:143: RuntimeWarning: The provided Raw instance is not filtered between 1 and 100 Hz. ICLabel was designed to classify features extracted from an EEG dataset bandpass filtered between 1 and 100 Hz (see the 'filter()' method for Raw and Epochs instances).\n",
      "  ic_labels = label_components(\n"
     ]
    },
    {
     "name": "stdout",
     "output_type": "stream",
     "text": [
      "Applying ICA to Raw instance\n",
      "    Transforming to ICA space (19 components)\n",
      "    Zeroing out 1 ICA component\n",
      "    Projecting back using 57 PCA components\n",
      "Finished 407 EO\n",
      "408 EC\n",
      "Opening raw data file ../data/out/subjects/408/EC/408_maprenamed&nfiltered.fif...\n",
      "    Range : 0 ... 64249 =      0.000 ...    64.249 secs\n",
      "Ready.\n",
      "Reading 0 ... 64249  =      0.000 ...    64.249 secs...\n"
     ]
    },
    {
     "name": "stderr",
     "output_type": "stream",
     "text": [
      "/tmp/ipykernel_4123902/3700352901.py:58: RuntimeWarning: This filename (../data/out/subjects/408/EC/408_maprenamed&nfiltered.fif) does not conform to MNE naming conventions. All raw files should end with raw.fif, raw_sss.fif, raw_tsss.fif, _meg.fif, _eeg.fif, _ieeg.fif, raw.fif.gz, raw_sss.fif.gz, raw_tsss.fif.gz, _meg.fif.gz, _eeg.fif.gz or _ieeg.fif.gz\n",
      "  EEG = mne.io.read_raw_fif(\n"
     ]
    },
    {
     "name": "stdout",
     "output_type": "stream",
     "text": [
      "Writing /home/prakhar7/mfprl/neuroconn/batch/../data/out/subjects/408/EC/408_badchannels.fif\n",
      "Closing /home/prakhar7/mfprl/neuroconn/batch/../data/out/subjects/408/EC/408_badchannels.fif\n",
      "[done]\n",
      "EEG channel type selected for re-referencing\n",
      "Applying average reference.\n",
      "Applying a custom ('EEG',) reference.\n"
     ]
    },
    {
     "name": "stderr",
     "output_type": "stream",
     "text": [
      "/tmp/ipykernel_4123902/3700352901.py:85: RuntimeWarning: This filename (/home/prakhar7/mfprl/neuroconn/batch/../data/out/subjects/408/EC/408_badchannels.fif) does not conform to MNE naming conventions. All raw files should end with raw.fif, raw_sss.fif, raw_tsss.fif, _meg.fif, _eeg.fif, _ieeg.fif, raw.fif.gz, raw_sss.fif.gz, raw_tsss.fif.gz, _meg.fif.gz, _eeg.fif.gz or _ieeg.fif.gz\n",
      "  EEG.save(bad_channel_file, overwrite=True)\n"
     ]
    },
    {
     "name": "stdout",
     "output_type": "stream",
     "text": [
      "Fitting ICA to data using 57 channels (please be patient, this may take a while)\n",
      "Selecting by explained variance: 36 components\n",
      "Computing Extended Infomax ICA\n",
      "Fitting ICA took 24.2s.\n",
      "Creating RawArray with float64 data, n_channels=39, n_times=64250\n",
      "    Range : 0 ... 64249 =      0.000 ...    64.249 secs\n",
      "Ready.\n",
      "NOTE: pick_channels() is a legacy function. New code should use inst.pick(...).\n"
     ]
    },
    {
     "name": "stderr",
     "output_type": "stream",
     "text": [
      "/tmp/ipykernel_4123902/3700352901.py:143: RuntimeWarning: The provided Raw instance is not filtered between 1 and 100 Hz. ICLabel was designed to classify features extracted from an EEG dataset bandpass filtered between 1 and 100 Hz (see the 'filter()' method for Raw and Epochs instances).\n",
      "  ic_labels = label_components(\n"
     ]
    },
    {
     "name": "stdout",
     "output_type": "stream",
     "text": [
      "Applying ICA to Raw instance\n",
      "    Transforming to ICA space (36 components)\n",
      "    Zeroing out 1 ICA component\n",
      "    Projecting back using 57 PCA components\n",
      "Finished 408 EC\n",
      "408 EO\n",
      "Opening raw data file ../data/out/subjects/408/EO/408_maprenamed&nfiltered.fif...\n",
      "    Range : 0 ... 64849 =      0.000 ...    64.849 secs\n",
      "Ready.\n",
      "Reading 0 ... 64849  =      0.000 ...    64.849 secs...\n"
     ]
    },
    {
     "name": "stderr",
     "output_type": "stream",
     "text": [
      "/tmp/ipykernel_4123902/3700352901.py:58: RuntimeWarning: This filename (../data/out/subjects/408/EO/408_maprenamed&nfiltered.fif) does not conform to MNE naming conventions. All raw files should end with raw.fif, raw_sss.fif, raw_tsss.fif, _meg.fif, _eeg.fif, _ieeg.fif, raw.fif.gz, raw_sss.fif.gz, raw_tsss.fif.gz, _meg.fif.gz, _eeg.fif.gz or _ieeg.fif.gz\n",
      "  EEG = mne.io.read_raw_fif(\n"
     ]
    },
    {
     "name": "stdout",
     "output_type": "stream",
     "text": [
      "Writing /home/prakhar7/mfprl/neuroconn/batch/../data/out/subjects/408/EO/408_badchannels.fif\n",
      "Closing /home/prakhar7/mfprl/neuroconn/batch/../data/out/subjects/408/EO/408_badchannels.fif\n",
      "[done]\n",
      "EEG channel type selected for re-referencing\n",
      "Applying average reference.\n",
      "Applying a custom ('EEG',) reference.\n"
     ]
    },
    {
     "name": "stderr",
     "output_type": "stream",
     "text": [
      "/tmp/ipykernel_4123902/3700352901.py:85: RuntimeWarning: This filename (/home/prakhar7/mfprl/neuroconn/batch/../data/out/subjects/408/EO/408_badchannels.fif) does not conform to MNE naming conventions. All raw files should end with raw.fif, raw_sss.fif, raw_tsss.fif, _meg.fif, _eeg.fif, _ieeg.fif, raw.fif.gz, raw_sss.fif.gz, raw_tsss.fif.gz, _meg.fif.gz, _eeg.fif.gz or _ieeg.fif.gz\n",
      "  EEG.save(bad_channel_file, overwrite=True)\n"
     ]
    },
    {
     "name": "stdout",
     "output_type": "stream",
     "text": [
      "Fitting ICA to data using 57 channels (please be patient, this may take a while)\n",
      "Selecting by explained variance: 29 components\n",
      "Computing Extended Infomax ICA\n",
      "Fitting ICA took 13.5s.\n",
      "Creating RawArray with float64 data, n_channels=32, n_times=64850\n",
      "    Range : 0 ... 64849 =      0.000 ...    64.849 secs\n",
      "Ready.\n",
      "NOTE: pick_channels() is a legacy function. New code should use inst.pick(...).\n"
     ]
    },
    {
     "name": "stderr",
     "output_type": "stream",
     "text": [
      "/tmp/ipykernel_4123902/3700352901.py:143: RuntimeWarning: The provided Raw instance is not filtered between 1 and 100 Hz. ICLabel was designed to classify features extracted from an EEG dataset bandpass filtered between 1 and 100 Hz (see the 'filter()' method for Raw and Epochs instances).\n",
      "  ic_labels = label_components(\n"
     ]
    },
    {
     "name": "stdout",
     "output_type": "stream",
     "text": [
      "Applying ICA to Raw instance\n",
      "    Transforming to ICA space (29 components)\n",
      "    Zeroing out 1 ICA component\n",
      "    Projecting back using 57 PCA components\n",
      "Finished 408 EO\n",
      "409 EC\n",
      "Opening raw data file ../data/out/subjects/409/EC/409_maprenamed&nfiltered.fif...\n",
      "    Range : 0 ... 67699 =      0.000 ...    67.699 secs\n",
      "Ready.\n",
      "Reading 0 ... 67699  =      0.000 ...    67.699 secs...\n"
     ]
    },
    {
     "name": "stderr",
     "output_type": "stream",
     "text": [
      "/tmp/ipykernel_4123902/3700352901.py:58: RuntimeWarning: This filename (../data/out/subjects/409/EC/409_maprenamed&nfiltered.fif) does not conform to MNE naming conventions. All raw files should end with raw.fif, raw_sss.fif, raw_tsss.fif, _meg.fif, _eeg.fif, _ieeg.fif, raw.fif.gz, raw_sss.fif.gz, raw_tsss.fif.gz, _meg.fif.gz, _eeg.fif.gz or _ieeg.fif.gz\n",
      "  EEG = mne.io.read_raw_fif(\n"
     ]
    },
    {
     "name": "stdout",
     "output_type": "stream",
     "text": [
      "Writing /home/prakhar7/mfprl/neuroconn/batch/../data/out/subjects/409/EC/409_badchannels.fif\n",
      "Closing /home/prakhar7/mfprl/neuroconn/batch/../data/out/subjects/409/EC/409_badchannels.fif\n",
      "[done]\n",
      "EEG channel type selected for re-referencing\n",
      "Applying average reference.\n",
      "Applying a custom ('EEG',) reference.\n"
     ]
    },
    {
     "name": "stderr",
     "output_type": "stream",
     "text": [
      "/tmp/ipykernel_4123902/3700352901.py:85: RuntimeWarning: This filename (/home/prakhar7/mfprl/neuroconn/batch/../data/out/subjects/409/EC/409_badchannels.fif) does not conform to MNE naming conventions. All raw files should end with raw.fif, raw_sss.fif, raw_tsss.fif, _meg.fif, _eeg.fif, _ieeg.fif, raw.fif.gz, raw_sss.fif.gz, raw_tsss.fif.gz, _meg.fif.gz, _eeg.fif.gz or _ieeg.fif.gz\n",
      "  EEG.save(bad_channel_file, overwrite=True)\n"
     ]
    },
    {
     "name": "stdout",
     "output_type": "stream",
     "text": [
      "Fitting ICA to data using 57 channels (please be patient, this may take a while)\n",
      "Selecting by explained variance: 10 components\n",
      "Computing Extended Infomax ICA\n",
      "Fitting ICA took 10.1s.\n",
      "Creating RawArray with float64 data, n_channels=13, n_times=67700\n",
      "    Range : 0 ... 67699 =      0.000 ...    67.699 secs\n",
      "Ready.\n",
      "NOTE: pick_channels() is a legacy function. New code should use inst.pick(...).\n"
     ]
    },
    {
     "name": "stderr",
     "output_type": "stream",
     "text": [
      "/tmp/ipykernel_4123902/3700352901.py:143: RuntimeWarning: The provided Raw instance is not filtered between 1 and 100 Hz. ICLabel was designed to classify features extracted from an EEG dataset bandpass filtered between 1 and 100 Hz (see the 'filter()' method for Raw and Epochs instances).\n",
      "  ic_labels = label_components(\n"
     ]
    },
    {
     "name": "stdout",
     "output_type": "stream",
     "text": [
      "Applying ICA to Raw instance\n",
      "    Transforming to ICA space (10 components)\n",
      "    Zeroing out 1 ICA component\n",
      "    Projecting back using 57 PCA components\n",
      "Finished 409 EC\n",
      "409 EO\n",
      "Opening raw data file ../data/out/subjects/409/EO/409_maprenamed&nfiltered.fif...\n",
      "    Range : 0 ... 63399 =      0.000 ...    63.399 secs\n",
      "Ready.\n",
      "Reading 0 ... 63399  =      0.000 ...    63.399 secs...\n"
     ]
    },
    {
     "name": "stderr",
     "output_type": "stream",
     "text": [
      "/tmp/ipykernel_4123902/3700352901.py:58: RuntimeWarning: This filename (../data/out/subjects/409/EO/409_maprenamed&nfiltered.fif) does not conform to MNE naming conventions. All raw files should end with raw.fif, raw_sss.fif, raw_tsss.fif, _meg.fif, _eeg.fif, _ieeg.fif, raw.fif.gz, raw_sss.fif.gz, raw_tsss.fif.gz, _meg.fif.gz, _eeg.fif.gz or _ieeg.fif.gz\n",
      "  EEG = mne.io.read_raw_fif(\n"
     ]
    },
    {
     "name": "stdout",
     "output_type": "stream",
     "text": [
      "Writing /home/prakhar7/mfprl/neuroconn/batch/../data/out/subjects/409/EO/409_badchannels.fif\n",
      "Closing /home/prakhar7/mfprl/neuroconn/batch/../data/out/subjects/409/EO/409_badchannels.fif\n",
      "[done]\n",
      "EEG channel type selected for re-referencing\n",
      "Applying average reference.\n",
      "Applying a custom ('EEG',) reference.\n"
     ]
    },
    {
     "name": "stderr",
     "output_type": "stream",
     "text": [
      "/tmp/ipykernel_4123902/3700352901.py:85: RuntimeWarning: This filename (/home/prakhar7/mfprl/neuroconn/batch/../data/out/subjects/409/EO/409_badchannels.fif) does not conform to MNE naming conventions. All raw files should end with raw.fif, raw_sss.fif, raw_tsss.fif, _meg.fif, _eeg.fif, _ieeg.fif, raw.fif.gz, raw_sss.fif.gz, raw_tsss.fif.gz, _meg.fif.gz, _eeg.fif.gz or _ieeg.fif.gz\n",
      "  EEG.save(bad_channel_file, overwrite=True)\n"
     ]
    },
    {
     "name": "stdout",
     "output_type": "stream",
     "text": [
      "Fitting ICA to data using 57 channels (please be patient, this may take a while)\n",
      "Selecting by explained variance: 13 components\n",
      "Computing Extended Infomax ICA\n",
      "Fitting ICA took 32.8s.\n",
      "Creating RawArray with float64 data, n_channels=16, n_times=63400\n",
      "    Range : 0 ... 63399 =      0.000 ...    63.399 secs\n",
      "Ready.\n",
      "NOTE: pick_channels() is a legacy function. New code should use inst.pick(...).\n"
     ]
    },
    {
     "name": "stderr",
     "output_type": "stream",
     "text": [
      "/tmp/ipykernel_4123902/3700352901.py:143: RuntimeWarning: The provided Raw instance is not filtered between 1 and 100 Hz. ICLabel was designed to classify features extracted from an EEG dataset bandpass filtered between 1 and 100 Hz (see the 'filter()' method for Raw and Epochs instances).\n",
      "  ic_labels = label_components(\n"
     ]
    },
    {
     "name": "stdout",
     "output_type": "stream",
     "text": [
      "Applying ICA to Raw instance\n",
      "    Transforming to ICA space (13 components)\n",
      "    Zeroing out 1 ICA component\n",
      "    Projecting back using 57 PCA components\n",
      "Finished 409 EO\n",
      "410 EC\n",
      "Opening raw data file ../data/out/subjects/410/EC/410_maprenamed&nfiltered.fif...\n",
      "    Range : 0 ... 63449 =      0.000 ...    63.449 secs\n",
      "Ready.\n",
      "Reading 0 ... 63449  =      0.000 ...    63.449 secs...\n"
     ]
    },
    {
     "name": "stderr",
     "output_type": "stream",
     "text": [
      "/tmp/ipykernel_4123902/3700352901.py:58: RuntimeWarning: This filename (../data/out/subjects/410/EC/410_maprenamed&nfiltered.fif) does not conform to MNE naming conventions. All raw files should end with raw.fif, raw_sss.fif, raw_tsss.fif, _meg.fif, _eeg.fif, _ieeg.fif, raw.fif.gz, raw_sss.fif.gz, raw_tsss.fif.gz, _meg.fif.gz, _eeg.fif.gz or _ieeg.fif.gz\n",
      "  EEG = mne.io.read_raw_fif(\n"
     ]
    },
    {
     "name": "stdout",
     "output_type": "stream",
     "text": [
      "Writing /home/prakhar7/mfprl/neuroconn/batch/../data/out/subjects/410/EC/410_badchannels.fif\n",
      "Closing /home/prakhar7/mfprl/neuroconn/batch/../data/out/subjects/410/EC/410_badchannels.fif\n",
      "[done]\n",
      "EEG channel type selected for re-referencing\n",
      "Applying average reference.\n",
      "Applying a custom ('EEG',) reference.\n"
     ]
    },
    {
     "name": "stderr",
     "output_type": "stream",
     "text": [
      "/tmp/ipykernel_4123902/3700352901.py:85: RuntimeWarning: This filename (/home/prakhar7/mfprl/neuroconn/batch/../data/out/subjects/410/EC/410_badchannels.fif) does not conform to MNE naming conventions. All raw files should end with raw.fif, raw_sss.fif, raw_tsss.fif, _meg.fif, _eeg.fif, _ieeg.fif, raw.fif.gz, raw_sss.fif.gz, raw_tsss.fif.gz, _meg.fif.gz, _eeg.fif.gz or _ieeg.fif.gz\n",
      "  EEG.save(bad_channel_file, overwrite=True)\n"
     ]
    },
    {
     "name": "stdout",
     "output_type": "stream",
     "text": [
      "Fitting ICA to data using 57 channels (please be patient, this may take a while)\n",
      "Selecting by explained variance: 35 components\n",
      "Computing Extended Infomax ICA\n",
      "Fitting ICA took 20.2s.\n",
      "Creating RawArray with float64 data, n_channels=38, n_times=63450\n",
      "    Range : 0 ... 63449 =      0.000 ...    63.449 secs\n",
      "Ready.\n",
      "NOTE: pick_channels() is a legacy function. New code should use inst.pick(...).\n"
     ]
    },
    {
     "name": "stderr",
     "output_type": "stream",
     "text": [
      "/tmp/ipykernel_4123902/3700352901.py:143: RuntimeWarning: The provided Raw instance is not filtered between 1 and 100 Hz. ICLabel was designed to classify features extracted from an EEG dataset bandpass filtered between 1 and 100 Hz (see the 'filter()' method for Raw and Epochs instances).\n",
      "  ic_labels = label_components(\n"
     ]
    },
    {
     "name": "stdout",
     "output_type": "stream",
     "text": [
      "Applying ICA to Raw instance\n",
      "    Transforming to ICA space (35 components)\n",
      "    Zeroing out 1 ICA component\n",
      "    Projecting back using 57 PCA components\n",
      "Finished 410 EC\n",
      "410 EO\n",
      "Opening raw data file ../data/out/subjects/410/EO/410_maprenamed&nfiltered.fif...\n",
      "    Range : 0 ... 64999 =      0.000 ...    64.999 secs\n",
      "Ready.\n",
      "Reading 0 ... 64999  =      0.000 ...    64.999 secs...\n"
     ]
    },
    {
     "name": "stderr",
     "output_type": "stream",
     "text": [
      "/tmp/ipykernel_4123902/3700352901.py:58: RuntimeWarning: This filename (../data/out/subjects/410/EO/410_maprenamed&nfiltered.fif) does not conform to MNE naming conventions. All raw files should end with raw.fif, raw_sss.fif, raw_tsss.fif, _meg.fif, _eeg.fif, _ieeg.fif, raw.fif.gz, raw_sss.fif.gz, raw_tsss.fif.gz, _meg.fif.gz, _eeg.fif.gz or _ieeg.fif.gz\n",
      "  EEG = mne.io.read_raw_fif(\n"
     ]
    },
    {
     "name": "stdout",
     "output_type": "stream",
     "text": [
      "Writing /home/prakhar7/mfprl/neuroconn/batch/../data/out/subjects/410/EO/410_badchannels.fif\n",
      "Closing /home/prakhar7/mfprl/neuroconn/batch/../data/out/subjects/410/EO/410_badchannels.fif\n",
      "[done]\n",
      "EEG channel type selected for re-referencing\n",
      "Applying average reference.\n",
      "Applying a custom ('EEG',) reference.\n"
     ]
    },
    {
     "name": "stderr",
     "output_type": "stream",
     "text": [
      "/tmp/ipykernel_4123902/3700352901.py:85: RuntimeWarning: This filename (/home/prakhar7/mfprl/neuroconn/batch/../data/out/subjects/410/EO/410_badchannels.fif) does not conform to MNE naming conventions. All raw files should end with raw.fif, raw_sss.fif, raw_tsss.fif, _meg.fif, _eeg.fif, _ieeg.fif, raw.fif.gz, raw_sss.fif.gz, raw_tsss.fif.gz, _meg.fif.gz, _eeg.fif.gz or _ieeg.fif.gz\n",
      "  EEG.save(bad_channel_file, overwrite=True)\n"
     ]
    },
    {
     "name": "stdout",
     "output_type": "stream",
     "text": [
      "Fitting ICA to data using 57 channels (please be patient, this may take a while)\n",
      "Selecting by explained variance: 32 components\n",
      "Computing Extended Infomax ICA\n",
      "Fitting ICA took 13.7s.\n",
      "Creating RawArray with float64 data, n_channels=35, n_times=65000\n",
      "    Range : 0 ... 64999 =      0.000 ...    64.999 secs\n",
      "Ready.\n",
      "NOTE: pick_channels() is a legacy function. New code should use inst.pick(...).\n"
     ]
    },
    {
     "name": "stderr",
     "output_type": "stream",
     "text": [
      "/tmp/ipykernel_4123902/3700352901.py:143: RuntimeWarning: The provided Raw instance is not filtered between 1 and 100 Hz. ICLabel was designed to classify features extracted from an EEG dataset bandpass filtered between 1 and 100 Hz (see the 'filter()' method for Raw and Epochs instances).\n",
      "  ic_labels = label_components(\n"
     ]
    },
    {
     "name": "stdout",
     "output_type": "stream",
     "text": [
      "Applying ICA to Raw instance\n",
      "    Transforming to ICA space (32 components)\n",
      "    Zeroing out 1 ICA component\n",
      "    Projecting back using 57 PCA components\n",
      "Finished 410 EO\n",
      "411 EC\n",
      "Opening raw data file ../data/out/subjects/411/EC/411_maprenamed&nfiltered.fif...\n",
      "    Range : 0 ... 65449 =      0.000 ...    65.449 secs\n",
      "Ready.\n",
      "Reading 0 ... 65449  =      0.000 ...    65.449 secs...\n"
     ]
    },
    {
     "name": "stderr",
     "output_type": "stream",
     "text": [
      "/tmp/ipykernel_4123902/3700352901.py:58: RuntimeWarning: This filename (../data/out/subjects/411/EC/411_maprenamed&nfiltered.fif) does not conform to MNE naming conventions. All raw files should end with raw.fif, raw_sss.fif, raw_tsss.fif, _meg.fif, _eeg.fif, _ieeg.fif, raw.fif.gz, raw_sss.fif.gz, raw_tsss.fif.gz, _meg.fif.gz, _eeg.fif.gz or _ieeg.fif.gz\n",
      "  EEG = mne.io.read_raw_fif(\n"
     ]
    },
    {
     "name": "stdout",
     "output_type": "stream",
     "text": [
      "Writing /home/prakhar7/mfprl/neuroconn/batch/../data/out/subjects/411/EC/411_badchannels.fif\n",
      "Closing /home/prakhar7/mfprl/neuroconn/batch/../data/out/subjects/411/EC/411_badchannels.fif\n",
      "[done]\n",
      "EEG channel type selected for re-referencing\n",
      "Applying average reference.\n",
      "Applying a custom ('EEG',) reference.\n"
     ]
    },
    {
     "name": "stderr",
     "output_type": "stream",
     "text": [
      "/tmp/ipykernel_4123902/3700352901.py:85: RuntimeWarning: This filename (/home/prakhar7/mfprl/neuroconn/batch/../data/out/subjects/411/EC/411_badchannels.fif) does not conform to MNE naming conventions. All raw files should end with raw.fif, raw_sss.fif, raw_tsss.fif, _meg.fif, _eeg.fif, _ieeg.fif, raw.fif.gz, raw_sss.fif.gz, raw_tsss.fif.gz, _meg.fif.gz, _eeg.fif.gz or _ieeg.fif.gz\n",
      "  EEG.save(bad_channel_file, overwrite=True)\n"
     ]
    },
    {
     "name": "stdout",
     "output_type": "stream",
     "text": [
      "Fitting ICA to data using 57 channels (please be patient, this may take a while)\n",
      "Selecting by explained variance: 25 components\n",
      "Computing Extended Infomax ICA\n",
      "Fitting ICA took 14.7s.\n",
      "Creating RawArray with float64 data, n_channels=28, n_times=65450\n",
      "    Range : 0 ... 65449 =      0.000 ...    65.449 secs\n",
      "Ready.\n",
      "NOTE: pick_channels() is a legacy function. New code should use inst.pick(...).\n"
     ]
    },
    {
     "name": "stderr",
     "output_type": "stream",
     "text": [
      "/tmp/ipykernel_4123902/3700352901.py:143: RuntimeWarning: The provided Raw instance is not filtered between 1 and 100 Hz. ICLabel was designed to classify features extracted from an EEG dataset bandpass filtered between 1 and 100 Hz (see the 'filter()' method for Raw and Epochs instances).\n",
      "  ic_labels = label_components(\n"
     ]
    },
    {
     "name": "stdout",
     "output_type": "stream",
     "text": [
      "Applying ICA to Raw instance\n",
      "    Transforming to ICA space (25 components)\n",
      "    Zeroing out 1 ICA component\n",
      "    Projecting back using 57 PCA components\n",
      "Finished 411 EC\n",
      "411 EO\n",
      "Opening raw data file ../data/out/subjects/411/EO/411_maprenamed&nfiltered.fif...\n",
      "    Range : 0 ... 64799 =      0.000 ...    64.799 secs\n",
      "Ready.\n",
      "Reading 0 ... 64799  =      0.000 ...    64.799 secs...\n"
     ]
    },
    {
     "name": "stderr",
     "output_type": "stream",
     "text": [
      "/tmp/ipykernel_4123902/3700352901.py:58: RuntimeWarning: This filename (../data/out/subjects/411/EO/411_maprenamed&nfiltered.fif) does not conform to MNE naming conventions. All raw files should end with raw.fif, raw_sss.fif, raw_tsss.fif, _meg.fif, _eeg.fif, _ieeg.fif, raw.fif.gz, raw_sss.fif.gz, raw_tsss.fif.gz, _meg.fif.gz, _eeg.fif.gz or _ieeg.fif.gz\n",
      "  EEG = mne.io.read_raw_fif(\n"
     ]
    },
    {
     "name": "stdout",
     "output_type": "stream",
     "text": [
      "Writing /home/prakhar7/mfprl/neuroconn/batch/../data/out/subjects/411/EO/411_badchannels.fif\n",
      "Closing /home/prakhar7/mfprl/neuroconn/batch/../data/out/subjects/411/EO/411_badchannels.fif\n",
      "[done]\n",
      "EEG channel type selected for re-referencing\n",
      "Applying average reference.\n",
      "Applying a custom ('EEG',) reference.\n"
     ]
    },
    {
     "name": "stderr",
     "output_type": "stream",
     "text": [
      "/tmp/ipykernel_4123902/3700352901.py:85: RuntimeWarning: This filename (/home/prakhar7/mfprl/neuroconn/batch/../data/out/subjects/411/EO/411_badchannels.fif) does not conform to MNE naming conventions. All raw files should end with raw.fif, raw_sss.fif, raw_tsss.fif, _meg.fif, _eeg.fif, _ieeg.fif, raw.fif.gz, raw_sss.fif.gz, raw_tsss.fif.gz, _meg.fif.gz, _eeg.fif.gz or _ieeg.fif.gz\n",
      "  EEG.save(bad_channel_file, overwrite=True)\n"
     ]
    },
    {
     "name": "stdout",
     "output_type": "stream",
     "text": [
      "Fitting ICA to data using 57 channels (please be patient, this may take a while)\n",
      "Selecting by explained variance: 27 components\n",
      "Computing Extended Infomax ICA\n",
      "Fitting ICA took 15.0s.\n",
      "Creating RawArray with float64 data, n_channels=30, n_times=64800\n",
      "    Range : 0 ... 64799 =      0.000 ...    64.799 secs\n",
      "Ready.\n",
      "NOTE: pick_channels() is a legacy function. New code should use inst.pick(...).\n"
     ]
    },
    {
     "name": "stderr",
     "output_type": "stream",
     "text": [
      "/tmp/ipykernel_4123902/3700352901.py:143: RuntimeWarning: The provided Raw instance is not filtered between 1 and 100 Hz. ICLabel was designed to classify features extracted from an EEG dataset bandpass filtered between 1 and 100 Hz (see the 'filter()' method for Raw and Epochs instances).\n",
      "  ic_labels = label_components(\n"
     ]
    },
    {
     "name": "stdout",
     "output_type": "stream",
     "text": [
      "Applying ICA to Raw instance\n",
      "    Transforming to ICA space (27 components)\n",
      "    Zeroing out 1 ICA component\n",
      "    Projecting back using 57 PCA components\n",
      "Finished 411 EO\n",
      "412 EC\n",
      "Opening raw data file ../data/out/subjects/412/EC/412_maprenamed&nfiltered.fif...\n",
      "    Range : 0 ... 66049 =      0.000 ...    66.049 secs\n",
      "Ready.\n",
      "Reading 0 ... 66049  =      0.000 ...    66.049 secs...\n"
     ]
    },
    {
     "name": "stderr",
     "output_type": "stream",
     "text": [
      "/tmp/ipykernel_4123902/3700352901.py:58: RuntimeWarning: This filename (../data/out/subjects/412/EC/412_maprenamed&nfiltered.fif) does not conform to MNE naming conventions. All raw files should end with raw.fif, raw_sss.fif, raw_tsss.fif, _meg.fif, _eeg.fif, _ieeg.fif, raw.fif.gz, raw_sss.fif.gz, raw_tsss.fif.gz, _meg.fif.gz, _eeg.fif.gz or _ieeg.fif.gz\n",
      "  EEG = mne.io.read_raw_fif(\n"
     ]
    },
    {
     "name": "stdout",
     "output_type": "stream",
     "text": [
      "Writing /home/prakhar7/mfprl/neuroconn/batch/../data/out/subjects/412/EC/412_badchannels.fif\n",
      "Closing /home/prakhar7/mfprl/neuroconn/batch/../data/out/subjects/412/EC/412_badchannels.fif\n",
      "[done]\n",
      "EEG channel type selected for re-referencing\n",
      "Applying average reference.\n",
      "Applying a custom ('EEG',) reference.\n"
     ]
    },
    {
     "name": "stderr",
     "output_type": "stream",
     "text": [
      "/tmp/ipykernel_4123902/3700352901.py:85: RuntimeWarning: This filename (/home/prakhar7/mfprl/neuroconn/batch/../data/out/subjects/412/EC/412_badchannels.fif) does not conform to MNE naming conventions. All raw files should end with raw.fif, raw_sss.fif, raw_tsss.fif, _meg.fif, _eeg.fif, _ieeg.fif, raw.fif.gz, raw_sss.fif.gz, raw_tsss.fif.gz, _meg.fif.gz, _eeg.fif.gz or _ieeg.fif.gz\n",
      "  EEG.save(bad_channel_file, overwrite=True)\n"
     ]
    },
    {
     "name": "stdout",
     "output_type": "stream",
     "text": [
      "Fitting ICA to data using 57 channels (please be patient, this may take a while)\n",
      "Selecting by explained variance: 44 components\n",
      "Computing Extended Infomax ICA\n",
      "Fitting ICA took 23.4s.\n",
      "Creating RawArray with float64 data, n_channels=47, n_times=66050\n",
      "    Range : 0 ... 66049 =      0.000 ...    66.049 secs\n",
      "Ready.\n",
      "NOTE: pick_channels() is a legacy function. New code should use inst.pick(...).\n"
     ]
    },
    {
     "name": "stderr",
     "output_type": "stream",
     "text": [
      "/tmp/ipykernel_4123902/3700352901.py:143: RuntimeWarning: The provided Raw instance is not filtered between 1 and 100 Hz. ICLabel was designed to classify features extracted from an EEG dataset bandpass filtered between 1 and 100 Hz (see the 'filter()' method for Raw and Epochs instances).\n",
      "  ic_labels = label_components(\n"
     ]
    },
    {
     "name": "stdout",
     "output_type": "stream",
     "text": [
      "Applying ICA to Raw instance\n",
      "    Transforming to ICA space (44 components)\n",
      "    Zeroing out 1 ICA component\n",
      "    Projecting back using 57 PCA components\n",
      "Finished 412 EC\n",
      "412 EO\n",
      "Opening raw data file ../data/out/subjects/412/EO/412_maprenamed&nfiltered.fif...\n",
      "    Range : 0 ... 65099 =      0.000 ...    65.099 secs\n",
      "Ready.\n",
      "Reading 0 ... 65099  =      0.000 ...    65.099 secs...\n"
     ]
    },
    {
     "name": "stderr",
     "output_type": "stream",
     "text": [
      "/tmp/ipykernel_4123902/3700352901.py:58: RuntimeWarning: This filename (../data/out/subjects/412/EO/412_maprenamed&nfiltered.fif) does not conform to MNE naming conventions. All raw files should end with raw.fif, raw_sss.fif, raw_tsss.fif, _meg.fif, _eeg.fif, _ieeg.fif, raw.fif.gz, raw_sss.fif.gz, raw_tsss.fif.gz, _meg.fif.gz, _eeg.fif.gz or _ieeg.fif.gz\n",
      "  EEG = mne.io.read_raw_fif(\n"
     ]
    },
    {
     "name": "stdout",
     "output_type": "stream",
     "text": [
      "Writing /home/prakhar7/mfprl/neuroconn/batch/../data/out/subjects/412/EO/412_badchannels.fif\n",
      "Closing /home/prakhar7/mfprl/neuroconn/batch/../data/out/subjects/412/EO/412_badchannels.fif\n",
      "[done]\n",
      "EEG channel type selected for re-referencing\n",
      "Applying average reference.\n",
      "Applying a custom ('EEG',) reference.\n"
     ]
    },
    {
     "name": "stderr",
     "output_type": "stream",
     "text": [
      "/tmp/ipykernel_4123902/3700352901.py:85: RuntimeWarning: This filename (/home/prakhar7/mfprl/neuroconn/batch/../data/out/subjects/412/EO/412_badchannels.fif) does not conform to MNE naming conventions. All raw files should end with raw.fif, raw_sss.fif, raw_tsss.fif, _meg.fif, _eeg.fif, _ieeg.fif, raw.fif.gz, raw_sss.fif.gz, raw_tsss.fif.gz, _meg.fif.gz, _eeg.fif.gz or _ieeg.fif.gz\n",
      "  EEG.save(bad_channel_file, overwrite=True)\n"
     ]
    },
    {
     "name": "stdout",
     "output_type": "stream",
     "text": [
      "Fitting ICA to data using 57 channels (please be patient, this may take a while)\n",
      "Selecting by explained variance: 43 components\n",
      "Computing Extended Infomax ICA\n",
      "Fitting ICA took 17.4s.\n",
      "Creating RawArray with float64 data, n_channels=46, n_times=65100\n",
      "    Range : 0 ... 65099 =      0.000 ...    65.099 secs\n",
      "Ready.\n",
      "NOTE: pick_channels() is a legacy function. New code should use inst.pick(...).\n"
     ]
    },
    {
     "name": "stderr",
     "output_type": "stream",
     "text": [
      "/tmp/ipykernel_4123902/3700352901.py:143: RuntimeWarning: The provided Raw instance is not filtered between 1 and 100 Hz. ICLabel was designed to classify features extracted from an EEG dataset bandpass filtered between 1 and 100 Hz (see the 'filter()' method for Raw and Epochs instances).\n",
      "  ic_labels = label_components(\n"
     ]
    },
    {
     "name": "stdout",
     "output_type": "stream",
     "text": [
      "Applying ICA to Raw instance\n",
      "    Transforming to ICA space (43 components)\n",
      "    Zeroing out 1 ICA component\n",
      "    Projecting back using 57 PCA components\n",
      "Finished 412 EO\n",
      "413 EC\n",
      "Opening raw data file ../data/out/subjects/413/EC/413_maprenamed&nfiltered.fif...\n",
      "    Range : 0 ... 63049 =      0.000 ...    63.049 secs\n",
      "Ready.\n",
      "Reading 0 ... 63049  =      0.000 ...    63.049 secs...\n"
     ]
    },
    {
     "name": "stderr",
     "output_type": "stream",
     "text": [
      "/tmp/ipykernel_4123902/3700352901.py:58: RuntimeWarning: This filename (../data/out/subjects/413/EC/413_maprenamed&nfiltered.fif) does not conform to MNE naming conventions. All raw files should end with raw.fif, raw_sss.fif, raw_tsss.fif, _meg.fif, _eeg.fif, _ieeg.fif, raw.fif.gz, raw_sss.fif.gz, raw_tsss.fif.gz, _meg.fif.gz, _eeg.fif.gz or _ieeg.fif.gz\n",
      "  EEG = mne.io.read_raw_fif(\n"
     ]
    },
    {
     "name": "stdout",
     "output_type": "stream",
     "text": [
      "Writing /home/prakhar7/mfprl/neuroconn/batch/../data/out/subjects/413/EC/413_badchannels.fif\n",
      "Closing /home/prakhar7/mfprl/neuroconn/batch/../data/out/subjects/413/EC/413_badchannels.fif\n",
      "[done]\n",
      "EEG channel type selected for re-referencing\n",
      "Applying average reference.\n",
      "Applying a custom ('EEG',) reference.\n"
     ]
    },
    {
     "name": "stderr",
     "output_type": "stream",
     "text": [
      "/tmp/ipykernel_4123902/3700352901.py:85: RuntimeWarning: This filename (/home/prakhar7/mfprl/neuroconn/batch/../data/out/subjects/413/EC/413_badchannels.fif) does not conform to MNE naming conventions. All raw files should end with raw.fif, raw_sss.fif, raw_tsss.fif, _meg.fif, _eeg.fif, _ieeg.fif, raw.fif.gz, raw_sss.fif.gz, raw_tsss.fif.gz, _meg.fif.gz, _eeg.fif.gz or _ieeg.fif.gz\n",
      "  EEG.save(bad_channel_file, overwrite=True)\n"
     ]
    },
    {
     "name": "stdout",
     "output_type": "stream",
     "text": [
      "Fitting ICA to data using 57 channels (please be patient, this may take a while)\n",
      "Selecting by explained variance: 29 components\n",
      "Computing Extended Infomax ICA\n",
      "Fitting ICA took 15.9s.\n",
      "Creating RawArray with float64 data, n_channels=32, n_times=63050\n",
      "    Range : 0 ... 63049 =      0.000 ...    63.049 secs\n",
      "Ready.\n",
      "NOTE: pick_channels() is a legacy function. New code should use inst.pick(...).\n"
     ]
    },
    {
     "name": "stderr",
     "output_type": "stream",
     "text": [
      "/tmp/ipykernel_4123902/3700352901.py:143: RuntimeWarning: The provided Raw instance is not filtered between 1 and 100 Hz. ICLabel was designed to classify features extracted from an EEG dataset bandpass filtered between 1 and 100 Hz (see the 'filter()' method for Raw and Epochs instances).\n",
      "  ic_labels = label_components(\n"
     ]
    },
    {
     "name": "stdout",
     "output_type": "stream",
     "text": [
      "Applying ICA to Raw instance\n",
      "    Transforming to ICA space (29 components)\n",
      "    Zeroing out 1 ICA component\n",
      "    Projecting back using 57 PCA components\n",
      "Finished 413 EC\n",
      "413 EO\n",
      "Opening raw data file ../data/out/subjects/413/EO/413_maprenamed&nfiltered.fif...\n",
      "    Range : 0 ... 63999 =      0.000 ...    63.999 secs\n",
      "Ready.\n",
      "Reading 0 ... 63999  =      0.000 ...    63.999 secs...\n"
     ]
    },
    {
     "name": "stderr",
     "output_type": "stream",
     "text": [
      "/tmp/ipykernel_4123902/3700352901.py:58: RuntimeWarning: This filename (../data/out/subjects/413/EO/413_maprenamed&nfiltered.fif) does not conform to MNE naming conventions. All raw files should end with raw.fif, raw_sss.fif, raw_tsss.fif, _meg.fif, _eeg.fif, _ieeg.fif, raw.fif.gz, raw_sss.fif.gz, raw_tsss.fif.gz, _meg.fif.gz, _eeg.fif.gz or _ieeg.fif.gz\n",
      "  EEG = mne.io.read_raw_fif(\n"
     ]
    },
    {
     "name": "stdout",
     "output_type": "stream",
     "text": [
      "Writing /home/prakhar7/mfprl/neuroconn/batch/../data/out/subjects/413/EO/413_badchannels.fif\n",
      "Closing /home/prakhar7/mfprl/neuroconn/batch/../data/out/subjects/413/EO/413_badchannels.fif\n",
      "[done]\n",
      "EEG channel type selected for re-referencing\n",
      "Applying average reference.\n",
      "Applying a custom ('EEG',) reference.\n"
     ]
    },
    {
     "name": "stderr",
     "output_type": "stream",
     "text": [
      "/tmp/ipykernel_4123902/3700352901.py:85: RuntimeWarning: This filename (/home/prakhar7/mfprl/neuroconn/batch/../data/out/subjects/413/EO/413_badchannels.fif) does not conform to MNE naming conventions. All raw files should end with raw.fif, raw_sss.fif, raw_tsss.fif, _meg.fif, _eeg.fif, _ieeg.fif, raw.fif.gz, raw_sss.fif.gz, raw_tsss.fif.gz, _meg.fif.gz, _eeg.fif.gz or _ieeg.fif.gz\n",
      "  EEG.save(bad_channel_file, overwrite=True)\n"
     ]
    },
    {
     "name": "stdout",
     "output_type": "stream",
     "text": [
      "Fitting ICA to data using 57 channels (please be patient, this may take a while)\n",
      "Selecting by explained variance: 20 components\n",
      "Computing Extended Infomax ICA\n",
      "Fitting ICA took 9.1s.\n",
      "Creating RawArray with float64 data, n_channels=23, n_times=64000\n",
      "    Range : 0 ... 63999 =      0.000 ...    63.999 secs\n",
      "Ready.\n",
      "NOTE: pick_channels() is a legacy function. New code should use inst.pick(...).\n"
     ]
    },
    {
     "name": "stderr",
     "output_type": "stream",
     "text": [
      "/tmp/ipykernel_4123902/3700352901.py:143: RuntimeWarning: The provided Raw instance is not filtered between 1 and 100 Hz. ICLabel was designed to classify features extracted from an EEG dataset bandpass filtered between 1 and 100 Hz (see the 'filter()' method for Raw and Epochs instances).\n",
      "  ic_labels = label_components(\n"
     ]
    },
    {
     "name": "stdout",
     "output_type": "stream",
     "text": [
      "Applying ICA to Raw instance\n",
      "    Transforming to ICA space (20 components)\n",
      "    Zeroing out 1 ICA component\n",
      "    Projecting back using 57 PCA components\n",
      "Finished 413 EO\n",
      "414 EC\n",
      "Opening raw data file ../data/out/subjects/414/EC/414_maprenamed&nfiltered.fif...\n",
      "    Range : 0 ... 63749 =      0.000 ...    63.749 secs\n",
      "Ready.\n",
      "Reading 0 ... 63749  =      0.000 ...    63.749 secs...\n"
     ]
    },
    {
     "name": "stderr",
     "output_type": "stream",
     "text": [
      "/tmp/ipykernel_4123902/3700352901.py:58: RuntimeWarning: This filename (../data/out/subjects/414/EC/414_maprenamed&nfiltered.fif) does not conform to MNE naming conventions. All raw files should end with raw.fif, raw_sss.fif, raw_tsss.fif, _meg.fif, _eeg.fif, _ieeg.fif, raw.fif.gz, raw_sss.fif.gz, raw_tsss.fif.gz, _meg.fif.gz, _eeg.fif.gz or _ieeg.fif.gz\n",
      "  EEG = mne.io.read_raw_fif(\n"
     ]
    },
    {
     "name": "stdout",
     "output_type": "stream",
     "text": [
      "Writing /home/prakhar7/mfprl/neuroconn/batch/../data/out/subjects/414/EC/414_badchannels.fif\n",
      "Closing /home/prakhar7/mfprl/neuroconn/batch/../data/out/subjects/414/EC/414_badchannels.fif\n",
      "[done]\n",
      "EEG channel type selected for re-referencing\n",
      "Applying average reference.\n",
      "Applying a custom ('EEG',) reference.\n"
     ]
    },
    {
     "name": "stderr",
     "output_type": "stream",
     "text": [
      "/tmp/ipykernel_4123902/3700352901.py:85: RuntimeWarning: This filename (/home/prakhar7/mfprl/neuroconn/batch/../data/out/subjects/414/EC/414_badchannels.fif) does not conform to MNE naming conventions. All raw files should end with raw.fif, raw_sss.fif, raw_tsss.fif, _meg.fif, _eeg.fif, _ieeg.fif, raw.fif.gz, raw_sss.fif.gz, raw_tsss.fif.gz, _meg.fif.gz, _eeg.fif.gz or _ieeg.fif.gz\n",
      "  EEG.save(bad_channel_file, overwrite=True)\n"
     ]
    },
    {
     "name": "stdout",
     "output_type": "stream",
     "text": [
      "Fitting ICA to data using 57 channels (please be patient, this may take a while)\n",
      "Selecting by explained variance: 42 components\n",
      "Computing Extended Infomax ICA\n",
      "Fitting ICA took 15.5s.\n",
      "Creating RawArray with float64 data, n_channels=45, n_times=63750\n",
      "    Range : 0 ... 63749 =      0.000 ...    63.749 secs\n",
      "Ready.\n",
      "NOTE: pick_channels() is a legacy function. New code should use inst.pick(...).\n"
     ]
    },
    {
     "name": "stderr",
     "output_type": "stream",
     "text": [
      "/tmp/ipykernel_4123902/3700352901.py:143: RuntimeWarning: The provided Raw instance is not filtered between 1 and 100 Hz. ICLabel was designed to classify features extracted from an EEG dataset bandpass filtered between 1 and 100 Hz (see the 'filter()' method for Raw and Epochs instances).\n",
      "  ic_labels = label_components(\n"
     ]
    },
    {
     "name": "stdout",
     "output_type": "stream",
     "text": [
      "Applying ICA to Raw instance\n",
      "    Transforming to ICA space (42 components)\n",
      "    Zeroing out 1 ICA component\n",
      "    Projecting back using 57 PCA components\n",
      "Finished 414 EC\n",
      "414 EO\n",
      "Opening raw data file ../data/out/subjects/414/EO/414_maprenamed&nfiltered.fif...\n",
      "    Range : 0 ... 63399 =      0.000 ...    63.399 secs\n",
      "Ready.\n",
      "Reading 0 ... 63399  =      0.000 ...    63.399 secs...\n"
     ]
    },
    {
     "name": "stderr",
     "output_type": "stream",
     "text": [
      "/tmp/ipykernel_4123902/3700352901.py:58: RuntimeWarning: This filename (../data/out/subjects/414/EO/414_maprenamed&nfiltered.fif) does not conform to MNE naming conventions. All raw files should end with raw.fif, raw_sss.fif, raw_tsss.fif, _meg.fif, _eeg.fif, _ieeg.fif, raw.fif.gz, raw_sss.fif.gz, raw_tsss.fif.gz, _meg.fif.gz, _eeg.fif.gz or _ieeg.fif.gz\n",
      "  EEG = mne.io.read_raw_fif(\n"
     ]
    },
    {
     "name": "stdout",
     "output_type": "stream",
     "text": [
      "Writing /home/prakhar7/mfprl/neuroconn/batch/../data/out/subjects/414/EO/414_badchannels.fif\n",
      "Closing /home/prakhar7/mfprl/neuroconn/batch/../data/out/subjects/414/EO/414_badchannels.fif\n",
      "[done]\n",
      "EEG channel type selected for re-referencing\n",
      "Applying average reference.\n",
      "Applying a custom ('EEG',) reference.\n"
     ]
    },
    {
     "name": "stderr",
     "output_type": "stream",
     "text": [
      "/tmp/ipykernel_4123902/3700352901.py:85: RuntimeWarning: This filename (/home/prakhar7/mfprl/neuroconn/batch/../data/out/subjects/414/EO/414_badchannels.fif) does not conform to MNE naming conventions. All raw files should end with raw.fif, raw_sss.fif, raw_tsss.fif, _meg.fif, _eeg.fif, _ieeg.fif, raw.fif.gz, raw_sss.fif.gz, raw_tsss.fif.gz, _meg.fif.gz, _eeg.fif.gz or _ieeg.fif.gz\n",
      "  EEG.save(bad_channel_file, overwrite=True)\n"
     ]
    },
    {
     "name": "stdout",
     "output_type": "stream",
     "text": [
      "Fitting ICA to data using 57 channels (please be patient, this may take a while)\n",
      "Selecting by explained variance: 45 components\n",
      "Computing Extended Infomax ICA\n",
      "Fitting ICA took 19.1s.\n",
      "Creating RawArray with float64 data, n_channels=48, n_times=63400\n",
      "    Range : 0 ... 63399 =      0.000 ...    63.399 secs\n",
      "Ready.\n",
      "NOTE: pick_channels() is a legacy function. New code should use inst.pick(...).\n"
     ]
    },
    {
     "name": "stderr",
     "output_type": "stream",
     "text": [
      "/tmp/ipykernel_4123902/3700352901.py:143: RuntimeWarning: The provided Raw instance is not filtered between 1 and 100 Hz. ICLabel was designed to classify features extracted from an EEG dataset bandpass filtered between 1 and 100 Hz (see the 'filter()' method for Raw and Epochs instances).\n",
      "  ic_labels = label_components(\n"
     ]
    },
    {
     "name": "stdout",
     "output_type": "stream",
     "text": [
      "Applying ICA to Raw instance\n",
      "    Transforming to ICA space (45 components)\n",
      "    Zeroing out 1 ICA component\n",
      "    Projecting back using 57 PCA components\n",
      "Finished 414 EO\n",
      "415 EC\n",
      "Opening raw data file ../data/out/subjects/415/EC/415_maprenamed&nfiltered.fif...\n",
      "    Range : 0 ... 63849 =      0.000 ...    63.849 secs\n",
      "Ready.\n",
      "Reading 0 ... 63849  =      0.000 ...    63.849 secs...\n"
     ]
    },
    {
     "name": "stderr",
     "output_type": "stream",
     "text": [
      "/tmp/ipykernel_4123902/3700352901.py:58: RuntimeWarning: This filename (../data/out/subjects/415/EC/415_maprenamed&nfiltered.fif) does not conform to MNE naming conventions. All raw files should end with raw.fif, raw_sss.fif, raw_tsss.fif, _meg.fif, _eeg.fif, _ieeg.fif, raw.fif.gz, raw_sss.fif.gz, raw_tsss.fif.gz, _meg.fif.gz, _eeg.fif.gz or _ieeg.fif.gz\n",
      "  EEG = mne.io.read_raw_fif(\n"
     ]
    },
    {
     "name": "stdout",
     "output_type": "stream",
     "text": [
      "Writing /home/prakhar7/mfprl/neuroconn/batch/../data/out/subjects/415/EC/415_badchannels.fif\n",
      "Closing /home/prakhar7/mfprl/neuroconn/batch/../data/out/subjects/415/EC/415_badchannels.fif\n",
      "[done]\n",
      "EEG channel type selected for re-referencing\n",
      "Applying average reference.\n",
      "Applying a custom ('EEG',) reference.\n"
     ]
    },
    {
     "name": "stderr",
     "output_type": "stream",
     "text": [
      "/tmp/ipykernel_4123902/3700352901.py:85: RuntimeWarning: This filename (/home/prakhar7/mfprl/neuroconn/batch/../data/out/subjects/415/EC/415_badchannels.fif) does not conform to MNE naming conventions. All raw files should end with raw.fif, raw_sss.fif, raw_tsss.fif, _meg.fif, _eeg.fif, _ieeg.fif, raw.fif.gz, raw_sss.fif.gz, raw_tsss.fif.gz, _meg.fif.gz, _eeg.fif.gz or _ieeg.fif.gz\n",
      "  EEG.save(bad_channel_file, overwrite=True)\n"
     ]
    },
    {
     "name": "stdout",
     "output_type": "stream",
     "text": [
      "Fitting ICA to data using 57 channels (please be patient, this may take a while)\n",
      "Selecting by explained variance: 38 components\n",
      "Computing Extended Infomax ICA\n",
      "Fitting ICA took 16.8s.\n",
      "Creating RawArray with float64 data, n_channels=41, n_times=63850\n",
      "    Range : 0 ... 63849 =      0.000 ...    63.849 secs\n",
      "Ready.\n",
      "NOTE: pick_channels() is a legacy function. New code should use inst.pick(...).\n"
     ]
    },
    {
     "name": "stderr",
     "output_type": "stream",
     "text": [
      "/tmp/ipykernel_4123902/3700352901.py:143: RuntimeWarning: The provided Raw instance is not filtered between 1 and 100 Hz. ICLabel was designed to classify features extracted from an EEG dataset bandpass filtered between 1 and 100 Hz (see the 'filter()' method for Raw and Epochs instances).\n",
      "  ic_labels = label_components(\n"
     ]
    },
    {
     "name": "stdout",
     "output_type": "stream",
     "text": [
      "Applying ICA to Raw instance\n",
      "    Transforming to ICA space (38 components)\n",
      "    Zeroing out 1 ICA component\n",
      "    Projecting back using 57 PCA components\n",
      "Finished 415 EC\n",
      "415 EO\n",
      "Opening raw data file ../data/out/subjects/415/EO/415_maprenamed&nfiltered.fif...\n",
      "    Range : 0 ... 64749 =      0.000 ...    64.749 secs\n",
      "Ready.\n",
      "Reading 0 ... 64749  =      0.000 ...    64.749 secs...\n"
     ]
    },
    {
     "name": "stderr",
     "output_type": "stream",
     "text": [
      "/tmp/ipykernel_4123902/3700352901.py:58: RuntimeWarning: This filename (../data/out/subjects/415/EO/415_maprenamed&nfiltered.fif) does not conform to MNE naming conventions. All raw files should end with raw.fif, raw_sss.fif, raw_tsss.fif, _meg.fif, _eeg.fif, _ieeg.fif, raw.fif.gz, raw_sss.fif.gz, raw_tsss.fif.gz, _meg.fif.gz, _eeg.fif.gz or _ieeg.fif.gz\n",
      "  EEG = mne.io.read_raw_fif(\n"
     ]
    },
    {
     "name": "stdout",
     "output_type": "stream",
     "text": [
      "Writing /home/prakhar7/mfprl/neuroconn/batch/../data/out/subjects/415/EO/415_badchannels.fif\n",
      "Closing /home/prakhar7/mfprl/neuroconn/batch/../data/out/subjects/415/EO/415_badchannels.fif\n",
      "[done]\n",
      "EEG channel type selected for re-referencing\n",
      "Applying average reference.\n",
      "Applying a custom ('EEG',) reference.\n"
     ]
    },
    {
     "name": "stderr",
     "output_type": "stream",
     "text": [
      "/tmp/ipykernel_4123902/3700352901.py:85: RuntimeWarning: This filename (/home/prakhar7/mfprl/neuroconn/batch/../data/out/subjects/415/EO/415_badchannels.fif) does not conform to MNE naming conventions. All raw files should end with raw.fif, raw_sss.fif, raw_tsss.fif, _meg.fif, _eeg.fif, _ieeg.fif, raw.fif.gz, raw_sss.fif.gz, raw_tsss.fif.gz, _meg.fif.gz, _eeg.fif.gz or _ieeg.fif.gz\n",
      "  EEG.save(bad_channel_file, overwrite=True)\n"
     ]
    },
    {
     "name": "stdout",
     "output_type": "stream",
     "text": [
      "Fitting ICA to data using 57 channels (please be patient, this may take a while)\n",
      "Selecting by explained variance: 40 components\n",
      "Computing Extended Infomax ICA\n",
      "Fitting ICA took 15.5s.\n",
      "Creating RawArray with float64 data, n_channels=43, n_times=64750\n",
      "    Range : 0 ... 64749 =      0.000 ...    64.749 secs\n",
      "Ready.\n",
      "NOTE: pick_channels() is a legacy function. New code should use inst.pick(...).\n"
     ]
    },
    {
     "name": "stderr",
     "output_type": "stream",
     "text": [
      "/tmp/ipykernel_4123902/3700352901.py:143: RuntimeWarning: The provided Raw instance is not filtered between 1 and 100 Hz. ICLabel was designed to classify features extracted from an EEG dataset bandpass filtered between 1 and 100 Hz (see the 'filter()' method for Raw and Epochs instances).\n",
      "  ic_labels = label_components(\n"
     ]
    },
    {
     "name": "stdout",
     "output_type": "stream",
     "text": [
      "Applying ICA to Raw instance\n",
      "    Transforming to ICA space (40 components)\n",
      "    Zeroing out 1 ICA component\n",
      "    Projecting back using 57 PCA components\n",
      "Finished 415 EO\n",
      "416 EC\n",
      "Opening raw data file ../data/out/subjects/416/EC/416_maprenamed&nfiltered.fif...\n",
      "    Range : 0 ... 62599 =      0.000 ...    62.599 secs\n",
      "Ready.\n",
      "Reading 0 ... 62599  =      0.000 ...    62.599 secs...\n"
     ]
    },
    {
     "name": "stderr",
     "output_type": "stream",
     "text": [
      "/tmp/ipykernel_4123902/3700352901.py:58: RuntimeWarning: This filename (../data/out/subjects/416/EC/416_maprenamed&nfiltered.fif) does not conform to MNE naming conventions. All raw files should end with raw.fif, raw_sss.fif, raw_tsss.fif, _meg.fif, _eeg.fif, _ieeg.fif, raw.fif.gz, raw_sss.fif.gz, raw_tsss.fif.gz, _meg.fif.gz, _eeg.fif.gz or _ieeg.fif.gz\n",
      "  EEG = mne.io.read_raw_fif(\n"
     ]
    },
    {
     "name": "stdout",
     "output_type": "stream",
     "text": [
      "Writing /home/prakhar7/mfprl/neuroconn/batch/../data/out/subjects/416/EC/416_badchannels.fif\n",
      "Closing /home/prakhar7/mfprl/neuroconn/batch/../data/out/subjects/416/EC/416_badchannels.fif\n",
      "[done]\n",
      "EEG channel type selected for re-referencing\n",
      "Applying average reference.\n",
      "Applying a custom ('EEG',) reference.\n"
     ]
    },
    {
     "name": "stderr",
     "output_type": "stream",
     "text": [
      "/tmp/ipykernel_4123902/3700352901.py:85: RuntimeWarning: This filename (/home/prakhar7/mfprl/neuroconn/batch/../data/out/subjects/416/EC/416_badchannels.fif) does not conform to MNE naming conventions. All raw files should end with raw.fif, raw_sss.fif, raw_tsss.fif, _meg.fif, _eeg.fif, _ieeg.fif, raw.fif.gz, raw_sss.fif.gz, raw_tsss.fif.gz, _meg.fif.gz, _eeg.fif.gz or _ieeg.fif.gz\n",
      "  EEG.save(bad_channel_file, overwrite=True)\n"
     ]
    },
    {
     "name": "stdout",
     "output_type": "stream",
     "text": [
      "Fitting ICA to data using 57 channels (please be patient, this may take a while)\n",
      "Selecting by explained variance: 46 components\n",
      "Computing Extended Infomax ICA\n",
      "Fitting ICA took 21.3s.\n",
      "Creating RawArray with float64 data, n_channels=49, n_times=62600\n",
      "    Range : 0 ... 62599 =      0.000 ...    62.599 secs\n",
      "Ready.\n",
      "NOTE: pick_channels() is a legacy function. New code should use inst.pick(...).\n"
     ]
    },
    {
     "name": "stderr",
     "output_type": "stream",
     "text": [
      "/tmp/ipykernel_4123902/3700352901.py:143: RuntimeWarning: The provided Raw instance is not filtered between 1 and 100 Hz. ICLabel was designed to classify features extracted from an EEG dataset bandpass filtered between 1 and 100 Hz (see the 'filter()' method for Raw and Epochs instances).\n",
      "  ic_labels = label_components(\n"
     ]
    },
    {
     "name": "stdout",
     "output_type": "stream",
     "text": [
      "Applying ICA to Raw instance\n",
      "    Transforming to ICA space (46 components)\n",
      "    Zeroing out 1 ICA component\n",
      "    Projecting back using 57 PCA components\n"
     ]
    }
   ],
   "source": [
    "# Import necessary Python modules\n",
    "from sklearn.decomposition import PCA\n",
    "from mne_icalabel import label_components\n",
    "from mne.preprocessing import ICA\n",
    "import copy  # This is a Python module that allows you to copy objects without changing the original object\n",
    "from scipy import signal\n",
    "import sklearn as sk\n",
    "import matplotlib.pyplot as plt\n",
    "import os\n",
    "import matplotlib\n",
    "import mne\n",
    "import numpy as np\n",
    "from scipy.stats import zscore\n",
    "matplotlib.use('Agg')  # disable plotting\n",
    "mne.viz.set_browser_backend('matplotlib', verbose=None)\n",
    "mne.set_config('MNE_BROWSER_BACKEND', 'matplotlib')\n",
    "\n",
    "\n",
    "# defining input and output directory\n",
    "files_in = '../data/in/subjects/'\n",
    "files_out = '../data/out/subjects/'\n",
    "\n",
    "\n",
    "# loading list of subject names from txt file\n",
    "names = open(\"./names.txt\", \"r\")\n",
    "subject_list = names.read().split('\\n')\n",
    "modes = ['EC', 'EO']\n",
    "# Read the custom montage\n",
    "montage_path = r\"../data/in/MFPRL_UPDATED_V2.sfp\"\n",
    "montage = mne.channels.read_custom_montage(montage_path)\n",
    "\n",
    "# Define the map of channel names using the provided keys\n",
    "ch_map = {'Ch1': 'Fp1', 'Ch2': 'Fz', 'Ch3': 'F3', 'Ch4': 'F7', 'Ch5': 'LHEye', 'Ch6': 'FC5',\n",
    "          # Setting FPz as GND so it matches montage\n",
    "          'Ch7': 'FC1', 'Ch8': 'C3', 'Ch9': 'T7', 'Ch10': 'GND', 'Ch11': 'CP5', 'Ch12': 'CP1',\n",
    "          'Ch13': 'Pz', 'Ch14': 'P3', 'Ch15': 'P7', 'Ch16': 'O1', 'Ch17': 'Oz', 'Ch18': 'O2',\n",
    "          'Ch19': 'P4', 'Ch20': 'P8', 'Ch21': 'Rmastoid', 'Ch22': 'CP6', 'Ch23': 'CP2', 'Ch24': 'Cz',\n",
    "          'Ch25': 'C4', 'Ch26': 'T8', 'Ch27': 'RHEye', 'Ch28': 'FC6', 'Ch29': 'FC2', 'Ch30': 'F4',\n",
    "          'Ch31': 'F8', 'Ch32': 'Fp2', 'Ch33': 'AF7', 'Ch34': 'AF3', 'Ch35': 'AFz', 'Ch36': 'F1',\n",
    "          'Ch37': 'F5', 'Ch38': 'FT7', 'Ch39': 'FC3', 'Ch40': 'FCz', 'Ch41': 'C1', 'Ch42': 'C5',\n",
    "          'Ch43': 'TP7', 'Ch44': 'CP3', 'Ch45': 'P1', 'Ch46': 'P5', 'Ch47': 'Lneck', 'Ch48': 'PO3',\n",
    "          'Ch49': 'POz', 'Ch50': 'PO4', 'Ch51': 'Rneck', 'Ch52': 'P6', 'Ch53': 'P2', 'Ch54': 'CPz',\n",
    "          'Ch55': 'CP4', 'Ch56': 'TP8', 'Ch57': 'C6', 'Ch58': 'C2', 'Ch59': 'FC4', 'Ch60': 'FT8',\n",
    "          'Ch61': 'F6', 'Ch62': 'F2', 'Ch63': 'AF4', 'Ch64': 'RVEye'}\n",
    "\n",
    "for subject in subject_list:\n",
    "    for mode in modes:\n",
    "\n",
    "        print(subject, mode)\n",
    "        # defining paths for current subject\n",
    "        input_path = files_in+subject + '/' + mode + '/'\n",
    "        output_path = files_out + subject + '/' + mode + '/'\n",
    "\n",
    "        log_file = output_path+'log2.txt'\n",
    "        log = open(log_file, \"w\")\n",
    "\n",
    "        # loading in files savef from 1filter.py\n",
    "        EEG = mne.io.read_raw_fif(\n",
    "            output_path + subject + '_maprenamed&nfiltered.fif', preload=True)\n",
    "\n",
    "        # MARKING BAD CHANNELS\n",
    "\n",
    "        # This can be used to plot the data with the bad channels marked.\n",
    "        # Uncomment the two lines of code below to see the plot\n",
    "        # Replace 'regexp=\" .\"' with the tentative bad channels\n",
    "        picks = mne.pick_channels_regexp(EEG.ch_names, regexp=\"AF.|FT.\")\n",
    "        plot_obj = EEG.plot(order=picks, n_channels=len(picks))\n",
    "\n",
    "        # Change list of bad channels\n",
    "        original_bads = copy.deepcopy(EEG.info[\"bads\"])\n",
    "        EEG.info[\"bads\"].append(\"AF7\")  # add a single channel\n",
    "        # add a single channel to the original_bads list\n",
    "        original_bads.append(\"AF7\")\n",
    "        # EEG_csd.info[\"bads\"].extend([\"EEG 051\", \"EEG 052\"])  # add a list of channels\n",
    "        # original_bads[\"bads\"].extend([\"EEG 051\", \"EEG 052\"])  # add a list of channels\n",
    "\n",
    "        # Print the bad channels to double check\n",
    "        log.write('Writing Bad Channels to Double check \\n')\n",
    "        log.write(str(EEG.info['bads']) + '\\n')\n",
    "        log.write(str(original_bads) + '\\n \\n \\n')\n",
    "\n",
    "        # Save the data with the bad channels marked\n",
    "        # Replace with your desired output directory\n",
    "        bad_channel_file = output_path + subject + '_badchannels.fif'\n",
    "        EEG.save(bad_channel_file, overwrite=True)\n",
    "\n",
    "        # ICA (Independent Component Analysis)\n",
    "\n",
    "        # Keep a reference to the original, uncropped data\n",
    "        original_EEG = EEG\n",
    "\n",
    "        # Crop a copy of the data to three seconds for easier plotting\n",
    "        cropped_EEG = EEG.copy().crop(tmin=0, tmax=3).load_data()\n",
    "\n",
    "        # Fit average re-reference to the data\n",
    "        original_EEG.set_eeg_reference('average')\n",
    "\n",
    "        # Drop channels #10 and #21 (mastoids) before ICA\n",
    "        original_EEG.drop_channels(['Rmastoid'])\n",
    "\n",
    "        # Determine the number of PCA components\n",
    "        data = original_EEG.get_data().T\n",
    "        pca = PCA()\n",
    "        pca.fit(data)\n",
    "\n",
    "        # Plot the explained variance ratio\n",
    "        plt.figure(figsize=(10, 5))\n",
    "        plt.plot(np.cumsum(pca.explained_variance_ratio_))\n",
    "        plt.xlabel('Number of Components')\n",
    "        plt.ylabel('Cumulative Explained Variance')\n",
    "        plt.title('Explained Variance by PCA Components')\n",
    "        plt.grid(True)\n",
    "        plt.savefig(output_path + subject + '_PCA_variance.png')\n",
    "\n",
    "        # Define ICA parameters\n",
    "        n_components = 0.99  # Choose number of ICA components based on PCA\n",
    "        ica = ICA(\n",
    "            n_components=n_components,\n",
    "            max_iter=\"auto\",\n",
    "            method=\"infomax\",\n",
    "            random_state=97,\n",
    "            fit_params=dict(extended=True),\n",
    "        )\n",
    "\n",
    "        # Pick only EEG channels\n",
    "        picks_eeg = mne.pick_types(original_EEG.info, meg=False,\n",
    "                                   eeg=True, eog=False, stim=False, emg=False, exclude='bads')\n",
    "\n",
    "        # Fit ICA using only EEG channels\n",
    "        ica.fit(original_EEG, picks=picks_eeg, decim=3)\n",
    "\n",
    "        # Plot the ICA components as time series\n",
    "        ica_ts_plot = ica.plot_sources(\n",
    "            original_EEG, show_scrollbars=False, show=True)\n",
    "        # saving the timeseries plot\n",
    "        plt.savefig(output_path + subject + 'ica_timeseries.png')\n",
    "\n",
    "        # Plot the ICA components as topographies in multiple windows\n",
    "        log.write(\"Plotting the ICA components as topographies... \\n\")\n",
    "        n_components_actual = ica.n_components_\n",
    "\n",
    "        # Selecting ICA components automatically using ICLabel\n",
    "        ic_labels = label_components(\n",
    "            original_EEG, ica, method='iclabel')\n",
    "        component_labels = ic_labels[\"labels\"]  # Extract the labels\n",
    "        # Extract the probabilities\n",
    "        component_probabilities = ic_labels[\"y_pred_proba\"]\n",
    "        for i in range(0, n_components_actual, 62):\n",
    "            # Plot the components\n",
    "            fig = ica.plot_components(picks=range(\n",
    "                i, min(i + 62, n_components_actual)), ch_type='eeg', inst=original_EEG)\n",
    "            # Set titles for each axis based on the labels and probabilities\n",
    "            for ax, label, prob in zip(fig.axes, component_labels[i:min(i + 62, n_components_actual)],\n",
    "                                       component_probabilities[i:min(i + 62, n_components_actual)]):\n",
    "                # Displaying label and probability rounded to 2 decimal places\n",
    "                ax.set_title(f\"{label} ({prob:.2f})\")\n",
    "\n",
    "            plt.savefig(output_path + subject + 'ica_topo.png')\n",
    "            # blinks\n",
    "            fig_overlay = ica.plot_overlay(\n",
    "                original_EEG, exclude=[0], picks=\"eeg\")\n",
    "            plt.savefig(output_path + subject + 'eeg_overlay.png')\n",
    "        # ICLabel scores\n",
    "\n",
    "        log.write(\"Initializing labels file \\n\")\n",
    "        label_file = output_path+'labels.txt'\n",
    "        labelf = open(label_file, \"w\")\n",
    "\n",
    "        for idx, label in enumerate(component_labels):\n",
    "            labelf.write(f\"Component {idx}: {label} \\n\")\n",
    "\n",
    "        log.write(\"Completed subject and mode successfully \\n\")\n",
    "        print('Finished', subject, mode)"
   ]
  },
  {
   "cell_type": "code",
   "execution_count": null,
   "metadata": {},
   "outputs": [],
   "source": []
  }
 ],
 "metadata": {
  "kernelspec": {
   "display_name": "main3",
   "language": "python",
   "name": "main3"
  },
  "language_info": {
   "codemirror_mode": {
    "name": "ipython",
    "version": 3
   },
   "file_extension": ".py",
   "mimetype": "text/x-python",
   "name": "python",
   "nbconvert_exporter": "python",
   "pygments_lexer": "ipython3",
   "version": "3.10.13"
  }
 },
 "nbformat": 4,
 "nbformat_minor": 2
}
