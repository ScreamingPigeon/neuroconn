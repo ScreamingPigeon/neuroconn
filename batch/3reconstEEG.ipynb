{
 "cells": [
  {
   "cell_type": "code",
   "execution_count": null,
   "metadata": {},
   "outputs": [
    {
     "name": "stdout",
     "output_type": "stream",
     "text": [
      "101 EC\n",
      "Opening raw data file ../data/out/subjects/101/EC/101_maprenamed&nfiltered.fif...\n",
      "    Range : 0 ... 63449 =      0.000 ...    63.449 secs\n",
      "Ready.\n",
      "Reading 0 ... 63449  =      0.000 ...    63.449 secs...\n"
     ]
    },
    {
     "name": "stderr",
     "output_type": "stream",
     "text": [
      "/tmp/ipykernel_3776169/3663576940.py:17: RuntimeWarning: module cupy not found, CUDA not enabled\n",
      "  mne.cuda.init_cuda(verbose=True)\n",
      "/tmp/ipykernel_3776169/3663576940.py:120: RuntimeWarning: This filename (../data/out/subjects/101/EC/101_maprenamed&nfiltered.fif) does not conform to MNE naming conventions. All raw files should end with raw.fif, raw_sss.fif, raw_tsss.fif, _meg.fif, _eeg.fif, _ieeg.fif, raw.fif.gz, raw_sss.fif.gz, raw_tsss.fif.gz, _meg.fif.gz, _eeg.fif.gz or _ieeg.fif.gz\n",
      "  EEG = mne.io.read_raw_fif(\n"
     ]
    },
    {
     "name": "stdout",
     "output_type": "stream",
     "text": [
      "Overwriting existing file.\n",
      "Writing /home/prakhar7/mfprl/sample/neuroconn/batch/../data/out/subjects/101/EC/101_badchannels.fif\n",
      "Closing /home/prakhar7/mfprl/sample/neuroconn/batch/../data/out/subjects/101/EC/101_badchannels.fif\n",
      "[done]\n",
      "EEG channel type selected for re-referencing\n",
      "Applying average reference.\n",
      "Applying a custom ('EEG',) reference.\n"
     ]
    },
    {
     "name": "stderr",
     "output_type": "stream",
     "text": [
      "/tmp/ipykernel_3776169/3663576940.py:160: RuntimeWarning: This filename (/home/prakhar7/mfprl/sample/neuroconn/batch/../data/out/subjects/101/EC/101_badchannels.fif) does not conform to MNE naming conventions. All raw files should end with raw.fif, raw_sss.fif, raw_tsss.fif, _meg.fif, _eeg.fif, _ieeg.fif, raw.fif.gz, raw_sss.fif.gz, raw_tsss.fif.gz, _meg.fif.gz, _eeg.fif.gz or _ieeg.fif.gz\n",
      "  EEG.save(bad_channel_file, overwrite=True)\n"
     ]
    },
    {
     "name": "stdout",
     "output_type": "stream",
     "text": [
      "Fitting ICA to data using 57 channels (please be patient, this may take a while)\n",
      "Selecting by explained variance: 44 components\n",
      "Computing Extended Infomax ICA\n",
      "Fitting ICA took 20.3s.\n",
      "Creating RawArray with float64 data, n_channels=47, n_times=63450\n",
      "    Range : 0 ... 63449 =      0.000 ...    63.449 secs\n",
      "Ready.\n",
      "NOTE: pick_channels() is a legacy function. New code should use inst.pick(...).\n"
     ]
    },
    {
     "name": "stderr",
     "output_type": "stream",
     "text": [
      "/tmp/ipykernel_3776169/3663576940.py:218: RuntimeWarning: The provided Raw instance is not filtered between 1 and 100 Hz. ICLabel was designed to classify features extracted from an EEG dataset bandpass filtered between 1 and 100 Hz (see the 'filter()' method for Raw and Epochs instances).\n",
      "  ic_labels = label_components(\n"
     ]
    },
    {
     "name": "stdout",
     "output_type": "stream",
     "text": [
      "Initializing labels file \n",
      "\n",
      "Applying ICA to Raw instance\n",
      "    Transforming to ICA space (44 components)\n",
      "    Zeroing out 21 ICA components\n",
      "    Projecting back using 57 PCA components\n",
      "Overwriting existing file.\n",
      "Writing /home/prakhar7/mfprl/sample/neuroconn/batch/../data/out/subjects/101/EC/101_ICA.fif\n",
      "Closing /home/prakhar7/mfprl/sample/neuroconn/batch/../data/out/subjects/101/EC/101_ICA.fif\n",
      "[done]\n",
      "Creating RawArray with float64 data, n_channels=63, n_times=63450\n",
      "    Range : 0 ... 63449 =      0.000 ...    63.449 secs\n",
      "Ready.\n",
      "Creating RawArray with float64 data, n_channels=64, n_times=3001\n",
      "    Range : 0 ... 3000 =      0.000 ...     3.000 secs\n",
      "Ready.\n",
      "NOTE: pick_types() is a legacy function. New code should use inst.pick(...).\n",
      "Interpolating bad channels\n",
      "    Automatic origin fit: head of radius 98.3 mm\n",
      "Computing interpolation matrix from 62 sensor positions\n",
      "Interpolating 1 sensors\n",
      "NOTE: pick_types() is a legacy function. New code should use inst.pick(...).\n",
      "Interpolating bad channels\n"
     ]
    },
    {
     "name": "stderr",
     "output_type": "stream",
     "text": [
      "/tmp/ipykernel_3776169/3663576940.py:255: RuntimeWarning: This filename (/home/prakhar7/mfprl/sample/neuroconn/batch/../data/out/subjects/101/EC/101_ICA.fif) does not conform to MNE naming conventions. All raw files should end with raw.fif, raw_sss.fif, raw_tsss.fif, _meg.fif, _eeg.fif, _ieeg.fif, raw.fif.gz, raw_sss.fif.gz, raw_tsss.fif.gz, _meg.fif.gz, _eeg.fif.gz or _ieeg.fif.gz\n",
      "  reconst_EEG.save(preprocessed_file, overwrite=True)\n",
      "/tmp/ipykernel_3776169/3663576940.py:269: RuntimeWarning: Fiducial point nasion not found, assuming identity unknown to head transformation\n",
      "  original_EEG.set_montage(mne.channels.make_dig_montage(\n",
      "/tmp/ipykernel_3776169/3663576940.py:282: RuntimeWarning: Fiducial point nasion not found, assuming identity unknown to head transformation\n",
      "  cropped_EEG.set_montage(mne.channels.make_dig_montage(\n"
     ]
    },
    {
     "name": "stdout",
     "output_type": "stream",
     "text": [
      "    Automatic origin fit: head of radius 91.5 mm\n",
      "Computing interpolation matrix from 63 sensor positions\n",
      "Interpolating 1 sensors\n",
      "Overwriting existing file.\n",
      "Writing /home/prakhar7/mfprl/sample/neuroconn/batch/../data/out/subjects/101/EC/101_interpolated.fif\n",
      "Closing /home/prakhar7/mfprl/sample/neuroconn/batch/../data/out/subjects/101/EC/101_interpolated.fif\n",
      "[done]\n",
      "Used Annotations descriptions: ['Event']\n",
      "Not setting metadata\n",
      "64 matching events found\n",
      "No baseline correction applied\n",
      "0 projection items activated\n",
      "Using data from preloaded Raw for 64 events and 1001 original time points ...\n",
      "2 bad epochs dropped\n",
      "Dropped 4 epochs: 2, 28, 31, 50\n"
     ]
    },
    {
     "name": "stderr",
     "output_type": "stream",
     "text": [
      "/tmp/ipykernel_3776169/3663576940.py:305: RuntimeWarning: This filename (/home/prakhar7/mfprl/sample/neuroconn/batch/../data/out/subjects/101/EC/101_interpolated.fif) does not conform to MNE naming conventions. All raw files should end with raw.fif, raw_sss.fif, raw_tsss.fif, _meg.fif, _eeg.fif, _ieeg.fif, raw.fif.gz, raw_sss.fif.gz, raw_tsss.fif.gz, _meg.fif.gz, _eeg.fif.gz or _ieeg.fif.gz\n",
      "  original_EEG_data_interp.save(preprocessed_file, overwrite=True)\n",
      "/tmp/ipykernel_3776169/3663576940.py:372: FutureWarning: The current default events=None is deprecated and will change to events=True in MNE 1.6. Set events=False to suppress this warning.\n",
      "  epochs_all.plot()\n"
     ]
    },
    {
     "name": "stdout",
     "output_type": "stream",
     "text": [
      "Overwriting existing file.\n",
      "101 EO\n",
      "Opening raw data file ../data/out/subjects/101/EO/101_maprenamed&nfiltered.fif...\n",
      "    Range : 0 ... 64049 =      0.000 ...    64.049 secs\n",
      "Ready.\n",
      "Reading 0 ... 64049  =      0.000 ...    64.049 secs...\n"
     ]
    },
    {
     "name": "stderr",
     "output_type": "stream",
     "text": [
      "/tmp/ipykernel_3776169/3663576940.py:378: RuntimeWarning: This filename (../data/out/subjects/101/EC/101_epoched.fif) does not conform to MNE naming conventions. All epochs files should end with -epo.fif, -epo.fif.gz, _epo.fif or _epo.fif.gz\n",
      "  epochs_all.save(preprocessed_file, overwrite=True)\n",
      "/tmp/ipykernel_3776169/3663576940.py:120: RuntimeWarning: This filename (../data/out/subjects/101/EO/101_maprenamed&nfiltered.fif) does not conform to MNE naming conventions. All raw files should end with raw.fif, raw_sss.fif, raw_tsss.fif, _meg.fif, _eeg.fif, _ieeg.fif, raw.fif.gz, raw_sss.fif.gz, raw_tsss.fif.gz, _meg.fif.gz, _eeg.fif.gz or _ieeg.fif.gz\n",
      "  EEG = mne.io.read_raw_fif(\n"
     ]
    },
    {
     "name": "stdout",
     "output_type": "stream",
     "text": [
      "Overwriting existing file.\n",
      "Writing /home/prakhar7/mfprl/sample/neuroconn/batch/../data/out/subjects/101/EO/101_badchannels.fif\n",
      "Closing /home/prakhar7/mfprl/sample/neuroconn/batch/../data/out/subjects/101/EO/101_badchannels.fif\n",
      "[done]\n",
      "EEG channel type selected for re-referencing\n",
      "Applying average reference.\n",
      "Applying a custom ('EEG',) reference.\n"
     ]
    },
    {
     "name": "stderr",
     "output_type": "stream",
     "text": [
      "/tmp/ipykernel_3776169/3663576940.py:160: RuntimeWarning: This filename (/home/prakhar7/mfprl/sample/neuroconn/batch/../data/out/subjects/101/EO/101_badchannels.fif) does not conform to MNE naming conventions. All raw files should end with raw.fif, raw_sss.fif, raw_tsss.fif, _meg.fif, _eeg.fif, _ieeg.fif, raw.fif.gz, raw_sss.fif.gz, raw_tsss.fif.gz, _meg.fif.gz, _eeg.fif.gz or _ieeg.fif.gz\n",
      "  EEG.save(bad_channel_file, overwrite=True)\n"
     ]
    },
    {
     "name": "stdout",
     "output_type": "stream",
     "text": [
      "Fitting ICA to data using 57 channels (please be patient, this may take a while)\n",
      "Selecting by explained variance: 40 components\n",
      "Computing Extended Infomax ICA\n",
      "Fitting ICA took 22.4s.\n",
      "Creating RawArray with float64 data, n_channels=43, n_times=64050\n",
      "    Range : 0 ... 64049 =      0.000 ...    64.049 secs\n",
      "Ready.\n",
      "NOTE: pick_channels() is a legacy function. New code should use inst.pick(...).\n"
     ]
    },
    {
     "name": "stderr",
     "output_type": "stream",
     "text": [
      "/tmp/ipykernel_3776169/3663576940.py:218: RuntimeWarning: The provided Raw instance is not filtered between 1 and 100 Hz. ICLabel was designed to classify features extracted from an EEG dataset bandpass filtered between 1 and 100 Hz (see the 'filter()' method for Raw and Epochs instances).\n",
      "  ic_labels = label_components(\n"
     ]
    },
    {
     "name": "stdout",
     "output_type": "stream",
     "text": [
      "Initializing labels file \n",
      "\n",
      "Applying ICA to Raw instance\n",
      "    Transforming to ICA space (40 components)\n",
      "    Zeroing out 15 ICA components\n",
      "    Projecting back using 57 PCA components\n",
      "Overwriting existing file.\n",
      "Writing /home/prakhar7/mfprl/sample/neuroconn/batch/../data/out/subjects/101/EO/101_ICA.fif\n",
      "Closing /home/prakhar7/mfprl/sample/neuroconn/batch/../data/out/subjects/101/EO/101_ICA.fif\n",
      "[done]\n",
      "Creating RawArray with float64 data, n_channels=63, n_times=64050\n",
      "    Range : 0 ... 64049 =      0.000 ...    64.049 secs\n",
      "Ready.\n",
      "Creating RawArray with float64 data, n_channels=64, n_times=3001\n",
      "    Range : 0 ... 3000 =      0.000 ...     3.000 secs\n",
      "Ready.\n",
      "NOTE: pick_types() is a legacy function. New code should use inst.pick(...).\n",
      "Interpolating bad channels\n",
      "    Automatic origin fit: head of radius 98.3 mm\n",
      "Computing interpolation matrix from 62 sensor positions\n",
      "Interpolating 1 sensors\n",
      "NOTE: pick_types() is a legacy function. New code should use inst.pick(...).\n",
      "Interpolating bad channels\n"
     ]
    },
    {
     "name": "stderr",
     "output_type": "stream",
     "text": [
      "/tmp/ipykernel_3776169/3663576940.py:255: RuntimeWarning: This filename (/home/prakhar7/mfprl/sample/neuroconn/batch/../data/out/subjects/101/EO/101_ICA.fif) does not conform to MNE naming conventions. All raw files should end with raw.fif, raw_sss.fif, raw_tsss.fif, _meg.fif, _eeg.fif, _ieeg.fif, raw.fif.gz, raw_sss.fif.gz, raw_tsss.fif.gz, _meg.fif.gz, _eeg.fif.gz or _ieeg.fif.gz\n",
      "  reconst_EEG.save(preprocessed_file, overwrite=True)\n",
      "/tmp/ipykernel_3776169/3663576940.py:269: RuntimeWarning: Fiducial point nasion not found, assuming identity unknown to head transformation\n",
      "  original_EEG.set_montage(mne.channels.make_dig_montage(\n",
      "/tmp/ipykernel_3776169/3663576940.py:282: RuntimeWarning: Fiducial point nasion not found, assuming identity unknown to head transformation\n",
      "  cropped_EEG.set_montage(mne.channels.make_dig_montage(\n"
     ]
    },
    {
     "name": "stdout",
     "output_type": "stream",
     "text": [
      "    Automatic origin fit: head of radius 91.5 mm\n",
      "Computing interpolation matrix from 63 sensor positions\n",
      "Interpolating 1 sensors\n",
      "Overwriting existing file.\n",
      "Writing /home/prakhar7/mfprl/sample/neuroconn/batch/../data/out/subjects/101/EO/101_interpolated.fif\n",
      "Closing /home/prakhar7/mfprl/sample/neuroconn/batch/../data/out/subjects/101/EO/101_interpolated.fif\n",
      "[done]\n",
      "Used Annotations descriptions: ['Event']\n",
      "Not setting metadata\n",
      "65 matching events found\n",
      "No baseline correction applied\n",
      "0 projection items activated\n",
      "Using data from preloaded Raw for 65 events and 1001 original time points ...\n",
      "2 bad epochs dropped\n",
      "Dropped 3 epochs: 9, 14, 53\n"
     ]
    },
    {
     "name": "stderr",
     "output_type": "stream",
     "text": [
      "/tmp/ipykernel_3776169/3663576940.py:305: RuntimeWarning: This filename (/home/prakhar7/mfprl/sample/neuroconn/batch/../data/out/subjects/101/EO/101_interpolated.fif) does not conform to MNE naming conventions. All raw files should end with raw.fif, raw_sss.fif, raw_tsss.fif, _meg.fif, _eeg.fif, _ieeg.fif, raw.fif.gz, raw_sss.fif.gz, raw_tsss.fif.gz, _meg.fif.gz, _eeg.fif.gz or _ieeg.fif.gz\n",
      "  original_EEG_data_interp.save(preprocessed_file, overwrite=True)\n",
      "/tmp/ipykernel_3776169/3663576940.py:372: FutureWarning: The current default events=None is deprecated and will change to events=True in MNE 1.6. Set events=False to suppress this warning.\n",
      "  epochs_all.plot()\n"
     ]
    },
    {
     "name": "stdout",
     "output_type": "stream",
     "text": [
      "Overwriting existing file.\n",
      "102 EC\n",
      "Opening raw data file ../data/out/subjects/102/EC/102_maprenamed&nfiltered.fif...\n",
      "    Range : 0 ... 63899 =      0.000 ...    63.899 secs\n",
      "Ready.\n",
      "Reading 0 ... 63899  =      0.000 ...    63.899 secs...\n",
      "EEG channel type selected for re-referencing\n",
      "Applying average reference.\n",
      "Applying a custom ('EEG',) reference.\n"
     ]
    },
    {
     "name": "stderr",
     "output_type": "stream",
     "text": [
      "/tmp/ipykernel_3776169/3663576940.py:378: RuntimeWarning: This filename (../data/out/subjects/101/EO/101_epoched.fif) does not conform to MNE naming conventions. All epochs files should end with -epo.fif, -epo.fif.gz, _epo.fif or _epo.fif.gz\n",
      "  epochs_all.save(preprocessed_file, overwrite=True)\n",
      "/tmp/ipykernel_3776169/3663576940.py:120: RuntimeWarning: This filename (../data/out/subjects/102/EC/102_maprenamed&nfiltered.fif) does not conform to MNE naming conventions. All raw files should end with raw.fif, raw_sss.fif, raw_tsss.fif, _meg.fif, _eeg.fif, _ieeg.fif, raw.fif.gz, raw_sss.fif.gz, raw_tsss.fif.gz, _meg.fif.gz, _eeg.fif.gz or _ieeg.fif.gz\n",
      "  EEG = mne.io.read_raw_fif(\n"
     ]
    },
    {
     "name": "stdout",
     "output_type": "stream",
     "text": [
      "Fitting ICA to data using 58 channels (please be patient, this may take a while)\n",
      "Selecting by explained variance: 33 components\n",
      "Computing Extended Infomax ICA\n",
      "Fitting ICA took 12.0s.\n",
      "Creating RawArray with float64 data, n_channels=36, n_times=63900\n",
      "    Range : 0 ... 63899 =      0.000 ...    63.899 secs\n",
      "Ready.\n",
      "NOTE: pick_channels() is a legacy function. New code should use inst.pick(...).\n"
     ]
    },
    {
     "name": "stderr",
     "output_type": "stream",
     "text": [
      "/tmp/ipykernel_3776169/3663576940.py:218: RuntimeWarning: The provided Raw instance is not filtered between 1 and 100 Hz. ICLabel was designed to classify features extracted from an EEG dataset bandpass filtered between 1 and 100 Hz (see the 'filter()' method for Raw and Epochs instances).\n",
      "  ic_labels = label_components(\n"
     ]
    },
    {
     "name": "stdout",
     "output_type": "stream",
     "text": [
      "Initializing labels file \n",
      "\n",
      "Applying ICA to Raw instance\n",
      "    Transforming to ICA space (33 components)\n",
      "    Zeroing out 18 ICA components\n",
      "    Projecting back using 58 PCA components\n",
      "Overwriting existing file.\n",
      "Writing /home/prakhar7/mfprl/sample/neuroconn/batch/../data/out/subjects/102/EC/102_ICA.fif\n",
      "Closing /home/prakhar7/mfprl/sample/neuroconn/batch/../data/out/subjects/102/EC/102_ICA.fif\n",
      "[done]\n",
      "Creating RawArray with float64 data, n_channels=63, n_times=63900\n",
      "    Range : 0 ... 63899 =      0.000 ...    63.899 secs\n",
      "Ready.\n",
      "Creating RawArray with float64 data, n_channels=64, n_times=3001\n",
      "    Range : 0 ... 3000 =      0.000 ...     3.000 secs\n",
      "Ready.\n",
      "NOTE: pick_types() is a legacy function. New code should use inst.pick(...).\n",
      "NOTE: pick_types() is a legacy function. New code should use inst.pick(...).\n"
     ]
    },
    {
     "name": "stderr",
     "output_type": "stream",
     "text": [
      "/tmp/ipykernel_3776169/3663576940.py:255: RuntimeWarning: This filename (/home/prakhar7/mfprl/sample/neuroconn/batch/../data/out/subjects/102/EC/102_ICA.fif) does not conform to MNE naming conventions. All raw files should end with raw.fif, raw_sss.fif, raw_tsss.fif, _meg.fif, _eeg.fif, _ieeg.fif, raw.fif.gz, raw_sss.fif.gz, raw_tsss.fif.gz, _meg.fif.gz, _eeg.fif.gz or _ieeg.fif.gz\n",
      "  reconst_EEG.save(preprocessed_file, overwrite=True)\n",
      "/tmp/ipykernel_3776169/3663576940.py:269: RuntimeWarning: Fiducial point nasion not found, assuming identity unknown to head transformation\n",
      "  original_EEG.set_montage(mne.channels.make_dig_montage(\n",
      "/tmp/ipykernel_3776169/3663576940.py:282: RuntimeWarning: Fiducial point nasion not found, assuming identity unknown to head transformation\n",
      "  cropped_EEG.set_montage(mne.channels.make_dig_montage(\n",
      "/tmp/ipykernel_3776169/3663576940.py:290: RuntimeWarning: No bad channels to interpolate. Doing nothing...\n",
      "  original_EEG_data_interp = original_EEG_data.copy().interpolate_bads(reset_bads=False)\n",
      "/tmp/ipykernel_3776169/3663576940.py:293: RuntimeWarning: No bad channels to interpolate. Doing nothing...\n",
      "  cropped_EEG_data_interp = cropped_EEG_data.copy().interpolate_bads(reset_bads=False)\n"
     ]
    },
    {
     "name": "stdout",
     "output_type": "stream",
     "text": [
      "Overwriting existing file.\n",
      "Writing /home/prakhar7/mfprl/sample/neuroconn/batch/../data/out/subjects/102/EC/102_interpolated.fif\n",
      "Closing /home/prakhar7/mfprl/sample/neuroconn/batch/../data/out/subjects/102/EC/102_interpolated.fif\n",
      "[done]\n",
      "Used Annotations descriptions: ['Event']\n",
      "Not setting metadata\n",
      "64 matching events found\n",
      "No baseline correction applied\n",
      "0 projection items activated\n",
      "Using data from preloaded Raw for 64 events and 1001 original time points ...\n",
      "1 bad epochs dropped\n",
      "Dropped 0 epochs: \n"
     ]
    },
    {
     "name": "stderr",
     "output_type": "stream",
     "text": [
      "/tmp/ipykernel_3776169/3663576940.py:305: RuntimeWarning: This filename (/home/prakhar7/mfprl/sample/neuroconn/batch/../data/out/subjects/102/EC/102_interpolated.fif) does not conform to MNE naming conventions. All raw files should end with raw.fif, raw_sss.fif, raw_tsss.fif, _meg.fif, _eeg.fif, _ieeg.fif, raw.fif.gz, raw_sss.fif.gz, raw_tsss.fif.gz, _meg.fif.gz, _eeg.fif.gz or _ieeg.fif.gz\n",
      "  original_EEG_data_interp.save(preprocessed_file, overwrite=True)\n",
      "/tmp/ipykernel_3776169/3663576940.py:372: FutureWarning: The current default events=None is deprecated and will change to events=True in MNE 1.6. Set events=False to suppress this warning.\n",
      "  epochs_all.plot()\n"
     ]
    },
    {
     "name": "stdout",
     "output_type": "stream",
     "text": [
      "Overwriting existing file.\n",
      "102 EO\n",
      "Opening raw data file ../data/out/subjects/102/EO/102_maprenamed&nfiltered.fif...\n",
      "    Range : 0 ... 63949 =      0.000 ...    63.949 secs\n",
      "Ready.\n",
      "Reading 0 ... 63949  =      0.000 ...    63.949 secs...\n"
     ]
    },
    {
     "name": "stderr",
     "output_type": "stream",
     "text": [
      "/tmp/ipykernel_3776169/3663576940.py:378: RuntimeWarning: This filename (../data/out/subjects/102/EC/102_epoched.fif) does not conform to MNE naming conventions. All epochs files should end with -epo.fif, -epo.fif.gz, _epo.fif or _epo.fif.gz\n",
      "  epochs_all.save(preprocessed_file, overwrite=True)\n",
      "/tmp/ipykernel_3776169/3663576940.py:120: RuntimeWarning: This filename (../data/out/subjects/102/EO/102_maprenamed&nfiltered.fif) does not conform to MNE naming conventions. All raw files should end with raw.fif, raw_sss.fif, raw_tsss.fif, _meg.fif, _eeg.fif, _ieeg.fif, raw.fif.gz, raw_sss.fif.gz, raw_tsss.fif.gz, _meg.fif.gz, _eeg.fif.gz or _ieeg.fif.gz\n",
      "  EEG = mne.io.read_raw_fif(\n"
     ]
    },
    {
     "name": "stdout",
     "output_type": "stream",
     "text": [
      "Overwriting existing file.\n",
      "Writing /home/prakhar7/mfprl/sample/neuroconn/batch/../data/out/subjects/102/EO/102_badchannels.fif\n",
      "Closing /home/prakhar7/mfprl/sample/neuroconn/batch/../data/out/subjects/102/EO/102_badchannels.fif\n",
      "[done]\n",
      "EEG channel type selected for re-referencing\n",
      "Applying average reference.\n",
      "Applying a custom ('EEG',) reference.\n"
     ]
    },
    {
     "name": "stderr",
     "output_type": "stream",
     "text": [
      "/tmp/ipykernel_3776169/3663576940.py:160: RuntimeWarning: This filename (/home/prakhar7/mfprl/sample/neuroconn/batch/../data/out/subjects/102/EO/102_badchannels.fif) does not conform to MNE naming conventions. All raw files should end with raw.fif, raw_sss.fif, raw_tsss.fif, _meg.fif, _eeg.fif, _ieeg.fif, raw.fif.gz, raw_sss.fif.gz, raw_tsss.fif.gz, _meg.fif.gz, _eeg.fif.gz or _ieeg.fif.gz\n",
      "  EEG.save(bad_channel_file, overwrite=True)\n"
     ]
    },
    {
     "name": "stdout",
     "output_type": "stream",
     "text": [
      "Fitting ICA to data using 57 channels (please be patient, this may take a while)\n",
      "Selecting by explained variance: 27 components\n",
      "Computing Extended Infomax ICA\n",
      "Fitting ICA took 11.1s.\n",
      "Creating RawArray with float64 data, n_channels=30, n_times=63950\n",
      "    Range : 0 ... 63949 =      0.000 ...    63.949 secs\n",
      "Ready.\n",
      "NOTE: pick_channels() is a legacy function. New code should use inst.pick(...).\n"
     ]
    },
    {
     "name": "stderr",
     "output_type": "stream",
     "text": [
      "/tmp/ipykernel_3776169/3663576940.py:218: RuntimeWarning: The provided Raw instance is not filtered between 1 and 100 Hz. ICLabel was designed to classify features extracted from an EEG dataset bandpass filtered between 1 and 100 Hz (see the 'filter()' method for Raw and Epochs instances).\n",
      "  ic_labels = label_components(\n"
     ]
    },
    {
     "name": "stdout",
     "output_type": "stream",
     "text": [
      "Initializing labels file \n",
      "\n",
      "Applying ICA to Raw instance\n",
      "    Transforming to ICA space (27 components)\n",
      "    Zeroing out 19 ICA components\n",
      "    Projecting back using 57 PCA components\n",
      "Overwriting existing file.\n",
      "Writing /home/prakhar7/mfprl/sample/neuroconn/batch/../data/out/subjects/102/EO/102_ICA.fif\n",
      "Closing /home/prakhar7/mfprl/sample/neuroconn/batch/../data/out/subjects/102/EO/102_ICA.fif\n",
      "[done]\n",
      "Creating RawArray with float64 data, n_channels=63, n_times=63950\n",
      "    Range : 0 ... 63949 =      0.000 ...    63.949 secs\n",
      "Ready.\n",
      "Creating RawArray with float64 data, n_channels=64, n_times=3001\n",
      "    Range : 0 ... 3000 =      0.000 ...     3.000 secs\n",
      "Ready.\n",
      "NOTE: pick_types() is a legacy function. New code should use inst.pick(...).\n",
      "Interpolating bad channels\n",
      "    Automatic origin fit: head of radius 98.3 mm\n",
      "Computing interpolation matrix from 62 sensor positions\n",
      "Interpolating 1 sensors\n"
     ]
    },
    {
     "name": "stderr",
     "output_type": "stream",
     "text": [
      "/tmp/ipykernel_3776169/3663576940.py:255: RuntimeWarning: This filename (/home/prakhar7/mfprl/sample/neuroconn/batch/../data/out/subjects/102/EO/102_ICA.fif) does not conform to MNE naming conventions. All raw files should end with raw.fif, raw_sss.fif, raw_tsss.fif, _meg.fif, _eeg.fif, _ieeg.fif, raw.fif.gz, raw_sss.fif.gz, raw_tsss.fif.gz, _meg.fif.gz, _eeg.fif.gz or _ieeg.fif.gz\n",
      "  reconst_EEG.save(preprocessed_file, overwrite=True)\n",
      "/tmp/ipykernel_3776169/3663576940.py:269: RuntimeWarning: Fiducial point nasion not found, assuming identity unknown to head transformation\n",
      "  original_EEG.set_montage(mne.channels.make_dig_montage(\n",
      "/tmp/ipykernel_3776169/3663576940.py:282: RuntimeWarning: Fiducial point nasion not found, assuming identity unknown to head transformation\n",
      "  cropped_EEG.set_montage(mne.channels.make_dig_montage(\n"
     ]
    },
    {
     "name": "stdout",
     "output_type": "stream",
     "text": [
      "NOTE: pick_types() is a legacy function. New code should use inst.pick(...).\n",
      "Interpolating bad channels\n",
      "    Automatic origin fit: head of radius 91.5 mm\n",
      "Computing interpolation matrix from 63 sensor positions\n",
      "Interpolating 1 sensors\n",
      "Overwriting existing file.\n",
      "Writing /home/prakhar7/mfprl/sample/neuroconn/batch/../data/out/subjects/102/EO/102_interpolated.fif\n",
      "Closing /home/prakhar7/mfprl/sample/neuroconn/batch/../data/out/subjects/102/EO/102_interpolated.fif\n",
      "[done]\n",
      "Used Annotations descriptions: ['Event']\n",
      "Not setting metadata\n",
      "64 matching events found\n",
      "No baseline correction applied\n",
      "0 projection items activated\n",
      "Using data from preloaded Raw for 64 events and 1001 original time points ...\n",
      "1 bad epochs dropped\n",
      "Dropped 1 epoch: 2\n"
     ]
    },
    {
     "name": "stderr",
     "output_type": "stream",
     "text": [
      "/tmp/ipykernel_3776169/3663576940.py:305: RuntimeWarning: This filename (/home/prakhar7/mfprl/sample/neuroconn/batch/../data/out/subjects/102/EO/102_interpolated.fif) does not conform to MNE naming conventions. All raw files should end with raw.fif, raw_sss.fif, raw_tsss.fif, _meg.fif, _eeg.fif, _ieeg.fif, raw.fif.gz, raw_sss.fif.gz, raw_tsss.fif.gz, _meg.fif.gz, _eeg.fif.gz or _ieeg.fif.gz\n",
      "  original_EEG_data_interp.save(preprocessed_file, overwrite=True)\n",
      "/tmp/ipykernel_3776169/3663576940.py:372: FutureWarning: The current default events=None is deprecated and will change to events=True in MNE 1.6. Set events=False to suppress this warning.\n",
      "  epochs_all.plot()\n"
     ]
    },
    {
     "name": "stdout",
     "output_type": "stream",
     "text": [
      "Overwriting existing file.\n",
      "103 EC\n",
      "Opening raw data file ../data/out/subjects/103/EC/103_maprenamed&nfiltered.fif...\n",
      "    Range : 0 ... 64249 =      0.000 ...    64.249 secs\n",
      "Ready.\n",
      "Reading 0 ... 64249  =      0.000 ...    64.249 secs...\n"
     ]
    },
    {
     "name": "stderr",
     "output_type": "stream",
     "text": [
      "/tmp/ipykernel_3776169/3663576940.py:378: RuntimeWarning: This filename (../data/out/subjects/102/EO/102_epoched.fif) does not conform to MNE naming conventions. All epochs files should end with -epo.fif, -epo.fif.gz, _epo.fif or _epo.fif.gz\n",
      "  epochs_all.save(preprocessed_file, overwrite=True)\n",
      "/tmp/ipykernel_3776169/3663576940.py:120: RuntimeWarning: This filename (../data/out/subjects/103/EC/103_maprenamed&nfiltered.fif) does not conform to MNE naming conventions. All raw files should end with raw.fif, raw_sss.fif, raw_tsss.fif, _meg.fif, _eeg.fif, _ieeg.fif, raw.fif.gz, raw_sss.fif.gz, raw_tsss.fif.gz, _meg.fif.gz, _eeg.fif.gz or _ieeg.fif.gz\n",
      "  EEG = mne.io.read_raw_fif(\n"
     ]
    },
    {
     "name": "stdout",
     "output_type": "stream",
     "text": [
      "Overwriting existing file.\n",
      "Writing /home/prakhar7/mfprl/sample/neuroconn/batch/../data/out/subjects/103/EC/103_badchannels.fif\n",
      "Closing /home/prakhar7/mfprl/sample/neuroconn/batch/../data/out/subjects/103/EC/103_badchannels.fif\n",
      "[done]\n",
      "EEG channel type selected for re-referencing\n",
      "Applying average reference.\n",
      "Applying a custom ('EEG',) reference.\n"
     ]
    },
    {
     "name": "stderr",
     "output_type": "stream",
     "text": [
      "/tmp/ipykernel_3776169/3663576940.py:160: RuntimeWarning: This filename (/home/prakhar7/mfprl/sample/neuroconn/batch/../data/out/subjects/103/EC/103_badchannels.fif) does not conform to MNE naming conventions. All raw files should end with raw.fif, raw_sss.fif, raw_tsss.fif, _meg.fif, _eeg.fif, _ieeg.fif, raw.fif.gz, raw_sss.fif.gz, raw_tsss.fif.gz, _meg.fif.gz, _eeg.fif.gz or _ieeg.fif.gz\n",
      "  EEG.save(bad_channel_file, overwrite=True)\n"
     ]
    },
    {
     "name": "stdout",
     "output_type": "stream",
     "text": [
      "Fitting ICA to data using 57 channels (please be patient, this may take a while)\n",
      "Selecting by explained variance: 18 components\n",
      "Computing Extended Infomax ICA\n",
      "Fitting ICA took 9.5s.\n",
      "Creating RawArray with float64 data, n_channels=21, n_times=64250\n",
      "    Range : 0 ... 64249 =      0.000 ...    64.249 secs\n",
      "Ready.\n",
      "NOTE: pick_channels() is a legacy function. New code should use inst.pick(...).\n"
     ]
    },
    {
     "name": "stderr",
     "output_type": "stream",
     "text": [
      "/tmp/ipykernel_3776169/3663576940.py:218: RuntimeWarning: The provided Raw instance is not filtered between 1 and 100 Hz. ICLabel was designed to classify features extracted from an EEG dataset bandpass filtered between 1 and 100 Hz (see the 'filter()' method for Raw and Epochs instances).\n",
      "  ic_labels = label_components(\n"
     ]
    },
    {
     "name": "stdout",
     "output_type": "stream",
     "text": [
      "Initializing labels file \n",
      "\n",
      "Applying ICA to Raw instance\n",
      "    Transforming to ICA space (18 components)\n",
      "    Zeroing out 5 ICA components\n",
      "    Projecting back using 57 PCA components\n",
      "Overwriting existing file.\n",
      "Writing /home/prakhar7/mfprl/sample/neuroconn/batch/../data/out/subjects/103/EC/103_ICA.fif\n",
      "Closing /home/prakhar7/mfprl/sample/neuroconn/batch/../data/out/subjects/103/EC/103_ICA.fif\n",
      "[done]\n",
      "Creating RawArray with float64 data, n_channels=63, n_times=64250\n",
      "    Range : 0 ... 64249 =      0.000 ...    64.249 secs\n",
      "Ready.\n",
      "Creating RawArray with float64 data, n_channels=64, n_times=3001\n",
      "    Range : 0 ... 3000 =      0.000 ...     3.000 secs\n",
      "Ready.\n",
      "NOTE: pick_types() is a legacy function. New code should use inst.pick(...).\n",
      "Interpolating bad channels\n",
      "    Automatic origin fit: head of radius 98.3 mm\n",
      "Computing interpolation matrix from 62 sensor positions\n",
      "Interpolating 1 sensors\n",
      "NOTE: pick_types() is a legacy function. New code should use inst.pick(...).\n",
      "Interpolating bad channels\n",
      "    Automatic origin fit: head of radius 91.5 mm\n"
     ]
    },
    {
     "name": "stderr",
     "output_type": "stream",
     "text": [
      "/tmp/ipykernel_3776169/3663576940.py:255: RuntimeWarning: This filename (/home/prakhar7/mfprl/sample/neuroconn/batch/../data/out/subjects/103/EC/103_ICA.fif) does not conform to MNE naming conventions. All raw files should end with raw.fif, raw_sss.fif, raw_tsss.fif, _meg.fif, _eeg.fif, _ieeg.fif, raw.fif.gz, raw_sss.fif.gz, raw_tsss.fif.gz, _meg.fif.gz, _eeg.fif.gz or _ieeg.fif.gz\n",
      "  reconst_EEG.save(preprocessed_file, overwrite=True)\n",
      "/tmp/ipykernel_3776169/3663576940.py:269: RuntimeWarning: Fiducial point nasion not found, assuming identity unknown to head transformation\n",
      "  original_EEG.set_montage(mne.channels.make_dig_montage(\n",
      "/tmp/ipykernel_3776169/3663576940.py:282: RuntimeWarning: Fiducial point nasion not found, assuming identity unknown to head transformation\n",
      "  cropped_EEG.set_montage(mne.channels.make_dig_montage(\n"
     ]
    },
    {
     "name": "stdout",
     "output_type": "stream",
     "text": [
      "Computing interpolation matrix from 63 sensor positions\n",
      "Interpolating 1 sensors\n",
      "Overwriting existing file.\n",
      "Writing /home/prakhar7/mfprl/sample/neuroconn/batch/../data/out/subjects/103/EC/103_interpolated.fif\n",
      "Closing /home/prakhar7/mfprl/sample/neuroconn/batch/../data/out/subjects/103/EC/103_interpolated.fif\n",
      "[done]\n",
      "Used Annotations descriptions: ['Event']\n",
      "Not setting metadata\n",
      "65 matching events found\n",
      "No baseline correction applied\n",
      "0 projection items activated\n",
      "Using data from preloaded Raw for 65 events and 1001 original time points ...\n",
      "2 bad epochs dropped\n",
      "Dropped 0 epochs: \n"
     ]
    },
    {
     "name": "stderr",
     "output_type": "stream",
     "text": [
      "/tmp/ipykernel_3776169/3663576940.py:305: RuntimeWarning: This filename (/home/prakhar7/mfprl/sample/neuroconn/batch/../data/out/subjects/103/EC/103_interpolated.fif) does not conform to MNE naming conventions. All raw files should end with raw.fif, raw_sss.fif, raw_tsss.fif, _meg.fif, _eeg.fif, _ieeg.fif, raw.fif.gz, raw_sss.fif.gz, raw_tsss.fif.gz, _meg.fif.gz, _eeg.fif.gz or _ieeg.fif.gz\n",
      "  original_EEG_data_interp.save(preprocessed_file, overwrite=True)\n",
      "/tmp/ipykernel_3776169/3663576940.py:372: FutureWarning: The current default events=None is deprecated and will change to events=True in MNE 1.6. Set events=False to suppress this warning.\n",
      "  epochs_all.plot()\n"
     ]
    },
    {
     "name": "stdout",
     "output_type": "stream",
     "text": [
      "Overwriting existing file.\n",
      "103 EO\n",
      "Opening raw data file ../data/out/subjects/103/EO/103_maprenamed&nfiltered.fif...\n",
      "    Range : 0 ... 64149 =      0.000 ...    64.149 secs\n",
      "Ready.\n",
      "Reading 0 ... 64149  =      0.000 ...    64.149 secs...\n"
     ]
    },
    {
     "name": "stderr",
     "output_type": "stream",
     "text": [
      "/tmp/ipykernel_3776169/3663576940.py:378: RuntimeWarning: This filename (../data/out/subjects/103/EC/103_epoched.fif) does not conform to MNE naming conventions. All epochs files should end with -epo.fif, -epo.fif.gz, _epo.fif or _epo.fif.gz\n",
      "  epochs_all.save(preprocessed_file, overwrite=True)\n",
      "/tmp/ipykernel_3776169/3663576940.py:120: RuntimeWarning: This filename (../data/out/subjects/103/EO/103_maprenamed&nfiltered.fif) does not conform to MNE naming conventions. All raw files should end with raw.fif, raw_sss.fif, raw_tsss.fif, _meg.fif, _eeg.fif, _ieeg.fif, raw.fif.gz, raw_sss.fif.gz, raw_tsss.fif.gz, _meg.fif.gz, _eeg.fif.gz or _ieeg.fif.gz\n",
      "  EEG = mne.io.read_raw_fif(\n"
     ]
    },
    {
     "name": "stdout",
     "output_type": "stream",
     "text": [
      "Overwriting existing file.\n",
      "Writing /home/prakhar7/mfprl/sample/neuroconn/batch/../data/out/subjects/103/EO/103_badchannels.fif\n",
      "Closing /home/prakhar7/mfprl/sample/neuroconn/batch/../data/out/subjects/103/EO/103_badchannels.fif\n",
      "[done]\n",
      "EEG channel type selected for re-referencing\n",
      "Applying average reference.\n",
      "Applying a custom ('EEG',) reference.\n"
     ]
    },
    {
     "name": "stderr",
     "output_type": "stream",
     "text": [
      "/tmp/ipykernel_3776169/3663576940.py:160: RuntimeWarning: This filename (/home/prakhar7/mfprl/sample/neuroconn/batch/../data/out/subjects/103/EO/103_badchannels.fif) does not conform to MNE naming conventions. All raw files should end with raw.fif, raw_sss.fif, raw_tsss.fif, _meg.fif, _eeg.fif, _ieeg.fif, raw.fif.gz, raw_sss.fif.gz, raw_tsss.fif.gz, _meg.fif.gz, _eeg.fif.gz or _ieeg.fif.gz\n",
      "  EEG.save(bad_channel_file, overwrite=True)\n"
     ]
    },
    {
     "name": "stdout",
     "output_type": "stream",
     "text": [
      "Fitting ICA to data using 57 channels (please be patient, this may take a while)\n",
      "Selecting by explained variance: 21 components\n",
      "Computing Extended Infomax ICA\n",
      "Fitting ICA took 9.2s.\n",
      "Creating RawArray with float64 data, n_channels=24, n_times=64150\n",
      "    Range : 0 ... 64149 =      0.000 ...    64.149 secs\n",
      "Ready.\n",
      "NOTE: pick_channels() is a legacy function. New code should use inst.pick(...).\n"
     ]
    },
    {
     "name": "stderr",
     "output_type": "stream",
     "text": [
      "/tmp/ipykernel_3776169/3663576940.py:218: RuntimeWarning: The provided Raw instance is not filtered between 1 and 100 Hz. ICLabel was designed to classify features extracted from an EEG dataset bandpass filtered between 1 and 100 Hz (see the 'filter()' method for Raw and Epochs instances).\n",
      "  ic_labels = label_components(\n"
     ]
    },
    {
     "name": "stdout",
     "output_type": "stream",
     "text": [
      "Initializing labels file \n",
      "\n",
      "Applying ICA to Raw instance\n",
      "    Transforming to ICA space (21 components)\n",
      "    Zeroing out 9 ICA components\n",
      "    Projecting back using 57 PCA components\n",
      "Overwriting existing file.\n",
      "Writing /home/prakhar7/mfprl/sample/neuroconn/batch/../data/out/subjects/103/EO/103_ICA.fif\n",
      "Closing /home/prakhar7/mfprl/sample/neuroconn/batch/../data/out/subjects/103/EO/103_ICA.fif\n",
      "[done]\n",
      "Creating RawArray with float64 data, n_channels=63, n_times=64150\n",
      "    Range : 0 ... 64149 =      0.000 ...    64.149 secs\n",
      "Ready.\n",
      "Creating RawArray with float64 data, n_channels=64, n_times=3001\n",
      "    Range : 0 ... 3000 =      0.000 ...     3.000 secs\n",
      "Ready.\n",
      "NOTE: pick_types() is a legacy function. New code should use inst.pick(...).\n",
      "Interpolating bad channels\n",
      "    Automatic origin fit: head of radius 98.3 mm\n",
      "Computing interpolation matrix from 62 sensor positions\n",
      "Interpolating 1 sensors\n",
      "NOTE: pick_types() is a legacy function. New code should use inst.pick(...).\n",
      "Interpolating bad channels\n"
     ]
    },
    {
     "name": "stderr",
     "output_type": "stream",
     "text": [
      "/tmp/ipykernel_3776169/3663576940.py:255: RuntimeWarning: This filename (/home/prakhar7/mfprl/sample/neuroconn/batch/../data/out/subjects/103/EO/103_ICA.fif) does not conform to MNE naming conventions. All raw files should end with raw.fif, raw_sss.fif, raw_tsss.fif, _meg.fif, _eeg.fif, _ieeg.fif, raw.fif.gz, raw_sss.fif.gz, raw_tsss.fif.gz, _meg.fif.gz, _eeg.fif.gz or _ieeg.fif.gz\n",
      "  reconst_EEG.save(preprocessed_file, overwrite=True)\n",
      "/tmp/ipykernel_3776169/3663576940.py:269: RuntimeWarning: Fiducial point nasion not found, assuming identity unknown to head transformation\n",
      "  original_EEG.set_montage(mne.channels.make_dig_montage(\n",
      "/tmp/ipykernel_3776169/3663576940.py:282: RuntimeWarning: Fiducial point nasion not found, assuming identity unknown to head transformation\n",
      "  cropped_EEG.set_montage(mne.channels.make_dig_montage(\n"
     ]
    },
    {
     "name": "stdout",
     "output_type": "stream",
     "text": [
      "    Automatic origin fit: head of radius 91.5 mm\n",
      "Computing interpolation matrix from 63 sensor positions\n",
      "Interpolating 1 sensors\n",
      "Overwriting existing file.\n",
      "Writing /home/prakhar7/mfprl/sample/neuroconn/batch/../data/out/subjects/103/EO/103_interpolated.fif\n",
      "Closing /home/prakhar7/mfprl/sample/neuroconn/batch/../data/out/subjects/103/EO/103_interpolated.fif\n",
      "[done]\n",
      "Used Annotations descriptions: ['Event']\n",
      "Not setting metadata\n",
      "65 matching events found\n",
      "No baseline correction applied\n",
      "0 projection items activated\n",
      "Using data from preloaded Raw for 65 events and 1001 original time points ...\n",
      "2 bad epochs dropped\n",
      "Dropped 0 epochs: \n"
     ]
    },
    {
     "name": "stderr",
     "output_type": "stream",
     "text": [
      "/tmp/ipykernel_3776169/3663576940.py:305: RuntimeWarning: This filename (/home/prakhar7/mfprl/sample/neuroconn/batch/../data/out/subjects/103/EO/103_interpolated.fif) does not conform to MNE naming conventions. All raw files should end with raw.fif, raw_sss.fif, raw_tsss.fif, _meg.fif, _eeg.fif, _ieeg.fif, raw.fif.gz, raw_sss.fif.gz, raw_tsss.fif.gz, _meg.fif.gz, _eeg.fif.gz or _ieeg.fif.gz\n",
      "  original_EEG_data_interp.save(preprocessed_file, overwrite=True)\n",
      "/tmp/ipykernel_3776169/3663576940.py:372: FutureWarning: The current default events=None is deprecated and will change to events=True in MNE 1.6. Set events=False to suppress this warning.\n",
      "  epochs_all.plot()\n"
     ]
    },
    {
     "name": "stdout",
     "output_type": "stream",
     "text": [
      "Overwriting existing file.\n",
      "104 EC\n",
      "Opening raw data file ../data/out/subjects/104/EC/104_maprenamed&nfiltered.fif...\n",
      "    Range : 0 ... 64249 =      0.000 ...    64.249 secs\n",
      "Ready.\n",
      "Reading 0 ... 64249  =      0.000 ...    64.249 secs...\n",
      "EEG channel type selected for re-referencing\n",
      "Applying average reference.\n",
      "Applying a custom ('EEG',) reference.\n"
     ]
    },
    {
     "name": "stderr",
     "output_type": "stream",
     "text": [
      "/tmp/ipykernel_3776169/3663576940.py:378: RuntimeWarning: This filename (../data/out/subjects/103/EO/103_epoched.fif) does not conform to MNE naming conventions. All epochs files should end with -epo.fif, -epo.fif.gz, _epo.fif or _epo.fif.gz\n",
      "  epochs_all.save(preprocessed_file, overwrite=True)\n",
      "/tmp/ipykernel_3776169/3663576940.py:120: RuntimeWarning: This filename (../data/out/subjects/104/EC/104_maprenamed&nfiltered.fif) does not conform to MNE naming conventions. All raw files should end with raw.fif, raw_sss.fif, raw_tsss.fif, _meg.fif, _eeg.fif, _ieeg.fif, raw.fif.gz, raw_sss.fif.gz, raw_tsss.fif.gz, _meg.fif.gz, _eeg.fif.gz or _ieeg.fif.gz\n",
      "  EEG = mne.io.read_raw_fif(\n"
     ]
    },
    {
     "name": "stdout",
     "output_type": "stream",
     "text": [
      "Fitting ICA to data using 58 channels (please be patient, this may take a while)\n",
      "Selecting by explained variance: 27 components\n",
      "Computing Extended Infomax ICA\n",
      "Fitting ICA took 18.0s.\n",
      "Creating RawArray with float64 data, n_channels=30, n_times=64250\n",
      "    Range : 0 ... 64249 =      0.000 ...    64.249 secs\n",
      "Ready.\n",
      "NOTE: pick_channels() is a legacy function. New code should use inst.pick(...).\n"
     ]
    },
    {
     "name": "stderr",
     "output_type": "stream",
     "text": [
      "/tmp/ipykernel_3776169/3663576940.py:218: RuntimeWarning: The provided Raw instance is not filtered between 1 and 100 Hz. ICLabel was designed to classify features extracted from an EEG dataset bandpass filtered between 1 and 100 Hz (see the 'filter()' method for Raw and Epochs instances).\n",
      "  ic_labels = label_components(\n"
     ]
    },
    {
     "name": "stdout",
     "output_type": "stream",
     "text": [
      "Initializing labels file \n",
      "\n",
      "Applying ICA to Raw instance\n",
      "    Transforming to ICA space (27 components)\n",
      "    Zeroing out 9 ICA components\n",
      "    Projecting back using 58 PCA components\n",
      "Overwriting existing file.\n",
      "Writing /home/prakhar7/mfprl/sample/neuroconn/batch/../data/out/subjects/104/EC/104_ICA.fif\n",
      "Closing /home/prakhar7/mfprl/sample/neuroconn/batch/../data/out/subjects/104/EC/104_ICA.fif\n",
      "[done]\n",
      "Creating RawArray with float64 data, n_channels=63, n_times=64250\n",
      "    Range : 0 ... 64249 =      0.000 ...    64.249 secs\n",
      "Ready.\n",
      "Creating RawArray with float64 data, n_channels=64, n_times=3001\n",
      "    Range : 0 ... 3000 =      0.000 ...     3.000 secs\n",
      "Ready.\n",
      "NOTE: pick_types() is a legacy function. New code should use inst.pick(...).\n",
      "NOTE: pick_types() is a legacy function. New code should use inst.pick(...).\n"
     ]
    },
    {
     "name": "stderr",
     "output_type": "stream",
     "text": [
      "/tmp/ipykernel_3776169/3663576940.py:255: RuntimeWarning: This filename (/home/prakhar7/mfprl/sample/neuroconn/batch/../data/out/subjects/104/EC/104_ICA.fif) does not conform to MNE naming conventions. All raw files should end with raw.fif, raw_sss.fif, raw_tsss.fif, _meg.fif, _eeg.fif, _ieeg.fif, raw.fif.gz, raw_sss.fif.gz, raw_tsss.fif.gz, _meg.fif.gz, _eeg.fif.gz or _ieeg.fif.gz\n",
      "  reconst_EEG.save(preprocessed_file, overwrite=True)\n",
      "/tmp/ipykernel_3776169/3663576940.py:269: RuntimeWarning: Fiducial point nasion not found, assuming identity unknown to head transformation\n",
      "  original_EEG.set_montage(mne.channels.make_dig_montage(\n",
      "/tmp/ipykernel_3776169/3663576940.py:282: RuntimeWarning: Fiducial point nasion not found, assuming identity unknown to head transformation\n",
      "  cropped_EEG.set_montage(mne.channels.make_dig_montage(\n",
      "/tmp/ipykernel_3776169/3663576940.py:290: RuntimeWarning: No bad channels to interpolate. Doing nothing...\n",
      "  original_EEG_data_interp = original_EEG_data.copy().interpolate_bads(reset_bads=False)\n",
      "/tmp/ipykernel_3776169/3663576940.py:293: RuntimeWarning: No bad channels to interpolate. Doing nothing...\n",
      "  cropped_EEG_data_interp = cropped_EEG_data.copy().interpolate_bads(reset_bads=False)\n"
     ]
    },
    {
     "name": "stdout",
     "output_type": "stream",
     "text": [
      "Overwriting existing file.\n",
      "Writing /home/prakhar7/mfprl/sample/neuroconn/batch/../data/out/subjects/104/EC/104_interpolated.fif\n",
      "Closing /home/prakhar7/mfprl/sample/neuroconn/batch/../data/out/subjects/104/EC/104_interpolated.fif\n",
      "[done]\n",
      "Used Annotations descriptions: ['Event']\n",
      "Not setting metadata\n",
      "65 matching events found\n",
      "No baseline correction applied\n",
      "0 projection items activated\n",
      "Using data from preloaded Raw for 65 events and 1001 original time points ...\n",
      "2 bad epochs dropped\n",
      "Dropped 0 epochs: \n"
     ]
    },
    {
     "name": "stderr",
     "output_type": "stream",
     "text": [
      "/tmp/ipykernel_3776169/3663576940.py:305: RuntimeWarning: This filename (/home/prakhar7/mfprl/sample/neuroconn/batch/../data/out/subjects/104/EC/104_interpolated.fif) does not conform to MNE naming conventions. All raw files should end with raw.fif, raw_sss.fif, raw_tsss.fif, _meg.fif, _eeg.fif, _ieeg.fif, raw.fif.gz, raw_sss.fif.gz, raw_tsss.fif.gz, _meg.fif.gz, _eeg.fif.gz or _ieeg.fif.gz\n",
      "  original_EEG_data_interp.save(preprocessed_file, overwrite=True)\n",
      "/tmp/ipykernel_3776169/3663576940.py:372: FutureWarning: The current default events=None is deprecated and will change to events=True in MNE 1.6. Set events=False to suppress this warning.\n",
      "  epochs_all.plot()\n"
     ]
    },
    {
     "name": "stdout",
     "output_type": "stream",
     "text": [
      "Overwriting existing file.\n",
      "104 EO\n",
      "Opening raw data file ../data/out/subjects/104/EO/104_maprenamed&nfiltered.fif...\n",
      "    Range : 0 ... 65999 =      0.000 ...    65.999 secs\n",
      "Ready.\n",
      "Reading 0 ... 65999  =      0.000 ...    65.999 secs...\n",
      "EEG channel type selected for re-referencing\n",
      "Applying average reference.\n",
      "Applying a custom ('EEG',) reference.\n"
     ]
    },
    {
     "name": "stderr",
     "output_type": "stream",
     "text": [
      "/tmp/ipykernel_3776169/3663576940.py:378: RuntimeWarning: This filename (../data/out/subjects/104/EC/104_epoched.fif) does not conform to MNE naming conventions. All epochs files should end with -epo.fif, -epo.fif.gz, _epo.fif or _epo.fif.gz\n",
      "  epochs_all.save(preprocessed_file, overwrite=True)\n",
      "/tmp/ipykernel_3776169/3663576940.py:120: RuntimeWarning: This filename (../data/out/subjects/104/EO/104_maprenamed&nfiltered.fif) does not conform to MNE naming conventions. All raw files should end with raw.fif, raw_sss.fif, raw_tsss.fif, _meg.fif, _eeg.fif, _ieeg.fif, raw.fif.gz, raw_sss.fif.gz, raw_tsss.fif.gz, _meg.fif.gz, _eeg.fif.gz or _ieeg.fif.gz\n",
      "  EEG = mne.io.read_raw_fif(\n"
     ]
    },
    {
     "name": "stdout",
     "output_type": "stream",
     "text": [
      "Fitting ICA to data using 58 channels (please be patient, this may take a while)\n",
      "Selecting by explained variance: 31 components\n",
      "Computing Extended Infomax ICA\n",
      "Fitting ICA took 15.0s.\n",
      "Creating RawArray with float64 data, n_channels=34, n_times=66000\n",
      "    Range : 0 ... 65999 =      0.000 ...    65.999 secs\n",
      "Ready.\n",
      "NOTE: pick_channels() is a legacy function. New code should use inst.pick(...).\n"
     ]
    },
    {
     "name": "stderr",
     "output_type": "stream",
     "text": [
      "/tmp/ipykernel_3776169/3663576940.py:218: RuntimeWarning: The provided Raw instance is not filtered between 1 and 100 Hz. ICLabel was designed to classify features extracted from an EEG dataset bandpass filtered between 1 and 100 Hz (see the 'filter()' method for Raw and Epochs instances).\n",
      "  ic_labels = label_components(\n"
     ]
    },
    {
     "name": "stdout",
     "output_type": "stream",
     "text": [
      "Initializing labels file \n",
      "\n",
      "Applying ICA to Raw instance\n",
      "    Transforming to ICA space (31 components)\n",
      "    Zeroing out 12 ICA components\n",
      "    Projecting back using 58 PCA components\n",
      "Overwriting existing file.\n",
      "Writing /home/prakhar7/mfprl/sample/neuroconn/batch/../data/out/subjects/104/EO/104_ICA.fif\n",
      "Closing /home/prakhar7/mfprl/sample/neuroconn/batch/../data/out/subjects/104/EO/104_ICA.fif\n",
      "[done]\n",
      "Creating RawArray with float64 data, n_channels=63, n_times=66000\n",
      "    Range : 0 ... 65999 =      0.000 ...    65.999 secs\n",
      "Ready.\n",
      "Creating RawArray with float64 data, n_channels=64, n_times=3001\n",
      "    Range : 0 ... 3000 =      0.000 ...     3.000 secs\n",
      "Ready.\n",
      "NOTE: pick_types() is a legacy function. New code should use inst.pick(...).\n",
      "NOTE: pick_types() is a legacy function. New code should use inst.pick(...).\n"
     ]
    },
    {
     "name": "stderr",
     "output_type": "stream",
     "text": [
      "/tmp/ipykernel_3776169/3663576940.py:255: RuntimeWarning: This filename (/home/prakhar7/mfprl/sample/neuroconn/batch/../data/out/subjects/104/EO/104_ICA.fif) does not conform to MNE naming conventions. All raw files should end with raw.fif, raw_sss.fif, raw_tsss.fif, _meg.fif, _eeg.fif, _ieeg.fif, raw.fif.gz, raw_sss.fif.gz, raw_tsss.fif.gz, _meg.fif.gz, _eeg.fif.gz or _ieeg.fif.gz\n",
      "  reconst_EEG.save(preprocessed_file, overwrite=True)\n",
      "/tmp/ipykernel_3776169/3663576940.py:269: RuntimeWarning: Fiducial point nasion not found, assuming identity unknown to head transformation\n",
      "  original_EEG.set_montage(mne.channels.make_dig_montage(\n",
      "/tmp/ipykernel_3776169/3663576940.py:282: RuntimeWarning: Fiducial point nasion not found, assuming identity unknown to head transformation\n",
      "  cropped_EEG.set_montage(mne.channels.make_dig_montage(\n",
      "/tmp/ipykernel_3776169/3663576940.py:290: RuntimeWarning: No bad channels to interpolate. Doing nothing...\n",
      "  original_EEG_data_interp = original_EEG_data.copy().interpolate_bads(reset_bads=False)\n",
      "/tmp/ipykernel_3776169/3663576940.py:293: RuntimeWarning: No bad channels to interpolate. Doing nothing...\n",
      "  cropped_EEG_data_interp = cropped_EEG_data.copy().interpolate_bads(reset_bads=False)\n"
     ]
    },
    {
     "name": "stdout",
     "output_type": "stream",
     "text": [
      "Overwriting existing file.\n",
      "Writing /home/prakhar7/mfprl/sample/neuroconn/batch/../data/out/subjects/104/EO/104_interpolated.fif\n",
      "Closing /home/prakhar7/mfprl/sample/neuroconn/batch/../data/out/subjects/104/EO/104_interpolated.fif\n",
      "[done]\n",
      "Used Annotations descriptions: ['Event']\n",
      "Not setting metadata\n",
      "66 matching events found\n",
      "No baseline correction applied\n",
      "0 projection items activated\n",
      "Using data from preloaded Raw for 66 events and 1001 original time points ...\n",
      "1 bad epochs dropped\n",
      "Dropped 0 epochs: \n"
     ]
    },
    {
     "name": "stderr",
     "output_type": "stream",
     "text": [
      "/tmp/ipykernel_3776169/3663576940.py:305: RuntimeWarning: This filename (/home/prakhar7/mfprl/sample/neuroconn/batch/../data/out/subjects/104/EO/104_interpolated.fif) does not conform to MNE naming conventions. All raw files should end with raw.fif, raw_sss.fif, raw_tsss.fif, _meg.fif, _eeg.fif, _ieeg.fif, raw.fif.gz, raw_sss.fif.gz, raw_tsss.fif.gz, _meg.fif.gz, _eeg.fif.gz or _ieeg.fif.gz\n",
      "  original_EEG_data_interp.save(preprocessed_file, overwrite=True)\n",
      "/tmp/ipykernel_3776169/3663576940.py:372: FutureWarning: The current default events=None is deprecated and will change to events=True in MNE 1.6. Set events=False to suppress this warning.\n",
      "  epochs_all.plot()\n"
     ]
    },
    {
     "name": "stdout",
     "output_type": "stream",
     "text": [
      "Overwriting existing file.\n",
      "105 EC\n",
      "Opening raw data file ../data/out/subjects/105/EC/105_maprenamed&nfiltered.fif...\n",
      "    Range : 0 ... 64649 =      0.000 ...    64.649 secs\n",
      "Ready.\n",
      "Reading 0 ... 64649  =      0.000 ...    64.649 secs...\n"
     ]
    },
    {
     "name": "stderr",
     "output_type": "stream",
     "text": [
      "/tmp/ipykernel_3776169/3663576940.py:378: RuntimeWarning: This filename (../data/out/subjects/104/EO/104_epoched.fif) does not conform to MNE naming conventions. All epochs files should end with -epo.fif, -epo.fif.gz, _epo.fif or _epo.fif.gz\n",
      "  epochs_all.save(preprocessed_file, overwrite=True)\n",
      "/tmp/ipykernel_3776169/3663576940.py:120: RuntimeWarning: This filename (../data/out/subjects/105/EC/105_maprenamed&nfiltered.fif) does not conform to MNE naming conventions. All raw files should end with raw.fif, raw_sss.fif, raw_tsss.fif, _meg.fif, _eeg.fif, _ieeg.fif, raw.fif.gz, raw_sss.fif.gz, raw_tsss.fif.gz, _meg.fif.gz, _eeg.fif.gz or _ieeg.fif.gz\n",
      "  EEG = mne.io.read_raw_fif(\n"
     ]
    },
    {
     "name": "stdout",
     "output_type": "stream",
     "text": [
      "Overwriting existing file.\n",
      "Writing /home/prakhar7/mfprl/sample/neuroconn/batch/../data/out/subjects/105/EC/105_badchannels.fif\n",
      "Closing /home/prakhar7/mfprl/sample/neuroconn/batch/../data/out/subjects/105/EC/105_badchannels.fif\n",
      "[done]\n",
      "EEG channel type selected for re-referencing\n",
      "Applying average reference.\n",
      "Applying a custom ('EEG',) reference.\n"
     ]
    },
    {
     "name": "stderr",
     "output_type": "stream",
     "text": [
      "/tmp/ipykernel_3776169/3663576940.py:160: RuntimeWarning: This filename (/home/prakhar7/mfprl/sample/neuroconn/batch/../data/out/subjects/105/EC/105_badchannels.fif) does not conform to MNE naming conventions. All raw files should end with raw.fif, raw_sss.fif, raw_tsss.fif, _meg.fif, _eeg.fif, _ieeg.fif, raw.fif.gz, raw_sss.fif.gz, raw_tsss.fif.gz, _meg.fif.gz, _eeg.fif.gz or _ieeg.fif.gz\n",
      "  EEG.save(bad_channel_file, overwrite=True)\n"
     ]
    },
    {
     "name": "stdout",
     "output_type": "stream",
     "text": [
      "Fitting ICA to data using 57 channels (please be patient, this may take a while)\n",
      "Selecting by explained variance: 35 components\n",
      "Computing Extended Infomax ICA\n",
      "Fitting ICA took 12.8s.\n",
      "Creating RawArray with float64 data, n_channels=38, n_times=64650\n",
      "    Range : 0 ... 64649 =      0.000 ...    64.649 secs\n",
      "Ready.\n",
      "NOTE: pick_channels() is a legacy function. New code should use inst.pick(...).\n"
     ]
    },
    {
     "name": "stderr",
     "output_type": "stream",
     "text": [
      "/tmp/ipykernel_3776169/3663576940.py:218: RuntimeWarning: The provided Raw instance is not filtered between 1 and 100 Hz. ICLabel was designed to classify features extracted from an EEG dataset bandpass filtered between 1 and 100 Hz (see the 'filter()' method for Raw and Epochs instances).\n",
      "  ic_labels = label_components(\n"
     ]
    },
    {
     "name": "stdout",
     "output_type": "stream",
     "text": [
      "Initializing labels file \n",
      "\n",
      "Applying ICA to Raw instance\n",
      "    Transforming to ICA space (35 components)\n",
      "    Zeroing out 20 ICA components\n",
      "    Projecting back using 57 PCA components\n",
      "Overwriting existing file.\n",
      "Writing /home/prakhar7/mfprl/sample/neuroconn/batch/../data/out/subjects/105/EC/105_ICA.fif\n",
      "Closing /home/prakhar7/mfprl/sample/neuroconn/batch/../data/out/subjects/105/EC/105_ICA.fif\n",
      "[done]\n",
      "Creating RawArray with float64 data, n_channels=63, n_times=64650\n",
      "    Range : 0 ... 64649 =      0.000 ...    64.649 secs\n",
      "Ready.\n",
      "Creating RawArray with float64 data, n_channels=64, n_times=3001\n",
      "    Range : 0 ... 3000 =      0.000 ...     3.000 secs\n",
      "Ready.\n",
      "NOTE: pick_types() is a legacy function. New code should use inst.pick(...).\n",
      "Interpolating bad channels\n",
      "    Automatic origin fit: head of radius 98.3 mm\n",
      "Computing interpolation matrix from 62 sensor positions\n"
     ]
    },
    {
     "name": "stderr",
     "output_type": "stream",
     "text": [
      "/tmp/ipykernel_3776169/3663576940.py:255: RuntimeWarning: This filename (/home/prakhar7/mfprl/sample/neuroconn/batch/../data/out/subjects/105/EC/105_ICA.fif) does not conform to MNE naming conventions. All raw files should end with raw.fif, raw_sss.fif, raw_tsss.fif, _meg.fif, _eeg.fif, _ieeg.fif, raw.fif.gz, raw_sss.fif.gz, raw_tsss.fif.gz, _meg.fif.gz, _eeg.fif.gz or _ieeg.fif.gz\n",
      "  reconst_EEG.save(preprocessed_file, overwrite=True)\n",
      "/tmp/ipykernel_3776169/3663576940.py:269: RuntimeWarning: Fiducial point nasion not found, assuming identity unknown to head transformation\n",
      "  original_EEG.set_montage(mne.channels.make_dig_montage(\n",
      "/tmp/ipykernel_3776169/3663576940.py:282: RuntimeWarning: Fiducial point nasion not found, assuming identity unknown to head transformation\n",
      "  cropped_EEG.set_montage(mne.channels.make_dig_montage(\n"
     ]
    },
    {
     "name": "stdout",
     "output_type": "stream",
     "text": [
      "Interpolating 1 sensors\n",
      "NOTE: pick_types() is a legacy function. New code should use inst.pick(...).\n",
      "Interpolating bad channels\n",
      "    Automatic origin fit: head of radius 91.5 mm\n",
      "Computing interpolation matrix from 63 sensor positions\n",
      "Interpolating 1 sensors\n",
      "Overwriting existing file.\n",
      "Writing /home/prakhar7/mfprl/sample/neuroconn/batch/../data/out/subjects/105/EC/105_interpolated.fif\n",
      "Closing /home/prakhar7/mfprl/sample/neuroconn/batch/../data/out/subjects/105/EC/105_interpolated.fif\n",
      "[done]\n",
      "Used Annotations descriptions: ['Event']\n",
      "Not setting metadata\n",
      "65 matching events found\n",
      "No baseline correction applied\n",
      "0 projection items activated\n",
      "Using data from preloaded Raw for 65 events and 1001 original time points ...\n",
      "1 bad epochs dropped\n",
      "Dropped 36 epochs: 0, 1, 5, 6, 7, 8, 9, 11, 12, 13, 14, 15, 16, 17, 19, 22, 23, 26, 28, 29, 34, 35, 36, 38, 39, 40, 41, 43, 44, 53, 56, 57, 58, 60, 61, 62\n"
     ]
    },
    {
     "name": "stderr",
     "output_type": "stream",
     "text": [
      "/tmp/ipykernel_3776169/3663576940.py:305: RuntimeWarning: This filename (/home/prakhar7/mfprl/sample/neuroconn/batch/../data/out/subjects/105/EC/105_interpolated.fif) does not conform to MNE naming conventions. All raw files should end with raw.fif, raw_sss.fif, raw_tsss.fif, _meg.fif, _eeg.fif, _ieeg.fif, raw.fif.gz, raw_sss.fif.gz, raw_tsss.fif.gz, _meg.fif.gz, _eeg.fif.gz or _ieeg.fif.gz\n",
      "  original_EEG_data_interp.save(preprocessed_file, overwrite=True)\n",
      "/tmp/ipykernel_3776169/3663576940.py:372: FutureWarning: The current default events=None is deprecated and will change to events=True in MNE 1.6. Set events=False to suppress this warning.\n",
      "  epochs_all.plot()\n"
     ]
    },
    {
     "name": "stdout",
     "output_type": "stream",
     "text": [
      "Overwriting existing file.\n",
      "105 EO\n",
      "Opening raw data file ../data/out/subjects/105/EO/105_maprenamed&nfiltered.fif...\n",
      "    Range : 0 ... 65849 =      0.000 ...    65.849 secs\n",
      "Ready.\n",
      "Reading 0 ... 65849  =      0.000 ...    65.849 secs...\n"
     ]
    },
    {
     "name": "stderr",
     "output_type": "stream",
     "text": [
      "/tmp/ipykernel_3776169/3663576940.py:378: RuntimeWarning: This filename (../data/out/subjects/105/EC/105_epoched.fif) does not conform to MNE naming conventions. All epochs files should end with -epo.fif, -epo.fif.gz, _epo.fif or _epo.fif.gz\n",
      "  epochs_all.save(preprocessed_file, overwrite=True)\n",
      "/tmp/ipykernel_3776169/3663576940.py:120: RuntimeWarning: This filename (../data/out/subjects/105/EO/105_maprenamed&nfiltered.fif) does not conform to MNE naming conventions. All raw files should end with raw.fif, raw_sss.fif, raw_tsss.fif, _meg.fif, _eeg.fif, _ieeg.fif, raw.fif.gz, raw_sss.fif.gz, raw_tsss.fif.gz, _meg.fif.gz, _eeg.fif.gz or _ieeg.fif.gz\n",
      "  EEG = mne.io.read_raw_fif(\n"
     ]
    },
    {
     "name": "stdout",
     "output_type": "stream",
     "text": [
      "Overwriting existing file.\n",
      "Writing /home/prakhar7/mfprl/sample/neuroconn/batch/../data/out/subjects/105/EO/105_badchannels.fif\n",
      "Closing /home/prakhar7/mfprl/sample/neuroconn/batch/../data/out/subjects/105/EO/105_badchannels.fif\n",
      "[done]\n",
      "EEG channel type selected for re-referencing\n",
      "Applying average reference.\n",
      "Applying a custom ('EEG',) reference.\n"
     ]
    },
    {
     "name": "stderr",
     "output_type": "stream",
     "text": [
      "/tmp/ipykernel_3776169/3663576940.py:160: RuntimeWarning: This filename (/home/prakhar7/mfprl/sample/neuroconn/batch/../data/out/subjects/105/EO/105_badchannels.fif) does not conform to MNE naming conventions. All raw files should end with raw.fif, raw_sss.fif, raw_tsss.fif, _meg.fif, _eeg.fif, _ieeg.fif, raw.fif.gz, raw_sss.fif.gz, raw_tsss.fif.gz, _meg.fif.gz, _eeg.fif.gz or _ieeg.fif.gz\n",
      "  EEG.save(bad_channel_file, overwrite=True)\n"
     ]
    },
    {
     "name": "stdout",
     "output_type": "stream",
     "text": [
      "Fitting ICA to data using 57 channels (please be patient, this may take a while)\n",
      "Selecting by explained variance: 34 components\n",
      "Computing Extended Infomax ICA\n",
      "Fitting ICA took 14.4s.\n",
      "Creating RawArray with float64 data, n_channels=37, n_times=65850\n",
      "    Range : 0 ... 65849 =      0.000 ...    65.849 secs\n",
      "Ready.\n",
      "NOTE: pick_channels() is a legacy function. New code should use inst.pick(...).\n"
     ]
    },
    {
     "name": "stderr",
     "output_type": "stream",
     "text": [
      "/tmp/ipykernel_3776169/3663576940.py:218: RuntimeWarning: The provided Raw instance is not filtered between 1 and 100 Hz. ICLabel was designed to classify features extracted from an EEG dataset bandpass filtered between 1 and 100 Hz (see the 'filter()' method for Raw and Epochs instances).\n",
      "  ic_labels = label_components(\n"
     ]
    },
    {
     "name": "stdout",
     "output_type": "stream",
     "text": [
      "Initializing labels file \n",
      "\n",
      "Applying ICA to Raw instance\n",
      "    Transforming to ICA space (34 components)\n",
      "    Zeroing out 19 ICA components\n",
      "    Projecting back using 57 PCA components\n",
      "Overwriting existing file.\n",
      "Writing /home/prakhar7/mfprl/sample/neuroconn/batch/../data/out/subjects/105/EO/105_ICA.fif\n",
      "Closing /home/prakhar7/mfprl/sample/neuroconn/batch/../data/out/subjects/105/EO/105_ICA.fif\n",
      "[done]\n",
      "Creating RawArray with float64 data, n_channels=63, n_times=65850\n",
      "    Range : 0 ... 65849 =      0.000 ...    65.849 secs\n",
      "Ready.\n",
      "Creating RawArray with float64 data, n_channels=64, n_times=3001\n",
      "    Range : 0 ... 3000 =      0.000 ...     3.000 secs\n",
      "Ready.\n",
      "NOTE: pick_types() is a legacy function. New code should use inst.pick(...).\n",
      "Interpolating bad channels\n",
      "    Automatic origin fit: head of radius 98.3 mm\n",
      "Computing interpolation matrix from 62 sensor positions\n",
      "Interpolating 1 sensors\n",
      "NOTE: pick_types() is a legacy function. New code should use inst.pick(...).\n"
     ]
    },
    {
     "name": "stderr",
     "output_type": "stream",
     "text": [
      "/tmp/ipykernel_3776169/3663576940.py:255: RuntimeWarning: This filename (/home/prakhar7/mfprl/sample/neuroconn/batch/../data/out/subjects/105/EO/105_ICA.fif) does not conform to MNE naming conventions. All raw files should end with raw.fif, raw_sss.fif, raw_tsss.fif, _meg.fif, _eeg.fif, _ieeg.fif, raw.fif.gz, raw_sss.fif.gz, raw_tsss.fif.gz, _meg.fif.gz, _eeg.fif.gz or _ieeg.fif.gz\n",
      "  reconst_EEG.save(preprocessed_file, overwrite=True)\n",
      "/tmp/ipykernel_3776169/3663576940.py:269: RuntimeWarning: Fiducial point nasion not found, assuming identity unknown to head transformation\n",
      "  original_EEG.set_montage(mne.channels.make_dig_montage(\n",
      "/tmp/ipykernel_3776169/3663576940.py:282: RuntimeWarning: Fiducial point nasion not found, assuming identity unknown to head transformation\n",
      "  cropped_EEG.set_montage(mne.channels.make_dig_montage(\n"
     ]
    },
    {
     "name": "stdout",
     "output_type": "stream",
     "text": [
      "Interpolating bad channels\n",
      "    Automatic origin fit: head of radius 91.5 mm\n",
      "Computing interpolation matrix from 63 sensor positions\n",
      "Interpolating 1 sensors\n",
      "Overwriting existing file.\n",
      "Writing /home/prakhar7/mfprl/sample/neuroconn/batch/../data/out/subjects/105/EO/105_interpolated.fif\n",
      "Closing /home/prakhar7/mfprl/sample/neuroconn/batch/../data/out/subjects/105/EO/105_interpolated.fif\n",
      "[done]\n",
      "Used Annotations descriptions: ['Event']\n",
      "Not setting metadata\n",
      "66 matching events found\n",
      "No baseline correction applied\n",
      "0 projection items activated\n",
      "Using data from preloaded Raw for 66 events and 1001 original time points ...\n",
      "1 bad epochs dropped\n",
      "Dropped 50 epochs: 0, 4, 5, 6, 7, 8, 10, 11, 12, 13, 16, 17, 18, 19, 21, 22, 23, 24, 25, 27, 28, 29, 30, 31, 33, 34, 35, 36, 37, 38, 40, 41, 42, 43, 44, 46, 47, 48, 49, 51, 53, 54, 55, 56, 58, 59, 60, 61, 62, 63\n"
     ]
    },
    {
     "name": "stderr",
     "output_type": "stream",
     "text": [
      "/tmp/ipykernel_3776169/3663576940.py:305: RuntimeWarning: This filename (/home/prakhar7/mfprl/sample/neuroconn/batch/../data/out/subjects/105/EO/105_interpolated.fif) does not conform to MNE naming conventions. All raw files should end with raw.fif, raw_sss.fif, raw_tsss.fif, _meg.fif, _eeg.fif, _ieeg.fif, raw.fif.gz, raw_sss.fif.gz, raw_tsss.fif.gz, _meg.fif.gz, _eeg.fif.gz or _ieeg.fif.gz\n",
      "  original_EEG_data_interp.save(preprocessed_file, overwrite=True)\n",
      "/tmp/ipykernel_3776169/3663576940.py:372: FutureWarning: The current default events=None is deprecated and will change to events=True in MNE 1.6. Set events=False to suppress this warning.\n",
      "  epochs_all.plot()\n"
     ]
    },
    {
     "name": "stdout",
     "output_type": "stream",
     "text": [
      "Overwriting existing file.\n",
      "111 EC\n",
      "Opening raw data file ../data/out/subjects/111/EC/111_maprenamed&nfiltered.fif...\n",
      "    Range : 0 ... 51574 =      0.000 ...   103.148 secs\n",
      "Ready.\n",
      "Reading 0 ... 51574  =      0.000 ...   103.148 secs...\n"
     ]
    },
    {
     "name": "stderr",
     "output_type": "stream",
     "text": [
      "/tmp/ipykernel_3776169/3663576940.py:378: RuntimeWarning: This filename (../data/out/subjects/105/EO/105_epoched.fif) does not conform to MNE naming conventions. All epochs files should end with -epo.fif, -epo.fif.gz, _epo.fif or _epo.fif.gz\n",
      "  epochs_all.save(preprocessed_file, overwrite=True)\n",
      "/tmp/ipykernel_3776169/3663576940.py:120: RuntimeWarning: This filename (../data/out/subjects/111/EC/111_maprenamed&nfiltered.fif) does not conform to MNE naming conventions. All raw files should end with raw.fif, raw_sss.fif, raw_tsss.fif, _meg.fif, _eeg.fif, _ieeg.fif, raw.fif.gz, raw_sss.fif.gz, raw_tsss.fif.gz, _meg.fif.gz, _eeg.fif.gz or _ieeg.fif.gz\n",
      "  EEG = mne.io.read_raw_fif(\n"
     ]
    },
    {
     "name": "stdout",
     "output_type": "stream",
     "text": [
      "Overwriting existing file.\n",
      "Writing /home/prakhar7/mfprl/sample/neuroconn/batch/../data/out/subjects/111/EC/111_badchannels.fif\n",
      "Closing /home/prakhar7/mfprl/sample/neuroconn/batch/../data/out/subjects/111/EC/111_badchannels.fif\n",
      "[done]\n",
      "EEG channel type selected for re-referencing\n",
      "Applying average reference.\n",
      "Applying a custom ('EEG',) reference.\n"
     ]
    },
    {
     "name": "stderr",
     "output_type": "stream",
     "text": [
      "/tmp/ipykernel_3776169/3663576940.py:160: RuntimeWarning: This filename (/home/prakhar7/mfprl/sample/neuroconn/batch/../data/out/subjects/111/EC/111_badchannels.fif) does not conform to MNE naming conventions. All raw files should end with raw.fif, raw_sss.fif, raw_tsss.fif, _meg.fif, _eeg.fif, _ieeg.fif, raw.fif.gz, raw_sss.fif.gz, raw_tsss.fif.gz, _meg.fif.gz, _eeg.fif.gz or _ieeg.fif.gz\n",
      "  EEG.save(bad_channel_file, overwrite=True)\n"
     ]
    },
    {
     "name": "stdout",
     "output_type": "stream",
     "text": [
      "Fitting ICA to data using 57 channels (please be patient, this may take a while)\n",
      "Selecting by explained variance: 25 components\n",
      "Computing Extended Infomax ICA\n",
      "Fitting ICA took 12.8s.\n",
      "Creating RawArray with float64 data, n_channels=28, n_times=51575\n",
      "    Range : 0 ... 51574 =      0.000 ...   103.148 secs\n",
      "Ready.\n",
      "NOTE: pick_channels() is a legacy function. New code should use inst.pick(...).\n"
     ]
    },
    {
     "name": "stderr",
     "output_type": "stream",
     "text": [
      "/tmp/ipykernel_3776169/3663576940.py:218: RuntimeWarning: The provided Raw instance is not filtered between 1 and 100 Hz. ICLabel was designed to classify features extracted from an EEG dataset bandpass filtered between 1 and 100 Hz (see the 'filter()' method for Raw and Epochs instances).\n",
      "  ic_labels = label_components(\n"
     ]
    },
    {
     "name": "stdout",
     "output_type": "stream",
     "text": [
      "Initializing labels file \n",
      "\n",
      "Applying ICA to Raw instance\n",
      "    Transforming to ICA space (25 components)\n",
      "    Zeroing out 10 ICA components\n",
      "    Projecting back using 57 PCA components\n",
      "Overwriting existing file.\n",
      "Writing /home/prakhar7/mfprl/sample/neuroconn/batch/../data/out/subjects/111/EC/111_ICA.fif\n",
      "Closing /home/prakhar7/mfprl/sample/neuroconn/batch/../data/out/subjects/111/EC/111_ICA.fif\n",
      "[done]\n",
      "Creating RawArray with float64 data, n_channels=63, n_times=51575\n",
      "    Range : 0 ... 51574 =      0.000 ...   103.148 secs\n",
      "Ready.\n",
      "Creating RawArray with float64 data, n_channels=64, n_times=1501\n",
      "    Range : 0 ... 1500 =      0.000 ...     3.000 secs\n",
      "Ready.\n",
      "NOTE: pick_types() is a legacy function. New code should use inst.pick(...).\n",
      "Interpolating bad channels\n",
      "    Automatic origin fit: head of radius 98.3 mm\n",
      "Computing interpolation matrix from 62 sensor positions\n",
      "Interpolating 1 sensors\n",
      "NOTE: pick_types() is a legacy function. New code should use inst.pick(...).\n"
     ]
    },
    {
     "name": "stderr",
     "output_type": "stream",
     "text": [
      "/tmp/ipykernel_3776169/3663576940.py:255: RuntimeWarning: This filename (/home/prakhar7/mfprl/sample/neuroconn/batch/../data/out/subjects/111/EC/111_ICA.fif) does not conform to MNE naming conventions. All raw files should end with raw.fif, raw_sss.fif, raw_tsss.fif, _meg.fif, _eeg.fif, _ieeg.fif, raw.fif.gz, raw_sss.fif.gz, raw_tsss.fif.gz, _meg.fif.gz, _eeg.fif.gz or _ieeg.fif.gz\n",
      "  reconst_EEG.save(preprocessed_file, overwrite=True)\n",
      "/tmp/ipykernel_3776169/3663576940.py:269: RuntimeWarning: Fiducial point nasion not found, assuming identity unknown to head transformation\n",
      "  original_EEG.set_montage(mne.channels.make_dig_montage(\n",
      "/tmp/ipykernel_3776169/3663576940.py:282: RuntimeWarning: Fiducial point nasion not found, assuming identity unknown to head transformation\n",
      "  cropped_EEG.set_montage(mne.channels.make_dig_montage(\n"
     ]
    },
    {
     "name": "stdout",
     "output_type": "stream",
     "text": [
      "Interpolating bad channels\n",
      "    Automatic origin fit: head of radius 91.5 mm\n",
      "Computing interpolation matrix from 63 sensor positions\n",
      "Interpolating 1 sensors\n",
      "Overwriting existing file.\n",
      "Writing /home/prakhar7/mfprl/sample/neuroconn/batch/../data/out/subjects/111/EC/111_interpolated.fif\n",
      "Closing /home/prakhar7/mfprl/sample/neuroconn/batch/../data/out/subjects/111/EC/111_interpolated.fif\n",
      "[done]\n",
      "Used Annotations descriptions: ['Event']\n",
      "Not setting metadata\n",
      "104 matching events found\n",
      "No baseline correction applied\n",
      "0 projection items activated\n",
      "Using data from preloaded Raw for 104 events and 501 original time points ...\n",
      "2 bad epochs dropped\n",
      "Dropped 72 epochs: 1, 2, 4, 6, 7, 8, 9, 10, 11, 14, 15, 16, 18, 19, 20, 23, 24, 25, 26, 28, 29, 30, 32, 33, 34, 35, 36, 37, 39, 40, 41, 44, 45, 46, 47, 48, 49, 51, 53, 54, 56, 60, 61, 62, 63, 64, 65, 66, 68, 69, 71, 72, 73, 74, 75, 76, 79, 80, 81, 83, 84, 85, 86, 87, 89, 90, 93, 94, 96, 97, 99, 100\n"
     ]
    },
    {
     "name": "stderr",
     "output_type": "stream",
     "text": [
      "/tmp/ipykernel_3776169/3663576940.py:305: RuntimeWarning: This filename (/home/prakhar7/mfprl/sample/neuroconn/batch/../data/out/subjects/111/EC/111_interpolated.fif) does not conform to MNE naming conventions. All raw files should end with raw.fif, raw_sss.fif, raw_tsss.fif, _meg.fif, _eeg.fif, _ieeg.fif, raw.fif.gz, raw_sss.fif.gz, raw_tsss.fif.gz, _meg.fif.gz, _eeg.fif.gz or _ieeg.fif.gz\n",
      "  original_EEG_data_interp.save(preprocessed_file, overwrite=True)\n",
      "/tmp/ipykernel_3776169/3663576940.py:372: FutureWarning: The current default events=None is deprecated and will change to events=True in MNE 1.6. Set events=False to suppress this warning.\n",
      "  epochs_all.plot()\n"
     ]
    },
    {
     "name": "stdout",
     "output_type": "stream",
     "text": [
      "Overwriting existing file.\n",
      "111 EO\n",
      "Opening raw data file ../data/out/subjects/111/EO/111_maprenamed&nfiltered.fif...\n",
      "    Range : 0 ... 49174 =      0.000 ...    98.348 secs\n",
      "Ready.\n",
      "Reading 0 ... 49174  =      0.000 ...    98.348 secs...\n"
     ]
    },
    {
     "name": "stderr",
     "output_type": "stream",
     "text": [
      "/tmp/ipykernel_3776169/3663576940.py:378: RuntimeWarning: This filename (../data/out/subjects/111/EC/111_epoched.fif) does not conform to MNE naming conventions. All epochs files should end with -epo.fif, -epo.fif.gz, _epo.fif or _epo.fif.gz\n",
      "  epochs_all.save(preprocessed_file, overwrite=True)\n",
      "/tmp/ipykernel_3776169/3663576940.py:120: RuntimeWarning: This filename (../data/out/subjects/111/EO/111_maprenamed&nfiltered.fif) does not conform to MNE naming conventions. All raw files should end with raw.fif, raw_sss.fif, raw_tsss.fif, _meg.fif, _eeg.fif, _ieeg.fif, raw.fif.gz, raw_sss.fif.gz, raw_tsss.fif.gz, _meg.fif.gz, _eeg.fif.gz or _ieeg.fif.gz\n",
      "  EEG = mne.io.read_raw_fif(\n"
     ]
    },
    {
     "name": "stdout",
     "output_type": "stream",
     "text": [
      "Overwriting existing file.\n",
      "Writing /home/prakhar7/mfprl/sample/neuroconn/batch/../data/out/subjects/111/EO/111_badchannels.fif\n",
      "Closing /home/prakhar7/mfprl/sample/neuroconn/batch/../data/out/subjects/111/EO/111_badchannels.fif\n",
      "[done]\n",
      "EEG channel type selected for re-referencing\n",
      "Applying average reference.\n",
      "Applying a custom ('EEG',) reference.\n"
     ]
    },
    {
     "name": "stderr",
     "output_type": "stream",
     "text": [
      "/tmp/ipykernel_3776169/3663576940.py:160: RuntimeWarning: This filename (/home/prakhar7/mfprl/sample/neuroconn/batch/../data/out/subjects/111/EO/111_badchannels.fif) does not conform to MNE naming conventions. All raw files should end with raw.fif, raw_sss.fif, raw_tsss.fif, _meg.fif, _eeg.fif, _ieeg.fif, raw.fif.gz, raw_sss.fif.gz, raw_tsss.fif.gz, _meg.fif.gz, _eeg.fif.gz or _ieeg.fif.gz\n",
      "  EEG.save(bad_channel_file, overwrite=True)\n"
     ]
    },
    {
     "name": "stdout",
     "output_type": "stream",
     "text": [
      "Fitting ICA to data using 57 channels (please be patient, this may take a while)\n",
      "Selecting by explained variance: 12 components\n",
      "Computing Extended Infomax ICA\n",
      "Fitting ICA took 7.9s.\n",
      "Creating RawArray with float64 data, n_channels=15, n_times=49175\n",
      "    Range : 0 ... 49174 =      0.000 ...    98.348 secs\n",
      "Ready.\n",
      "NOTE: pick_channels() is a legacy function. New code should use inst.pick(...).\n"
     ]
    },
    {
     "name": "stderr",
     "output_type": "stream",
     "text": [
      "/tmp/ipykernel_3776169/3663576940.py:218: RuntimeWarning: The provided Raw instance is not filtered between 1 and 100 Hz. ICLabel was designed to classify features extracted from an EEG dataset bandpass filtered between 1 and 100 Hz (see the 'filter()' method for Raw and Epochs instances).\n",
      "  ic_labels = label_components(\n"
     ]
    },
    {
     "name": "stdout",
     "output_type": "stream",
     "text": [
      "Initializing labels file \n",
      "\n",
      "Applying ICA to Raw instance\n",
      "    Transforming to ICA space (12 components)\n",
      "    Zeroing out 6 ICA components\n",
      "    Projecting back using 57 PCA components\n",
      "Overwriting existing file.\n",
      "Writing /home/prakhar7/mfprl/sample/neuroconn/batch/../data/out/subjects/111/EO/111_ICA.fif\n",
      "Closing /home/prakhar7/mfprl/sample/neuroconn/batch/../data/out/subjects/111/EO/111_ICA.fif\n",
      "[done]\n",
      "Creating RawArray with float64 data, n_channels=63, n_times=49175\n",
      "    Range : 0 ... 49174 =      0.000 ...    98.348 secs\n",
      "Ready.\n",
      "Creating RawArray with float64 data, n_channels=64, n_times=1501\n",
      "    Range : 0 ... 1500 =      0.000 ...     3.000 secs\n",
      "Ready.\n",
      "NOTE: pick_types() is a legacy function. New code should use inst.pick(...).\n",
      "Interpolating bad channels\n",
      "    Automatic origin fit: head of radius 98.3 mm\n",
      "Computing interpolation matrix from 62 sensor positions\n",
      "Interpolating 1 sensors\n",
      "NOTE: pick_types() is a legacy function. New code should use inst.pick(...).\n",
      "Interpolating bad channels\n",
      "    Automatic origin fit: head of radius 91.5 mm\n",
      "Computing interpolation matrix from 63 sensor positions\n",
      "Interpolating 1 sensors\n"
     ]
    },
    {
     "name": "stderr",
     "output_type": "stream",
     "text": [
      "/tmp/ipykernel_3776169/3663576940.py:255: RuntimeWarning: This filename (/home/prakhar7/mfprl/sample/neuroconn/batch/../data/out/subjects/111/EO/111_ICA.fif) does not conform to MNE naming conventions. All raw files should end with raw.fif, raw_sss.fif, raw_tsss.fif, _meg.fif, _eeg.fif, _ieeg.fif, raw.fif.gz, raw_sss.fif.gz, raw_tsss.fif.gz, _meg.fif.gz, _eeg.fif.gz or _ieeg.fif.gz\n",
      "  reconst_EEG.save(preprocessed_file, overwrite=True)\n",
      "/tmp/ipykernel_3776169/3663576940.py:269: RuntimeWarning: Fiducial point nasion not found, assuming identity unknown to head transformation\n",
      "  original_EEG.set_montage(mne.channels.make_dig_montage(\n",
      "/tmp/ipykernel_3776169/3663576940.py:282: RuntimeWarning: Fiducial point nasion not found, assuming identity unknown to head transformation\n",
      "  cropped_EEG.set_montage(mne.channels.make_dig_montage(\n"
     ]
    },
    {
     "name": "stdout",
     "output_type": "stream",
     "text": [
      "Overwriting existing file.\n",
      "Writing /home/prakhar7/mfprl/sample/neuroconn/batch/../data/out/subjects/111/EO/111_interpolated.fif\n",
      "Closing /home/prakhar7/mfprl/sample/neuroconn/batch/../data/out/subjects/111/EO/111_interpolated.fif\n",
      "[done]\n",
      "Used Annotations descriptions: ['Event']\n",
      "Not setting metadata\n",
      "99 matching events found\n",
      "No baseline correction applied\n",
      "0 projection items activated\n",
      "Using data from preloaded Raw for 99 events and 501 original time points ...\n",
      "2 bad epochs dropped\n",
      "Dropped 63 epochs: 0, 1, 2, 3, 4, 5, 6, 8, 9, 13, 14, 15, 17, 19, 20, 21, 22, 24, 25, 26, 28, 29, 31, 32, 34, 36, 37, 38, 39, 40, 42, 43, 44, 46, 47, 49, 50, 54, 55, 56, 59, 60, 61, 66, 67, 68, 69, 70, 73, 74, 75, 77, 78, 80, 81, 82, 85, 86, 87, 88, 90, 92, 96\n"
     ]
    },
    {
     "name": "stderr",
     "output_type": "stream",
     "text": [
      "/tmp/ipykernel_3776169/3663576940.py:305: RuntimeWarning: This filename (/home/prakhar7/mfprl/sample/neuroconn/batch/../data/out/subjects/111/EO/111_interpolated.fif) does not conform to MNE naming conventions. All raw files should end with raw.fif, raw_sss.fif, raw_tsss.fif, _meg.fif, _eeg.fif, _ieeg.fif, raw.fif.gz, raw_sss.fif.gz, raw_tsss.fif.gz, _meg.fif.gz, _eeg.fif.gz or _ieeg.fif.gz\n",
      "  original_EEG_data_interp.save(preprocessed_file, overwrite=True)\n",
      "/tmp/ipykernel_3776169/3663576940.py:372: FutureWarning: The current default events=None is deprecated and will change to events=True in MNE 1.6. Set events=False to suppress this warning.\n",
      "  epochs_all.plot()\n"
     ]
    },
    {
     "name": "stdout",
     "output_type": "stream",
     "text": [
      "Overwriting existing file.\n",
      "112 EC\n",
      "Opening raw data file ../data/out/subjects/112/EC/112_maprenamed&nfiltered.fif...\n",
      "    Range : 0 ... 48174 =      0.000 ...    96.348 secs\n",
      "Ready.\n",
      "Reading 0 ... 48174  =      0.000 ...    96.348 secs...\n"
     ]
    },
    {
     "name": "stderr",
     "output_type": "stream",
     "text": [
      "/tmp/ipykernel_3776169/3663576940.py:378: RuntimeWarning: This filename (../data/out/subjects/111/EO/111_epoched.fif) does not conform to MNE naming conventions. All epochs files should end with -epo.fif, -epo.fif.gz, _epo.fif or _epo.fif.gz\n",
      "  epochs_all.save(preprocessed_file, overwrite=True)\n",
      "/tmp/ipykernel_3776169/3663576940.py:120: RuntimeWarning: This filename (../data/out/subjects/112/EC/112_maprenamed&nfiltered.fif) does not conform to MNE naming conventions. All raw files should end with raw.fif, raw_sss.fif, raw_tsss.fif, _meg.fif, _eeg.fif, _ieeg.fif, raw.fif.gz, raw_sss.fif.gz, raw_tsss.fif.gz, _meg.fif.gz, _eeg.fif.gz or _ieeg.fif.gz\n",
      "  EEG = mne.io.read_raw_fif(\n"
     ]
    },
    {
     "name": "stdout",
     "output_type": "stream",
     "text": [
      "Overwriting existing file.\n",
      "Writing /home/prakhar7/mfprl/sample/neuroconn/batch/../data/out/subjects/112/EC/112_badchannels.fif\n",
      "Closing /home/prakhar7/mfprl/sample/neuroconn/batch/../data/out/subjects/112/EC/112_badchannels.fif\n",
      "[done]\n",
      "EEG channel type selected for re-referencing\n",
      "Applying average reference.\n",
      "Applying a custom ('EEG',) reference.\n"
     ]
    },
    {
     "name": "stderr",
     "output_type": "stream",
     "text": [
      "/tmp/ipykernel_3776169/3663576940.py:160: RuntimeWarning: This filename (/home/prakhar7/mfprl/sample/neuroconn/batch/../data/out/subjects/112/EC/112_badchannels.fif) does not conform to MNE naming conventions. All raw files should end with raw.fif, raw_sss.fif, raw_tsss.fif, _meg.fif, _eeg.fif, _ieeg.fif, raw.fif.gz, raw_sss.fif.gz, raw_tsss.fif.gz, _meg.fif.gz, _eeg.fif.gz or _ieeg.fif.gz\n",
      "  EEG.save(bad_channel_file, overwrite=True)\n"
     ]
    },
    {
     "name": "stdout",
     "output_type": "stream",
     "text": [
      "Fitting ICA to data using 57 channels (please be patient, this may take a while)\n",
      "Selecting by explained variance: 24 components\n",
      "Computing Extended Infomax ICA\n",
      "Fitting ICA took 8.6s.\n",
      "Creating RawArray with float64 data, n_channels=27, n_times=48175\n",
      "    Range : 0 ... 48174 =      0.000 ...    96.348 secs\n",
      "Ready.\n",
      "NOTE: pick_channels() is a legacy function. New code should use inst.pick(...).\n"
     ]
    },
    {
     "name": "stderr",
     "output_type": "stream",
     "text": [
      "/tmp/ipykernel_3776169/3663576940.py:218: RuntimeWarning: The provided Raw instance is not filtered between 1 and 100 Hz. ICLabel was designed to classify features extracted from an EEG dataset bandpass filtered between 1 and 100 Hz (see the 'filter()' method for Raw and Epochs instances).\n",
      "  ic_labels = label_components(\n"
     ]
    },
    {
     "name": "stdout",
     "output_type": "stream",
     "text": [
      "Initializing labels file \n",
      "\n",
      "Applying ICA to Raw instance\n",
      "    Transforming to ICA space (24 components)\n",
      "    Zeroing out 12 ICA components\n",
      "    Projecting back using 57 PCA components\n",
      "Overwriting existing file.\n",
      "Writing /home/prakhar7/mfprl/sample/neuroconn/batch/../data/out/subjects/112/EC/112_ICA.fif\n",
      "Closing /home/prakhar7/mfprl/sample/neuroconn/batch/../data/out/subjects/112/EC/112_ICA.fif\n",
      "[done]\n",
      "Creating RawArray with float64 data, n_channels=63, n_times=48175\n",
      "    Range : 0 ... 48174 =      0.000 ...    96.348 secs\n",
      "Ready.\n",
      "Creating RawArray with float64 data, n_channels=64, n_times=1501\n",
      "    Range : 0 ... 1500 =      0.000 ...     3.000 secs\n",
      "Ready.\n",
      "NOTE: pick_types() is a legacy function. New code should use inst.pick(...).\n",
      "Interpolating bad channels\n",
      "    Automatic origin fit: head of radius 98.3 mm\n",
      "Computing interpolation matrix from 62 sensor positions\n",
      "Interpolating 1 sensors\n",
      "NOTE: pick_types() is a legacy function. New code should use inst.pick(...).\n",
      "Interpolating bad channels\n",
      "    Automatic origin fit: head of radius 91.5 mm\n",
      "Computing interpolation matrix from 63 sensor positions\n"
     ]
    },
    {
     "name": "stderr",
     "output_type": "stream",
     "text": [
      "/tmp/ipykernel_3776169/3663576940.py:255: RuntimeWarning: This filename (/home/prakhar7/mfprl/sample/neuroconn/batch/../data/out/subjects/112/EC/112_ICA.fif) does not conform to MNE naming conventions. All raw files should end with raw.fif, raw_sss.fif, raw_tsss.fif, _meg.fif, _eeg.fif, _ieeg.fif, raw.fif.gz, raw_sss.fif.gz, raw_tsss.fif.gz, _meg.fif.gz, _eeg.fif.gz or _ieeg.fif.gz\n",
      "  reconst_EEG.save(preprocessed_file, overwrite=True)\n",
      "/tmp/ipykernel_3776169/3663576940.py:269: RuntimeWarning: Fiducial point nasion not found, assuming identity unknown to head transformation\n",
      "  original_EEG.set_montage(mne.channels.make_dig_montage(\n",
      "/tmp/ipykernel_3776169/3663576940.py:282: RuntimeWarning: Fiducial point nasion not found, assuming identity unknown to head transformation\n",
      "  cropped_EEG.set_montage(mne.channels.make_dig_montage(\n"
     ]
    },
    {
     "name": "stdout",
     "output_type": "stream",
     "text": [
      "Interpolating 1 sensors\n",
      "Overwriting existing file.\n",
      "Writing /home/prakhar7/mfprl/sample/neuroconn/batch/../data/out/subjects/112/EC/112_interpolated.fif\n",
      "Closing /home/prakhar7/mfprl/sample/neuroconn/batch/../data/out/subjects/112/EC/112_interpolated.fif\n",
      "[done]\n",
      "Used Annotations descriptions: ['Event']\n",
      "Not setting metadata\n",
      "97 matching events found\n",
      "No baseline correction applied\n",
      "0 projection items activated\n",
      "Using data from preloaded Raw for 97 events and 501 original time points ...\n",
      "2 bad epochs dropped\n",
      "Dropped 0 epochs: \n"
     ]
    },
    {
     "name": "stderr",
     "output_type": "stream",
     "text": [
      "/tmp/ipykernel_3776169/3663576940.py:305: RuntimeWarning: This filename (/home/prakhar7/mfprl/sample/neuroconn/batch/../data/out/subjects/112/EC/112_interpolated.fif) does not conform to MNE naming conventions. All raw files should end with raw.fif, raw_sss.fif, raw_tsss.fif, _meg.fif, _eeg.fif, _ieeg.fif, raw.fif.gz, raw_sss.fif.gz, raw_tsss.fif.gz, _meg.fif.gz, _eeg.fif.gz or _ieeg.fif.gz\n",
      "  original_EEG_data_interp.save(preprocessed_file, overwrite=True)\n",
      "/tmp/ipykernel_3776169/3663576940.py:372: FutureWarning: The current default events=None is deprecated and will change to events=True in MNE 1.6. Set events=False to suppress this warning.\n",
      "  epochs_all.plot()\n"
     ]
    },
    {
     "name": "stdout",
     "output_type": "stream",
     "text": [
      "Overwriting existing file.\n",
      "112 EO\n",
      "Opening raw data file ../data/out/subjects/112/EO/112_maprenamed&nfiltered.fif...\n",
      "    Range : 0 ... 49824 =      0.000 ...    99.648 secs\n",
      "Ready.\n",
      "Reading 0 ... 49824  =      0.000 ...    99.648 secs...\n"
     ]
    },
    {
     "name": "stderr",
     "output_type": "stream",
     "text": [
      "/tmp/ipykernel_3776169/3663576940.py:378: RuntimeWarning: This filename (../data/out/subjects/112/EC/112_epoched.fif) does not conform to MNE naming conventions. All epochs files should end with -epo.fif, -epo.fif.gz, _epo.fif or _epo.fif.gz\n",
      "  epochs_all.save(preprocessed_file, overwrite=True)\n",
      "/tmp/ipykernel_3776169/3663576940.py:120: RuntimeWarning: This filename (../data/out/subjects/112/EO/112_maprenamed&nfiltered.fif) does not conform to MNE naming conventions. All raw files should end with raw.fif, raw_sss.fif, raw_tsss.fif, _meg.fif, _eeg.fif, _ieeg.fif, raw.fif.gz, raw_sss.fif.gz, raw_tsss.fif.gz, _meg.fif.gz, _eeg.fif.gz or _ieeg.fif.gz\n",
      "  EEG = mne.io.read_raw_fif(\n"
     ]
    },
    {
     "name": "stdout",
     "output_type": "stream",
     "text": [
      "Overwriting existing file.\n",
      "Writing /home/prakhar7/mfprl/sample/neuroconn/batch/../data/out/subjects/112/EO/112_badchannels.fif\n",
      "Closing /home/prakhar7/mfprl/sample/neuroconn/batch/../data/out/subjects/112/EO/112_badchannels.fif\n",
      "[done]\n",
      "EEG channel type selected for re-referencing\n",
      "Applying average reference.\n",
      "Applying a custom ('EEG',) reference.\n"
     ]
    },
    {
     "name": "stderr",
     "output_type": "stream",
     "text": [
      "/tmp/ipykernel_3776169/3663576940.py:160: RuntimeWarning: This filename (/home/prakhar7/mfprl/sample/neuroconn/batch/../data/out/subjects/112/EO/112_badchannels.fif) does not conform to MNE naming conventions. All raw files should end with raw.fif, raw_sss.fif, raw_tsss.fif, _meg.fif, _eeg.fif, _ieeg.fif, raw.fif.gz, raw_sss.fif.gz, raw_tsss.fif.gz, _meg.fif.gz, _eeg.fif.gz or _ieeg.fif.gz\n",
      "  EEG.save(bad_channel_file, overwrite=True)\n"
     ]
    },
    {
     "name": "stdout",
     "output_type": "stream",
     "text": [
      "Fitting ICA to data using 57 channels (please be patient, this may take a while)\n",
      "Selecting by explained variance: 27 components\n",
      "Computing Extended Infomax ICA\n",
      "Fitting ICA took 10.2s.\n",
      "Creating RawArray with float64 data, n_channels=30, n_times=49825\n",
      "    Range : 0 ... 49824 =      0.000 ...    99.648 secs\n",
      "Ready.\n"
     ]
    }
   ],
   "source": [
    "# Import necessary Python modules\n",
    "from sklearn.decomposition import PCA\n",
    "from mne_icalabel import label_components\n",
    "from mne.preprocessing import ICA\n",
    "import copy  # This is a Python module that allows you to copy objects without changing the original object\n",
    "from scipy import signal\n",
    "import sklearn as sk\n",
    "import matplotlib.pyplot as plt\n",
    "import os\n",
    "import matplotlib\n",
    "import mne\n",
    "import numpy as np\n",
    "from scipy.stats import zscore\n",
    "matplotlib.use('Agg')  # disable plotting\n",
    "mne.viz.set_browser_backend('matplotlib', verbose=None)\n",
    "mne.set_config('MNE_BROWSER_BACKEND', 'matplotlib')\n",
    "mne.cuda.init_cuda(verbose=True)\n",
    "\n",
    "# defining input and output directory\n",
    "files_in = '../data/in/subjects/'\n",
    "files_out = '../data/out/subjects/'\n",
    "\n",
    "EEG_list = []\n",
    "# loading list of subject names from txt file\n",
    "names = open(\"./names.txt\", \"r\")\n",
    "subject_list = names.read().split('\\n')\n",
    "modes = ['EC', 'EO']\n",
    "# Read the custom montage\n",
    "montage_path = r\"../data/in/MFPRL_UPDATED_V2.sfp\"\n",
    "montage = mne.channels.read_custom_montage(montage_path)\n",
    "\n",
    "bad_list = [\n",
    "    [['AF7'],  # 101 EC\n",
    "     ['AF7']],  # 101 EO\n",
    "    [[],  # 102\n",
    "     ['O2']],  # 102\n",
    "    [['AF7'],  # 103\n",
    "     ['AF7']],  # 103\n",
    "    [[],  # 104\n",
    "     []],  # 104\n",
    "    [['AF7'],  # 105\n",
    "     ['AF7']],  # 105\n",
    "    [['O1'],  # 111\n",
    "     ['O1']],  # 111\n",
    "    [['AFz'],  # 112\n",
    "     ['AFz']],  # 112\n",
    "    [['Fp1'],  # 113\n",
    "     ['Fp1']],  # 113\n",
    "    [[],  # 114\n",
    "     []],  # 114\n",
    "    [[],  # 115\n",
    "     []],  # 115\n",
    "    [['Rmastoid'],  # 115\n",
    "     ['Rmastoid']],  # 115\n",
    "    [[],  # 117\n",
    "     []],  # 117\n",
    "    [['Fp1'],  # 118\n",
    "     ['Fp1']],  # 118\n",
    "    [[],  # 119\n",
    "     []],  # 119\n",
    "    [[],  # 120\n",
    "     []],  # 120\n",
    "    [[],  # 401\n",
    "     []],  # 401\n",
    "    [['T7'],  # 402\n",
    "     ['T7']],  # 402\n",
    "    [[],  # 403\n",
    "     []],  # 403\n",
    "    [[],  # 404\n",
    "     []],  # 404\n",
    "    [[],  # 406\n",
    "     []],  # 406\n",
    "    [[],  # 407\n",
    "     []],  # 407\n",
    "    [[],  # 408\n",
    "     []],  # 408\n",
    "    [['T8'],  # 409\n",
    "     ['T8']],  # 409\n",
    "    [[],  # 410\n",
    "     []],  # 410\n",
    "    [[],  # 411\n",
    "     []],  # 411\n",
    "    [[],  # 412\n",
    "     []],  # 412\n",
    "    [[],  # 413\n",
    "     []],  # 413\n",
    "    [[],  # 414\n",
    "     []],  # 414\n",
    "    [[],  # 415\n",
    "     []],  # 415\n",
    "    [[],  # 416\n",
    "     []]  # 416\n",
    "]\n",
    "\n",
    "# Define the map of channel names using the provided keys\n",
    "ch_map = {'Ch1': 'Fp1', 'Ch2': 'Fz', 'Ch3': 'F3', 'Ch4': 'F7', 'Ch5': 'LHEye', 'Ch6': 'FC5',\n",
    "          # Setting FPz as GND so it matches montage\n",
    "          'Ch7': 'FC1', 'Ch8': 'C3', 'Ch9': 'T7', 'Ch10': 'GND', 'Ch11': 'CP5', 'Ch12': 'CP1',\n",
    "          'Ch13': 'Pz', 'Ch14': 'P3', 'Ch15': 'P7', 'Ch16': 'O1', 'Ch17': 'Oz', 'Ch18': 'O2',\n",
    "          'Ch19': 'P4', 'Ch20': 'P8', 'Ch21': 'Rmastoid', 'Ch22': 'CP6', 'Ch23': 'CP2', 'Ch24': 'Cz',\n",
    "          'Ch25': 'C4', 'Ch26': 'T8', 'Ch27': 'RHEye', 'Ch28': 'FC6', 'Ch29': 'FC2', 'Ch30': 'F4',\n",
    "          'Ch31': 'F8', 'Ch32': 'Fp2', 'Ch33': 'AF7', 'Ch34': 'AF3', 'Ch35': 'AFz', 'Ch36': 'F1',\n",
    "          'Ch37': 'F5', 'Ch38': 'FT7', 'Ch39': 'FC3', 'Ch40': 'FCz', 'Ch41': 'C1', 'Ch42': 'C5',\n",
    "          'Ch43': 'TP7', 'Ch44': 'CP3', 'Ch45': 'P1', 'Ch46': 'P5', 'Ch47': 'Lneck', 'Ch48': 'PO3',\n",
    "          'Ch49': 'POz', 'Ch50': 'PO4', 'Ch51': 'Rneck', 'Ch52': 'P6', 'Ch53': 'P2', 'Ch54': 'CPz',\n",
    "          'Ch55': 'CP4', 'Ch56': 'TP8', 'Ch57': 'C6', 'Ch58': 'C2', 'Ch59': 'FC4', 'Ch60': 'FT8',\n",
    "          'Ch61': 'F6', 'Ch62': 'F2', 'Ch63': 'AF4', 'Ch64': 'RVEye'}\n",
    "\n",
    "for i_s, subject in enumerate(subject_list):\n",
    "    for j_m, mode in enumerate(modes):\n",
    "\n",
    "        print(subject, mode)\n",
    "\n",
    "        # defining paths for current subject\n",
    "        input_path = files_in+subject + '/' + mode + '/'\n",
    "        output_path = files_out + subject + '/' + mode + '/'\n",
    "\n",
    "        log_file = output_path+'log2.txt'\n",
    "        log = open(log_file, \"w\")\n",
    "\n",
    "        # loading in files savef from 1filter.py\n",
    "        EEG = mne.io.read_raw_fif(\n",
    "            output_path + subject + '_maprenamed&nfiltered.fif', preload=True)\n",
    "\n",
    "        # MARKING BAD CHANNELS\n",
    "\n",
    "        # TODO - get bad channels from .txt files here\n",
    "\n",
    "        bad_txt = bad_list[i_s][j_m]  # get list of bad channels\n",
    "\n",
    "        picks = mne.pick_channels(EEG.ch_names, include=[], exclude=[])\n",
    "        original_bads = copy.deepcopy(EEG.info[\"bads\"])\n",
    "\n",
    "        # This can be used to plot the data with the bad channels marked.\n",
    "        # Uncomment the two lines of code below to see the plot\n",
    "        # Replace 'regexp=\" .\"' with the tentative bad channels\n",
    "\n",
    "        if bad_txt == [''] or len(bad_txt) == 0:\n",
    "            pass\n",
    "        else:\n",
    "            picks = mne.pick_channels(\n",
    "                EEG.ch_names, include=[], exclude=bad_txt)\n",
    "            plot_obj = EEG.plot(order=picks, n_channels=len(picks))\n",
    "            \n",
    "        # Change list of bad channels\n",
    "            original_bads = copy.deepcopy(EEG.info[\"bads\"])\n",
    "            for bad in bad_txt:\n",
    "                EEG.info[\"bads\"].append(bad)  # add a single channel\n",
    "                # add a single channel to the original_bads list\n",
    "                original_bads.append(bad)\n",
    "            # EEG_csd.info[\"bads\"].extend([\"EEG 051\", \"EEG 052\"])  # add a list of channels\n",
    "            # original_bads[\"bads\"].extend([\"EEG 051\", \"EEG 052\"])  # add a list of channels\n",
    "\n",
    "            # Print the bad channels to double check\n",
    "            log.write('Writing Bad Channels to Double check \\n')\n",
    "            log.write(str(EEG.info['bads']) + '\\n')\n",
    "            log.write(str(original_bads) + '\\n \\n \\n')\n",
    "\n",
    "            # Save the data with the bad channels marked\n",
    "            # Replace with your desired output directory\n",
    "            bad_channel_file = output_path + subject + '_badchannels.fif'\n",
    "            EEG.save(bad_channel_file, overwrite=True)\n",
    "\n",
    "        # ICA (Independent Component Analysis)\n",
    "\n",
    "        # Keep a reference to the original, uncropped data\n",
    "        original_EEG = EEG\n",
    "\n",
    "        # Crop a copy of the data to three seconds for easier plotting\n",
    "        cropped_EEG = EEG.copy().crop(tmin=0, tmax=3).load_data()\n",
    "\n",
    "        # Fit average re-reference to the data\n",
    "        original_EEG.set_eeg_reference('average')\n",
    "\n",
    "        # Drop channels #10 and #21 (mastoids) before ICA\n",
    "        original_EEG.drop_channels(['Rmastoid'])\n",
    "\n",
    "        # Determine the number of PCA components\n",
    "        data = original_EEG.get_data().T\n",
    "        pca = PCA()\n",
    "        pca.fit(data)\n",
    "\n",
    "        # Plot the explained variance ratio\n",
    "        plt.figure(figsize=(10, 5))\n",
    "        plt.plot(np.cumsum(pca.explained_variance_ratio_))\n",
    "        plt.xlabel('Number of Components')\n",
    "        plt.ylabel('Cumulative Explained Variance')\n",
    "        plt.title('Explained Variance by PCA Components')\n",
    "        plt.grid(True)\n",
    "        \n",
    "\n",
    "        # Define ICA parameters\n",
    "        n_components = 0.99  # Choose number of ICA components based on PCA\n",
    "        ica = ICA(\n",
    "            n_components=n_components,\n",
    "            max_iter=\"auto\",\n",
    "            method=\"infomax\",\n",
    "            random_state=97,\n",
    "            fit_params=dict(extended=True),\n",
    "        )\n",
    "\n",
    "        # Pick only EEG channels\n",
    "        picks_eeg = mne.pick_types(original_EEG.info, meg=False,\n",
    "                                   eeg=True, eog=False, stim=False, emg=False, exclude='bads')\n",
    "\n",
    "        # Fit ICA using only EEG channels\n",
    "        ica.fit(original_EEG, picks=picks_eeg, decim=3)\n",
    "\n",
    "        # Plot the ICA components as time series\n",
    "        ica_ts_plot = ica.plot_sources(\n",
    "            original_EEG, show_scrollbars=False, show=True)\n",
    "        # saving the timeseries plot\n",
    "        \n",
    "\n",
    "        # Plot the ICA components as topographies in multiple windows\n",
    "        log.write(\"Plotting the ICA components as topographies... \\n\")\n",
    "        n_components_actual = ica.n_components_\n",
    "\n",
    "        # Selecting ICA components automatically using ICLabel\n",
    "        ic_labels = label_components(\n",
    "            original_EEG, ica, method='iclabel')\n",
    "        component_labels = ic_labels[\"labels\"]  # Extract the labels\n",
    "        # Extract the probabilities\n",
    "        component_probabilities = ic_labels[\"y_pred_proba\"]\n",
    "\n",
    "\n",
    "        # ICLabel scores\n",
    "        EEG_list.append(original_EEG)\n",
    "        print(\"Initializing labels file \\n\")\n",
    "        label_file = output_path+'labels.txt'\n",
    "        labelf = open(label_file, \"r\")\n",
    "        prob_file = output_path+'probs.txt'\n",
    "        probf = open(prob_file, \"r\")\n",
    "\n",
    "        labels = labelf.read().split('\\n')\n",
    "        \n",
    "\n",
    "        # Exclude components based on label and probability\n",
    "        exclude_idx = [idx for idx, (label, prob) in enumerate(zip(labels, component_probabilities))\n",
    "               if label.strip() not in [\"brain\", \"other\"] or prob < 0.70]\n",
    "        \n",
    "        # Copy the original interpolated EEG data\n",
    "        reconst_EEG = original_EEG.copy()\n",
    "\n",
    "        # Apply the ICA transformation, excluding certain components\n",
    "        ica.apply(reconst_EEG, exclude=exclude_idx)\n",
    "\n",
    "        # Plot the original data and set the window title\n",
    "        fig = original_EEG.plot(show_scrollbars=False)\n",
    "\n",
    "        # Plot the reconstructed data and set the window title\n",
    "        fig = reconst_EEG.plot(show_scrollbars=False)\n",
    "\n",
    "        # Save the preprocessed data\n",
    "        output_dir = r'../data/out'\n",
    "        preprocessed_file = output_path + subject+'_ICA.fif'\n",
    "        reconst_EEG.save(preprocessed_file, overwrite=True)\n",
    "\n",
    "        #################################################################################\n",
    "\n",
    "        # Interpolate bad channels\n",
    "        \n",
    "        # Replace NaN or inf values in channel locations with zero\n",
    "        new_chs = original_EEG.info['chs'].copy()\n",
    "        for ch in new_chs:\n",
    "            ch['loc'] = np.nan_to_num(ch['loc'], nan=0.0, posinf=0.0, neginf=0.0)\n",
    "\n",
    "        new_info = mne.create_info(\n",
    "            [ch['ch_name'] for ch in new_chs], original_EEG.info['sfreq'], ch_types='eeg')\n",
    "        original_EEG = mne.io.RawArray(original_EEG.get_data(), new_info)\n",
    "        original_EEG.set_montage(mne.channels.make_dig_montage(\n",
    "            ch_pos={ch['ch_name']: ch['loc'][:3] for ch in new_chs}))\n",
    "        # Set the bad channels back to the original list\n",
    "        original_EEG.info['bads'] = original_bads\n",
    "\n",
    "        # Repeat for cropped_EEG\n",
    "        new_chs = cropped_EEG.info['chs'].copy()\n",
    "        for ch in new_chs:\n",
    "            ch['loc'] = np.nan_to_num(ch['loc'], nan=0.0, posinf=0.0, neginf=0.0)\n",
    "\n",
    "        new_info = mne.create_info(\n",
    "            [ch['ch_name'] for ch in new_chs], cropped_EEG.info['sfreq'], ch_types='eeg')\n",
    "        cropped_EEG = mne.io.RawArray(cropped_EEG.get_data(), new_info)\n",
    "        cropped_EEG.set_montage(mne.channels.make_dig_montage(\n",
    "            ch_pos={ch['ch_name']: ch['loc'][:3] for ch in new_chs}))\n",
    "        # Set the bad channels back to the original list\n",
    "        cropped_EEG.info['bads'] = original_bads\n",
    "\n",
    "        # Pick types and interpolate bads\n",
    "        original_EEG_data = original_EEG.copy().pick_types(\n",
    "            meg=False, eeg=True, exclude=[])\n",
    "        original_EEG_data_interp = original_EEG_data.copy().interpolate_bads(reset_bads=False)\n",
    "\n",
    "        cropped_EEG_data = cropped_EEG.copy().pick_types(meg=False, eeg=True, exclude=[])\n",
    "        cropped_EEG_data_interp = cropped_EEG_data.copy().interpolate_bads(reset_bads=False)\n",
    "\n",
    "        # Plot the data before and after interpolation\n",
    "        for title, data in zip([\"cropped orig.\", \"cropped interp.\"], [cropped_EEG_data, cropped_EEG_data_interp]):\n",
    "            with mne.viz.use_browser_backend(\"matplotlib\"):\n",
    "                fig = data.plot(butterfly=True, color=\"#00000022\", bad_color=\"r\")\n",
    "            fig.subplots_adjust(top=0.9)\n",
    "            fig.suptitle(title, size=\"xx-large\", weight=\"bold\")\n",
    "\n",
    "        # Save the interpolated data\n",
    "        output_dir = r'../data/out'\n",
    "        preprocessed_file = output_path+ subject + '_interpolated.fif'\n",
    "        original_EEG_data_interp.save(preprocessed_file, overwrite=True)\n",
    "\n",
    "        #################################################################################\n",
    "\n",
    "        # EPOCHING\n",
    "\n",
    "        # Define epoch parameters\n",
    "        name = subject + '_eventchan'  # --> change for each condition\n",
    "        # Latency rate/Sampling rate\n",
    "        epoch_no = np.floor(reconst_EEG.get_data(\n",
    "        ).shape[1] / reconst_EEG.info['sfreq'])\n",
    "\n",
    "        # Create a list of onset times for your events\n",
    "        onsets = np.arange(0, reconst_EEG.get_data(\n",
    "        ).shape[1] / reconst_EEG.info['sfreq'], 1)\n",
    "\n",
    "        # Create a list of event durations (all zeros if the events are instantaneous)\n",
    "        durations = np.zeros_like(onsets)\n",
    "\n",
    "        # Create a list of event descriptions\n",
    "        descriptions = ['Event'] * len(onsets)\n",
    "\n",
    "        # Create an Annotations object\n",
    "        annotations = mne.Annotations(onsets, durations, descriptions)\n",
    "\n",
    "        # Add the annotations to the Raw object\n",
    "        reconst_EEG.set_annotations(annotations)\n",
    "\n",
    "        # Now you can extract the events from the annotations\n",
    "        events, event_id = mne.events_from_annotations(reconst_EEG)\n",
    "\n",
    "        # Define epoching parameters\n",
    "        name = subject + '_epoch'  # --> change the name of condition\n",
    "        codes = ['1']\n",
    "        tmin = -0.5  # Start of the epoch (in seconds)\n",
    "        tmax = 0.5  # End of the epoch (in seconds)\n",
    "\n",
    "        # Create epochs without rejection to keep all data\n",
    "        epochs_all = mne.Epochs(reconst_EEG, events, event_id=event_id,\n",
    "                                tmin=tmin, tmax=tmax, proj=True, baseline=None, preload=True)\n",
    "\n",
    "        # Apply z-score normalization and keep track of which epochs exceed the threshold\n",
    "        zscore_threshold = 6\n",
    "        to_drop = []\n",
    "\n",
    "        temp_data = np.zeros_like(epochs_all._data)\n",
    "\n",
    "        for i in range(len(epochs_all)):\n",
    "            temp_data[i] = zscore(epochs_all._data[i], axis=1)\n",
    "            if np.any(np.abs(temp_data[i]) > zscore_threshold):\n",
    "                to_drop.append(i)\n",
    "\n",
    "        # Now we can drop the epochs that exceeded the threshold\n",
    "        epochs_all.drop(to_drop)\n",
    "\n",
    "        # Resample and decimate the epochs\n",
    "        current_sfreq = epochs_all.info['sfreq']\n",
    "        # Hz chaging this according to  https://doi.org/10.1046/j.1440-1819.2000.00729.x\n",
    "        desired_sfreq = 512\n",
    "\n",
    "        # Apply the resampling\n",
    "        epochs_all.resample(desired_sfreq, npad='auto')\n",
    "\n",
    "        # Get the data from all epochs\n",
    "        data_all = epochs_all.get_data()\n",
    "\n",
    "        # Plot the data\n",
    "        epochs_all.plot()\n",
    "\n",
    "        # Save the filtered data\n",
    "        # Replace with your desired output directory\n",
    "        output_dir = r'../data/out'\n",
    "        preprocessed_file = output_path + subject + '_epoched.fif'\n",
    "        epochs_all.save(preprocessed_file, overwrite=True)\n",
    "\n",
    "\n",
    "      "
   ]
  },
  {
   "cell_type": "code",
   "execution_count": null,
   "metadata": {},
   "outputs": [],
   "source": []
  }
 ],
 "metadata": {
  "kernelspec": {
   "display_name": "main3",
   "language": "python",
   "name": "main3"
  },
  "language_info": {
   "codemirror_mode": {
    "name": "ipython",
    "version": 3
   },
   "file_extension": ".py",
   "mimetype": "text/x-python",
   "name": "python",
   "nbconvert_exporter": "python",
   "pygments_lexer": "ipython3",
   "version": "3.10.13"
  }
 },
 "nbformat": 4,
 "nbformat_minor": 4
}
