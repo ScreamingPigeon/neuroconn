{
 "cells": [
  {
   "cell_type": "code",
   "execution_count": null,
   "id": "079c350b-9331-4536-8ae6-ae535e0eb4cb",
   "metadata": {},
   "outputs": [],
   "source": []
  }
 ],
 "metadata": {
  "kernelspec": {
   "display_name": "hmmenv",
   "language": "python",
   "name": "hmmenv"
  },
  "language_info": {
   "codemirror_mode": {
    "name": "ipython",
    "version": 3
   },
   "file_extension": ".py",
   "mimetype": "text/x-python",
   "name": "python",
   "nbconvert_exporter": "python",
   "pygments_lexer": "ipython3",
   "version": "3.12.2"
  }
 },
 "nbformat": 4,
 "nbformat_minor": 5
}
