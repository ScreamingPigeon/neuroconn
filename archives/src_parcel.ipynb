{
 "cells": [
  {
   "cell_type": "code",
   "execution_count": 1,
   "metadata": {},
   "outputs": [
    {
     "name": "stdout",
     "output_type": "stream",
     "text": [
      "0 files missing from root.txt in /home/prakhar/mne_data/MNE-fsaverage-data\n",
      "0 files missing from bem.txt in /home/prakhar/mne_data/MNE-fsaverage-data/fsaverage\n",
      "Using matplotlib as 2D backend.\n"
     ]
    },
    {
     "ename": "FileNotFoundError",
     "evalue": "[Errno 2] No such file or directory: './names.txt'",
     "output_type": "error",
     "traceback": [
      "\u001b[0;31m---------------------------------------------------------------------------\u001b[0m",
      "\u001b[0;31mFileNotFoundError\u001b[0m                         Traceback (most recent call last)",
      "\u001b[1;32m/home/prakhar/code/uiuc/mfprl/neuroconn/archives/src_parcel.ipynb Cell 1\u001b[0m line \u001b[0;36m5\n\u001b[1;32m     <a href='vscode-notebook-cell:/home/prakhar/code/uiuc/mfprl/neuroconn/archives/src_parcel.ipynb#W0sZmlsZQ%3D%3D?line=52'>53</a>\u001b[0m files_out \u001b[39m=\u001b[39m \u001b[39m'\u001b[39m\u001b[39m../data/out/subjects/\u001b[39m\u001b[39m'\u001b[39m\n\u001b[1;32m     <a href='vscode-notebook-cell:/home/prakhar/code/uiuc/mfprl/neuroconn/archives/src_parcel.ipynb#W0sZmlsZQ%3D%3D?line=55'>56</a>\u001b[0m \u001b[39m# loading list of subject names from txt file\u001b[39;00m\n\u001b[0;32m---> <a href='vscode-notebook-cell:/home/prakhar/code/uiuc/mfprl/neuroconn/archives/src_parcel.ipynb#W0sZmlsZQ%3D%3D?line=56'>57</a>\u001b[0m names \u001b[39m=\u001b[39m \u001b[39mopen\u001b[39;49m(\u001b[39m\"\u001b[39;49m\u001b[39m./names.txt\u001b[39;49m\u001b[39m\"\u001b[39;49m, \u001b[39m\"\u001b[39;49m\u001b[39mr\u001b[39;49m\u001b[39m\"\u001b[39;49m)\n\u001b[1;32m     <a href='vscode-notebook-cell:/home/prakhar/code/uiuc/mfprl/neuroconn/archives/src_parcel.ipynb#W0sZmlsZQ%3D%3D?line=57'>58</a>\u001b[0m subject_list \u001b[39m=\u001b[39m names\u001b[39m.\u001b[39mread()\u001b[39m.\u001b[39msplit(\u001b[39m'\u001b[39m\u001b[39m\\n\u001b[39;00m\u001b[39m'\u001b[39m)\n\u001b[1;32m     <a href='vscode-notebook-cell:/home/prakhar/code/uiuc/mfprl/neuroconn/archives/src_parcel.ipynb#W0sZmlsZQ%3D%3D?line=58'>59</a>\u001b[0m modes \u001b[39m=\u001b[39m [\u001b[39m'\u001b[39m\u001b[39mEC\u001b[39m\u001b[39m'\u001b[39m, \u001b[39m'\u001b[39m\u001b[39mEO\u001b[39m\u001b[39m'\u001b[39m]\n",
      "File \u001b[0;32m~/.local/lib/python3.10/site-packages/IPython/core/interactiveshell.py:284\u001b[0m, in \u001b[0;36m_modified_open\u001b[0;34m(file, *args, **kwargs)\u001b[0m\n\u001b[1;32m    277\u001b[0m \u001b[39mif\u001b[39;00m file \u001b[39min\u001b[39;00m {\u001b[39m0\u001b[39m, \u001b[39m1\u001b[39m, \u001b[39m2\u001b[39m}:\n\u001b[1;32m    278\u001b[0m     \u001b[39mraise\u001b[39;00m \u001b[39mValueError\u001b[39;00m(\n\u001b[1;32m    279\u001b[0m         \u001b[39mf\u001b[39m\u001b[39m\"\u001b[39m\u001b[39mIPython won\u001b[39m\u001b[39m'\u001b[39m\u001b[39mt let you open fd=\u001b[39m\u001b[39m{\u001b[39;00mfile\u001b[39m}\u001b[39;00m\u001b[39m by default \u001b[39m\u001b[39m\"\u001b[39m\n\u001b[1;32m    280\u001b[0m         \u001b[39m\"\u001b[39m\u001b[39mas it is likely to crash IPython. If you know what you are doing, \u001b[39m\u001b[39m\"\u001b[39m\n\u001b[1;32m    281\u001b[0m         \u001b[39m\"\u001b[39m\u001b[39myou can use builtins\u001b[39m\u001b[39m'\u001b[39m\u001b[39m open.\u001b[39m\u001b[39m\"\u001b[39m\n\u001b[1;32m    282\u001b[0m     )\n\u001b[0;32m--> 284\u001b[0m \u001b[39mreturn\u001b[39;00m io_open(file, \u001b[39m*\u001b[39;49margs, \u001b[39m*\u001b[39;49m\u001b[39m*\u001b[39;49mkwargs)\n",
      "\u001b[0;31mFileNotFoundError\u001b[0m: [Errno 2] No such file or directory: './names.txt'"
     ]
    }
   ],
   "source": [
    "# Computing and applying a linear minimum-norm inverse method on evoked/raw/epochs data\n",
    "\n",
    "# Import necessary libraries and functions\n",
    "from scipy.stats import zscore\n",
    "import sklearn as sk\n",
    "from scipy import signal\n",
    "import copy  # This is a Python module that allows you to copy objects without changing the original object\n",
    "from mne.preprocessing import ICA\n",
    "from mne_icalabel import label_components\n",
    "from sklearn.decomposition import PCA\n",
    "from mne.minimum_norm import apply_inverse_epochs\n",
    "from mne.minimum_norm import make_inverse_operator, apply_inverse\n",
    "from mne.datasets import sample, eegbci, fetch_fsaverage\n",
    "import seaborn as sns  # required for heatmap visualization\n",
    "import networkx as nx\n",
    "from scipy.stats import pearsonr\n",
    "from mne.viz import circular_layout\n",
    "from mne_connectivity.viz import plot_connectivity_circle\n",
    "from scipy.signal import hilbert\n",
    "import mne\n",
    "import matplotlib.pyplot as plt\n",
    "import os\n",
    "from mne.datasets import fetch_fsaverage\n",
    "from nilearn import datasets\n",
    "import os.path as op\n",
    "import numpy as np\n",
    "import matplotlib\n",
    "# matplotlib.use('Qt5Agg')  # Setting the backend BEFORE importing pyplot\n",
    "\n",
    "# mne.viz.set_3d_backend(\"pyvista\")\n",
    "\n",
    "\n",
    "#################################################################################\n",
    "# Adult template MRI (fsaverage)\n",
    "\n",
    "# Download fsaverage files\n",
    "fs_dir = fetch_fsaverage(verbose=True)\n",
    "subjects_dir = op.dirname(fs_dir)\n",
    "\n",
    "# The files live in:\n",
    "subject = \"fsaverage\"\n",
    "trans = \"fsaverage\"  # MNE has a built-in fsaverage transformation\n",
    "src = op.join(fs_dir, \"bem\", \"fsaverage-ico-5-src.fif\")\n",
    "bem = op.join(fs_dir, \"bem\", \"fsaverage-5120-5120-5120-bem-sol.fif\")\n",
    "\n",
    "\n",
    "# Import necessary Python modules\n",
    "matplotlib.use('Agg')  # disable plotting\n",
    "mne.viz.set_browser_backend('matplotlib', verbose=None)\n",
    "mne.set_config('MNE_BROWSER_BACKEND', 'matplotlib')\n",
    "\n",
    "\n",
    "# defining input and output directory\n",
    "files_in = '../data/in/subjects/'\n",
    "files_out = '../data/out/subjects/'\n",
    "\n",
    "\n",
    "# loading list of subject names from txt file\n",
    "# names = open(\"./names.txt\", \"r\")\n",
    "names = []\n",
    "\n",
    "subject_list = names.read().split('\\n')\n",
    "modes = ['EC', 'EO']\n",
    "# Read the custom montage\n",
    "montage_path = r\"../data/in/MFPRL_UPDATED_V2.sfp\"\n",
    "montage = mne.channels.read_custom_montage(montage_path)\n",
    "\n",
    "# Define the map of channel names using the provided keys\n",
    "ch_map = {'Ch1': 'Fp1', 'Ch2': 'Fz', 'Ch3': 'F3', 'Ch4': 'F7', 'Ch5': 'LHEye', 'Ch6': 'FC5',\n",
    "          # Setting FPz as GND so it matches montage\n",
    "          'Ch7': 'FC1', 'Ch8': 'C3', 'Ch9': 'T7', 'Ch10': 'GND', 'Ch11': 'CP5', 'Ch12': 'CP1',\n",
    "          'Ch13': 'Pz', 'Ch14': 'P3', 'Ch15': 'P7', 'Ch16': 'O1', 'Ch17': 'Oz', 'Ch18': 'O2',\n",
    "          'Ch19': 'P4', 'Ch20': 'P8', 'Ch21': 'Rmastoid', 'Ch22': 'CP6', 'Ch23': 'CP2', 'Ch24': 'Cz',\n",
    "          'Ch25': 'C4', 'Ch26': 'T8', 'Ch27': 'RHEye', 'Ch28': 'FC6', 'Ch29': 'FC2', 'Ch30': 'F4',\n",
    "          'Ch31': 'F8', 'Ch32': 'Fp2', 'Ch33': 'AF7', 'Ch34': 'AF3', 'Ch35': 'AFz', 'Ch36': 'F1',\n",
    "          'Ch37': 'F5', 'Ch38': 'FT7', 'Ch39': 'FC3', 'Ch40': 'FCz', 'Ch41': 'C1', 'Ch42': 'C5',\n",
    "          'Ch43': 'TP7', 'Ch44': 'CP3', 'Ch45': 'P1', 'Ch46': 'P5', 'Ch47': 'Lneck', 'Ch48': 'PO3',\n",
    "          'Ch49': 'POz', 'Ch50': 'PO4', 'Ch51': 'Rneck', 'Ch52': 'P6', 'Ch53': 'P2', 'Ch54': 'CPz',\n",
    "          'Ch55': 'CP4', 'Ch56': 'TP8', 'Ch57': 'C6', 'Ch58': 'C2', 'Ch59': 'FC4', 'Ch60': 'FT8',\n",
    "          'Ch61': 'F6', 'Ch62': 'F2', 'Ch63': 'AF4', 'Ch64': 'RVEye'}\n",
    "\n",
    "for subject in subject_list:\n",
    "    for mode in modes:\n",
    "        print(subject, mode)\n",
    "        # defining paths for current subject\n",
    "        input_path = files_in+subject + '/' + mode + '/'\n",
    "        output_path = files_out + subject + '/' + mode + '/'\n",
    "        stc_path  = output_path +'stc/'\n",
    "        \n",
    "        schaefer_atlas = datasets.fetch_atlas_schaefer_2018(n_rois=100)\n",
    "        src = mne.read_source_spaces(\n",
    "            files_in + '../fsaverage/bem/fsaverage-ico-5-src.fif', patch_stats=False, verbose=None)\n",
    "\n",
    "\n",
    "        # Load inverse solution file paths for both left and right hemispheres\n",
    "        inverse_solution_files_lh = []\n",
    "        inverse_solution_files_rh = []\n",
    "\n",
    "        for path, subdirs, files in os.walk(stc_path):\n",
    "            for file in files:\n",
    "                filepath = path + file\n",
    "                if '-rh.stc' in file:\n",
    "                    inverse_solution_files_rh.append(filepath)\n",
    "                elif '-lh.stc' in file:\n",
    "                    inverse_solution_files_lh.append(filepath)\n",
    "\n",
    "        "
   ]
  },
  {
   "cell_type": "code",
   "execution_count": 6,
   "metadata": {},
   "outputs": [
    {
     "name": "stdout",
     "output_type": "stream",
     "text": [
      "./src_parcel.ipynb\n",
      "./EEG_src_parcel.py\n",
      "./EEG_source_localization_2D.py\n",
      "./EEG_fc_global_graph_theoretical_disparity_filter.py\n",
      "./EEG_preprocessing_v2.py\n"
     ]
    }
   ],
   "source": [
    "\n",
    "for path, subdirs, files in os.walk('./'):\n",
    "    for file in files:\n",
    "        print(path + file)"
   ]
  },
  {
   "cell_type": "code",
   "execution_count": null,
   "metadata": {},
   "outputs": [],
   "source": []
  }
 ],
 "metadata": {
  "kernelspec": {
   "display_name": "Python 3",
   "language": "python",
   "name": "python3"
  },
  "language_info": {
   "codemirror_mode": {
    "name": "ipython",
    "version": 3
   },
   "file_extension": ".py",
   "mimetype": "text/x-python",
   "name": "python",
   "nbconvert_exporter": "python",
   "pygments_lexer": "ipython3",
   "version": "3.10.12"
  }
 },
 "nbformat": 4,
 "nbformat_minor": 2
}
